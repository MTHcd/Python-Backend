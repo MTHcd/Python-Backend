{
 "cells": [
  {
   "cell_type": "markdown",
   "id": "f06c412f-7047-4f2a-8327-1140f8b4fd2a",
   "metadata": {},
   "source": [
    "\n",
    "<h1> Dictionary Data structures and Control Structures </h1>"
   ]
  },
  {
   "cell_type": "markdown",
   "id": "b3b999b7-527d-452a-8366-3ca5b0d275b3",
   "metadata": {},
   "source": [
    "## Learning agenda of this notebook\n",
    "* **Motivation to use Dictionary**\n",
    "1. How to create dictionaries?\n",
    "2. Proof of concepts\n",
    "3. Accessing elements of a dictionary\n",
    "4. Adding/Modifying elements of a dictionary\n",
    "5. Removing elements from a dictionary\n",
    "6. Dictionary, tuple and list conversions\n",
    "7. Sorting Dictionary values\n",
    "8. Aliasing vs Shallow Copy vs Deep Copy"
   ]
  },
  {
   "cell_type": "code",
   "execution_count": null,
   "id": "f5f94833-290d-411a-97c4-2d6c5d45bf1c",
   "metadata": {},
   "outputs": [],
   "source": []
  },
  {
   "cell_type": "markdown",
   "id": "e3e56bcf-3262-4bc0-9de6-6be74451c39b",
   "metadata": {},
   "source": [
    "### Motivation to use Dictionary\n",
    "Let's solve a problem to see benefits of dictionary.  \n",
    "How you can get marks of a specific student by using both lists students and name.  "
   ]
  },
  {
   "cell_type": "code",
   "execution_count": null,
   "id": "f7211565-6d6d-42aa-97ef-8f959fcafe3f",
   "metadata": {},
   "outputs": [],
   "source": [
    "students = ['Ehtisham', 'Ali', 'Ayesha', 'Dua', 'Adeen']\n",
    "marks = [81, 52, 70, 74, 78]"
   ]
  },
  {
   "cell_type": "code",
   "execution_count": null,
   "id": "8b79793d-3c44-485b-85c4-ab5233fbed33",
   "metadata": {},
   "outputs": [],
   "source": []
  },
  {
   "cell_type": "code",
   "execution_count": null,
   "id": "154d1731-70e3-4494-9972-2ddb0f7d7a6c",
   "metadata": {},
   "outputs": [],
   "source": []
  },
  {
   "cell_type": "code",
   "execution_count": null,
   "id": "95f3d10a-b28b-46fb-8329-b86c0c13d246",
   "metadata": {},
   "outputs": [],
   "source": []
  },
  {
   "cell_type": "code",
   "execution_count": null,
   "id": "395377c0-5526-49d0-90cb-1b442f51c2e8",
   "metadata": {},
   "outputs": [],
   "source": []
  },
  {
   "cell_type": "code",
   "execution_count": null,
   "id": "5aa92886-55a4-4212-88a3-3a5132ac30fd",
   "metadata": {},
   "outputs": [],
   "source": [
    "def get_marks(name):\n",
    "    index = students.index(name)\n",
    "    return marks[index]\n",
    "get_marks('Ali Sadiq')"
   ]
  },
  {
   "cell_type": "code",
   "execution_count": null,
   "id": "cf1f2c48-521b-4885-9c77-ea3d6aae9480",
   "metadata": {},
   "outputs": [],
   "source": []
  },
  {
   "cell_type": "code",
   "execution_count": null,
   "id": "1ac65dfc-e5b9-4152-87c4-660ce3a81c61",
   "metadata": {},
   "outputs": [],
   "source": []
  },
  {
   "cell_type": "markdown",
   "id": "27a256b7-16e5-4c9d-9917-f6fe15812a62",
   "metadata": {},
   "source": [
    "### 1. How to create Dictionaries?\n",
    "- A Dictionary object  is created by placing comma separated `key:value` pairs in curly braces.\n",
    "- The keys of a dictionary has to be unique and can be of heterogeneous immutable types only (int, string or tuple).\n",
    "- The values can be duplicated and can be of heterogeneous types (mutable + immutable).\n",
    "\n",
    "<img align=\"center\" width=\"900\" height=\"900\"  src=\"images/dict_main.png\" > "
   ]
  },
  {
   "cell_type": "code",
   "execution_count": null,
   "id": "920e5566-a55f-41c2-940c-62e8c66b2157",
   "metadata": {},
   "outputs": [],
   "source": [
    "# A dictionary with string keys, and integer values, showing age of person\n",
    "dict1 = {\n",
    "    'Ehtisham':51, \n",
    "    'Ali':52, \n",
    "    'Dua':22,\n",
    "}"
   ]
  },
  {
   "cell_type": "code",
   "execution_count": null,
   "id": "0c06a5f0-ba26-44c3-b982-fb9fd349beca",
   "metadata": {},
   "outputs": [],
   "source": [
    "print(dict1)\n",
    "print(type(dict1))\n",
    "print(id(dict1))"
   ]
  },
  {
   "cell_type": "code",
   "execution_count": null,
   "id": "99ea5198-d4c4-4fda-ad98-76ddfc954a9d",
   "metadata": {},
   "outputs": [],
   "source": [
    "# dictionary with mixed keys (immutable types only)\n",
    "dict2 = {\n",
    "    'name': 'ali', \n",
    "    1: 10,\n",
    "    'abc':25,\n",
    "    33: 'xyz'\n",
    "}\n",
    "print(dict2)"
   ]
  },
  {
   "cell_type": "code",
   "execution_count": null,
   "id": "dc4ef864-c89d-4fa9-aba0-6855d80933ec",
   "metadata": {},
   "outputs": [],
   "source": []
  },
  {
   "cell_type": "markdown",
   "id": "8e7476ac-14a3-4cc5-b3bb-5eda91ebb099",
   "metadata": {},
   "source": [
    "### 2. Proof of concepts\n",
    "#### a. Dictionary allows Duplicate Values"
   ]
  },
  {
   "cell_type": "code",
   "execution_count": null,
   "id": "b458ff73-acd7-420e-a4dc-d1f60c86f3a6",
   "metadata": {},
   "outputs": [],
   "source": [
    "# Duplicate values are allowed\n",
    "d1 = {\n",
    "    'name1' : 'ali',\n",
    "     'name2' : 'ali'\n",
    "     }\n",
    "d1"
   ]
  },
  {
   "cell_type": "markdown",
   "id": "0f146991-8bcb-4ae5-8be3-82504dd1e724",
   "metadata": {},
   "source": [
    "#### b. Dictionary DOESNOT allows Duplicate Keys"
   ]
  },
  {
   "cell_type": "code",
   "execution_count": null,
   "id": "345fc069-b0be-4954-85d1-bbae6f2c2ce1",
   "metadata": {},
   "outputs": [],
   "source": [
    "# Duplicate keys are not allowed\n",
    "# This will not raise an error, but will overwrite the value corresponding to the key\n",
    "d1 = { \n",
    "     'name' : 'ali',\n",
    "     'name' : 'ehtisham',\n",
    "     'name' : 'AYESHA'\n",
    "     }\n",
    "d1"
   ]
  },
  {
   "cell_type": "markdown",
   "id": "4d8b8c67-c9b8-4181-a01a-0fa78c14b8b8",
   "metadata": {},
   "source": [
    "#### c. Keys inside Dictionaries Must be of Immutable data types\n",
    "- The keys of a dictionary has to be of immutable data type `(number, string, tuple)`"
   ]
  },
  {
   "cell_type": "code",
   "execution_count": null,
   "id": "c3cc9187-7121-46bb-bb79-739611e04b2c",
   "metadata": {},
   "outputs": [],
   "source": [
    "# Tuple being immutable can be used as a key\n",
    "d1 = {\n",
    "        'ali':'name', \n",
    "      (60, 78, 83): 'marks' \n",
    "     }\n",
    "d1"
   ]
  },
  {
   "cell_type": "code",
   "execution_count": null,
   "id": "9b8c4add-bb86-476f-b802-80880be75b6b",
   "metadata": {},
   "outputs": [],
   "source": [
    "# List being mutable cannot be used as a key\n",
    "d1 = {\n",
    "      'ali':'name', \n",
    "      [60, 78, 83]:'marks' \n",
    "     }\n",
    "d1"
   ]
  },
  {
   "cell_type": "markdown",
   "id": "a2028649-ced3-4637-98a9-00854cc68b3a",
   "metadata": {},
   "source": [
    "#### d. Values inside Dictionaies can be of mutable/immutable data type"
   ]
  },
  {
   "cell_type": "code",
   "execution_count": null,
   "id": "45d14017-cb0b-4ad2-9edc-caf2b7256609",
   "metadata": {},
   "outputs": [],
   "source": [
    "# List being mutable can be used as a value\n",
    "d1 = {\n",
    "     'name':'Ali', \n",
    "      'marks':[60,78,83] \n",
    "     }\n",
    "d1"
   ]
  },
  {
   "cell_type": "code",
   "execution_count": null,
   "id": "4c659842-2f35-4cde-9a5e-b1cbfa5d0d1d",
   "metadata": {},
   "outputs": [],
   "source": [
    "# Tuple being immutable can also be used as a value\n",
    "d1 = {\n",
    "    'name':'ali', \n",
    "      'marks': (60,78,83) \n",
    "     }\n",
    "d1"
   ]
  },
  {
   "cell_type": "code",
   "execution_count": null,
   "id": "6bdc9f5f-4ae4-4a73-8c7d-57cdec890490",
   "metadata": {},
   "outputs": [],
   "source": []
  },
  {
   "cell_type": "markdown",
   "id": "b2bc90d6-76e1-4093-b8f2-c77e5b50758a",
   "metadata": {},
   "source": [
    "#### e. Dictionaries are heterogeneous\n",
    "- The keys of a dictionary can be of integer, string, or tuple type\n",
    "- The values of a dictionary can be of any data type"
   ]
  },
  {
   "cell_type": "code",
   "execution_count": null,
   "id": "a02b21a2-addf-45b0-99d1-b66d56c9da4f",
   "metadata": {},
   "outputs": [],
   "source": [
    "# dictionary with mixed keys (immutable types only)\n",
    "dict2 = {\n",
    "    'name': 'ali', \n",
    "    1: 10,\n",
    "    'abc':25,\n",
    "    33: 'xyz'\n",
    "}\n",
    "print(dict2)"
   ]
  },
  {
   "cell_type": "code",
   "execution_count": null,
   "id": "c6259588-6125-4154-ba5d-e0ded3cac10f",
   "metadata": {},
   "outputs": [],
   "source": []
  },
  {
   "cell_type": "markdown",
   "id": "196e92d0-189a-4189-8507-bab2689ac858",
   "metadata": {},
   "source": [
    "#### f. Dictionaries can be nested to arbitrary depth"
   ]
  },
  {
   "cell_type": "code",
   "execution_count": null,
   "id": "000ccb7c-4371-4ff9-a8d4-5e1177801526",
   "metadata": {},
   "outputs": [],
   "source": [
    "# Creating a Nested Dictionary\n",
    "dict7 = {\n",
    "        'name':'ehtisham', \n",
    "         'status':'ML Engineer',\n",
    "        'address':{'house#' : 35, 'area' : 'Pak Villas Housing Society', 'city' : 'Okara'},\n",
    "         'phone': '03460000000'\n",
    "        }\n",
    "dict7"
   ]
  },
  {
   "cell_type": "code",
   "execution_count": null,
   "id": "675b0876-447d-4814-8210-779ea6ea536f",
   "metadata": {},
   "outputs": [],
   "source": []
  },
  {
   "cell_type": "markdown",
   "id": "440d6a9e-1dc1-4460-a416-0ee82a1fe805",
   "metadata": {},
   "source": [
    "### 3. Accessing Elements of a Dictionary\n",
    "#### a. Retrieving a `value`of a Dictionary given a `key`\n",
    "- Given a key, you can retrieve corresponding value from a dictionary using two ways:\n",
    "    - Use key inside `[]` operator\n",
    "    - Pass the key as argument to `dict.get(key)` method"
   ]
  },
  {
   "cell_type": "code",
   "execution_count": null,
   "id": "69b4a115-51c9-432d-9949-c5b5b875df31",
   "metadata": {},
   "outputs": [],
   "source": [
    "d1 = {\n",
    "    'name':'Ehisham', \n",
    "    'age':22, \n",
    "    'address':'Pak Villas', \n",
    "    'marks':[60, 75, 80]\n",
    "}\n",
    "d1"
   ]
  },
  {
   "cell_type": "code",
   "execution_count": null,
   "id": "9adce9bb-84be-473b-9fd3-36724d1d04fc",
   "metadata": {},
   "outputs": [],
   "source": [
    "d1['address']"
   ]
  },
  {
   "cell_type": "code",
   "execution_count": null,
   "id": "eb9bb280-652d-41c1-9101-f9e6aa12d36a",
   "metadata": {},
   "outputs": [],
   "source": [
    "d1.get('marks')"
   ]
  },
  {
   "cell_type": "code",
   "execution_count": null,
   "id": "5a008d2a-4612-4b2c-8374-3f051ccb82cc",
   "metadata": {},
   "outputs": [],
   "source": []
  },
  {
   "cell_type": "markdown",
   "id": "7974d73d-241b-4a00-b0e7-b8b276b8a1ec",
   "metadata": {},
   "source": [
    "**To retrieve a value from a nested dictionary**"
   ]
  },
  {
   "cell_type": "code",
   "execution_count": null,
   "id": "2f5b4b03-2a88-42a3-857d-b39d261c10a2",
   "metadata": {},
   "outputs": [],
   "source": [
    "d2 = {\n",
    "        'name':'ehtisham', \n",
    "         'status':'ML Engineer',\n",
    "        'address':{'house#' : 35, \n",
    "                   'area' : 'Pak Villas Housing Society', \n",
    "                   'city' : 'Okara'},\n",
    "         'phone': '03460000000'\n",
    "        }\n",
    "d2"
   ]
  },
  {
   "cell_type": "code",
   "execution_count": null,
   "id": "d3c7f673-28c2-4d60-92fe-0d769d20282e",
   "metadata": {},
   "outputs": [],
   "source": [
    "d2['address']"
   ]
  },
  {
   "cell_type": "code",
   "execution_count": null,
   "id": "c9b4650c-a6df-474b-8ca8-8762933c90c7",
   "metadata": {},
   "outputs": [],
   "source": [
    "d2['address']['city']"
   ]
  },
  {
   "cell_type": "code",
   "execution_count": null,
   "id": "4a1e44f7-2732-4bdb-b3e0-a5bf8ea2367f",
   "metadata": {},
   "outputs": [],
   "source": [
    "d2.get('address').get('city')"
   ]
  },
  {
   "cell_type": "code",
   "execution_count": null,
   "id": "9f9d05be-2303-4925-9eeb-63dfb4ef38e5",
   "metadata": {},
   "outputs": [],
   "source": []
  },
  {
   "cell_type": "markdown",
   "id": "dbffbe4b-97ae-4c43-939f-05a40cc6b75a",
   "metadata": {},
   "source": [
    "#### c. Retrieving all `key:value` pairs from a Dictionary using `dict.items()`  method\n",
    "- The `dict.items()` method returns all the key-value pairs of a dictionary as a two object tuple"
   ]
  },
  {
   "cell_type": "code",
   "execution_count": null,
   "id": "c5ce42c1-20c7-44e5-9e19-9680789f0543",
   "metadata": {},
   "outputs": [],
   "source": [
    "# Creating a Nested Dictionary\n",
    "d1 = {\n",
    "        'name':'ehtisham', \n",
    "         'status':'ML Engineer',\n",
    "        'address':{'house#' : 35, 'area' : 'Pak Villas Housing Society', 'city' : 'Okara'},\n",
    "         'phone': '03460000000'\n",
    "        }\n",
    " \n",
    "d1"
   ]
  },
  {
   "cell_type": "code",
   "execution_count": null,
   "id": "8845d68e-a55b-41a8-8f92-1493878018a0",
   "metadata": {},
   "outputs": [],
   "source": [
    "l1 = d1.items()\n",
    "l1"
   ]
  },
  {
   "cell_type": "markdown",
   "id": "8fe31e98-1e1f-4630-ab3c-8c5222e4e713",
   "metadata": {},
   "source": [
    "#### d. Retrieving all `keys` of a Dictionary using `dict.keys()`  method\n",
    "- The `dict.keys()` method returns all the keys  of a dictionary object"
   ]
  },
  {
   "cell_type": "markdown",
   "id": "2847252c-0c4d-4906-a7e3-d1ddffe1ead0",
   "metadata": {},
   "source": [
    "#### e. Retrieving all `values` from a Dictionary using `dict.values()`  method\n",
    "- The `dict.values()` method returns all the values  of a dict object\n",
    "- If a value occurs multiple times in the dictionary, it will appear that many times"
   ]
  },
  {
   "cell_type": "code",
   "execution_count": null,
   "id": "f7f1d38e-d483-47e4-96ce-96fd7e3bb356",
   "metadata": {},
   "outputs": [],
   "source": []
  },
  {
   "cell_type": "markdown",
   "id": "505976f8-7c3f-4d8b-be91-046c22b1fb0d",
   "metadata": {},
   "source": [
    "### 4. Adding/Modifying Elements of a Dictionary\n",
    "#### a. Adding/Modifying Elements using `[]` Operator\n",
    "- You can  modify value associated with a key using `[]` operator and assignment statement\n",
    "```\n",
    "dict[key] = value\n",
    "```\n",
    "- If the key donot already exist, a new key:value is inserted in the dictionary"
   ]
  },
  {
   "cell_type": "code",
   "execution_count": null,
   "id": "198b9fd4-8987-4c34-a2ab-a2be2009f7df",
   "metadata": {},
   "outputs": [],
   "source": [
    "d1 = {\n",
    "    'name':'Ehtisham', \n",
    "    'age':22, \n",
    "    'address':'Pak Villas', \n",
    "    'marks':[60, 75, 80]\n",
    "}\n",
    "d1"
   ]
  },
  {
   "cell_type": "code",
   "execution_count": null,
   "id": "fd87d2a1-f4ea-4a2d-b30f-95948d8f7ce3",
   "metadata": {},
   "outputs": [],
   "source": [
    "# Modify value corresponding to an existing key\n",
    "d1['address'] = 'Township'\n",
    "d1"
   ]
  },
  {
   "cell_type": "code",
   "execution_count": null,
   "id": "f06b963e-1402-40f0-8243-ae9795e92ca7",
   "metadata": {},
   "outputs": [],
   "source": [
    "# Adding a new key:value pair\n",
    "d1['key1'] = 'value1'\n",
    "d1"
   ]
  },
  {
   "cell_type": "code",
   "execution_count": null,
   "id": "984b190e-e434-4667-8125-d7637dd6405d",
   "metadata": {},
   "outputs": [],
   "source": []
  },
  {
   "cell_type": "markdown",
   "id": "3b735121-5428-4f8e-a377-53cdc316aec5",
   "metadata": {},
   "source": [
    "#### b. Modifying Elements using `d1.update()` method \n",
    "- The `d1.update()` method is used to update the value corresponding to an existing key inside the dictionary\n",
    "```\n",
    "dict.update(key:value)\n",
    "```\n",
    "- If the key donot already exist, a new key:value is inserted in the dictionary"
   ]
  },
  {
   "cell_type": "code",
   "execution_count": null,
   "id": "193addc6-fafb-4f79-a42d-2fb87f226f80",
   "metadata": {},
   "outputs": [],
   "source": [
    "# Create a simple dictionary\n",
    "d1 = {\n",
    "    'name':'Ali', \n",
    "    'age':20, \n",
    "    'address':'Pak Villas', \n",
    "    'marks':[60, 75, 80]\n",
    "}\n",
    "d1"
   ]
  },
  {
   "cell_type": "code",
   "execution_count": null,
   "id": "f0d7fe11-160e-4f2f-9bd8-817f2136d277",
   "metadata": {},
   "outputs": [],
   "source": [
    "# Modify value corresponding to an existing key\n",
    "d1.update({'name':'Ehtisham Sadiq'})\n",
    "d1"
   ]
  },
  {
   "cell_type": "markdown",
   "id": "4ade9691-b88a-4c15-80ca-894abe2b61eb",
   "metadata": {},
   "source": [
    "**You can use the `dict.update()` method to merge two dictionaries**\n",
    "\n"
   ]
  },
  {
   "cell_type": "code",
   "execution_count": null,
   "id": "fd116ec0-fa8d-4e95-85a5-deb4645123ce",
   "metadata": {},
   "outputs": [],
   "source": [
    "d1 = {\n",
    "    'name':'Ehtisham Sadiq', \n",
    "    'age':22, \n",
    "}\n",
    "\n",
    "d2 = {\n",
    "    'address':'Pak Villas', \n",
    "    'marks':[60, 75, 80],\n",
    "    'age':21\n",
    "}"
   ]
  },
  {
   "cell_type": "code",
   "execution_count": null,
   "id": "1c52af03-e1c2-4e5d-b5fb-1a63f9c2af40",
   "metadata": {},
   "outputs": [],
   "source": [
    "d1.update(d2)\n",
    "d1"
   ]
  },
  {
   "cell_type": "code",
   "execution_count": null,
   "id": "dd8f9db6-2cc2-4d7a-9562-812ebb7dae6f",
   "metadata": {},
   "outputs": [],
   "source": []
  },
  {
   "cell_type": "code",
   "execution_count": null,
   "id": "5a3c5d57-7fc8-451f-baa4-4db6ef2f3926",
   "metadata": {},
   "outputs": [],
   "source": []
  },
  {
   "cell_type": "code",
   "execution_count": 1,
   "id": "e25c32e4-9dcc-4695-981d-e46c6cf5fd48",
   "metadata": {},
   "outputs": [
    {
     "data": {
      "text/html": [
       "\n",
       "    <style>\n",
       "        body {\n",
       "            background-color: #f2fff2;\n",
       "        }\n",
       "        h1 {\n",
       "            text-align: center;\n",
       "            font-weight: bold;\n",
       "            font-size: 36px;\n",
       "            color: #4295F4;\n",
       "            text-decoration: underline;\n",
       "            padding-top: 15px;\n",
       "        }\n",
       "        \n",
       "        h2 {\n",
       "            text-align: left;\n",
       "            font-weight: bold;\n",
       "            font-size: 30px;\n",
       "            color: #4A000A;\n",
       "            text-decoration: underline;\n",
       "            padding-top: 10px;\n",
       "        }\n",
       "        \n",
       "        h3 {\n",
       "            text-align: left;\n",
       "            font-weight: bold;\n",
       "            font-size: 30px;\n",
       "            color: #f0081e;\n",
       "            text-decoration: underline;\n",
       "            padding-top: 5px;\n",
       "        }\n",
       "\n",
       "        \n",
       "        p {\n",
       "            text-align: center;\n",
       "            font-size: 12 px;\n",
       "            color: #0B9923;\n",
       "        }\n",
       "    </style>\n",
       "\n",
       "<h1>Hello</h1>\n",
       "<p>Hello World</p>\n",
       "<h2> Hello</h2>\n",
       "<h3> World </h3>\n"
      ],
      "text/plain": [
       "<IPython.core.display.HTML object>"
      ]
     },
     "execution_count": 1,
     "metadata": {},
     "output_type": "execute_result"
    }
   ],
   "source": [
    "from IPython.core.display import HTML\n",
    "\n",
    "style = \"\"\"\n",
    "    <style>\n",
    "        body {\n",
    "            background-color: #f2fff2;\n",
    "        }\n",
    "        h1 {\n",
    "            text-align: center;\n",
    "            font-weight: bold;\n",
    "            font-size: 36px;\n",
    "            color: #4295F4;\n",
    "            text-decoration: underline;\n",
    "            padding-top: 15px;\n",
    "        }\n",
    "        \n",
    "        h2 {\n",
    "            text-align: left;\n",
    "            font-weight: bold;\n",
    "            font-size: 30px;\n",
    "            color: #4A000A;\n",
    "            text-decoration: underline;\n",
    "            padding-top: 10px;\n",
    "        }\n",
    "        \n",
    "        h3 {\n",
    "            text-align: left;\n",
    "            font-weight: bold;\n",
    "            font-size: 30px;\n",
    "            color: #f0081e;\n",
    "            text-decoration: underline;\n",
    "            padding-top: 5px;\n",
    "        }\n",
    "\n",
    "        \n",
    "        p {\n",
    "            text-align: center;\n",
    "            font-size: 12 px;\n",
    "            color: #0B9923;\n",
    "        }\n",
    "    </style>\n",
    "\"\"\"\n",
    "\n",
    "html_content = \"\"\"\n",
    "<h1>Hello</h1>\n",
    "<p>Hello World</p>\n",
    "<h2> Hello</h2>\n",
    "<h3> World </h3>\n",
    "\"\"\"\n",
    "\n",
    "HTML(style + html_content)"
   ]
  },
  {
   "cell_type": "code",
   "execution_count": null,
   "id": "fd2eaf12-7c7a-4ad5-ba7a-39ab466a0b1d",
   "metadata": {},
   "outputs": [],
   "source": []
  }
 ],
 "metadata": {
  "kernelspec": {
   "display_name": "Python 3 (ipykernel)",
   "language": "python",
   "name": "python3"
  },
  "language_info": {
   "codemirror_mode": {
    "name": "ipython",
    "version": 3
   },
   "file_extension": ".py",
   "mimetype": "text/x-python",
   "name": "python",
   "nbconvert_exporter": "python",
   "pygments_lexer": "ipython3",
   "version": "3.11.7"
  }
 },
 "nbformat": 4,
 "nbformat_minor": 5
}
