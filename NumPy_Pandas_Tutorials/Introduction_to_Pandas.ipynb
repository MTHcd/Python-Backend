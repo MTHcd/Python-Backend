{
 "cells": [
  {
   "cell_type": "markdown",
   "id": "4b694ef9",
   "metadata": {},
   "source": [
    "# Python_Pandas_Introduction"
   ]
  },
  {
   "cell_type": "markdown",
   "id": "091eff40",
   "metadata": {},
   "source": [
    "<img align=\"center\" width=\"700\" height=\"700\"  src=\"images/pandas-apps.png\"  >"
   ]
  },
  {
   "cell_type": "markdown",
   "id": "d3eb7cba",
   "metadata": {},
   "source": [
    "> **Pandas is an open source python library built on top of numpy and provides easy to use data structures and data analysis tools. Pandas has derived its name from panel data system and was developed by wes mckinney in 2008.**\n",
    "\n",
    "> **Data scientists use pandas for performing various data science tasks starting from downloading, opening, reading and writing files of different file formats like csv, excel, json, html and so on. They load the data set into its data structure called data frame.**\n",
    "\n",
    "> **A Pandas Dataframe is a 2-dimensional labeled data structure (like SQL table) with heterogeneously typed columns, having both a row and a column index.**\n",
    "\n",
    "> **After the data is loaded in a data frame the data scientists perform a various data manipulation tasks like filtering and modifying data based on multiple conditions cutting, splitting, merging, sorting, scaling, pivoting and aggregating of data.**\n",
    "\n",
    "> **Data cleaning is done to enhance the data accuracy and integrity by identifying and removing null values, duplicates and outliers.**\n",
    "\n",
    "> **Data wrangling actually transforms the data structurally to appropriate format and makes it ready to be used by the machine learning engineers so that they can apply appropriate machine learning models or algorithm on that data set for training validating and testing purposes.**"
   ]
  },
  {
   "cell_type": "code",
   "execution_count": null,
   "id": "38583d85",
   "metadata": {},
   "outputs": [],
   "source": []
  },
  {
   "cell_type": "markdown",
   "id": "930e2e5c",
   "metadata": {},
   "source": [
    "## Learning Agenda of this Notebook:\n",
    "- What is Pandas and how is it used in AI?\n",
    "- Key features of Pandas\n",
    "- Data Types in Pandas\n",
    "- What does Pandas deal with?\n",
    "- Creating Series and Dataframes in Pandas\n",
    "- Data Handling with Pandas\n",
    "  - Practice Exercise I\n",
    "  - Practice Exercise II\n",
    "- All Statistical functions in Pandas\n",
    "- Input/Output Operations\n",
    "- Aggregation & Grouping\n",
    "  - Practice Exercise\n",
    "- Merging, Joining and Concatenation\n",
    "  - Practice Exercise\n",
    "- How To Perform Data Visualization with Pandas\n",
    "- Exercise I\n",
    "- Exercise II\n",
    "- Pandas's Assignment"
   ]
  },
  {
   "cell_type": "markdown",
   "id": "93d7fe9d",
   "metadata": {},
   "source": [
    "### Data Structures in Pandas:\n",
    "<img src=\"https://www.databricks.com/wp-content/uploads/2019/03/pandas1.png\">"
   ]
  },
  {
   "cell_type": "code",
   "execution_count": null,
   "id": "58f11cf7",
   "metadata": {},
   "outputs": [],
   "source": []
  },
  {
   "cell_type": "markdown",
   "id": "5d881437",
   "metadata": {},
   "source": [
    ">-  **A Pandas Dataframe is a 2-dimensional labeled data structure (like SQL table) with heterogeneously typed columns, having both a row and a column index.**\n",
    ">-  **In short Pandas is a Software Libarary in Computer Programming and it is written for the Python Programming Language its work to do `data analysis and manipulation.`**"
   ]
  },
  {
   "cell_type": "markdown",
   "id": "25a611a7",
   "metadata": {},
   "source": [
    "## So, what is Pandas and how is it used in AI?\n",
    "\n",
    "Artificial Intelligence is about executing machine learning algorithms on products that we use every day. Any ML algorithm, for it to be effective, needs the following prerequisite steps to be done.\n",
    "- `Data Collection` – Conducting opinion Surveys, scraping the internet, etc.\n",
    "- `Data Handling` – Viewing data as a table, performing cleaning activities like checking for spellings, removal of blanks and wrong cases, removal of invalid values from data, etc.\n",
    "- `Data Visualization` – plotting appealing graphs, so anyone who looks at the data can know what story the data tells us.\n",
    "- `Pandas` – short for `Panel Data` (A panel is a 3D container of data) – is a library in python which contains in-built functions to clean, transform, manipulate, visualize and analyze data."
   ]
  },
  {
   "cell_type": "code",
   "execution_count": null,
   "id": "f94d09ae",
   "metadata": {},
   "outputs": [],
   "source": []
  },
  {
   "cell_type": "markdown",
   "id": "bb4573e9",
   "metadata": {},
   "source": [
    "## Key Features of Pandas\n",
    "<img src=\"images/Python-Pandas-Features.webp\" height=600px width=600px>\n",
    "\n",
    "\n",
    "- It has a fast and efficient DataFrame object with the default and customized indexing.\n",
    "- Used for reshaping and pivoting of the data sets.\n",
    "- Group by data for aggregations and transformations.\n",
    "- It is used for data alignment and integration of the missing data.\n",
    "- Provide the functionality of Time Series.\n",
    "- Process a variety of data sets in different formats like matrix data, tabular heterogeneous, time series.\n",
    "- Handle multiple operations of the data sets such as subsetting, slicing, filtering, groupBy, re-ordering, and re-shaping.\n",
    "- It integrates with the other libraries such as SciPy, and scikit-learn.\n",
    "- Provides fast performance, and If you want to speed it, even more, you can use the Cython."
   ]
  },
  {
   "cell_type": "markdown",
   "id": "238ceb96",
   "metadata": {},
   "source": [
    "## Data Types\n",
    "A data type is used by a programming language to understand how to store and manipulate data.\n",
    "- `int` : Integer number, eg: 10, 12\n",
    "- `float` : Floating point number, eg: 100.2, 3.1415\n",
    "- `bool` : True/False value\n",
    "- `object` : Test, non-numeric, or a combination of text and non-numeric values, eg: Apple\n",
    "- `DateTime` : Date and time values\n",
    "- `category` : A finite list of values"
   ]
  },
  {
   "cell_type": "code",
   "execution_count": null,
   "id": "4ddb38f2",
   "metadata": {},
   "outputs": [],
   "source": []
  },
  {
   "cell_type": "markdown",
   "id": "092dbfa8",
   "metadata": {},
   "source": [
    "## What does Pandas deal with?\n",
    "There are two major categories of data that you can come across while doing data analysis.\n",
    "- One dimensional data\n",
    "- Two-dimensional data\n",
    "\n",
    "These data can be of any data type. Character, number or even an object.\n",
    "\n",
    "> **Series in Pandas is one-dimensional data, and data frames are 2-dimensional data. A series can hold only a single data type, whereas a data frame is meant to contain more than one data type.**\n",
    "\n",
    "![](images/dataframe.webp)"
   ]
  },
  {
   "cell_type": "markdown",
   "id": "f6983313",
   "metadata": {},
   "source": [
    "**In the example shown above, `Name` is a `series` and it is of the datatype – `Object` and it is treated as a character array. `Age` is another series and it is of the type – `Integer`. Third is the `Marks` is the third series and it is of the type `Integer` again.  The individual Series are one dimensional and hold only one data type. However, the `dataframe` as a whole contains more than 2 dimensions and is `heterogeneous` in nature.**"
   ]
  },
  {
   "cell_type": "markdown",
   "id": "e5a267b9",
   "metadata": {},
   "source": [
    "## Creating Series & data frames in python"
   ]
  },
  {
   "cell_type": "markdown",
   "id": "466edb52",
   "metadata": {},
   "source": [
    "#### Creating a simple Serie"
   ]
  },
  {
   "cell_type": "code",
   "execution_count": null,
   "id": "6bc5e675",
   "metadata": {},
   "outputs": [],
   "source": [
    "import pandas as pd"
   ]
  },
  {
   "cell_type": "code",
   "execution_count": null,
   "id": "2ae19831",
   "metadata": {},
   "outputs": [],
   "source": [
    "pd.__version__, pd.__path__"
   ]
  },
  {
   "cell_type": "code",
   "execution_count": null,
   "id": "5230e8b7",
   "metadata": {},
   "outputs": [],
   "source": []
  },
  {
   "cell_type": "code",
   "execution_count": null,
   "id": "de967aa2",
   "metadata": {},
   "outputs": [],
   "source": [
    "\n",
    "#importing pandas library\n",
    "import pandas as pd\n",
    " \n",
    "#Creating a list\n",
    "name = ['Ehtisham', 'Ali', 'Ayesha', 'Dua']\n",
    "\n",
    "#Creating a Series by passing list variable to Series() function of pandas \n",
    "name_series = pd.Series(name)\n",
    "\n",
    "#Printing Series\n",
    "print(name_series)"
   ]
  },
  {
   "cell_type": "code",
   "execution_count": null,
   "id": "2f5df77d",
   "metadata": {},
   "outputs": [],
   "source": [
    "# Let’s check type of Series\n",
    "print(\"Type of name_Series is : \",type(name_series))"
   ]
  },
  {
   "cell_type": "code",
   "execution_count": null,
   "id": "bc8eee52",
   "metadata": {},
   "outputs": [],
   "source": []
  },
  {
   "cell_type": "markdown",
   "id": "d15c7058",
   "metadata": {},
   "source": [
    "#### Creating multiple series"
   ]
  },
  {
   "cell_type": "code",
   "execution_count": 11,
   "id": "eda1d0f8",
   "metadata": {},
   "outputs": [
    {
     "name": "stdout",
     "output_type": "stream",
     "text": [
      "Name Series : \n",
      "0    Ehtisham\n",
      "1         Ali\n",
      "2      Ayesha\n",
      "3         Dua\n",
      "dtype: object\n",
      "Marks Series : \n",
      "0    91.5\n",
      "1    93.0\n",
      "2    80.0\n",
      "3    65.0\n",
      "dtype: float64\n",
      "Age Series : \n",
      "0    21\n",
      "1    18\n",
      "2    16\n",
      "3     6\n",
      "dtype: int64\n"
     ]
    }
   ],
   "source": [
    "name = ['Ehtisham', 'Ali', 'Ayesha', 'Dua']\n",
    "marks = [91.5,93,80,65]\n",
    "age = [21,18,16,6]\n",
    "\n",
    "#Creating a Series by passing list variable to Series() function of pandas \n",
    "name_ser = pd.Series(name)\n",
    "marks_ser = pd.Series(marks)\n",
    "age_ser = pd.Series(age)\n",
    "\n",
    "#Printing Series\n",
    "print(\"Name Series : \", name_ser, sep=\"\\n\")\n",
    "print(\"Marks Series : \", marks_ser, sep=\"\\n\")\n",
    "print(\"Age Series : \", age_ser,sep=\"\\n\")"
   ]
  },
  {
   "cell_type": "markdown",
   "id": "1ff6d90e",
   "metadata": {},
   "source": [
    "#### Creating Dataframe from multiple Series "
   ]
  },
  {
   "cell_type": "code",
   "execution_count": 12,
   "id": "8e5d7c92",
   "metadata": {},
   "outputs": [
    {
     "name": "stdout",
     "output_type": "stream",
     "text": [
      "Printing of DataFrame .... \n"
     ]
    },
    {
     "data": {
      "text/html": [
       "<div>\n",
       "<style scoped>\n",
       "    .dataframe tbody tr th:only-of-type {\n",
       "        vertical-align: middle;\n",
       "    }\n",
       "\n",
       "    .dataframe tbody tr th {\n",
       "        vertical-align: top;\n",
       "    }\n",
       "\n",
       "    .dataframe thead th {\n",
       "        text-align: right;\n",
       "    }\n",
       "</style>\n",
       "<table border=\"1\" class=\"dataframe\">\n",
       "  <thead>\n",
       "    <tr style=\"text-align: right;\">\n",
       "      <th></th>\n",
       "      <th>Name</th>\n",
       "      <th>Marks</th>\n",
       "      <th>Age</th>\n",
       "    </tr>\n",
       "  </thead>\n",
       "  <tbody>\n",
       "    <tr>\n",
       "      <th>0</th>\n",
       "      <td>Ehtisham</td>\n",
       "      <td>91.5</td>\n",
       "      <td>21</td>\n",
       "    </tr>\n",
       "    <tr>\n",
       "      <th>1</th>\n",
       "      <td>Ali</td>\n",
       "      <td>93.0</td>\n",
       "      <td>18</td>\n",
       "    </tr>\n",
       "    <tr>\n",
       "      <th>2</th>\n",
       "      <td>Ayesha</td>\n",
       "      <td>80.0</td>\n",
       "      <td>16</td>\n",
       "    </tr>\n",
       "    <tr>\n",
       "      <th>3</th>\n",
       "      <td>Dua</td>\n",
       "      <td>65.0</td>\n",
       "      <td>6</td>\n",
       "    </tr>\n",
       "  </tbody>\n",
       "</table>\n",
       "</div>"
      ],
      "text/plain": [
       "       Name  Marks  Age\n",
       "0  Ehtisham   91.5   21\n",
       "1       Ali   93.0   18\n",
       "2    Ayesha   80.0   16\n",
       "3       Dua   65.0    6"
      ]
     },
     "execution_count": 12,
     "metadata": {},
     "output_type": "execute_result"
    }
   ],
   "source": [
    "#Creating a Series by passing list variable to Series() function of pandas \n",
    "name_ser = pd.Series(name)\n",
    "marks_ser = pd.Series(marks)\n",
    "age_ser = pd.Series(age)\n",
    "\n",
    "# Creating a Dictionary by passing series as values of dictionary\n",
    "dic = {'Name':name_ser,\n",
    "      'Marks':marks_ser,\n",
    "      'Age':age_ser\n",
    "      }\n",
    "\n",
    "# Create dataframe by passing dictionary to pd.DataFrame function of pandas\n",
    "df = pd.DataFrame(dic)\n",
    "print(\"Printing of DataFrame .... \")\n",
    "df"
   ]
  },
  {
   "cell_type": "code",
   "execution_count": null,
   "id": "76b1c62c",
   "metadata": {},
   "outputs": [],
   "source": []
  },
  {
   "cell_type": "markdown",
   "id": "c02c29ac",
   "metadata": {},
   "source": [
    "#### How to add new column to the dataframe"
   ]
  },
  {
   "cell_type": "code",
   "execution_count": 13,
   "id": "d9bc933e",
   "metadata": {},
   "outputs": [
    {
     "name": "stdout",
     "output_type": "stream",
     "text": [
      "Printing of DataFrame .... \n"
     ]
    },
    {
     "data": {
      "text/html": [
       "<div>\n",
       "<style scoped>\n",
       "    .dataframe tbody tr th:only-of-type {\n",
       "        vertical-align: middle;\n",
       "    }\n",
       "\n",
       "    .dataframe tbody tr th {\n",
       "        vertical-align: top;\n",
       "    }\n",
       "\n",
       "    .dataframe thead th {\n",
       "        text-align: right;\n",
       "    }\n",
       "</style>\n",
       "<table border=\"1\" class=\"dataframe\">\n",
       "  <thead>\n",
       "    <tr style=\"text-align: right;\">\n",
       "      <th></th>\n",
       "      <th>Name</th>\n",
       "      <th>Marks</th>\n",
       "      <th>Age</th>\n",
       "      <th>Address</th>\n",
       "    </tr>\n",
       "  </thead>\n",
       "  <tbody>\n",
       "    <tr>\n",
       "      <th>0</th>\n",
       "      <td>Ehtisham</td>\n",
       "      <td>91.5</td>\n",
       "      <td>21</td>\n",
       "      <td>Lahore</td>\n",
       "    </tr>\n",
       "    <tr>\n",
       "      <th>1</th>\n",
       "      <td>Ali</td>\n",
       "      <td>93.0</td>\n",
       "      <td>18</td>\n",
       "      <td>Okara</td>\n",
       "    </tr>\n",
       "    <tr>\n",
       "      <th>2</th>\n",
       "      <td>Ayesha</td>\n",
       "      <td>80.0</td>\n",
       "      <td>16</td>\n",
       "      <td>Okara</td>\n",
       "    </tr>\n",
       "    <tr>\n",
       "      <th>3</th>\n",
       "      <td>Dua</td>\n",
       "      <td>65.0</td>\n",
       "      <td>6</td>\n",
       "      <td>NaN</td>\n",
       "    </tr>\n",
       "  </tbody>\n",
       "</table>\n",
       "</div>"
      ],
      "text/plain": [
       "       Name  Marks  Age Address\n",
       "0  Ehtisham   91.5   21  Lahore\n",
       "1       Ali   93.0   18   Okara\n",
       "2    Ayesha   80.0   16   Okara\n",
       "3       Dua   65.0    6     NaN"
      ]
     },
     "execution_count": 13,
     "metadata": {},
     "output_type": "execute_result"
    }
   ],
   "source": [
    "address = pd.Series(['Lahore','Okara','Okara'])\n",
    "##Creating new column in the dataframe by providing s Series created using list\n",
    "df['Address'] = address\n",
    "print(\"Printing of DataFrame .... \")\n",
    "df"
   ]
  },
  {
   "cell_type": "code",
   "execution_count": null,
   "id": "35192588",
   "metadata": {},
   "outputs": [],
   "source": []
  },
  {
   "cell_type": "markdown",
   "id": "f154a69f",
   "metadata": {},
   "source": [
    "## Data Handling with Pandas..\n",
    "\n",
    "- **Data Reading** : Reading from a csv or an excel – Pandas provide two functions – read_csv() and read_excel() to read data from a csv and an excel file respectively. Command can be used as follows.\n",
    "\n",
    "- **Viewing data** – Viewing data from a data frame can be done by three ways\n",
    " >- using the data frame’s name – returns the top and bottom 5 rows in the data frame.\n",
    " >- using dataframe.head() function\n",
    " >- using dataframe.tail() function\n",
    "\n",
    "- **Data Overview** : To see more details on the data frame, the `info()` function can be used. info() gives an idea about what datatype each series in a data frame points to.\n",
    "\n",
    "- The following functions are used to find the unique entries within a series/column in a data frame.\n",
    " >- datafame.unique() – returns the unique values\n",
    " >- dataframe.nunique() – returns the count of unique values\n",
    " >- dataframe.value_counts() – returns the frequency of each of the categories in the column\n",
    "\n",
    "- In our example, the titanic dataset contains a column called `Survived` which tells if the particular passenger survived the tragedy. Since this value could only be either 0 or 1, we can convert the data type from integer to object.\n",
    " >- `dataframe.astype()` is the function which lets us do the conversion"
   ]
  },
  {
   "cell_type": "code",
   "execution_count": null,
   "id": "5c9c04a2",
   "metadata": {},
   "outputs": [],
   "source": []
  },
  {
   "cell_type": "code",
   "execution_count": null,
   "id": "1e34a30d",
   "metadata": {},
   "outputs": [],
   "source": [
    "import os\n",
    "os.listdir('datasets/')"
   ]
  },
  {
   "cell_type": "code",
   "execution_count": null,
   "id": "304bf522",
   "metadata": {},
   "outputs": [],
   "source": [
    "import pandas as pd\n",
    "df = pd.read_csv('datasets/recent-grads.csv')"
   ]
  },
  {
   "cell_type": "code",
   "execution_count": null,
   "id": "4ec1d4f1",
   "metadata": {},
   "outputs": [],
   "source": [
    "df.head()"
   ]
  },
  {
   "cell_type": "code",
   "execution_count": null,
   "id": "24a7affc-eabb-4b61-bc55-aaa0486033b0",
   "metadata": {},
   "outputs": [],
   "source": [
    "df.tail()"
   ]
  },
  {
   "cell_type": "markdown",
   "id": "e54dd934-9a3e-49fc-9ce4-97780acfa3f7",
   "metadata": {},
   "source": [
    "### Methods for categorical Columns"
   ]
  },
  {
   "cell_type": "code",
   "execution_count": null,
   "id": "3fb85ca2-06ed-4cc3-a706-4a26a21918a7",
   "metadata": {},
   "outputs": [],
   "source": [
    "df['Major'].unique()"
   ]
  },
  {
   "cell_type": "code",
   "execution_count": null,
   "id": "d4246ff2-d976-44f2-87d2-684331526969",
   "metadata": {},
   "outputs": [],
   "source": []
  },
  {
   "cell_type": "code",
   "execution_count": null,
   "id": "a68e92ff-164a-4b50-ab45-3f63df086f6c",
   "metadata": {},
   "outputs": [],
   "source": []
  },
  {
   "cell_type": "code",
   "execution_count": null,
   "id": "7ddb8c18-2c85-4b7c-a578-e167fe71ab4b",
   "metadata": {},
   "outputs": [],
   "source": []
  },
  {
   "cell_type": "code",
   "execution_count": null,
   "id": "62f1c2e2-de9f-4f99-9820-011382e13824",
   "metadata": {},
   "outputs": [],
   "source": []
  },
  {
   "cell_type": "code",
   "execution_count": null,
   "id": "55306a5e",
   "metadata": {},
   "outputs": [],
   "source": []
  },
  {
   "cell_type": "markdown",
   "id": "13227ab2",
   "metadata": {},
   "source": [
    "## Practice Questions Part 1: \n",
    "- Step 1. Import the necessary libraries.\n",
    "- Step 2. Import the dataset from this [address](https://raw.githubusercontent.com/bsef19m521/DatasetsForProjects/master/u.user)\n",
    "- Step 3. Assign it to a variable called users and use the `user_id` as index\n",
    "- Step 4. See the first 25 entries\n",
    "- Step 5. See the last 10 entries\n",
    "- Step 6. What is the number of observations in the dataset?\n",
    "- Step 7. What is the number of columns in the dataset?\n",
    "- Step 8. Print the name of all the columns.\n",
    "- Step 9. How is the dataset indexed?\n",
    "- Step 10. What is the data type of each column?\n",
    "- Step 11. Print only the occupation column\n",
    "- Step 12. How many different occupations are in this dataset?\n",
    "- Step 13. What is the most frequent occupation?\n",
    "- Step 14. Summarize the DataFrame.\n",
    "- Step 15. Summarize all the columns\n",
    "- Step 16. Summarize only the occupation column\n",
    "- Step 17. What is the mean age of users?\n",
    "- Step 18. What is the age with least occurrence?"
   ]
  },
  {
   "cell_type": "code",
   "execution_count": null,
   "id": "bf93c25a",
   "metadata": {},
   "outputs": [],
   "source": [
    "import pandas as pd\n",
    "# data reading\n",
    "url = \"https://raw.githubusercontent.com/bsef19m521/DatasetsForProjects/master/u.user\"\n",
    "users = pd.read_csv(url, delimiter=\"|\")\n",
    "users.head()"
   ]
  },
  {
   "cell_type": "code",
   "execution_count": null,
   "id": "7377b9cf",
   "metadata": {},
   "outputs": [],
   "source": [
    "# Task no 03\n",
    "# First Method\n",
    "users = pd.read_csv(url, delimiter=\"|\", index_col='user_id')\n",
    "users.head()\n",
    "\n",
    "\n",
    "# Second method\n",
    "# users.set_index('user_id')"
   ]
  },
  {
   "cell_type": "code",
   "execution_count": null,
   "id": "918d17cf",
   "metadata": {},
   "outputs": [],
   "source": [
    "# Task no 04\n",
    "users.head(25)"
   ]
  },
  {
   "cell_type": "code",
   "execution_count": null,
   "id": "964824a5",
   "metadata": {},
   "outputs": [],
   "source": [
    "# Task no 05\n",
    "users.tail(10)"
   ]
  },
  {
   "cell_type": "code",
   "execution_count": null,
   "id": "041382f5",
   "metadata": {},
   "outputs": [],
   "source": [
    "# Task no 06\n",
    "users.shape\n",
    "# or \n",
    "users.info()"
   ]
  },
  {
   "cell_type": "code",
   "execution_count": null,
   "id": "62914be4",
   "metadata": {},
   "outputs": [],
   "source": [
    "# Task no 07 & 08\n",
    "print(\"users.shape : \",users.shape)\n",
    "users.columns"
   ]
  },
  {
   "cell_type": "code",
   "execution_count": null,
   "id": "9fab018c",
   "metadata": {},
   "outputs": [],
   "source": [
    "# Task no 09\n",
    "users.index"
   ]
  },
  {
   "cell_type": "code",
   "execution_count": null,
   "id": "e70ff59f",
   "metadata": {},
   "outputs": [],
   "source": []
  },
  {
   "cell_type": "code",
   "execution_count": null,
   "id": "d8b04b8c",
   "metadata": {},
   "outputs": [],
   "source": [
    "# Task no 10\n",
    "users.dtypes\n",
    " \n",
    "#     or \n",
    "# users.info()"
   ]
  },
  {
   "cell_type": "code",
   "execution_count": null,
   "id": "ba5f6419",
   "metadata": {},
   "outputs": [],
   "source": [
    "# Task no 11\n",
    "users['occupation']"
   ]
  },
  {
   "cell_type": "code",
   "execution_count": null,
   "id": "f38f0a48",
   "metadata": {},
   "outputs": [],
   "source": [
    "# Task no 12\n",
    "# First method\n",
    "users['occupation'].unique()"
   ]
  },
  {
   "cell_type": "code",
   "execution_count": null,
   "id": "0ea5b6bd",
   "metadata": {},
   "outputs": [],
   "source": [
    "# Second method\n",
    "users['occupation'].nunique()"
   ]
  },
  {
   "cell_type": "code",
   "execution_count": null,
   "id": "260e2ddb",
   "metadata": {},
   "outputs": [],
   "source": [
    "# Third method\n",
    "users['occupation'].value_counts()"
   ]
  },
  {
   "cell_type": "code",
   "execution_count": null,
   "id": "fb98e393",
   "metadata": {},
   "outputs": [],
   "source": []
  },
  {
   "cell_type": "code",
   "execution_count": null,
   "id": "90d8ec21",
   "metadata": {},
   "outputs": [],
   "source": [
    "# Task no 13\n",
    "users['occupation'].value_counts()[0]"
   ]
  },
  {
   "cell_type": "code",
   "execution_count": null,
   "id": "657a7712",
   "metadata": {},
   "outputs": [],
   "source": [
    "# Task no 14\n",
    "users.describe()"
   ]
  },
  {
   "cell_type": "code",
   "execution_count": null,
   "id": "b254322f",
   "metadata": {},
   "outputs": [],
   "source": [
    "# Task no 15\n",
    "users.describe(include='all')"
   ]
  },
  {
   "cell_type": "code",
   "execution_count": null,
   "id": "bd5f5d25",
   "metadata": {},
   "outputs": [],
   "source": [
    "# Task no 16\n",
    "users['occupation'].describe()"
   ]
  },
  {
   "cell_type": "code",
   "execution_count": null,
   "id": "1f38ff9e",
   "metadata": {},
   "outputs": [],
   "source": []
  },
  {
   "cell_type": "code",
   "execution_count": null,
   "id": "cbfbf5a6",
   "metadata": {},
   "outputs": [],
   "source": [
    "# Task no 17\n",
    "users['age'].mean()"
   ]
  },
  {
   "cell_type": "code",
   "execution_count": null,
   "id": "588c9ab0",
   "metadata": {},
   "outputs": [],
   "source": [
    "# Task no 18\n",
    "users['age'].min()"
   ]
  },
  {
   "cell_type": "code",
   "execution_count": null,
   "id": "398ab535",
   "metadata": {},
   "outputs": [],
   "source": [
    "# import pandas as pd\n",
    "# pd.Series([])\n",
    "# pd.DataFrame(dict)\n",
    "# shape\n",
    "# info() -> indices of columns, columns name, total null values, datatype of each column, range of indices\n",
    "# dtypes -> return datatype of all columns\n",
    "# describe() -> descriptive view dataset/dataframe (mean, max, min, std, count)\n",
    "# head() -> top records/rows/indices\n",
    "# tail() -> last 5 records\n",
    "# unique()  -> all unique values in given column(it is invalid for continuous data)\n",
    "# nunique() -> return count of unique values\n",
    "# value_counts() -> return unique values along with their frequency"
   ]
  },
  {
   "cell_type": "code",
   "execution_count": null,
   "id": "92facbd8",
   "metadata": {},
   "outputs": [],
   "source": []
  },
  {
   "cell_type": "code",
   "execution_count": null,
   "id": "a42a91c4",
   "metadata": {},
   "outputs": [],
   "source": []
  },
  {
   "cell_type": "code",
   "execution_count": null,
   "id": "c5aae2ec",
   "metadata": {},
   "outputs": [],
   "source": []
  },
  {
   "cell_type": "code",
   "execution_count": null,
   "id": "6bb4225b",
   "metadata": {},
   "outputs": [],
   "source": []
  },
  {
   "cell_type": "markdown",
   "id": "498ee523",
   "metadata": {},
   "source": [
    "## Practice Questions Part 2:\n",
    "- Step 1. Import the necessary libraries\n",
    "- Step 2. Import the dataset from this [address](https://raw.githubusercontent.com/bsef19m521/DatasetsForProjects/master/Euro_2012_stats_TEAM.csv)\n",
    "- Step 3. Assign it to a variable called `euro12`.\n",
    "- Step 4. Select only the Goal column.\n",
    "- Step 5. How many team participated in the Euro2012?(value_counts/shape)\n",
    "- Step 6. What is the number of columns in the dataset?(shape/info)\n",
    "- Step 7. View only the columns Team, Yellow Cards and Red Cards and assign them to a dataframe called discipline\n",
    "- Step 8. Sort the teams by Red Cards, then to Yellow Cards(Hint: sort_values)\n",
    "- Step 9. Calculate the mean Yellow Cards given per Team(Hint: round())\n",
    "- Step 10. Filter teams that scored more than 6 goals\n",
    "- Step 11. Select the teams that start with G(Hint : str.startswith('G'))\n",
    "- Step 12. Select the first 7 columns and all the rows(Hint: iloc())\n",
    "- Step 13. Select all columns except the last 3.(Hint: iloc())\n",
    "- Step 14. Presents/shows only the Shooting Accuracy from England, Italy and Russia"
   ]
  },
  {
   "cell_type": "code",
   "execution_count": 15,
   "id": "7d111259-3a2f-423a-ae6e-f53695bcdd90",
   "metadata": {},
   "outputs": [
    {
     "name": "stdout",
     "output_type": "stream",
     "text": [
      "Euro_2012_stats_TEAM.csv recent-grads.csv         u.user\n"
     ]
    }
   ],
   "source": [
    "!ls datasets/"
   ]
  },
  {
   "cell_type": "code",
   "execution_count": 16,
   "id": "4824ad37",
   "metadata": {},
   "outputs": [],
   "source": [
    "import pandas as pd\n",
    "\n",
    "file_path = \"datasets/Euro_2012_stats_TEAM.csv\"\n",
    "euro12 = pd.read_csv(file_path)"
   ]
  },
  {
   "cell_type": "code",
   "execution_count": 17,
   "id": "f8fa8eb3-5486-4a74-a346-7ad13c6c6004",
   "metadata": {},
   "outputs": [
    {
     "data": {
      "text/html": [
       "<div>\n",
       "<style scoped>\n",
       "    .dataframe tbody tr th:only-of-type {\n",
       "        vertical-align: middle;\n",
       "    }\n",
       "\n",
       "    .dataframe tbody tr th {\n",
       "        vertical-align: top;\n",
       "    }\n",
       "\n",
       "    .dataframe thead th {\n",
       "        text-align: right;\n",
       "    }\n",
       "</style>\n",
       "<table border=\"1\" class=\"dataframe\">\n",
       "  <thead>\n",
       "    <tr style=\"text-align: right;\">\n",
       "      <th></th>\n",
       "      <th>Team</th>\n",
       "      <th>Goals</th>\n",
       "      <th>Shots on target</th>\n",
       "      <th>Shots off target</th>\n",
       "      <th>Shooting Accuracy</th>\n",
       "      <th>% Goals-to-shots</th>\n",
       "      <th>Total shots (inc. Blocked)</th>\n",
       "      <th>Hit Woodwork</th>\n",
       "      <th>Penalty goals</th>\n",
       "      <th>Penalties not scored</th>\n",
       "      <th>...</th>\n",
       "      <th>Saves made</th>\n",
       "      <th>Saves-to-shots ratio</th>\n",
       "      <th>Fouls Won</th>\n",
       "      <th>Fouls Conceded</th>\n",
       "      <th>Offsides</th>\n",
       "      <th>Yellow Cards</th>\n",
       "      <th>Red Cards</th>\n",
       "      <th>Subs on</th>\n",
       "      <th>Subs off</th>\n",
       "      <th>Players Used</th>\n",
       "    </tr>\n",
       "  </thead>\n",
       "  <tbody>\n",
       "    <tr>\n",
       "      <th>0</th>\n",
       "      <td>Croatia</td>\n",
       "      <td>4</td>\n",
       "      <td>13</td>\n",
       "      <td>12</td>\n",
       "      <td>51.9%</td>\n",
       "      <td>16.0%</td>\n",
       "      <td>32</td>\n",
       "      <td>0</td>\n",
       "      <td>0</td>\n",
       "      <td>0</td>\n",
       "      <td>...</td>\n",
       "      <td>13</td>\n",
       "      <td>81.3%</td>\n",
       "      <td>41</td>\n",
       "      <td>62</td>\n",
       "      <td>2</td>\n",
       "      <td>9</td>\n",
       "      <td>0</td>\n",
       "      <td>9</td>\n",
       "      <td>9</td>\n",
       "      <td>16</td>\n",
       "    </tr>\n",
       "    <tr>\n",
       "      <th>1</th>\n",
       "      <td>Czech Republic</td>\n",
       "      <td>4</td>\n",
       "      <td>13</td>\n",
       "      <td>18</td>\n",
       "      <td>41.9%</td>\n",
       "      <td>12.9%</td>\n",
       "      <td>39</td>\n",
       "      <td>0</td>\n",
       "      <td>0</td>\n",
       "      <td>0</td>\n",
       "      <td>...</td>\n",
       "      <td>9</td>\n",
       "      <td>60.1%</td>\n",
       "      <td>53</td>\n",
       "      <td>73</td>\n",
       "      <td>8</td>\n",
       "      <td>7</td>\n",
       "      <td>0</td>\n",
       "      <td>11</td>\n",
       "      <td>11</td>\n",
       "      <td>19</td>\n",
       "    </tr>\n",
       "    <tr>\n",
       "      <th>2</th>\n",
       "      <td>Denmark</td>\n",
       "      <td>4</td>\n",
       "      <td>10</td>\n",
       "      <td>10</td>\n",
       "      <td>50.0%</td>\n",
       "      <td>20.0%</td>\n",
       "      <td>27</td>\n",
       "      <td>1</td>\n",
       "      <td>0</td>\n",
       "      <td>0</td>\n",
       "      <td>...</td>\n",
       "      <td>10</td>\n",
       "      <td>66.7%</td>\n",
       "      <td>25</td>\n",
       "      <td>38</td>\n",
       "      <td>8</td>\n",
       "      <td>4</td>\n",
       "      <td>0</td>\n",
       "      <td>7</td>\n",
       "      <td>7</td>\n",
       "      <td>15</td>\n",
       "    </tr>\n",
       "    <tr>\n",
       "      <th>3</th>\n",
       "      <td>England</td>\n",
       "      <td>5</td>\n",
       "      <td>11</td>\n",
       "      <td>18</td>\n",
       "      <td>50.0%</td>\n",
       "      <td>17.2%</td>\n",
       "      <td>40</td>\n",
       "      <td>0</td>\n",
       "      <td>0</td>\n",
       "      <td>0</td>\n",
       "      <td>...</td>\n",
       "      <td>22</td>\n",
       "      <td>88.1%</td>\n",
       "      <td>43</td>\n",
       "      <td>45</td>\n",
       "      <td>6</td>\n",
       "      <td>5</td>\n",
       "      <td>0</td>\n",
       "      <td>11</td>\n",
       "      <td>11</td>\n",
       "      <td>16</td>\n",
       "    </tr>\n",
       "    <tr>\n",
       "      <th>4</th>\n",
       "      <td>France</td>\n",
       "      <td>3</td>\n",
       "      <td>22</td>\n",
       "      <td>24</td>\n",
       "      <td>37.9%</td>\n",
       "      <td>6.5%</td>\n",
       "      <td>65</td>\n",
       "      <td>1</td>\n",
       "      <td>0</td>\n",
       "      <td>0</td>\n",
       "      <td>...</td>\n",
       "      <td>6</td>\n",
       "      <td>54.6%</td>\n",
       "      <td>36</td>\n",
       "      <td>51</td>\n",
       "      <td>5</td>\n",
       "      <td>6</td>\n",
       "      <td>0</td>\n",
       "      <td>11</td>\n",
       "      <td>11</td>\n",
       "      <td>19</td>\n",
       "    </tr>\n",
       "  </tbody>\n",
       "</table>\n",
       "<p>5 rows × 35 columns</p>\n",
       "</div>"
      ],
      "text/plain": [
       "             Team  Goals  Shots on target  Shots off target Shooting Accuracy  \\\n",
       "0         Croatia      4               13                12             51.9%   \n",
       "1  Czech Republic      4               13                18             41.9%   \n",
       "2         Denmark      4               10                10             50.0%   \n",
       "3         England      5               11                18             50.0%   \n",
       "4          France      3               22                24             37.9%   \n",
       "\n",
       "  % Goals-to-shots  Total shots (inc. Blocked)  Hit Woodwork  Penalty goals  \\\n",
       "0            16.0%                          32             0              0   \n",
       "1            12.9%                          39             0              0   \n",
       "2            20.0%                          27             1              0   \n",
       "3            17.2%                          40             0              0   \n",
       "4             6.5%                          65             1              0   \n",
       "\n",
       "   Penalties not scored  ...  Saves made  Saves-to-shots ratio  Fouls Won  \\\n",
       "0                     0  ...          13                 81.3%         41   \n",
       "1                     0  ...           9                 60.1%         53   \n",
       "2                     0  ...          10                 66.7%         25   \n",
       "3                     0  ...          22                 88.1%         43   \n",
       "4                     0  ...           6                 54.6%         36   \n",
       "\n",
       "  Fouls Conceded  Offsides  Yellow Cards  Red Cards  Subs on  Subs off  \\\n",
       "0             62         2             9          0        9         9   \n",
       "1             73         8             7          0       11        11   \n",
       "2             38         8             4          0        7         7   \n",
       "3             45         6             5          0       11        11   \n",
       "4             51         5             6          0       11        11   \n",
       "\n",
       "   Players Used  \n",
       "0            16  \n",
       "1            19  \n",
       "2            15  \n",
       "3            16  \n",
       "4            19  \n",
       "\n",
       "[5 rows x 35 columns]"
      ]
     },
     "execution_count": 17,
     "metadata": {},
     "output_type": "execute_result"
    }
   ],
   "source": [
    "euro12.head()"
   ]
  },
  {
   "cell_type": "code",
   "execution_count": 18,
   "id": "2848e913-cbd4-42a2-bbb8-bb9808592328",
   "metadata": {},
   "outputs": [
    {
     "data": {
      "text/html": [
       "<div>\n",
       "<style scoped>\n",
       "    .dataframe tbody tr th:only-of-type {\n",
       "        vertical-align: middle;\n",
       "    }\n",
       "\n",
       "    .dataframe tbody tr th {\n",
       "        vertical-align: top;\n",
       "    }\n",
       "\n",
       "    .dataframe thead th {\n",
       "        text-align: right;\n",
       "    }\n",
       "</style>\n",
       "<table border=\"1\" class=\"dataframe\">\n",
       "  <thead>\n",
       "    <tr style=\"text-align: right;\">\n",
       "      <th></th>\n",
       "      <th>Team</th>\n",
       "      <th>Goals</th>\n",
       "      <th>Shots on target</th>\n",
       "      <th>Shots off target</th>\n",
       "      <th>Shooting Accuracy</th>\n",
       "      <th>% Goals-to-shots</th>\n",
       "      <th>Total shots (inc. Blocked)</th>\n",
       "      <th>Hit Woodwork</th>\n",
       "      <th>Penalty goals</th>\n",
       "      <th>Penalties not scored</th>\n",
       "      <th>...</th>\n",
       "      <th>Saves made</th>\n",
       "      <th>Saves-to-shots ratio</th>\n",
       "      <th>Fouls Won</th>\n",
       "      <th>Fouls Conceded</th>\n",
       "      <th>Offsides</th>\n",
       "      <th>Yellow Cards</th>\n",
       "      <th>Red Cards</th>\n",
       "      <th>Subs on</th>\n",
       "      <th>Subs off</th>\n",
       "      <th>Players Used</th>\n",
       "    </tr>\n",
       "  </thead>\n",
       "  <tbody>\n",
       "    <tr>\n",
       "      <th>11</th>\n",
       "      <td>Republic of Ireland</td>\n",
       "      <td>1</td>\n",
       "      <td>7</td>\n",
       "      <td>12</td>\n",
       "      <td>36.8%</td>\n",
       "      <td>5.2%</td>\n",
       "      <td>28</td>\n",
       "      <td>0</td>\n",
       "      <td>0</td>\n",
       "      <td>0</td>\n",
       "      <td>...</td>\n",
       "      <td>17</td>\n",
       "      <td>65.4%</td>\n",
       "      <td>43</td>\n",
       "      <td>51</td>\n",
       "      <td>11</td>\n",
       "      <td>6</td>\n",
       "      <td>1</td>\n",
       "      <td>10</td>\n",
       "      <td>10</td>\n",
       "      <td>17</td>\n",
       "    </tr>\n",
       "    <tr>\n",
       "      <th>12</th>\n",
       "      <td>Russia</td>\n",
       "      <td>5</td>\n",
       "      <td>9</td>\n",
       "      <td>31</td>\n",
       "      <td>22.5%</td>\n",
       "      <td>12.5%</td>\n",
       "      <td>59</td>\n",
       "      <td>2</td>\n",
       "      <td>0</td>\n",
       "      <td>0</td>\n",
       "      <td>...</td>\n",
       "      <td>10</td>\n",
       "      <td>77.0%</td>\n",
       "      <td>34</td>\n",
       "      <td>43</td>\n",
       "      <td>4</td>\n",
       "      <td>6</td>\n",
       "      <td>0</td>\n",
       "      <td>7</td>\n",
       "      <td>7</td>\n",
       "      <td>16</td>\n",
       "    </tr>\n",
       "    <tr>\n",
       "      <th>13</th>\n",
       "      <td>Spain</td>\n",
       "      <td>12</td>\n",
       "      <td>42</td>\n",
       "      <td>33</td>\n",
       "      <td>55.9%</td>\n",
       "      <td>16.0%</td>\n",
       "      <td>100</td>\n",
       "      <td>0</td>\n",
       "      <td>1</td>\n",
       "      <td>0</td>\n",
       "      <td>...</td>\n",
       "      <td>15</td>\n",
       "      <td>93.8%</td>\n",
       "      <td>102</td>\n",
       "      <td>83</td>\n",
       "      <td>19</td>\n",
       "      <td>11</td>\n",
       "      <td>0</td>\n",
       "      <td>17</td>\n",
       "      <td>17</td>\n",
       "      <td>18</td>\n",
       "    </tr>\n",
       "    <tr>\n",
       "      <th>14</th>\n",
       "      <td>Sweden</td>\n",
       "      <td>5</td>\n",
       "      <td>17</td>\n",
       "      <td>19</td>\n",
       "      <td>47.2%</td>\n",
       "      <td>13.8%</td>\n",
       "      <td>39</td>\n",
       "      <td>3</td>\n",
       "      <td>0</td>\n",
       "      <td>0</td>\n",
       "      <td>...</td>\n",
       "      <td>8</td>\n",
       "      <td>61.6%</td>\n",
       "      <td>35</td>\n",
       "      <td>51</td>\n",
       "      <td>7</td>\n",
       "      <td>7</td>\n",
       "      <td>0</td>\n",
       "      <td>9</td>\n",
       "      <td>9</td>\n",
       "      <td>18</td>\n",
       "    </tr>\n",
       "    <tr>\n",
       "      <th>15</th>\n",
       "      <td>Ukraine</td>\n",
       "      <td>2</td>\n",
       "      <td>7</td>\n",
       "      <td>26</td>\n",
       "      <td>21.2%</td>\n",
       "      <td>6.0%</td>\n",
       "      <td>38</td>\n",
       "      <td>0</td>\n",
       "      <td>0</td>\n",
       "      <td>0</td>\n",
       "      <td>...</td>\n",
       "      <td>13</td>\n",
       "      <td>76.5%</td>\n",
       "      <td>48</td>\n",
       "      <td>31</td>\n",
       "      <td>4</td>\n",
       "      <td>5</td>\n",
       "      <td>0</td>\n",
       "      <td>9</td>\n",
       "      <td>9</td>\n",
       "      <td>18</td>\n",
       "    </tr>\n",
       "  </tbody>\n",
       "</table>\n",
       "<p>5 rows × 35 columns</p>\n",
       "</div>"
      ],
      "text/plain": [
       "                   Team  Goals  Shots on target  Shots off target  \\\n",
       "11  Republic of Ireland      1                7                12   \n",
       "12               Russia      5                9                31   \n",
       "13                Spain     12               42                33   \n",
       "14               Sweden      5               17                19   \n",
       "15              Ukraine      2                7                26   \n",
       "\n",
       "   Shooting Accuracy % Goals-to-shots  Total shots (inc. Blocked)  \\\n",
       "11             36.8%             5.2%                          28   \n",
       "12             22.5%            12.5%                          59   \n",
       "13             55.9%            16.0%                         100   \n",
       "14             47.2%            13.8%                          39   \n",
       "15             21.2%             6.0%                          38   \n",
       "\n",
       "    Hit Woodwork  Penalty goals  Penalties not scored  ...  Saves made  \\\n",
       "11             0              0                     0  ...          17   \n",
       "12             2              0                     0  ...          10   \n",
       "13             0              1                     0  ...          15   \n",
       "14             3              0                     0  ...           8   \n",
       "15             0              0                     0  ...          13   \n",
       "\n",
       "    Saves-to-shots ratio  Fouls Won Fouls Conceded  Offsides  Yellow Cards  \\\n",
       "11                 65.4%         43             51        11             6   \n",
       "12                 77.0%         34             43         4             6   \n",
       "13                 93.8%        102             83        19            11   \n",
       "14                 61.6%         35             51         7             7   \n",
       "15                 76.5%         48             31         4             5   \n",
       "\n",
       "    Red Cards  Subs on  Subs off  Players Used  \n",
       "11          1       10        10            17  \n",
       "12          0        7         7            16  \n",
       "13          0       17        17            18  \n",
       "14          0        9         9            18  \n",
       "15          0        9         9            18  \n",
       "\n",
       "[5 rows x 35 columns]"
      ]
     },
     "execution_count": 18,
     "metadata": {},
     "output_type": "execute_result"
    }
   ],
   "source": [
    "euro12.tail()"
   ]
  },
  {
   "cell_type": "code",
   "execution_count": 19,
   "id": "876e47a0-f775-4488-ac3d-c964f9647ac2",
   "metadata": {},
   "outputs": [
    {
     "data": {
      "text/plain": [
       "(16, 35)"
      ]
     },
     "execution_count": 19,
     "metadata": {},
     "output_type": "execute_result"
    }
   ],
   "source": [
    "euro12.shape"
   ]
  },
  {
   "cell_type": "code",
   "execution_count": 20,
   "id": "bb74b28d",
   "metadata": {},
   "outputs": [
    {
     "data": {
      "text/plain": [
       "0      4\n",
       "1      4\n",
       "2      4\n",
       "3      5\n",
       "4      3\n",
       "5     10\n",
       "6      5\n",
       "7      6\n",
       "8      2\n",
       "9      2\n",
       "10     6\n",
       "11     1\n",
       "12     5\n",
       "13    12\n",
       "14     5\n",
       "15     2\n",
       "Name: Goals, dtype: int64"
      ]
     },
     "execution_count": 20,
     "metadata": {},
     "output_type": "execute_result"
    }
   ],
   "source": [
    "euro12['Goals']"
   ]
  },
  {
   "cell_type": "code",
   "execution_count": 21,
   "id": "cb4b2b6b",
   "metadata": {},
   "outputs": [
    {
     "data": {
      "text/plain": [
       "(16,)"
      ]
     },
     "execution_count": 21,
     "metadata": {},
     "output_type": "execute_result"
    }
   ],
   "source": [
    "euro12['Team'].shape # get total teams in the df"
   ]
  },
  {
   "cell_type": "code",
   "execution_count": 22,
   "id": "b8e0f110-59c8-4885-a2d5-fe088172146a",
   "metadata": {},
   "outputs": [
    {
     "data": {
      "text/plain": [
       "Team\n",
       "Croatia                1\n",
       "Czech Republic         1\n",
       "Denmark                1\n",
       "England                1\n",
       "France                 1\n",
       "Germany                1\n",
       "Greece                 1\n",
       "Italy                  1\n",
       "Netherlands            1\n",
       "Poland                 1\n",
       "Portugal               1\n",
       "Republic of Ireland    1\n",
       "Russia                 1\n",
       "Spain                  1\n",
       "Sweden                 1\n",
       "Ukraine                1\n",
       "Name: count, dtype: int64"
      ]
     },
     "execution_count": 22,
     "metadata": {},
     "output_type": "execute_result"
    }
   ],
   "source": [
    "euro12['Team'].value_counts()"
   ]
  },
  {
   "cell_type": "code",
   "execution_count": 24,
   "id": "ac8ed732-6eb3-4319-8dbe-f0927e4fb25e",
   "metadata": {},
   "outputs": [
    {
     "data": {
      "text/plain": [
       "(16, 35)"
      ]
     },
     "execution_count": 24,
     "metadata": {},
     "output_type": "execute_result"
    }
   ],
   "source": [
    "euro12.shape # total columns in the dataframe are 35"
   ]
  },
  {
   "cell_type": "code",
   "execution_count": 25,
   "id": "6c029874",
   "metadata": {},
   "outputs": [
    {
     "name": "stdout",
     "output_type": "stream",
     "text": [
      "<class 'pandas.core.frame.DataFrame'>\n",
      "RangeIndex: 16 entries, 0 to 15\n",
      "Data columns (total 35 columns):\n",
      " #   Column                      Non-Null Count  Dtype  \n",
      "---  ------                      --------------  -----  \n",
      " 0   Team                        16 non-null     object \n",
      " 1   Goals                       16 non-null     int64  \n",
      " 2   Shots on target             16 non-null     int64  \n",
      " 3   Shots off target            16 non-null     int64  \n",
      " 4   Shooting Accuracy           16 non-null     object \n",
      " 5   % Goals-to-shots            16 non-null     object \n",
      " 6   Total shots (inc. Blocked)  16 non-null     int64  \n",
      " 7   Hit Woodwork                16 non-null     int64  \n",
      " 8   Penalty goals               16 non-null     int64  \n",
      " 9   Penalties not scored        16 non-null     int64  \n",
      " 10  Headed goals                16 non-null     int64  \n",
      " 11  Passes                      16 non-null     int64  \n",
      " 12  Passes completed            16 non-null     int64  \n",
      " 13  Passing Accuracy            16 non-null     object \n",
      " 14  Touches                     16 non-null     int64  \n",
      " 15  Crosses                     16 non-null     int64  \n",
      " 16  Dribbles                    16 non-null     int64  \n",
      " 17  Corners Taken               16 non-null     int64  \n",
      " 18  Tackles                     16 non-null     int64  \n",
      " 19  Clearances                  16 non-null     int64  \n",
      " 20  Interceptions               16 non-null     int64  \n",
      " 21  Clearances off line         15 non-null     float64\n",
      " 22  Clean Sheets                16 non-null     int64  \n",
      " 23  Blocks                      16 non-null     int64  \n",
      " 24  Goals conceded              16 non-null     int64  \n",
      " 25  Saves made                  16 non-null     int64  \n",
      " 26  Saves-to-shots ratio        16 non-null     object \n",
      " 27  Fouls Won                   16 non-null     int64  \n",
      " 28  Fouls Conceded              16 non-null     int64  \n",
      " 29  Offsides                    16 non-null     int64  \n",
      " 30  Yellow Cards                16 non-null     int64  \n",
      " 31  Red Cards                   16 non-null     int64  \n",
      " 32  Subs on                     16 non-null     int64  \n",
      " 33  Subs off                    16 non-null     int64  \n",
      " 34  Players Used                16 non-null     int64  \n",
      "dtypes: float64(1), int64(29), object(5)\n",
      "memory usage: 4.5+ KB\n"
     ]
    }
   ],
   "source": [
    "# or \n",
    "euro12.info()"
   ]
  },
  {
   "cell_type": "code",
   "execution_count": null,
   "id": "e6b383ff-6039-4f3c-9b56-8d75a7cefcd7",
   "metadata": {},
   "outputs": [],
   "source": [
    "# To access one column of data frame, we use the subscript operator ['col1']\n",
    "# To access multiple columns of the data frame, we use a list of columns in subscript operator df[['col1', 'col2', 'col3']]"
   ]
  },
  {
   "cell_type": "code",
   "execution_count": 40,
   "id": "2bc0c093",
   "metadata": {},
   "outputs": [
    {
     "data": {
      "text/html": [
       "<div>\n",
       "<style scoped>\n",
       "    .dataframe tbody tr th:only-of-type {\n",
       "        vertical-align: middle;\n",
       "    }\n",
       "\n",
       "    .dataframe tbody tr th {\n",
       "        vertical-align: top;\n",
       "    }\n",
       "\n",
       "    .dataframe thead th {\n",
       "        text-align: right;\n",
       "    }\n",
       "</style>\n",
       "<table border=\"1\" class=\"dataframe\">\n",
       "  <thead>\n",
       "    <tr style=\"text-align: right;\">\n",
       "      <th></th>\n",
       "      <th>Team</th>\n",
       "      <th>Yellow Cards</th>\n",
       "      <th>Red Cards</th>\n",
       "    </tr>\n",
       "  </thead>\n",
       "  <tbody>\n",
       "    <tr>\n",
       "      <th>0</th>\n",
       "      <td>Croatia</td>\n",
       "      <td>9</td>\n",
       "      <td>0</td>\n",
       "    </tr>\n",
       "    <tr>\n",
       "      <th>1</th>\n",
       "      <td>Czech Republic</td>\n",
       "      <td>7</td>\n",
       "      <td>0</td>\n",
       "    </tr>\n",
       "    <tr>\n",
       "      <th>2</th>\n",
       "      <td>Denmark</td>\n",
       "      <td>4</td>\n",
       "      <td>0</td>\n",
       "    </tr>\n",
       "    <tr>\n",
       "      <th>3</th>\n",
       "      <td>England</td>\n",
       "      <td>5</td>\n",
       "      <td>0</td>\n",
       "    </tr>\n",
       "    <tr>\n",
       "      <th>4</th>\n",
       "      <td>France</td>\n",
       "      <td>6</td>\n",
       "      <td>0</td>\n",
       "    </tr>\n",
       "    <tr>\n",
       "      <th>5</th>\n",
       "      <td>Germany</td>\n",
       "      <td>4</td>\n",
       "      <td>0</td>\n",
       "    </tr>\n",
       "    <tr>\n",
       "      <th>6</th>\n",
       "      <td>Greece</td>\n",
       "      <td>9</td>\n",
       "      <td>1</td>\n",
       "    </tr>\n",
       "    <tr>\n",
       "      <th>7</th>\n",
       "      <td>Italy</td>\n",
       "      <td>16</td>\n",
       "      <td>0</td>\n",
       "    </tr>\n",
       "    <tr>\n",
       "      <th>8</th>\n",
       "      <td>Netherlands</td>\n",
       "      <td>5</td>\n",
       "      <td>0</td>\n",
       "    </tr>\n",
       "    <tr>\n",
       "      <th>9</th>\n",
       "      <td>Poland</td>\n",
       "      <td>7</td>\n",
       "      <td>1</td>\n",
       "    </tr>\n",
       "    <tr>\n",
       "      <th>10</th>\n",
       "      <td>Portugal</td>\n",
       "      <td>12</td>\n",
       "      <td>0</td>\n",
       "    </tr>\n",
       "    <tr>\n",
       "      <th>11</th>\n",
       "      <td>Republic of Ireland</td>\n",
       "      <td>6</td>\n",
       "      <td>1</td>\n",
       "    </tr>\n",
       "    <tr>\n",
       "      <th>12</th>\n",
       "      <td>Russia</td>\n",
       "      <td>6</td>\n",
       "      <td>0</td>\n",
       "    </tr>\n",
       "    <tr>\n",
       "      <th>13</th>\n",
       "      <td>Spain</td>\n",
       "      <td>11</td>\n",
       "      <td>0</td>\n",
       "    </tr>\n",
       "    <tr>\n",
       "      <th>14</th>\n",
       "      <td>Sweden</td>\n",
       "      <td>7</td>\n",
       "      <td>0</td>\n",
       "    </tr>\n",
       "    <tr>\n",
       "      <th>15</th>\n",
       "      <td>Ukraine</td>\n",
       "      <td>5</td>\n",
       "      <td>0</td>\n",
       "    </tr>\n",
       "  </tbody>\n",
       "</table>\n",
       "</div>"
      ],
      "text/plain": [
       "                   Team  Yellow Cards  Red Cards\n",
       "0               Croatia             9          0\n",
       "1        Czech Republic             7          0\n",
       "2               Denmark             4          0\n",
       "3               England             5          0\n",
       "4                France             6          0\n",
       "5               Germany             4          0\n",
       "6                Greece             9          1\n",
       "7                 Italy            16          0\n",
       "8           Netherlands             5          0\n",
       "9                Poland             7          1\n",
       "10             Portugal            12          0\n",
       "11  Republic of Ireland             6          1\n",
       "12               Russia             6          0\n",
       "13                Spain            11          0\n",
       "14               Sweden             7          0\n",
       "15              Ukraine             5          0"
      ]
     },
     "execution_count": 40,
     "metadata": {},
     "output_type": "execute_result"
    }
   ],
   "source": [
    "discipline = euro12[['Team','Yellow Cards','Red Cards']]\n",
    "discipline"
   ]
  },
  {
   "cell_type": "markdown",
   "id": "00748df7-9e0e-49f2-a828-2fcfb15fc05e",
   "metadata": {},
   "source": [
    "### Sort Method in Dataframe"
   ]
  },
  {
   "cell_type": "markdown",
   "id": "0401e4cb-549e-420f-ac9e-49214b657a22",
   "metadata": {},
   "source": [
    "#### Sorting dataframes using `df.sort_values()`\n",
    "\n",
    ">Pandas data frame has two useful functions. **`df.sort_values()`** to sort by values of one or more columns and **`df.sort_index()`** to sort by the index. Each of these functions come with numerous options, like sorting in specific order (ascending or descending), sorting in place, sorting with missing values, sorting by specific algorithm etc.\n",
    "- The `df.sort_values()` function sort by the values along either axis.\n",
    "```\n",
    "df.sort_values(by,axis=0,ascending=True,inplace=False,kind='quicksort',na_position='last',ignore_index=False)\n",
    "```\n",
    "Where,\n",
    "-  `by`: str or list of str to sort\n",
    "-  `axis`: If `axis` is 0 or 'index' then 'by' may contain index levels and/or column labels. If `axis` is 1 or 'columns' then 'by' may contain column levels and/or index labels.\n",
    "- `ascending`: if True then ascending and if False then descending\n",
    "- `inplace`:  If True, perform operation in-place.\n",
    "- `kind`: {'quicksort', 'mergesort', 'heapsort', 'stable'}, default 'quicksort'. This option is only applied when sorting on a single column or label.\n",
    "- `na_position`: If first then puts NaNs at the beginning. Default is last\n",
    "- `ignore_index`: If True, the resulting axis will be labeled 0, 1, …, n - 1. Default False"
   ]
  },
  {
   "cell_type": "code",
   "execution_count": 41,
   "id": "22664108-869f-4a91-84dd-2dbcfe1b61e1",
   "metadata": {},
   "outputs": [
    {
     "data": {
      "text/html": [
       "<div>\n",
       "<style scoped>\n",
       "    .dataframe tbody tr th:only-of-type {\n",
       "        vertical-align: middle;\n",
       "    }\n",
       "\n",
       "    .dataframe tbody tr th {\n",
       "        vertical-align: top;\n",
       "    }\n",
       "\n",
       "    .dataframe thead th {\n",
       "        text-align: right;\n",
       "    }\n",
       "</style>\n",
       "<table border=\"1\" class=\"dataframe\">\n",
       "  <thead>\n",
       "    <tr style=\"text-align: right;\">\n",
       "      <th></th>\n",
       "      <th>Team</th>\n",
       "      <th>Yellow Cards</th>\n",
       "      <th>Red Cards</th>\n",
       "    </tr>\n",
       "  </thead>\n",
       "  <tbody>\n",
       "    <tr>\n",
       "      <th>0</th>\n",
       "      <td>Croatia</td>\n",
       "      <td>9</td>\n",
       "      <td>0</td>\n",
       "    </tr>\n",
       "    <tr>\n",
       "      <th>1</th>\n",
       "      <td>Czech Republic</td>\n",
       "      <td>7</td>\n",
       "      <td>0</td>\n",
       "    </tr>\n",
       "    <tr>\n",
       "      <th>2</th>\n",
       "      <td>Denmark</td>\n",
       "      <td>4</td>\n",
       "      <td>0</td>\n",
       "    </tr>\n",
       "    <tr>\n",
       "      <th>3</th>\n",
       "      <td>England</td>\n",
       "      <td>5</td>\n",
       "      <td>0</td>\n",
       "    </tr>\n",
       "    <tr>\n",
       "      <th>4</th>\n",
       "      <td>France</td>\n",
       "      <td>6</td>\n",
       "      <td>0</td>\n",
       "    </tr>\n",
       "    <tr>\n",
       "      <th>5</th>\n",
       "      <td>Germany</td>\n",
       "      <td>4</td>\n",
       "      <td>0</td>\n",
       "    </tr>\n",
       "    <tr>\n",
       "      <th>7</th>\n",
       "      <td>Italy</td>\n",
       "      <td>16</td>\n",
       "      <td>0</td>\n",
       "    </tr>\n",
       "    <tr>\n",
       "      <th>8</th>\n",
       "      <td>Netherlands</td>\n",
       "      <td>5</td>\n",
       "      <td>0</td>\n",
       "    </tr>\n",
       "    <tr>\n",
       "      <th>10</th>\n",
       "      <td>Portugal</td>\n",
       "      <td>12</td>\n",
       "      <td>0</td>\n",
       "    </tr>\n",
       "    <tr>\n",
       "      <th>12</th>\n",
       "      <td>Russia</td>\n",
       "      <td>6</td>\n",
       "      <td>0</td>\n",
       "    </tr>\n",
       "    <tr>\n",
       "      <th>13</th>\n",
       "      <td>Spain</td>\n",
       "      <td>11</td>\n",
       "      <td>0</td>\n",
       "    </tr>\n",
       "    <tr>\n",
       "      <th>14</th>\n",
       "      <td>Sweden</td>\n",
       "      <td>7</td>\n",
       "      <td>0</td>\n",
       "    </tr>\n",
       "    <tr>\n",
       "      <th>15</th>\n",
       "      <td>Ukraine</td>\n",
       "      <td>5</td>\n",
       "      <td>0</td>\n",
       "    </tr>\n",
       "    <tr>\n",
       "      <th>6</th>\n",
       "      <td>Greece</td>\n",
       "      <td>9</td>\n",
       "      <td>1</td>\n",
       "    </tr>\n",
       "    <tr>\n",
       "      <th>9</th>\n",
       "      <td>Poland</td>\n",
       "      <td>7</td>\n",
       "      <td>1</td>\n",
       "    </tr>\n",
       "    <tr>\n",
       "      <th>11</th>\n",
       "      <td>Republic of Ireland</td>\n",
       "      <td>6</td>\n",
       "      <td>1</td>\n",
       "    </tr>\n",
       "  </tbody>\n",
       "</table>\n",
       "</div>"
      ],
      "text/plain": [
       "                   Team  Yellow Cards  Red Cards\n",
       "0               Croatia             9          0\n",
       "1        Czech Republic             7          0\n",
       "2               Denmark             4          0\n",
       "3               England             5          0\n",
       "4                France             6          0\n",
       "5               Germany             4          0\n",
       "7                 Italy            16          0\n",
       "8           Netherlands             5          0\n",
       "10             Portugal            12          0\n",
       "12               Russia             6          0\n",
       "13                Spain            11          0\n",
       "14               Sweden             7          0\n",
       "15              Ukraine             5          0\n",
       "6                Greece             9          1\n",
       "9                Poland             7          1\n",
       "11  Republic of Ireland             6          1"
      ]
     },
     "execution_count": 41,
     "metadata": {},
     "output_type": "execute_result"
    }
   ],
   "source": [
    "d1 = discipline.sort_values('Red Cards') # firstly sort by Red Cards\n",
    "d1"
   ]
  },
  {
   "cell_type": "code",
   "execution_count": 42,
   "id": "2a5ed963-bd2e-43fd-906e-b7b679f4c03d",
   "metadata": {},
   "outputs": [
    {
     "data": {
      "text/html": [
       "<div>\n",
       "<style scoped>\n",
       "    .dataframe tbody tr th:only-of-type {\n",
       "        vertical-align: middle;\n",
       "    }\n",
       "\n",
       "    .dataframe tbody tr th {\n",
       "        vertical-align: top;\n",
       "    }\n",
       "\n",
       "    .dataframe thead th {\n",
       "        text-align: right;\n",
       "    }\n",
       "</style>\n",
       "<table border=\"1\" class=\"dataframe\">\n",
       "  <thead>\n",
       "    <tr style=\"text-align: right;\">\n",
       "      <th></th>\n",
       "      <th>Team</th>\n",
       "      <th>Yellow Cards</th>\n",
       "      <th>Red Cards</th>\n",
       "    </tr>\n",
       "  </thead>\n",
       "  <tbody>\n",
       "    <tr>\n",
       "      <th>2</th>\n",
       "      <td>Denmark</td>\n",
       "      <td>4</td>\n",
       "      <td>0</td>\n",
       "    </tr>\n",
       "    <tr>\n",
       "      <th>5</th>\n",
       "      <td>Germany</td>\n",
       "      <td>4</td>\n",
       "      <td>0</td>\n",
       "    </tr>\n",
       "    <tr>\n",
       "      <th>3</th>\n",
       "      <td>England</td>\n",
       "      <td>5</td>\n",
       "      <td>0</td>\n",
       "    </tr>\n",
       "    <tr>\n",
       "      <th>8</th>\n",
       "      <td>Netherlands</td>\n",
       "      <td>5</td>\n",
       "      <td>0</td>\n",
       "    </tr>\n",
       "    <tr>\n",
       "      <th>15</th>\n",
       "      <td>Ukraine</td>\n",
       "      <td>5</td>\n",
       "      <td>0</td>\n",
       "    </tr>\n",
       "    <tr>\n",
       "      <th>4</th>\n",
       "      <td>France</td>\n",
       "      <td>6</td>\n",
       "      <td>0</td>\n",
       "    </tr>\n",
       "    <tr>\n",
       "      <th>12</th>\n",
       "      <td>Russia</td>\n",
       "      <td>6</td>\n",
       "      <td>0</td>\n",
       "    </tr>\n",
       "    <tr>\n",
       "      <th>11</th>\n",
       "      <td>Republic of Ireland</td>\n",
       "      <td>6</td>\n",
       "      <td>1</td>\n",
       "    </tr>\n",
       "    <tr>\n",
       "      <th>1</th>\n",
       "      <td>Czech Republic</td>\n",
       "      <td>7</td>\n",
       "      <td>0</td>\n",
       "    </tr>\n",
       "    <tr>\n",
       "      <th>14</th>\n",
       "      <td>Sweden</td>\n",
       "      <td>7</td>\n",
       "      <td>0</td>\n",
       "    </tr>\n",
       "    <tr>\n",
       "      <th>9</th>\n",
       "      <td>Poland</td>\n",
       "      <td>7</td>\n",
       "      <td>1</td>\n",
       "    </tr>\n",
       "    <tr>\n",
       "      <th>0</th>\n",
       "      <td>Croatia</td>\n",
       "      <td>9</td>\n",
       "      <td>0</td>\n",
       "    </tr>\n",
       "    <tr>\n",
       "      <th>6</th>\n",
       "      <td>Greece</td>\n",
       "      <td>9</td>\n",
       "      <td>1</td>\n",
       "    </tr>\n",
       "    <tr>\n",
       "      <th>13</th>\n",
       "      <td>Spain</td>\n",
       "      <td>11</td>\n",
       "      <td>0</td>\n",
       "    </tr>\n",
       "    <tr>\n",
       "      <th>10</th>\n",
       "      <td>Portugal</td>\n",
       "      <td>12</td>\n",
       "      <td>0</td>\n",
       "    </tr>\n",
       "    <tr>\n",
       "      <th>7</th>\n",
       "      <td>Italy</td>\n",
       "      <td>16</td>\n",
       "      <td>0</td>\n",
       "    </tr>\n",
       "  </tbody>\n",
       "</table>\n",
       "</div>"
      ],
      "text/plain": [
       "                   Team  Yellow Cards  Red Cards\n",
       "2               Denmark             4          0\n",
       "5               Germany             4          0\n",
       "3               England             5          0\n",
       "8           Netherlands             5          0\n",
       "15              Ukraine             5          0\n",
       "4                France             6          0\n",
       "12               Russia             6          0\n",
       "11  Republic of Ireland             6          1\n",
       "1        Czech Republic             7          0\n",
       "14               Sweden             7          0\n",
       "9                Poland             7          1\n",
       "0               Croatia             9          0\n",
       "6                Greece             9          1\n",
       "13                Spain            11          0\n",
       "10             Portugal            12          0\n",
       "7                 Italy            16          0"
      ]
     },
     "execution_count": 42,
     "metadata": {},
     "output_type": "execute_result"
    }
   ],
   "source": [
    "d2 = d1.sort_values('Yellow Cards')\n",
    "d2"
   ]
  },
  {
   "cell_type": "code",
   "execution_count": 34,
   "id": "3361eb22",
   "metadata": {},
   "outputs": [
    {
     "name": "stderr",
     "output_type": "stream",
     "text": [
      "/var/folders/qb/lf_2q09x7wj115gvfnkv6tkm0000gn/T/ipykernel_10954/2009024054.py:2: SettingWithCopyWarning: \n",
      "A value is trying to be set on a copy of a slice from a DataFrame\n",
      "\n",
      "See the caveats in the documentation: https://pandas.pydata.org/pandas-docs/stable/user_guide/indexing.html#returning-a-view-versus-a-copy\n",
      "  discipline.sort_values(by =['Red Cards','Yellow Cards'], inplace=True)\n"
     ]
    }
   ],
   "source": [
    "#  Or\n",
    "discipline.sort_values(by =['Red Cards','Yellow Cards'], inplace=True)"
   ]
  },
  {
   "cell_type": "code",
   "execution_count": 35,
   "id": "5634972c-7d85-4544-b5f0-ffeb713af4c6",
   "metadata": {},
   "outputs": [
    {
     "data": {
      "text/html": [
       "<div>\n",
       "<style scoped>\n",
       "    .dataframe tbody tr th:only-of-type {\n",
       "        vertical-align: middle;\n",
       "    }\n",
       "\n",
       "    .dataframe tbody tr th {\n",
       "        vertical-align: top;\n",
       "    }\n",
       "\n",
       "    .dataframe thead th {\n",
       "        text-align: right;\n",
       "    }\n",
       "</style>\n",
       "<table border=\"1\" class=\"dataframe\">\n",
       "  <thead>\n",
       "    <tr style=\"text-align: right;\">\n",
       "      <th></th>\n",
       "      <th>Team</th>\n",
       "      <th>Yellow Cards</th>\n",
       "      <th>Red Cards</th>\n",
       "    </tr>\n",
       "  </thead>\n",
       "  <tbody>\n",
       "    <tr>\n",
       "      <th>2</th>\n",
       "      <td>Denmark</td>\n",
       "      <td>4</td>\n",
       "      <td>0</td>\n",
       "    </tr>\n",
       "    <tr>\n",
       "      <th>5</th>\n",
       "      <td>Germany</td>\n",
       "      <td>4</td>\n",
       "      <td>0</td>\n",
       "    </tr>\n",
       "    <tr>\n",
       "      <th>3</th>\n",
       "      <td>England</td>\n",
       "      <td>5</td>\n",
       "      <td>0</td>\n",
       "    </tr>\n",
       "    <tr>\n",
       "      <th>8</th>\n",
       "      <td>Netherlands</td>\n",
       "      <td>5</td>\n",
       "      <td>0</td>\n",
       "    </tr>\n",
       "    <tr>\n",
       "      <th>15</th>\n",
       "      <td>Ukraine</td>\n",
       "      <td>5</td>\n",
       "      <td>0</td>\n",
       "    </tr>\n",
       "    <tr>\n",
       "      <th>4</th>\n",
       "      <td>France</td>\n",
       "      <td>6</td>\n",
       "      <td>0</td>\n",
       "    </tr>\n",
       "    <tr>\n",
       "      <th>12</th>\n",
       "      <td>Russia</td>\n",
       "      <td>6</td>\n",
       "      <td>0</td>\n",
       "    </tr>\n",
       "    <tr>\n",
       "      <th>1</th>\n",
       "      <td>Czech Republic</td>\n",
       "      <td>7</td>\n",
       "      <td>0</td>\n",
       "    </tr>\n",
       "    <tr>\n",
       "      <th>14</th>\n",
       "      <td>Sweden</td>\n",
       "      <td>7</td>\n",
       "      <td>0</td>\n",
       "    </tr>\n",
       "    <tr>\n",
       "      <th>0</th>\n",
       "      <td>Croatia</td>\n",
       "      <td>9</td>\n",
       "      <td>0</td>\n",
       "    </tr>\n",
       "    <tr>\n",
       "      <th>13</th>\n",
       "      <td>Spain</td>\n",
       "      <td>11</td>\n",
       "      <td>0</td>\n",
       "    </tr>\n",
       "    <tr>\n",
       "      <th>10</th>\n",
       "      <td>Portugal</td>\n",
       "      <td>12</td>\n",
       "      <td>0</td>\n",
       "    </tr>\n",
       "    <tr>\n",
       "      <th>7</th>\n",
       "      <td>Italy</td>\n",
       "      <td>16</td>\n",
       "      <td>0</td>\n",
       "    </tr>\n",
       "    <tr>\n",
       "      <th>11</th>\n",
       "      <td>Republic of Ireland</td>\n",
       "      <td>6</td>\n",
       "      <td>1</td>\n",
       "    </tr>\n",
       "    <tr>\n",
       "      <th>9</th>\n",
       "      <td>Poland</td>\n",
       "      <td>7</td>\n",
       "      <td>1</td>\n",
       "    </tr>\n",
       "    <tr>\n",
       "      <th>6</th>\n",
       "      <td>Greece</td>\n",
       "      <td>9</td>\n",
       "      <td>1</td>\n",
       "    </tr>\n",
       "  </tbody>\n",
       "</table>\n",
       "</div>"
      ],
      "text/plain": [
       "                   Team  Yellow Cards  Red Cards\n",
       "2               Denmark             4          0\n",
       "5               Germany             4          0\n",
       "3               England             5          0\n",
       "8           Netherlands             5          0\n",
       "15              Ukraine             5          0\n",
       "4                France             6          0\n",
       "12               Russia             6          0\n",
       "1        Czech Republic             7          0\n",
       "14               Sweden             7          0\n",
       "0               Croatia             9          0\n",
       "13                Spain            11          0\n",
       "10             Portugal            12          0\n",
       "7                 Italy            16          0\n",
       "11  Republic of Ireland             6          1\n",
       "9                Poland             7          1\n",
       "6                Greece             9          1"
      ]
     },
     "execution_count": 35,
     "metadata": {},
     "output_type": "execute_result"
    }
   ],
   "source": [
    "discipline"
   ]
  },
  {
   "cell_type": "markdown",
   "id": "7649be94-6749-4a79-b38a-15f73a76cedd",
   "metadata": {},
   "source": [
    "#### Sorting dataframes using `df.sort_index()`\n",
    "> We have observed while using `df.sort_values()`, by default the sorting is performed in the vertical direction. If you want to sort in the row direction, we can set the`axis` argument of  `df.sort_values()` method to 1, which is by default set to zero. However, it may cause problems when a number and a string are mixed\n",
    "\n",
    "- So to sort a dataframe in the horizontal direction, we normally use **`df.sort_index()`** method.\n",
    "```\n",
    "df.sort_index(axis=0,ascending=True,inplace=False,kind='quicksort',na_position='last',ignore_index=False)\n",
    "```\n",
    "Where,\n",
    "-  `axis`: The axis along which to sort. The value 0 identifies the rows, and 1 identifies the columns. (default is 0)\n",
    "- `ascending`: If True then ascending and If False then descending\n",
    "- `inplace`:  If True, perform operation in-place.\n",
    "- `kind`: {'quicksort', 'mergesort', 'heapsort', 'stable'}, default 'quicksort'. This option is only applied when sorting on a single column or label.\n",
    "- `na_position`: If first then puts NaNs at the beginning. Default is last\n",
    "- `ignore_index`: If True, the resulting axis will be labeled 0, 1, …, n - 1. Default False"
   ]
  },
  {
   "cell_type": "code",
   "execution_count": 49,
   "id": "ef3b977c-5d2c-4483-ae08-710522db181a",
   "metadata": {},
   "outputs": [
    {
     "data": {
      "text/html": [
       "<div>\n",
       "<style scoped>\n",
       "    .dataframe tbody tr th:only-of-type {\n",
       "        vertical-align: middle;\n",
       "    }\n",
       "\n",
       "    .dataframe tbody tr th {\n",
       "        vertical-align: top;\n",
       "    }\n",
       "\n",
       "    .dataframe thead th {\n",
       "        text-align: right;\n",
       "    }\n",
       "</style>\n",
       "<table border=\"1\" class=\"dataframe\">\n",
       "  <thead>\n",
       "    <tr style=\"text-align: right;\">\n",
       "      <th></th>\n",
       "      <th>Team</th>\n",
       "      <th>Yellow Cards</th>\n",
       "      <th>Red Cards</th>\n",
       "    </tr>\n",
       "  </thead>\n",
       "  <tbody>\n",
       "    <tr>\n",
       "      <th>0</th>\n",
       "      <td>Croatia</td>\n",
       "      <td>9</td>\n",
       "      <td>0</td>\n",
       "    </tr>\n",
       "    <tr>\n",
       "      <th>1</th>\n",
       "      <td>Czech Republic</td>\n",
       "      <td>7</td>\n",
       "      <td>0</td>\n",
       "    </tr>\n",
       "    <tr>\n",
       "      <th>2</th>\n",
       "      <td>Denmark</td>\n",
       "      <td>4</td>\n",
       "      <td>0</td>\n",
       "    </tr>\n",
       "    <tr>\n",
       "      <th>3</th>\n",
       "      <td>England</td>\n",
       "      <td>5</td>\n",
       "      <td>0</td>\n",
       "    </tr>\n",
       "    <tr>\n",
       "      <th>4</th>\n",
       "      <td>France</td>\n",
       "      <td>6</td>\n",
       "      <td>0</td>\n",
       "    </tr>\n",
       "    <tr>\n",
       "      <th>5</th>\n",
       "      <td>Germany</td>\n",
       "      <td>4</td>\n",
       "      <td>0</td>\n",
       "    </tr>\n",
       "    <tr>\n",
       "      <th>6</th>\n",
       "      <td>Greece</td>\n",
       "      <td>9</td>\n",
       "      <td>1</td>\n",
       "    </tr>\n",
       "    <tr>\n",
       "      <th>7</th>\n",
       "      <td>Italy</td>\n",
       "      <td>16</td>\n",
       "      <td>0</td>\n",
       "    </tr>\n",
       "    <tr>\n",
       "      <th>8</th>\n",
       "      <td>Netherlands</td>\n",
       "      <td>5</td>\n",
       "      <td>0</td>\n",
       "    </tr>\n",
       "    <tr>\n",
       "      <th>9</th>\n",
       "      <td>Poland</td>\n",
       "      <td>7</td>\n",
       "      <td>1</td>\n",
       "    </tr>\n",
       "    <tr>\n",
       "      <th>10</th>\n",
       "      <td>Portugal</td>\n",
       "      <td>12</td>\n",
       "      <td>0</td>\n",
       "    </tr>\n",
       "    <tr>\n",
       "      <th>11</th>\n",
       "      <td>Republic of Ireland</td>\n",
       "      <td>6</td>\n",
       "      <td>1</td>\n",
       "    </tr>\n",
       "    <tr>\n",
       "      <th>12</th>\n",
       "      <td>Russia</td>\n",
       "      <td>6</td>\n",
       "      <td>0</td>\n",
       "    </tr>\n",
       "    <tr>\n",
       "      <th>13</th>\n",
       "      <td>Spain</td>\n",
       "      <td>11</td>\n",
       "      <td>0</td>\n",
       "    </tr>\n",
       "    <tr>\n",
       "      <th>14</th>\n",
       "      <td>Sweden</td>\n",
       "      <td>7</td>\n",
       "      <td>0</td>\n",
       "    </tr>\n",
       "    <tr>\n",
       "      <th>15</th>\n",
       "      <td>Ukraine</td>\n",
       "      <td>5</td>\n",
       "      <td>0</td>\n",
       "    </tr>\n",
       "  </tbody>\n",
       "</table>\n",
       "</div>"
      ],
      "text/plain": [
       "                   Team  Yellow Cards  Red Cards\n",
       "0               Croatia             9          0\n",
       "1        Czech Republic             7          0\n",
       "2               Denmark             4          0\n",
       "3               England             5          0\n",
       "4                France             6          0\n",
       "5               Germany             4          0\n",
       "6                Greece             9          1\n",
       "7                 Italy            16          0\n",
       "8           Netherlands             5          0\n",
       "9                Poland             7          1\n",
       "10             Portugal            12          0\n",
       "11  Republic of Ireland             6          1\n",
       "12               Russia             6          0\n",
       "13                Spain            11          0\n",
       "14               Sweden             7          0\n",
       "15              Ukraine             5          0"
      ]
     },
     "execution_count": 49,
     "metadata": {},
     "output_type": "execute_result"
    }
   ],
   "source": [
    "discipline.sort_index(axis=0, ascending=True, ignore_index=True)"
   ]
  },
  {
   "cell_type": "code",
   "execution_count": 51,
   "id": "6699821b-dd34-4296-9d61-7bd45044c42b",
   "metadata": {},
   "outputs": [
    {
     "data": {
      "text/plain": [
       "7.4375"
      ]
     },
     "execution_count": 51,
     "metadata": {},
     "output_type": "execute_result"
    }
   ],
   "source": [
    "discipline['Yellow Cards'].mean()"
   ]
  },
  {
   "cell_type": "code",
   "execution_count": 56,
   "id": "aa5d06c1",
   "metadata": {},
   "outputs": [
    {
     "data": {
      "text/plain": [
       "7.44"
      ]
     },
     "execution_count": 56,
     "metadata": {},
     "output_type": "execute_result"
    }
   ],
   "source": [
    "round(discipline['Yellow Cards'].mean(),2)"
   ]
  },
  {
   "cell_type": "code",
   "execution_count": 57,
   "id": "672c0c52",
   "metadata": {},
   "outputs": [
    {
     "data": {
      "text/html": [
       "<div>\n",
       "<style scoped>\n",
       "    .dataframe tbody tr th:only-of-type {\n",
       "        vertical-align: middle;\n",
       "    }\n",
       "\n",
       "    .dataframe tbody tr th {\n",
       "        vertical-align: top;\n",
       "    }\n",
       "\n",
       "    .dataframe thead th {\n",
       "        text-align: right;\n",
       "    }\n",
       "</style>\n",
       "<table border=\"1\" class=\"dataframe\">\n",
       "  <thead>\n",
       "    <tr style=\"text-align: right;\">\n",
       "      <th></th>\n",
       "      <th>Team</th>\n",
       "      <th>Goals</th>\n",
       "      <th>Shots on target</th>\n",
       "      <th>Shots off target</th>\n",
       "      <th>Shooting Accuracy</th>\n",
       "      <th>% Goals-to-shots</th>\n",
       "      <th>Total shots (inc. Blocked)</th>\n",
       "      <th>Hit Woodwork</th>\n",
       "      <th>Penalty goals</th>\n",
       "      <th>Penalties not scored</th>\n",
       "      <th>...</th>\n",
       "      <th>Saves made</th>\n",
       "      <th>Saves-to-shots ratio</th>\n",
       "      <th>Fouls Won</th>\n",
       "      <th>Fouls Conceded</th>\n",
       "      <th>Offsides</th>\n",
       "      <th>Yellow Cards</th>\n",
       "      <th>Red Cards</th>\n",
       "      <th>Subs on</th>\n",
       "      <th>Subs off</th>\n",
       "      <th>Players Used</th>\n",
       "    </tr>\n",
       "  </thead>\n",
       "  <tbody>\n",
       "    <tr>\n",
       "      <th>0</th>\n",
       "      <td>Croatia</td>\n",
       "      <td>4</td>\n",
       "      <td>13</td>\n",
       "      <td>12</td>\n",
       "      <td>51.9%</td>\n",
       "      <td>16.0%</td>\n",
       "      <td>32</td>\n",
       "      <td>0</td>\n",
       "      <td>0</td>\n",
       "      <td>0</td>\n",
       "      <td>...</td>\n",
       "      <td>13</td>\n",
       "      <td>81.3%</td>\n",
       "      <td>41</td>\n",
       "      <td>62</td>\n",
       "      <td>2</td>\n",
       "      <td>9</td>\n",
       "      <td>0</td>\n",
       "      <td>9</td>\n",
       "      <td>9</td>\n",
       "      <td>16</td>\n",
       "    </tr>\n",
       "    <tr>\n",
       "      <th>1</th>\n",
       "      <td>Czech Republic</td>\n",
       "      <td>4</td>\n",
       "      <td>13</td>\n",
       "      <td>18</td>\n",
       "      <td>41.9%</td>\n",
       "      <td>12.9%</td>\n",
       "      <td>39</td>\n",
       "      <td>0</td>\n",
       "      <td>0</td>\n",
       "      <td>0</td>\n",
       "      <td>...</td>\n",
       "      <td>9</td>\n",
       "      <td>60.1%</td>\n",
       "      <td>53</td>\n",
       "      <td>73</td>\n",
       "      <td>8</td>\n",
       "      <td>7</td>\n",
       "      <td>0</td>\n",
       "      <td>11</td>\n",
       "      <td>11</td>\n",
       "      <td>19</td>\n",
       "    </tr>\n",
       "    <tr>\n",
       "      <th>2</th>\n",
       "      <td>Denmark</td>\n",
       "      <td>4</td>\n",
       "      <td>10</td>\n",
       "      <td>10</td>\n",
       "      <td>50.0%</td>\n",
       "      <td>20.0%</td>\n",
       "      <td>27</td>\n",
       "      <td>1</td>\n",
       "      <td>0</td>\n",
       "      <td>0</td>\n",
       "      <td>...</td>\n",
       "      <td>10</td>\n",
       "      <td>66.7%</td>\n",
       "      <td>25</td>\n",
       "      <td>38</td>\n",
       "      <td>8</td>\n",
       "      <td>4</td>\n",
       "      <td>0</td>\n",
       "      <td>7</td>\n",
       "      <td>7</td>\n",
       "      <td>15</td>\n",
       "    </tr>\n",
       "    <tr>\n",
       "      <th>3</th>\n",
       "      <td>England</td>\n",
       "      <td>5</td>\n",
       "      <td>11</td>\n",
       "      <td>18</td>\n",
       "      <td>50.0%</td>\n",
       "      <td>17.2%</td>\n",
       "      <td>40</td>\n",
       "      <td>0</td>\n",
       "      <td>0</td>\n",
       "      <td>0</td>\n",
       "      <td>...</td>\n",
       "      <td>22</td>\n",
       "      <td>88.1%</td>\n",
       "      <td>43</td>\n",
       "      <td>45</td>\n",
       "      <td>6</td>\n",
       "      <td>5</td>\n",
       "      <td>0</td>\n",
       "      <td>11</td>\n",
       "      <td>11</td>\n",
       "      <td>16</td>\n",
       "    </tr>\n",
       "    <tr>\n",
       "      <th>4</th>\n",
       "      <td>France</td>\n",
       "      <td>3</td>\n",
       "      <td>22</td>\n",
       "      <td>24</td>\n",
       "      <td>37.9%</td>\n",
       "      <td>6.5%</td>\n",
       "      <td>65</td>\n",
       "      <td>1</td>\n",
       "      <td>0</td>\n",
       "      <td>0</td>\n",
       "      <td>...</td>\n",
       "      <td>6</td>\n",
       "      <td>54.6%</td>\n",
       "      <td>36</td>\n",
       "      <td>51</td>\n",
       "      <td>5</td>\n",
       "      <td>6</td>\n",
       "      <td>0</td>\n",
       "      <td>11</td>\n",
       "      <td>11</td>\n",
       "      <td>19</td>\n",
       "    </tr>\n",
       "  </tbody>\n",
       "</table>\n",
       "<p>5 rows × 35 columns</p>\n",
       "</div>"
      ],
      "text/plain": [
       "             Team  Goals  Shots on target  Shots off target Shooting Accuracy  \\\n",
       "0         Croatia      4               13                12             51.9%   \n",
       "1  Czech Republic      4               13                18             41.9%   \n",
       "2         Denmark      4               10                10             50.0%   \n",
       "3         England      5               11                18             50.0%   \n",
       "4          France      3               22                24             37.9%   \n",
       "\n",
       "  % Goals-to-shots  Total shots (inc. Blocked)  Hit Woodwork  Penalty goals  \\\n",
       "0            16.0%                          32             0              0   \n",
       "1            12.9%                          39             0              0   \n",
       "2            20.0%                          27             1              0   \n",
       "3            17.2%                          40             0              0   \n",
       "4             6.5%                          65             1              0   \n",
       "\n",
       "   Penalties not scored  ...  Saves made  Saves-to-shots ratio  Fouls Won  \\\n",
       "0                     0  ...          13                 81.3%         41   \n",
       "1                     0  ...           9                 60.1%         53   \n",
       "2                     0  ...          10                 66.7%         25   \n",
       "3                     0  ...          22                 88.1%         43   \n",
       "4                     0  ...           6                 54.6%         36   \n",
       "\n",
       "  Fouls Conceded  Offsides  Yellow Cards  Red Cards  Subs on  Subs off  \\\n",
       "0             62         2             9          0        9         9   \n",
       "1             73         8             7          0       11        11   \n",
       "2             38         8             4          0        7         7   \n",
       "3             45         6             5          0       11        11   \n",
       "4             51         5             6          0       11        11   \n",
       "\n",
       "   Players Used  \n",
       "0            16  \n",
       "1            19  \n",
       "2            15  \n",
       "3            16  \n",
       "4            19  \n",
       "\n",
       "[5 rows x 35 columns]"
      ]
     },
     "execution_count": 57,
     "metadata": {},
     "output_type": "execute_result"
    }
   ],
   "source": [
    "euro12.head()"
   ]
  },
  {
   "cell_type": "markdown",
   "id": "bda5fdb9-75dd-4140-9a4c-8751b0c6b6db",
   "metadata": {},
   "source": [
    "###  Conditional Selection\n",
    "- Suppose we want to select only those rows where the Goals value is greater than 6.\n"
   ]
  },
  {
   "cell_type": "markdown",
   "id": "5c63c477-43a4-4c14-997b-139824445639",
   "metadata": {},
   "source": [
    "**First Method**"
   ]
  },
  {
   "cell_type": "code",
   "execution_count": 60,
   "id": "98c01b9f-3488-4a98-9e9a-8934e63515bf",
   "metadata": {},
   "outputs": [],
   "source": [
    "mask = euro12['Goals'] > 6"
   ]
  },
  {
   "cell_type": "code",
   "execution_count": 62,
   "id": "a6eff6b7-44ef-4116-9b8b-7a7620e2dc09",
   "metadata": {},
   "outputs": [
    {
     "data": {
      "text/plain": [
       "0     False\n",
       "1     False\n",
       "2     False\n",
       "3     False\n",
       "4     False\n",
       "5      True\n",
       "6     False\n",
       "7     False\n",
       "8     False\n",
       "9     False\n",
       "10    False\n",
       "11    False\n",
       "12    False\n",
       "13     True\n",
       "14    False\n",
       "15    False\n",
       "Name: Goals, dtype: bool"
      ]
     },
     "execution_count": 62,
     "metadata": {},
     "output_type": "execute_result"
    }
   ],
   "source": [
    "mask"
   ]
  },
  {
   "cell_type": "code",
   "execution_count": 61,
   "id": "eaf9e037-a83e-4f35-90d2-961e8e48934b",
   "metadata": {},
   "outputs": [
    {
     "data": {
      "text/html": [
       "<div>\n",
       "<style scoped>\n",
       "    .dataframe tbody tr th:only-of-type {\n",
       "        vertical-align: middle;\n",
       "    }\n",
       "\n",
       "    .dataframe tbody tr th {\n",
       "        vertical-align: top;\n",
       "    }\n",
       "\n",
       "    .dataframe thead th {\n",
       "        text-align: right;\n",
       "    }\n",
       "</style>\n",
       "<table border=\"1\" class=\"dataframe\">\n",
       "  <thead>\n",
       "    <tr style=\"text-align: right;\">\n",
       "      <th></th>\n",
       "      <th>Team</th>\n",
       "      <th>Goals</th>\n",
       "      <th>Shots on target</th>\n",
       "      <th>Shots off target</th>\n",
       "      <th>Shooting Accuracy</th>\n",
       "      <th>% Goals-to-shots</th>\n",
       "      <th>Total shots (inc. Blocked)</th>\n",
       "      <th>Hit Woodwork</th>\n",
       "      <th>Penalty goals</th>\n",
       "      <th>Penalties not scored</th>\n",
       "      <th>...</th>\n",
       "      <th>Saves made</th>\n",
       "      <th>Saves-to-shots ratio</th>\n",
       "      <th>Fouls Won</th>\n",
       "      <th>Fouls Conceded</th>\n",
       "      <th>Offsides</th>\n",
       "      <th>Yellow Cards</th>\n",
       "      <th>Red Cards</th>\n",
       "      <th>Subs on</th>\n",
       "      <th>Subs off</th>\n",
       "      <th>Players Used</th>\n",
       "    </tr>\n",
       "  </thead>\n",
       "  <tbody>\n",
       "    <tr>\n",
       "      <th>5</th>\n",
       "      <td>Germany</td>\n",
       "      <td>10</td>\n",
       "      <td>32</td>\n",
       "      <td>32</td>\n",
       "      <td>47.8%</td>\n",
       "      <td>15.6%</td>\n",
       "      <td>80</td>\n",
       "      <td>2</td>\n",
       "      <td>1</td>\n",
       "      <td>0</td>\n",
       "      <td>...</td>\n",
       "      <td>10</td>\n",
       "      <td>62.6%</td>\n",
       "      <td>63</td>\n",
       "      <td>49</td>\n",
       "      <td>12</td>\n",
       "      <td>4</td>\n",
       "      <td>0</td>\n",
       "      <td>15</td>\n",
       "      <td>15</td>\n",
       "      <td>17</td>\n",
       "    </tr>\n",
       "    <tr>\n",
       "      <th>13</th>\n",
       "      <td>Spain</td>\n",
       "      <td>12</td>\n",
       "      <td>42</td>\n",
       "      <td>33</td>\n",
       "      <td>55.9%</td>\n",
       "      <td>16.0%</td>\n",
       "      <td>100</td>\n",
       "      <td>0</td>\n",
       "      <td>1</td>\n",
       "      <td>0</td>\n",
       "      <td>...</td>\n",
       "      <td>15</td>\n",
       "      <td>93.8%</td>\n",
       "      <td>102</td>\n",
       "      <td>83</td>\n",
       "      <td>19</td>\n",
       "      <td>11</td>\n",
       "      <td>0</td>\n",
       "      <td>17</td>\n",
       "      <td>17</td>\n",
       "      <td>18</td>\n",
       "    </tr>\n",
       "  </tbody>\n",
       "</table>\n",
       "<p>2 rows × 35 columns</p>\n",
       "</div>"
      ],
      "text/plain": [
       "       Team  Goals  Shots on target  Shots off target Shooting Accuracy  \\\n",
       "5   Germany     10               32                32             47.8%   \n",
       "13    Spain     12               42                33             55.9%   \n",
       "\n",
       "   % Goals-to-shots  Total shots (inc. Blocked)  Hit Woodwork  Penalty goals  \\\n",
       "5             15.6%                          80             2              1   \n",
       "13            16.0%                         100             0              1   \n",
       "\n",
       "    Penalties not scored  ...  Saves made  Saves-to-shots ratio  Fouls Won  \\\n",
       "5                      0  ...          10                 62.6%         63   \n",
       "13                     0  ...          15                 93.8%        102   \n",
       "\n",
       "   Fouls Conceded  Offsides  Yellow Cards  Red Cards  Subs on  Subs off  \\\n",
       "5              49        12             4          0       15        15   \n",
       "13             83        19            11          0       17        17   \n",
       "\n",
       "    Players Used  \n",
       "5             17  \n",
       "13            18  \n",
       "\n",
       "[2 rows x 35 columns]"
      ]
     },
     "execution_count": 61,
     "metadata": {},
     "output_type": "execute_result"
    }
   ],
   "source": [
    "euro12[mask]"
   ]
  },
  {
   "cell_type": "markdown",
   "id": "f0096105-1916-4bba-9e18-8b579f05c480",
   "metadata": {},
   "source": [
    "**Second Method**"
   ]
  },
  {
   "cell_type": "code",
   "execution_count": 65,
   "id": "f4525432",
   "metadata": {},
   "outputs": [
    {
     "data": {
      "text/plain": [
       "0     False\n",
       "1     False\n",
       "2     False\n",
       "3     False\n",
       "4     False\n",
       "5      True\n",
       "6     False\n",
       "7     False\n",
       "8     False\n",
       "9     False\n",
       "10    False\n",
       "11    False\n",
       "12    False\n",
       "13     True\n",
       "14    False\n",
       "15    False\n",
       "Name: Goals, dtype: bool"
      ]
     },
     "execution_count": 65,
     "metadata": {},
     "output_type": "execute_result"
    }
   ],
   "source": [
    "euro12['Goals'] > 6"
   ]
  },
  {
   "cell_type": "code",
   "execution_count": 66,
   "id": "448ffefa",
   "metadata": {},
   "outputs": [
    {
     "data": {
      "text/html": [
       "<div>\n",
       "<style scoped>\n",
       "    .dataframe tbody tr th:only-of-type {\n",
       "        vertical-align: middle;\n",
       "    }\n",
       "\n",
       "    .dataframe tbody tr th {\n",
       "        vertical-align: top;\n",
       "    }\n",
       "\n",
       "    .dataframe thead th {\n",
       "        text-align: right;\n",
       "    }\n",
       "</style>\n",
       "<table border=\"1\" class=\"dataframe\">\n",
       "  <thead>\n",
       "    <tr style=\"text-align: right;\">\n",
       "      <th></th>\n",
       "      <th>Team</th>\n",
       "      <th>Goals</th>\n",
       "      <th>Shots on target</th>\n",
       "      <th>Shots off target</th>\n",
       "      <th>Shooting Accuracy</th>\n",
       "      <th>% Goals-to-shots</th>\n",
       "      <th>Total shots (inc. Blocked)</th>\n",
       "      <th>Hit Woodwork</th>\n",
       "      <th>Penalty goals</th>\n",
       "      <th>Penalties not scored</th>\n",
       "      <th>...</th>\n",
       "      <th>Saves made</th>\n",
       "      <th>Saves-to-shots ratio</th>\n",
       "      <th>Fouls Won</th>\n",
       "      <th>Fouls Conceded</th>\n",
       "      <th>Offsides</th>\n",
       "      <th>Yellow Cards</th>\n",
       "      <th>Red Cards</th>\n",
       "      <th>Subs on</th>\n",
       "      <th>Subs off</th>\n",
       "      <th>Players Used</th>\n",
       "    </tr>\n",
       "  </thead>\n",
       "  <tbody>\n",
       "    <tr>\n",
       "      <th>5</th>\n",
       "      <td>Germany</td>\n",
       "      <td>10</td>\n",
       "      <td>32</td>\n",
       "      <td>32</td>\n",
       "      <td>47.8%</td>\n",
       "      <td>15.6%</td>\n",
       "      <td>80</td>\n",
       "      <td>2</td>\n",
       "      <td>1</td>\n",
       "      <td>0</td>\n",
       "      <td>...</td>\n",
       "      <td>10</td>\n",
       "      <td>62.6%</td>\n",
       "      <td>63</td>\n",
       "      <td>49</td>\n",
       "      <td>12</td>\n",
       "      <td>4</td>\n",
       "      <td>0</td>\n",
       "      <td>15</td>\n",
       "      <td>15</td>\n",
       "      <td>17</td>\n",
       "    </tr>\n",
       "    <tr>\n",
       "      <th>13</th>\n",
       "      <td>Spain</td>\n",
       "      <td>12</td>\n",
       "      <td>42</td>\n",
       "      <td>33</td>\n",
       "      <td>55.9%</td>\n",
       "      <td>16.0%</td>\n",
       "      <td>100</td>\n",
       "      <td>0</td>\n",
       "      <td>1</td>\n",
       "      <td>0</td>\n",
       "      <td>...</td>\n",
       "      <td>15</td>\n",
       "      <td>93.8%</td>\n",
       "      <td>102</td>\n",
       "      <td>83</td>\n",
       "      <td>19</td>\n",
       "      <td>11</td>\n",
       "      <td>0</td>\n",
       "      <td>17</td>\n",
       "      <td>17</td>\n",
       "      <td>18</td>\n",
       "    </tr>\n",
       "  </tbody>\n",
       "</table>\n",
       "<p>2 rows × 35 columns</p>\n",
       "</div>"
      ],
      "text/plain": [
       "       Team  Goals  Shots on target  Shots off target Shooting Accuracy  \\\n",
       "5   Germany     10               32                32             47.8%   \n",
       "13    Spain     12               42                33             55.9%   \n",
       "\n",
       "   % Goals-to-shots  Total shots (inc. Blocked)  Hit Woodwork  Penalty goals  \\\n",
       "5             15.6%                          80             2              1   \n",
       "13            16.0%                         100             0              1   \n",
       "\n",
       "    Penalties not scored  ...  Saves made  Saves-to-shots ratio  Fouls Won  \\\n",
       "5                      0  ...          10                 62.6%         63   \n",
       "13                     0  ...          15                 93.8%        102   \n",
       "\n",
       "   Fouls Conceded  Offsides  Yellow Cards  Red Cards  Subs on  Subs off  \\\n",
       "5              49        12             4          0       15        15   \n",
       "13             83        19            11          0       17        17   \n",
       "\n",
       "    Players Used  \n",
       "5             17  \n",
       "13            18  \n",
       "\n",
       "[2 rows x 35 columns]"
      ]
     },
     "execution_count": 66,
     "metadata": {},
     "output_type": "execute_result"
    }
   ],
   "source": [
    "euro12[euro12['Goals'] > 6] #  euro12['Goals'] > 6 returns a series of true and false"
   ]
  },
  {
   "cell_type": "markdown",
   "id": "f1232d4d-a65b-476f-9999-6f387021c038",
   "metadata": {},
   "source": [
    "#### Get All Teams , name start with G"
   ]
  },
  {
   "cell_type": "code",
   "execution_count": 69,
   "id": "52b6e35b-fa1a-4d54-8b89-3cd167d5ec12",
   "metadata": {},
   "outputs": [
    {
     "data": {
      "text/plain": [
       "0                 CROATIA\n",
       "1          CZECH REPUBLIC\n",
       "2                 DENMARK\n",
       "3                 ENGLAND\n",
       "4                  FRANCE\n",
       "5                 GERMANY\n",
       "6                  GREECE\n",
       "7                   ITALY\n",
       "8             NETHERLANDS\n",
       "9                  POLAND\n",
       "10               PORTUGAL\n",
       "11    REPUBLIC OF IRELAND\n",
       "12                 RUSSIA\n",
       "13                  SPAIN\n",
       "14                 SWEDEN\n",
       "15                UKRAINE\n",
       "Name: Team, dtype: object"
      ]
     },
     "execution_count": 69,
     "metadata": {},
     "output_type": "execute_result"
    }
   ],
   "source": [
    "euro12['Team'].str.upper()"
   ]
  },
  {
   "cell_type": "code",
   "execution_count": 71,
   "id": "fbd564ae",
   "metadata": {},
   "outputs": [
    {
     "data": {
      "text/plain": [
       "0     False\n",
       "1     False\n",
       "2     False\n",
       "3     False\n",
       "4     False\n",
       "5      True\n",
       "6      True\n",
       "7     False\n",
       "8     False\n",
       "9     False\n",
       "10    False\n",
       "11    False\n",
       "12    False\n",
       "13    False\n",
       "14    False\n",
       "15    False\n",
       "Name: Team, dtype: bool"
      ]
     },
     "execution_count": 71,
     "metadata": {},
     "output_type": "execute_result"
    }
   ],
   "source": [
    "mask = euro12['Team'].str.startswith('G')\n",
    "mask"
   ]
  },
  {
   "cell_type": "code",
   "execution_count": 72,
   "id": "d0377bf3",
   "metadata": {},
   "outputs": [
    {
     "data": {
      "text/html": [
       "<div>\n",
       "<style scoped>\n",
       "    .dataframe tbody tr th:only-of-type {\n",
       "        vertical-align: middle;\n",
       "    }\n",
       "\n",
       "    .dataframe tbody tr th {\n",
       "        vertical-align: top;\n",
       "    }\n",
       "\n",
       "    .dataframe thead th {\n",
       "        text-align: right;\n",
       "    }\n",
       "</style>\n",
       "<table border=\"1\" class=\"dataframe\">\n",
       "  <thead>\n",
       "    <tr style=\"text-align: right;\">\n",
       "      <th></th>\n",
       "      <th>Team</th>\n",
       "      <th>Goals</th>\n",
       "      <th>Shots on target</th>\n",
       "      <th>Shots off target</th>\n",
       "      <th>Shooting Accuracy</th>\n",
       "      <th>% Goals-to-shots</th>\n",
       "      <th>Total shots (inc. Blocked)</th>\n",
       "      <th>Hit Woodwork</th>\n",
       "      <th>Penalty goals</th>\n",
       "      <th>Penalties not scored</th>\n",
       "      <th>...</th>\n",
       "      <th>Saves made</th>\n",
       "      <th>Saves-to-shots ratio</th>\n",
       "      <th>Fouls Won</th>\n",
       "      <th>Fouls Conceded</th>\n",
       "      <th>Offsides</th>\n",
       "      <th>Yellow Cards</th>\n",
       "      <th>Red Cards</th>\n",
       "      <th>Subs on</th>\n",
       "      <th>Subs off</th>\n",
       "      <th>Players Used</th>\n",
       "    </tr>\n",
       "  </thead>\n",
       "  <tbody>\n",
       "    <tr>\n",
       "      <th>5</th>\n",
       "      <td>Germany</td>\n",
       "      <td>10</td>\n",
       "      <td>32</td>\n",
       "      <td>32</td>\n",
       "      <td>47.8%</td>\n",
       "      <td>15.6%</td>\n",
       "      <td>80</td>\n",
       "      <td>2</td>\n",
       "      <td>1</td>\n",
       "      <td>0</td>\n",
       "      <td>...</td>\n",
       "      <td>10</td>\n",
       "      <td>62.6%</td>\n",
       "      <td>63</td>\n",
       "      <td>49</td>\n",
       "      <td>12</td>\n",
       "      <td>4</td>\n",
       "      <td>0</td>\n",
       "      <td>15</td>\n",
       "      <td>15</td>\n",
       "      <td>17</td>\n",
       "    </tr>\n",
       "    <tr>\n",
       "      <th>6</th>\n",
       "      <td>Greece</td>\n",
       "      <td>5</td>\n",
       "      <td>8</td>\n",
       "      <td>18</td>\n",
       "      <td>30.7%</td>\n",
       "      <td>19.2%</td>\n",
       "      <td>32</td>\n",
       "      <td>1</td>\n",
       "      <td>1</td>\n",
       "      <td>1</td>\n",
       "      <td>...</td>\n",
       "      <td>13</td>\n",
       "      <td>65.1%</td>\n",
       "      <td>67</td>\n",
       "      <td>48</td>\n",
       "      <td>12</td>\n",
       "      <td>9</td>\n",
       "      <td>1</td>\n",
       "      <td>12</td>\n",
       "      <td>12</td>\n",
       "      <td>20</td>\n",
       "    </tr>\n",
       "  </tbody>\n",
       "</table>\n",
       "<p>2 rows × 35 columns</p>\n",
       "</div>"
      ],
      "text/plain": [
       "      Team  Goals  Shots on target  Shots off target Shooting Accuracy  \\\n",
       "5  Germany     10               32                32             47.8%   \n",
       "6   Greece      5                8                18             30.7%   \n",
       "\n",
       "  % Goals-to-shots  Total shots (inc. Blocked)  Hit Woodwork  Penalty goals  \\\n",
       "5            15.6%                          80             2              1   \n",
       "6            19.2%                          32             1              1   \n",
       "\n",
       "   Penalties not scored  ...  Saves made  Saves-to-shots ratio  Fouls Won  \\\n",
       "5                     0  ...          10                 62.6%         63   \n",
       "6                     1  ...          13                 65.1%         67   \n",
       "\n",
       "  Fouls Conceded  Offsides  Yellow Cards  Red Cards  Subs on  Subs off  \\\n",
       "5             49        12             4          0       15        15   \n",
       "6             48        12             9          1       12        12   \n",
       "\n",
       "   Players Used  \n",
       "5            17  \n",
       "6            20  \n",
       "\n",
       "[2 rows x 35 columns]"
      ]
     },
     "execution_count": 72,
     "metadata": {},
     "output_type": "execute_result"
    }
   ],
   "source": [
    "euro12[mask]"
   ]
  },
  {
   "cell_type": "markdown",
   "id": "6a84d789-3092-4e88-826e-6a910578742d",
   "metadata": {},
   "source": [
    "### Task: Remove spaces and special characters from column names"
   ]
  },
  {
   "cell_type": "code",
   "execution_count": 78,
   "id": "bfddc282-02a7-4af9-8903-6116c8d545c8",
   "metadata": {},
   "outputs": [
    {
     "data": {
      "text/plain": [
       "Index(['Team', 'Goals', 'Shots_on_target', 'Shots_off_target',\n",
       "       'Shooting_Accuracy', '_Goals-to-shots', 'Total_shots_(inc_Blocked)',\n",
       "       'Hit_Woodwork', 'Penalty_goals', 'Penalties_not_scored', 'Headed_goals',\n",
       "       'Passes', 'Passes_completed', 'Passing_Accuracy', 'Touches', 'Crosses',\n",
       "       'Dribbles', 'Corners_Taken', 'Tackles', 'Clearances', 'Interceptions',\n",
       "       'Clearances_off_line', 'Clean_Sheets', 'Blocks', 'Goals_conceded',\n",
       "       'Saves_made', 'Saves-to-shots_ratio', 'Fouls_Won', 'Fouls_Conceded',\n",
       "       'Offsides', 'Yellow_Cards', 'Red_Cards', 'Subs_on', 'Subs_off',\n",
       "       'Players_Used'],\n",
       "      dtype='object')"
      ]
     },
     "execution_count": 78,
     "metadata": {},
     "output_type": "execute_result"
    }
   ],
   "source": [
    "euro12.columns.str.replace(\" \", \"_\").str.replace(\"%\",\"\").str.replace(\".\", \"\")"
   ]
  },
  {
   "cell_type": "code",
   "execution_count": null,
   "id": "1617d4bd-292f-4959-a1af-086c0e9fc17b",
   "metadata": {},
   "outputs": [],
   "source": []
  },
  {
   "cell_type": "code",
   "execution_count": null,
   "id": "c826efa0-9d63-4286-99e1-754756b1c529",
   "metadata": {},
   "outputs": [],
   "source": []
  },
  {
   "cell_type": "code",
   "execution_count": null,
   "id": "c719cfdc-b1d3-4431-9ad1-66aa72740748",
   "metadata": {},
   "outputs": [],
   "source": []
  },
  {
   "cell_type": "code",
   "execution_count": null,
   "id": "ff39de6f-0dbf-4745-b4de-341ec11304f3",
   "metadata": {},
   "outputs": [],
   "source": []
  },
  {
   "cell_type": "code",
   "execution_count": null,
   "id": "be1309ce",
   "metadata": {},
   "outputs": [],
   "source": [
    "euro12.iloc[:,:7]"
   ]
  },
  {
   "cell_type": "code",
   "execution_count": null,
   "id": "2c8df27b",
   "metadata": {},
   "outputs": [],
   "source": [
    "euro12.iloc[:,-3:]"
   ]
  },
  {
   "cell_type": "code",
   "execution_count": null,
   "id": "fef8e7c1",
   "metadata": {},
   "outputs": [],
   "source": []
  },
  {
   "cell_type": "code",
   "execution_count": null,
   "id": "69a65628",
   "metadata": {},
   "outputs": [],
   "source": [
    "# # euro12.loc[), ['Team','Shooting Accuracy']]\n",
    "euro12.loc[euro12.Team.isin(['England', 'Italy', 'Russia']), ['Team','Shooting Accuracy']]"
   ]
  },
  {
   "cell_type": "code",
   "execution_count": null,
   "id": "e32b3bfb",
   "metadata": {},
   "outputs": [],
   "source": []
  },
  {
   "cell_type": "code",
   "execution_count": null,
   "id": "ab0bad24",
   "metadata": {},
   "outputs": [],
   "source": []
  },
  {
   "cell_type": "code",
   "execution_count": null,
   "id": "8bd5d730",
   "metadata": {},
   "outputs": [],
   "source": []
  },
  {
   "cell_type": "markdown",
   "id": "6e62cb2f",
   "metadata": {},
   "source": [
    "## All statistical functions\n",
    "- `count()` : Returns the number of times an element/data has occurred (non-null)\n",
    "- `sum()`\t: Returns sum of all values\n",
    "- `mean()` : Returns the average of all values\n",
    "- `median()` : Returns the median of all values\n",
    "- `mode()` : Returns the mode\n",
    "- `std()`\t: Returns the standard deviation\n",
    "- `min()`\t: Returns the minimum of all values\n",
    "- `max()`\t: Returns the maximum of all values\n",
    "- `abs()`\t: Returns the absolute value"
   ]
  },
  {
   "cell_type": "code",
   "execution_count": null,
   "id": "b33f7e8c",
   "metadata": {},
   "outputs": [],
   "source": []
  },
  {
   "cell_type": "code",
   "execution_count": null,
   "id": "87a7b4c7",
   "metadata": {},
   "outputs": [],
   "source": [
    "print(\"Total number of elements in each column of dataframe \")\n",
    "df.count()"
   ]
  },
  {
   "cell_type": "code",
   "execution_count": null,
   "id": "336a2c03",
   "metadata": {},
   "outputs": [],
   "source": [
    "df['Age'].count()"
   ]
  },
  {
   "cell_type": "code",
   "execution_count": null,
   "id": "96b93034",
   "metadata": {},
   "outputs": [],
   "source": [
    "df.sum(numeric_only=True)"
   ]
  },
  {
   "cell_type": "code",
   "execution_count": null,
   "id": "2f4530e1",
   "metadata": {},
   "outputs": [],
   "source": []
  },
  {
   "cell_type": "code",
   "execution_count": null,
   "id": "def3c276",
   "metadata": {},
   "outputs": [],
   "source": []
  },
  {
   "cell_type": "code",
   "execution_count": null,
   "id": "84e84798",
   "metadata": {},
   "outputs": [],
   "source": []
  },
  {
   "cell_type": "markdown",
   "id": "2cdd9edb",
   "metadata": {},
   "source": [
    "## Input and Output\n",
    "\n",
    "- Often, you won’t be creating data but will be having it in some form, and you would want to import it to run your analysis on it. Fortunately, Pandas allows you to do this. Not only does it help in importing data, but you can also save your data in your desired format using Pandas.\n",
    "- The below table shows the formats supported by Pandas, the function to read files using Pandas, and the function to write files.\n",
    "|Input |type      |\tReader\tWriter |\n",
    "|------|----------|----------------|\n",
    "|CSV   |read_csv  |  to_csv        |\n",
    "|JSON  |read_json | to_json\n",
    "|HTML  |read_html |to_html\n",
    "|Excel |read_excel|to_excel\n",
    "|SAS   |read_sas  |–\n",
    "|Python|Pickle    |\tread_pickle\tto_pickle\n",
    "|SQL   |read_sql  |to_sql\n",
    "|Google|Big Query | read_gbq\tto_gbq"
   ]
  },
  {
   "cell_type": "code",
   "execution_count": 1,
   "id": "236bf81f",
   "metadata": {},
   "outputs": [],
   "source": [
    "# Save a dataframe to CSV File\n",
    "data = {'Name':['Captain America', 'Iron Man', 'Hulk', 'Thor','Black Panther'],\n",
    "        'Rating':[100, 80, 84, 93, 90],\n",
    "        'Place':['USA','USA','USA','Asgard','Wakanda']}"
   ]
  },
  {
   "cell_type": "code",
   "execution_count": 2,
   "id": "918a2b94",
   "metadata": {},
   "outputs": [
    {
     "data": {
      "text/plain": [
       "{'Name': ['Captain America', 'Iron Man', 'Hulk', 'Thor', 'Black Panther'],\n",
       " 'Rating': [100, 80, 84, 93, 90],\n",
       " 'Place': ['USA', 'USA', 'USA', 'Asgard', 'Wakanda']}"
      ]
     },
     "execution_count": 2,
     "metadata": {},
     "output_type": "execute_result"
    }
   ],
   "source": [
    "data"
   ]
  },
  {
   "cell_type": "code",
   "execution_count": 4,
   "id": "2da389b3",
   "metadata": {},
   "outputs": [
    {
     "data": {
      "text/html": [
       "<div>\n",
       "<style scoped>\n",
       "    .dataframe tbody tr th:only-of-type {\n",
       "        vertical-align: middle;\n",
       "    }\n",
       "\n",
       "    .dataframe tbody tr th {\n",
       "        vertical-align: top;\n",
       "    }\n",
       "\n",
       "    .dataframe thead th {\n",
       "        text-align: right;\n",
       "    }\n",
       "</style>\n",
       "<table border=\"1\" class=\"dataframe\">\n",
       "  <thead>\n",
       "    <tr style=\"text-align: right;\">\n",
       "      <th></th>\n",
       "      <th>Name</th>\n",
       "      <th>Rating</th>\n",
       "      <th>Place</th>\n",
       "    </tr>\n",
       "  </thead>\n",
       "  <tbody>\n",
       "    <tr>\n",
       "      <th>0</th>\n",
       "      <td>Captain America</td>\n",
       "      <td>100</td>\n",
       "      <td>USA</td>\n",
       "    </tr>\n",
       "    <tr>\n",
       "      <th>1</th>\n",
       "      <td>Iron Man</td>\n",
       "      <td>80</td>\n",
       "      <td>USA</td>\n",
       "    </tr>\n",
       "    <tr>\n",
       "      <th>2</th>\n",
       "      <td>Hulk</td>\n",
       "      <td>84</td>\n",
       "      <td>USA</td>\n",
       "    </tr>\n",
       "    <tr>\n",
       "      <th>3</th>\n",
       "      <td>Thor</td>\n",
       "      <td>93</td>\n",
       "      <td>Asgard</td>\n",
       "    </tr>\n",
       "    <tr>\n",
       "      <th>4</th>\n",
       "      <td>Black Panther</td>\n",
       "      <td>90</td>\n",
       "      <td>Wakanda</td>\n",
       "    </tr>\n",
       "  </tbody>\n",
       "</table>\n",
       "</div>"
      ],
      "text/plain": [
       "              Name  Rating    Place\n",
       "0  Captain America     100      USA\n",
       "1         Iron Man      80      USA\n",
       "2             Hulk      84      USA\n",
       "3             Thor      93   Asgard\n",
       "4    Black Panther      90  Wakanda"
      ]
     },
     "execution_count": 4,
     "metadata": {},
     "output_type": "execute_result"
    }
   ],
   "source": [
    "# Create dataframe from above dictionary\n",
    "import pandas as pd\n",
    "df = pd.DataFrame(data)\n",
    "df"
   ]
  },
  {
   "cell_type": "code",
   "execution_count": 7,
   "id": "0e697530-c96e-43bb-965f-af6f5e31d9f7",
   "metadata": {},
   "outputs": [
    {
     "name": "stdout",
     "output_type": "stream",
     "text": [
      "Euro_2012_stats_TEAM.csv    \u001b[31mgroupdata.csv\u001b[m\u001b[m\n",
      "avengers1.csv               recent-grads.csv\n",
      "drinks.csv                  \u001b[31mso_survey_subset.csv\u001b[m\u001b[m\n",
      "\u001b[31mgroupbydata1.csv\u001b[m\u001b[m            \u001b[31mso_survey_subset_schema.csv\u001b[m\u001b[m\n",
      "\u001b[31mgroupbydata2.csv\u001b[m\u001b[m            u.user\n"
     ]
    }
   ],
   "source": [
    "!ls datasets/"
   ]
  },
  {
   "cell_type": "code",
   "execution_count": 6,
   "id": "ff7c2d86-fb7d-4b47-89dd-3167b47b9d64",
   "metadata": {},
   "outputs": [],
   "source": [
    "df.to_csv(\"datasets/avengers1.csv\")"
   ]
  },
  {
   "cell_type": "code",
   "execution_count": 8,
   "id": "6e93d0fe",
   "metadata": {},
   "outputs": [
    {
     "name": "stdout",
     "output_type": "stream",
     "text": [
      ",Name,Rating,Place\n",
      "0,Captain America,100,USA\n",
      "1,Iron Man,80,USA\n",
      "2,Hulk,84,USA\n",
      "3,Thor,93,Asgard\n",
      "4,Black Panther,90,Wakanda\n"
     ]
    }
   ],
   "source": [
    "!cat datasets/avengers1.csv"
   ]
  },
  {
   "cell_type": "code",
   "execution_count": null,
   "id": "771ab45c",
   "metadata": {},
   "outputs": [],
   "source": []
  },
  {
   "cell_type": "code",
   "execution_count": null,
   "id": "effc0dec",
   "metadata": {},
   "outputs": [],
   "source": []
  },
  {
   "cell_type": "markdown",
   "id": "39481c21",
   "metadata": {},
   "source": [
    "## Aggregation\n",
    "- The aggregation function can be applied against a single or more column. You can either apply the same aggregate function across various columns or different aggregate functions across various columns.\n",
    "- Syntax : \n",
    " >- DataFrame.aggregate(self, func, axis=0, *args, ***kwargs)\n",
    " \n",
    "<img src=\"images/pandas-agg-func.png\" height=400px width=600px>"
   ]
  },
  {
   "cell_type": "code",
   "execution_count": 10,
   "id": "e1b6b77c",
   "metadata": {},
   "outputs": [
    {
     "data": {
      "text/plain": [
       "'http://bit.ly/2cLzoxH'"
      ]
     },
     "execution_count": 10,
     "metadata": {},
     "output_type": "execute_result"
    }
   ],
   "source": [
    "data_url = 'http://bit.ly/2cLzoxH'\n",
    "data_url"
   ]
  },
  {
   "cell_type": "code",
   "execution_count": 9,
   "id": "00061903",
   "metadata": {},
   "outputs": [
    {
     "data": {
      "text/html": [
       "<div>\n",
       "<style scoped>\n",
       "    .dataframe tbody tr th:only-of-type {\n",
       "        vertical-align: middle;\n",
       "    }\n",
       "\n",
       "    .dataframe tbody tr th {\n",
       "        vertical-align: top;\n",
       "    }\n",
       "\n",
       "    .dataframe thead th {\n",
       "        text-align: right;\n",
       "    }\n",
       "</style>\n",
       "<table border=\"1\" class=\"dataframe\">\n",
       "  <thead>\n",
       "    <tr style=\"text-align: right;\">\n",
       "      <th></th>\n",
       "      <th>country</th>\n",
       "      <th>year</th>\n",
       "      <th>pop</th>\n",
       "      <th>continent</th>\n",
       "      <th>lifeExp</th>\n",
       "      <th>gdpPercap</th>\n",
       "    </tr>\n",
       "  </thead>\n",
       "  <tbody>\n",
       "    <tr>\n",
       "      <th>0</th>\n",
       "      <td>Afghanistan</td>\n",
       "      <td>1952</td>\n",
       "      <td>8425333.0</td>\n",
       "      <td>Asia</td>\n",
       "      <td>28.801</td>\n",
       "      <td>779.445314</td>\n",
       "    </tr>\n",
       "    <tr>\n",
       "      <th>1</th>\n",
       "      <td>Afghanistan</td>\n",
       "      <td>1957</td>\n",
       "      <td>9240934.0</td>\n",
       "      <td>Asia</td>\n",
       "      <td>30.332</td>\n",
       "      <td>820.853030</td>\n",
       "    </tr>\n",
       "    <tr>\n",
       "      <th>2</th>\n",
       "      <td>Afghanistan</td>\n",
       "      <td>1962</td>\n",
       "      <td>10267083.0</td>\n",
       "      <td>Asia</td>\n",
       "      <td>31.997</td>\n",
       "      <td>853.100710</td>\n",
       "    </tr>\n",
       "  </tbody>\n",
       "</table>\n",
       "</div>"
      ],
      "text/plain": [
       "       country  year         pop continent  lifeExp   gdpPercap\n",
       "0  Afghanistan  1952   8425333.0      Asia   28.801  779.445314\n",
       "1  Afghanistan  1957   9240934.0      Asia   30.332  820.853030\n",
       "2  Afghanistan  1962  10267083.0      Asia   31.997  853.100710"
      ]
     },
     "execution_count": 9,
     "metadata": {},
     "output_type": "execute_result"
    }
   ],
   "source": [
    "# read data from url as pandas dataframe\n",
    "gapminder = pd.read_csv(data_url)\n",
    "gapminder.head(3)\n",
    "\n"
   ]
  },
  {
   "cell_type": "code",
   "execution_count": 11,
   "id": "eebce416-eae4-4e15-9525-fbbe559b4f82",
   "metadata": {},
   "outputs": [
    {
     "data": {
      "text/html": [
       "<div>\n",
       "<style scoped>\n",
       "    .dataframe tbody tr th:only-of-type {\n",
       "        vertical-align: middle;\n",
       "    }\n",
       "\n",
       "    .dataframe tbody tr th {\n",
       "        vertical-align: top;\n",
       "    }\n",
       "\n",
       "    .dataframe thead th {\n",
       "        text-align: right;\n",
       "    }\n",
       "</style>\n",
       "<table border=\"1\" class=\"dataframe\">\n",
       "  <thead>\n",
       "    <tr style=\"text-align: right;\">\n",
       "      <th></th>\n",
       "      <th>country</th>\n",
       "      <th>year</th>\n",
       "      <th>pop</th>\n",
       "      <th>continent</th>\n",
       "      <th>lifeExp</th>\n",
       "      <th>gdpPercap</th>\n",
       "    </tr>\n",
       "  </thead>\n",
       "  <tbody>\n",
       "    <tr>\n",
       "      <th>1164</th>\n",
       "      <td>Pakistan</td>\n",
       "      <td>1952</td>\n",
       "      <td>41346560.0</td>\n",
       "      <td>Asia</td>\n",
       "      <td>43.436</td>\n",
       "      <td>684.597144</td>\n",
       "    </tr>\n",
       "    <tr>\n",
       "      <th>1165</th>\n",
       "      <td>Pakistan</td>\n",
       "      <td>1957</td>\n",
       "      <td>46679944.0</td>\n",
       "      <td>Asia</td>\n",
       "      <td>45.557</td>\n",
       "      <td>747.083529</td>\n",
       "    </tr>\n",
       "    <tr>\n",
       "      <th>1166</th>\n",
       "      <td>Pakistan</td>\n",
       "      <td>1962</td>\n",
       "      <td>53100671.0</td>\n",
       "      <td>Asia</td>\n",
       "      <td>47.670</td>\n",
       "      <td>803.342742</td>\n",
       "    </tr>\n",
       "    <tr>\n",
       "      <th>1167</th>\n",
       "      <td>Pakistan</td>\n",
       "      <td>1967</td>\n",
       "      <td>60641899.0</td>\n",
       "      <td>Asia</td>\n",
       "      <td>49.800</td>\n",
       "      <td>942.408259</td>\n",
       "    </tr>\n",
       "    <tr>\n",
       "      <th>1168</th>\n",
       "      <td>Pakistan</td>\n",
       "      <td>1972</td>\n",
       "      <td>69325921.0</td>\n",
       "      <td>Asia</td>\n",
       "      <td>51.929</td>\n",
       "      <td>1049.938981</td>\n",
       "    </tr>\n",
       "    <tr>\n",
       "      <th>1169</th>\n",
       "      <td>Pakistan</td>\n",
       "      <td>1977</td>\n",
       "      <td>78152686.0</td>\n",
       "      <td>Asia</td>\n",
       "      <td>54.043</td>\n",
       "      <td>1175.921193</td>\n",
       "    </tr>\n",
       "    <tr>\n",
       "      <th>1170</th>\n",
       "      <td>Pakistan</td>\n",
       "      <td>1982</td>\n",
       "      <td>91462088.0</td>\n",
       "      <td>Asia</td>\n",
       "      <td>56.158</td>\n",
       "      <td>1443.429832</td>\n",
       "    </tr>\n",
       "    <tr>\n",
       "      <th>1171</th>\n",
       "      <td>Pakistan</td>\n",
       "      <td>1987</td>\n",
       "      <td>105186881.0</td>\n",
       "      <td>Asia</td>\n",
       "      <td>58.245</td>\n",
       "      <td>1704.686583</td>\n",
       "    </tr>\n",
       "    <tr>\n",
       "      <th>1172</th>\n",
       "      <td>Pakistan</td>\n",
       "      <td>1992</td>\n",
       "      <td>120065004.0</td>\n",
       "      <td>Asia</td>\n",
       "      <td>60.838</td>\n",
       "      <td>1971.829464</td>\n",
       "    </tr>\n",
       "    <tr>\n",
       "      <th>1173</th>\n",
       "      <td>Pakistan</td>\n",
       "      <td>1997</td>\n",
       "      <td>135564834.0</td>\n",
       "      <td>Asia</td>\n",
       "      <td>61.818</td>\n",
       "      <td>2049.350521</td>\n",
       "    </tr>\n",
       "    <tr>\n",
       "      <th>1174</th>\n",
       "      <td>Pakistan</td>\n",
       "      <td>2002</td>\n",
       "      <td>153403524.0</td>\n",
       "      <td>Asia</td>\n",
       "      <td>63.610</td>\n",
       "      <td>2092.712441</td>\n",
       "    </tr>\n",
       "    <tr>\n",
       "      <th>1175</th>\n",
       "      <td>Pakistan</td>\n",
       "      <td>2007</td>\n",
       "      <td>169270617.0</td>\n",
       "      <td>Asia</td>\n",
       "      <td>65.483</td>\n",
       "      <td>2605.947580</td>\n",
       "    </tr>\n",
       "  </tbody>\n",
       "</table>\n",
       "</div>"
      ],
      "text/plain": [
       "       country  year          pop continent  lifeExp    gdpPercap\n",
       "1164  Pakistan  1952   41346560.0      Asia   43.436   684.597144\n",
       "1165  Pakistan  1957   46679944.0      Asia   45.557   747.083529\n",
       "1166  Pakistan  1962   53100671.0      Asia   47.670   803.342742\n",
       "1167  Pakistan  1967   60641899.0      Asia   49.800   942.408259\n",
       "1168  Pakistan  1972   69325921.0      Asia   51.929  1049.938981\n",
       "1169  Pakistan  1977   78152686.0      Asia   54.043  1175.921193\n",
       "1170  Pakistan  1982   91462088.0      Asia   56.158  1443.429832\n",
       "1171  Pakistan  1987  105186881.0      Asia   58.245  1704.686583\n",
       "1172  Pakistan  1992  120065004.0      Asia   60.838  1971.829464\n",
       "1173  Pakistan  1997  135564834.0      Asia   61.818  2049.350521\n",
       "1174  Pakistan  2002  153403524.0      Asia   63.610  2092.712441\n",
       "1175  Pakistan  2007  169270617.0      Asia   65.483  2605.947580"
      ]
     },
     "execution_count": 11,
     "metadata": {},
     "output_type": "execute_result"
    }
   ],
   "source": [
    "gapminder[gapminder['country'] == 'Pakistan']"
   ]
  },
  {
   "cell_type": "code",
   "execution_count": 12,
   "id": "9571e8a2-a278-4b71-98d1-57002f412704",
   "metadata": {},
   "outputs": [
    {
     "data": {
      "text/plain": [
       "continent\n",
       "Africa      624\n",
       "Asia        396\n",
       "Europe      360\n",
       "Americas    300\n",
       "Oceania      24\n",
       "Name: count, dtype: int64"
      ]
     },
     "execution_count": 12,
     "metadata": {},
     "output_type": "execute_result"
    }
   ],
   "source": [
    "gapminder['continent'].value_counts()"
   ]
  },
  {
   "cell_type": "code",
   "execution_count": 13,
   "id": "6e8d707c",
   "metadata": {},
   "outputs": [
    {
     "data": {
      "text/html": [
       "<div>\n",
       "<style scoped>\n",
       "    .dataframe tbody tr th:only-of-type {\n",
       "        vertical-align: middle;\n",
       "    }\n",
       "\n",
       "    .dataframe tbody tr th {\n",
       "        vertical-align: top;\n",
       "    }\n",
       "\n",
       "    .dataframe thead th {\n",
       "        text-align: right;\n",
       "    }\n",
       "</style>\n",
       "<table border=\"1\" class=\"dataframe\">\n",
       "  <thead>\n",
       "    <tr style=\"text-align: right;\">\n",
       "      <th></th>\n",
       "      <th>continent</th>\n",
       "      <th>pop</th>\n",
       "    </tr>\n",
       "  </thead>\n",
       "  <tbody>\n",
       "    <tr>\n",
       "      <th>0</th>\n",
       "      <td>Asia</td>\n",
       "      <td>8425333.0</td>\n",
       "    </tr>\n",
       "    <tr>\n",
       "      <th>1</th>\n",
       "      <td>Asia</td>\n",
       "      <td>9240934.0</td>\n",
       "    </tr>\n",
       "    <tr>\n",
       "      <th>2</th>\n",
       "      <td>Asia</td>\n",
       "      <td>10267083.0</td>\n",
       "    </tr>\n",
       "    <tr>\n",
       "      <th>3</th>\n",
       "      <td>Asia</td>\n",
       "      <td>11537966.0</td>\n",
       "    </tr>\n",
       "    <tr>\n",
       "      <th>4</th>\n",
       "      <td>Asia</td>\n",
       "      <td>13079460.0</td>\n",
       "    </tr>\n",
       "  </tbody>\n",
       "</table>\n",
       "</div>"
      ],
      "text/plain": [
       "  continent         pop\n",
       "0      Asia   8425333.0\n",
       "1      Asia   9240934.0\n",
       "2      Asia  10267083.0\n",
       "3      Asia  11537966.0\n",
       "4      Asia  13079460.0"
      ]
     },
     "execution_count": 13,
     "metadata": {},
     "output_type": "execute_result"
    }
   ],
   "source": [
    "gapminder_data = gapminder[['continent','pop']]\n",
    "gapminder_data.head()\n",
    "# gapminder.head()"
   ]
  },
  {
   "cell_type": "code",
   "execution_count": 14,
   "id": "4de645bc",
   "metadata": {},
   "outputs": [
    {
     "name": "stdout",
     "output_type": "stream",
     "text": [
      "Mean of population :  29601212.32511736\n",
      "Minimum value of population :  60011.0\n",
      "Maximum value of population :  1318683096.0\n",
      "Std of population :  106157896.74682795\n"
     ]
    }
   ],
   "source": [
    "# Using Aggregate Functions on Series\n",
    "mean  = gapminder_data['pop'].aggregate('mean')\n",
    "print(\"Mean of population : \", mean)\n",
    "\n",
    "Min  = gapminder_data['pop'].aggregate('min')\n",
    "print(\"Minimum value of population : \", Min)\n",
    "\n",
    "Max  = gapminder_data['pop'].aggregate('max')\n",
    "print(\"Maximum value of population : \", Max)\n",
    "\n",
    "Std  = gapminder_data['pop'].aggregate('std')\n",
    "print(\"Std of population : \", Std)"
   ]
  },
  {
   "cell_type": "code",
   "execution_count": null,
   "id": "a57ac5c4",
   "metadata": {},
   "outputs": [],
   "source": []
  },
  {
   "cell_type": "code",
   "execution_count": null,
   "id": "39a7bec7",
   "metadata": {},
   "outputs": [],
   "source": []
  },
  {
   "cell_type": "code",
   "execution_count": 15,
   "id": "bb466959",
   "metadata": {},
   "outputs": [
    {
     "data": {
      "text/plain": [
       "sum    5.044047e+10\n",
       "min    6.001100e+04\n",
       "max    1.318683e+09\n",
       "Name: pop, dtype: float64"
      ]
     },
     "execution_count": 15,
     "metadata": {},
     "output_type": "execute_result"
    }
   ],
   "source": [
    "# Using multiple Aggregate Functions on Dataframe\n",
    "gapminder_data['pop'].aggregate(['sum','min','max'])"
   ]
  },
  {
   "cell_type": "code",
   "execution_count": 16,
   "id": "2dc654c2",
   "metadata": {},
   "outputs": [
    {
     "data": {
      "text/html": [
       "<div>\n",
       "<style scoped>\n",
       "    .dataframe tbody tr th:only-of-type {\n",
       "        vertical-align: middle;\n",
       "    }\n",
       "\n",
       "    .dataframe tbody tr th {\n",
       "        vertical-align: top;\n",
       "    }\n",
       "\n",
       "    .dataframe thead th {\n",
       "        text-align: right;\n",
       "    }\n",
       "</style>\n",
       "<table border=\"1\" class=\"dataframe\">\n",
       "  <thead>\n",
       "    <tr style=\"text-align: right;\">\n",
       "      <th></th>\n",
       "      <th>pop</th>\n",
       "      <th>lifeExp</th>\n",
       "    </tr>\n",
       "  </thead>\n",
       "  <tbody>\n",
       "    <tr>\n",
       "      <th>sum</th>\n",
       "      <td>5.044047e+10</td>\n",
       "      <td>101344.444680</td>\n",
       "    </tr>\n",
       "    <tr>\n",
       "      <th>min</th>\n",
       "      <td>6.001100e+04</td>\n",
       "      <td>23.599000</td>\n",
       "    </tr>\n",
       "    <tr>\n",
       "      <th>max</th>\n",
       "      <td>1.318683e+09</td>\n",
       "      <td>82.603000</td>\n",
       "    </tr>\n",
       "    <tr>\n",
       "      <th>std</th>\n",
       "      <td>1.061579e+08</td>\n",
       "      <td>12.917107</td>\n",
       "    </tr>\n",
       "    <tr>\n",
       "      <th>mean</th>\n",
       "      <td>2.960121e+07</td>\n",
       "      <td>59.474439</td>\n",
       "    </tr>\n",
       "    <tr>\n",
       "      <th>var</th>\n",
       "      <td>1.126950e+16</td>\n",
       "      <td>166.851664</td>\n",
       "    </tr>\n",
       "  </tbody>\n",
       "</table>\n",
       "</div>"
      ],
      "text/plain": [
       "               pop        lifeExp\n",
       "sum   5.044047e+10  101344.444680\n",
       "min   6.001100e+04      23.599000\n",
       "max   1.318683e+09      82.603000\n",
       "std   1.061579e+08      12.917107\n",
       "mean  2.960121e+07      59.474439\n",
       "var   1.126950e+16     166.851664"
      ]
     },
     "execution_count": 16,
     "metadata": {},
     "output_type": "execute_result"
    }
   ],
   "source": [
    "# Using multiple Aggregate Functions on Multiple columns of Dataframe\n",
    "gapminder[['pop','lifeExp']].aggregate(['sum','min','max','std','mean','var'])"
   ]
  },
  {
   "cell_type": "code",
   "execution_count": 17,
   "id": "740f0586",
   "metadata": {},
   "outputs": [
    {
     "data": {
      "text/html": [
       "<div>\n",
       "<style scoped>\n",
       "    .dataframe tbody tr th:only-of-type {\n",
       "        vertical-align: middle;\n",
       "    }\n",
       "\n",
       "    .dataframe tbody tr th {\n",
       "        vertical-align: top;\n",
       "    }\n",
       "\n",
       "    .dataframe thead th {\n",
       "        text-align: right;\n",
       "    }\n",
       "</style>\n",
       "<table border=\"1\" class=\"dataframe\">\n",
       "  <thead>\n",
       "    <tr style=\"text-align: right;\">\n",
       "      <th></th>\n",
       "      <th>pop</th>\n",
       "      <th>lifeExp</th>\n",
       "    </tr>\n",
       "  </thead>\n",
       "  <tbody>\n",
       "    <tr>\n",
       "      <th>sum</th>\n",
       "      <td>5.044047e+10</td>\n",
       "      <td>101344.44468</td>\n",
       "    </tr>\n",
       "    <tr>\n",
       "      <th>min</th>\n",
       "      <td>6.001100e+04</td>\n",
       "      <td>23.59900</td>\n",
       "    </tr>\n",
       "    <tr>\n",
       "      <th>max</th>\n",
       "      <td>1.318683e+09</td>\n",
       "      <td>82.60300</td>\n",
       "    </tr>\n",
       "  </tbody>\n",
       "</table>\n",
       "</div>"
      ],
      "text/plain": [
       "              pop       lifeExp\n",
       "sum  5.044047e+10  101344.44468\n",
       "min  6.001100e+04      23.59900\n",
       "max  1.318683e+09      82.60300"
      ]
     },
     "execution_count": 17,
     "metadata": {},
     "output_type": "execute_result"
    }
   ],
   "source": [
    "# We can also perform above task by using below code\n",
    "gapminder.aggregate({'pop':['sum','min','max'],\n",
    "                    'lifeExp':['sum','min','max']})"
   ]
  },
  {
   "cell_type": "code",
   "execution_count": 18,
   "id": "7d8818b1",
   "metadata": {},
   "outputs": [
    {
     "data": {
      "text/html": [
       "<div>\n",
       "<style scoped>\n",
       "    .dataframe tbody tr th:only-of-type {\n",
       "        vertical-align: middle;\n",
       "    }\n",
       "\n",
       "    .dataframe tbody tr th {\n",
       "        vertical-align: top;\n",
       "    }\n",
       "\n",
       "    .dataframe thead th {\n",
       "        text-align: right;\n",
       "    }\n",
       "</style>\n",
       "<table border=\"1\" class=\"dataframe\">\n",
       "  <thead>\n",
       "    <tr style=\"text-align: right;\">\n",
       "      <th></th>\n",
       "      <th>year</th>\n",
       "      <th>pop</th>\n",
       "      <th>lifeExp</th>\n",
       "      <th>gdpPercap</th>\n",
       "    </tr>\n",
       "  </thead>\n",
       "  <tbody>\n",
       "    <tr>\n",
       "      <th>count</th>\n",
       "      <td>1704.00000</td>\n",
       "      <td>1.704000e+03</td>\n",
       "      <td>1704.000000</td>\n",
       "      <td>1704.000000</td>\n",
       "    </tr>\n",
       "    <tr>\n",
       "      <th>mean</th>\n",
       "      <td>1979.50000</td>\n",
       "      <td>2.960121e+07</td>\n",
       "      <td>59.474439</td>\n",
       "      <td>7215.327081</td>\n",
       "    </tr>\n",
       "    <tr>\n",
       "      <th>std</th>\n",
       "      <td>17.26533</td>\n",
       "      <td>1.061579e+08</td>\n",
       "      <td>12.917107</td>\n",
       "      <td>9857.454543</td>\n",
       "    </tr>\n",
       "    <tr>\n",
       "      <th>min</th>\n",
       "      <td>1952.00000</td>\n",
       "      <td>6.001100e+04</td>\n",
       "      <td>23.599000</td>\n",
       "      <td>241.165876</td>\n",
       "    </tr>\n",
       "    <tr>\n",
       "      <th>25%</th>\n",
       "      <td>1965.75000</td>\n",
       "      <td>2.793664e+06</td>\n",
       "      <td>48.198000</td>\n",
       "      <td>1202.060309</td>\n",
       "    </tr>\n",
       "    <tr>\n",
       "      <th>50%</th>\n",
       "      <td>1979.50000</td>\n",
       "      <td>7.023596e+06</td>\n",
       "      <td>60.712500</td>\n",
       "      <td>3531.846988</td>\n",
       "    </tr>\n",
       "    <tr>\n",
       "      <th>75%</th>\n",
       "      <td>1993.25000</td>\n",
       "      <td>1.958522e+07</td>\n",
       "      <td>70.845500</td>\n",
       "      <td>9325.462346</td>\n",
       "    </tr>\n",
       "    <tr>\n",
       "      <th>max</th>\n",
       "      <td>2007.00000</td>\n",
       "      <td>1.318683e+09</td>\n",
       "      <td>82.603000</td>\n",
       "      <td>113523.132900</td>\n",
       "    </tr>\n",
       "  </tbody>\n",
       "</table>\n",
       "</div>"
      ],
      "text/plain": [
       "             year           pop      lifeExp      gdpPercap\n",
       "count  1704.00000  1.704000e+03  1704.000000    1704.000000\n",
       "mean   1979.50000  2.960121e+07    59.474439    7215.327081\n",
       "std      17.26533  1.061579e+08    12.917107    9857.454543\n",
       "min    1952.00000  6.001100e+04    23.599000     241.165876\n",
       "25%    1965.75000  2.793664e+06    48.198000    1202.060309\n",
       "50%    1979.50000  7.023596e+06    60.712500    3531.846988\n",
       "75%    1993.25000  1.958522e+07    70.845500    9325.462346\n",
       "max    2007.00000  1.318683e+09    82.603000  113523.132900"
      ]
     },
     "execution_count": 18,
     "metadata": {},
     "output_type": "execute_result"
    }
   ],
   "source": [
    "# df.describe()  gives overall descriptive view of our dataset\n",
    "gapminder.describe()"
   ]
  },
  {
   "cell_type": "code",
   "execution_count": null,
   "id": "b43ffbc9",
   "metadata": {},
   "outputs": [],
   "source": []
  },
  {
   "cell_type": "code",
   "execution_count": null,
   "id": "f08379b7",
   "metadata": {},
   "outputs": [],
   "source": []
  },
  {
   "cell_type": "markdown",
   "id": "701dc508",
   "metadata": {},
   "source": [
    "## Groupby\n",
    "- Pandas groupby function is used to split the DataFrame into groups based on some criteria. \n",
    "- Similar to the `SQL GROUP BY` clause pandas `DataFrame.groupby()` function is used to collect the identical data into groups and perform aggregate functions on the grouped data. Group by operation involves splitting the data, applying some functions, and finally aggregating the results.\n",
    "\n",
    "<img src=\"images/pandas-groupby-standard-dev.png.webp\" height=500px width=500px>\n",
    "<img src=\"images/groupby-example.png\" height=700px width=700px>"
   ]
  },
  {
   "cell_type": "code",
   "execution_count": null,
   "id": "3dcc92c4",
   "metadata": {},
   "outputs": [],
   "source": []
  },
  {
   "cell_type": "markdown",
   "id": "38f42b61",
   "metadata": {},
   "source": [
    "### Syntax of Pandas DataFrame.groupby()\n",
    "\n",
    "       \n",
    "       `DataFrame.groupby(by=None, axis=0, level=None, as_index=True,     \n",
    "       sort=True, group_keys=True, squeeze=<no_default>,      \n",
    "       observed=False, dropna=True)`\n",
    "       \n",
    "       \n",
    "- `by` – List of column names to group by\n",
    "- `axis` – Default to 0. It takes 0 or ‘index’, 1 or ‘columns’\n",
    "- `level` – Used with MultiIndex.\n",
    "- `as_index` – sql style grouped otput.\n",
    "- `sort` – Default to True. Specify whether to sort after group\n",
    "- `group_keys` – add group keys or not\n",
    "- `squeeze` – depricated in new versions\n",
    "- `observed` – This only applies if any of the groupers are Categoricals.\n",
    "- `dropna` – Default to False. Use True to drop None/Nan on sory key."
   ]
  },
  {
   "cell_type": "code",
   "execution_count": 20,
   "id": "c354dcce",
   "metadata": {},
   "outputs": [],
   "source": [
    "import numpy as np"
   ]
  },
  {
   "cell_type": "code",
   "execution_count": 21,
   "id": "6c3f0d5b",
   "metadata": {},
   "outputs": [
    {
     "data": {
      "text/html": [
       "<div>\n",
       "<style scoped>\n",
       "    .dataframe tbody tr th:only-of-type {\n",
       "        vertical-align: middle;\n",
       "    }\n",
       "\n",
       "    .dataframe tbody tr th {\n",
       "        vertical-align: top;\n",
       "    }\n",
       "\n",
       "    .dataframe thead th {\n",
       "        text-align: right;\n",
       "    }\n",
       "</style>\n",
       "<table border=\"1\" class=\"dataframe\">\n",
       "  <thead>\n",
       "    <tr style=\"text-align: right;\">\n",
       "      <th></th>\n",
       "      <th>Courses</th>\n",
       "      <th>Fee</th>\n",
       "      <th>Duration</th>\n",
       "      <th>Discount</th>\n",
       "    </tr>\n",
       "  </thead>\n",
       "  <tbody>\n",
       "    <tr>\n",
       "      <th>0</th>\n",
       "      <td>Spark</td>\n",
       "      <td>22000</td>\n",
       "      <td>30days</td>\n",
       "      <td>1000.0</td>\n",
       "    </tr>\n",
       "    <tr>\n",
       "      <th>1</th>\n",
       "      <td>PySpark</td>\n",
       "      <td>25000</td>\n",
       "      <td>50days</td>\n",
       "      <td>2300.0</td>\n",
       "    </tr>\n",
       "    <tr>\n",
       "      <th>2</th>\n",
       "      <td>Hadoop</td>\n",
       "      <td>23000</td>\n",
       "      <td>55days</td>\n",
       "      <td>1000.0</td>\n",
       "    </tr>\n",
       "    <tr>\n",
       "      <th>3</th>\n",
       "      <td>Python</td>\n",
       "      <td>24000</td>\n",
       "      <td>40days</td>\n",
       "      <td>1200.0</td>\n",
       "    </tr>\n",
       "    <tr>\n",
       "      <th>4</th>\n",
       "      <td>Pandas</td>\n",
       "      <td>26000</td>\n",
       "      <td>60days</td>\n",
       "      <td>2500.0</td>\n",
       "    </tr>\n",
       "    <tr>\n",
       "      <th>5</th>\n",
       "      <td>Hadoop</td>\n",
       "      <td>25000</td>\n",
       "      <td>35days</td>\n",
       "      <td>NaN</td>\n",
       "    </tr>\n",
       "    <tr>\n",
       "      <th>6</th>\n",
       "      <td>Spark</td>\n",
       "      <td>25000</td>\n",
       "      <td>30days</td>\n",
       "      <td>1400.0</td>\n",
       "    </tr>\n",
       "    <tr>\n",
       "      <th>7</th>\n",
       "      <td>Python</td>\n",
       "      <td>22000</td>\n",
       "      <td>50days</td>\n",
       "      <td>1600.0</td>\n",
       "    </tr>\n",
       "    <tr>\n",
       "      <th>8</th>\n",
       "      <td>NaN</td>\n",
       "      <td>1500</td>\n",
       "      <td>40days</td>\n",
       "      <td>0.0</td>\n",
       "    </tr>\n",
       "  </tbody>\n",
       "</table>\n",
       "</div>"
      ],
      "text/plain": [
       "   Courses    Fee Duration  Discount\n",
       "0    Spark  22000   30days    1000.0\n",
       "1  PySpark  25000   50days    2300.0\n",
       "2   Hadoop  23000   55days    1000.0\n",
       "3   Python  24000   40days    1200.0\n",
       "4   Pandas  26000   60days    2500.0\n",
       "5   Hadoop  25000   35days       NaN\n",
       "6    Spark  25000   30days    1400.0\n",
       "7   Python  22000   50days    1600.0\n",
       "8      NaN   1500   40days       0.0"
      ]
     },
     "execution_count": 21,
     "metadata": {},
     "output_type": "execute_result"
    }
   ],
   "source": [
    "technologies   = ({\n",
    "    'Courses':[\"Spark\",\"PySpark\",\"Hadoop\",\"Python\",\"Pandas\",\"Hadoop\",\"Spark\",\"Python\",np.nan],\n",
    "    'Fee' :[22000,25000,23000,24000,26000,25000,25000,22000,1500],\n",
    "    'Duration':['30days','50days','55days','40days','60days','35days','30days','50days','40days'],\n",
    "    'Discount':[1000,2300,1000,1200,2500,None,1400,1600,0]\n",
    "          })\n",
    "df = pd.DataFrame(technologies)\n",
    "df"
   ]
  },
  {
   "cell_type": "code",
   "execution_count": null,
   "id": "e94a6caa",
   "metadata": {},
   "outputs": [],
   "source": []
  },
  {
   "cell_type": "markdown",
   "id": "cf37f42d",
   "metadata": {},
   "source": [
    "#### Use groupby() to compute the sum of Fee and Discount of each course"
   ]
  },
  {
   "cell_type": "code",
   "execution_count": 22,
   "id": "a68b11bb",
   "metadata": {},
   "outputs": [
    {
     "data": {
      "text/html": [
       "<div>\n",
       "<style scoped>\n",
       "    .dataframe tbody tr th:only-of-type {\n",
       "        vertical-align: middle;\n",
       "    }\n",
       "\n",
       "    .dataframe tbody tr th {\n",
       "        vertical-align: top;\n",
       "    }\n",
       "\n",
       "    .dataframe thead th {\n",
       "        text-align: right;\n",
       "    }\n",
       "</style>\n",
       "<table border=\"1\" class=\"dataframe\">\n",
       "  <thead>\n",
       "    <tr style=\"text-align: right;\">\n",
       "      <th></th>\n",
       "      <th>Fee</th>\n",
       "      <th>Duration</th>\n",
       "      <th>Discount</th>\n",
       "    </tr>\n",
       "    <tr>\n",
       "      <th>Courses</th>\n",
       "      <th></th>\n",
       "      <th></th>\n",
       "      <th></th>\n",
       "    </tr>\n",
       "  </thead>\n",
       "  <tbody>\n",
       "    <tr>\n",
       "      <th>Hadoop</th>\n",
       "      <td>48000</td>\n",
       "      <td>55days35days</td>\n",
       "      <td>1000.0</td>\n",
       "    </tr>\n",
       "    <tr>\n",
       "      <th>Pandas</th>\n",
       "      <td>26000</td>\n",
       "      <td>60days</td>\n",
       "      <td>2500.0</td>\n",
       "    </tr>\n",
       "    <tr>\n",
       "      <th>PySpark</th>\n",
       "      <td>25000</td>\n",
       "      <td>50days</td>\n",
       "      <td>2300.0</td>\n",
       "    </tr>\n",
       "    <tr>\n",
       "      <th>Python</th>\n",
       "      <td>46000</td>\n",
       "      <td>40days50days</td>\n",
       "      <td>2800.0</td>\n",
       "    </tr>\n",
       "    <tr>\n",
       "      <th>Spark</th>\n",
       "      <td>47000</td>\n",
       "      <td>30days30days</td>\n",
       "      <td>2400.0</td>\n",
       "    </tr>\n",
       "  </tbody>\n",
       "</table>\n",
       "</div>"
      ],
      "text/plain": [
       "           Fee      Duration  Discount\n",
       "Courses                               \n",
       "Hadoop   48000  55days35days    1000.0\n",
       "Pandas   26000        60days    2500.0\n",
       "PySpark  25000        50days    2300.0\n",
       "Python   46000  40days50days    2800.0\n",
       "Spark    47000  30days30days    2400.0"
      ]
     },
     "execution_count": 22,
     "metadata": {},
     "output_type": "execute_result"
    }
   ],
   "source": [
    "df.groupby(['Courses']).sum()"
   ]
  },
  {
   "cell_type": "code",
   "execution_count": 23,
   "id": "46f22981",
   "metadata": {},
   "outputs": [
    {
     "data": {
      "text/html": [
       "<div>\n",
       "<style scoped>\n",
       "    .dataframe tbody tr th:only-of-type {\n",
       "        vertical-align: middle;\n",
       "    }\n",
       "\n",
       "    .dataframe tbody tr th {\n",
       "        vertical-align: top;\n",
       "    }\n",
       "\n",
       "    .dataframe thead th {\n",
       "        text-align: right;\n",
       "    }\n",
       "</style>\n",
       "<table border=\"1\" class=\"dataframe\">\n",
       "  <thead>\n",
       "    <tr style=\"text-align: right;\">\n",
       "      <th></th>\n",
       "      <th>Fee</th>\n",
       "      <th>Discount</th>\n",
       "    </tr>\n",
       "    <tr>\n",
       "      <th>Courses</th>\n",
       "      <th></th>\n",
       "      <th></th>\n",
       "    </tr>\n",
       "  </thead>\n",
       "  <tbody>\n",
       "    <tr>\n",
       "      <th>Hadoop</th>\n",
       "      <td>48000</td>\n",
       "      <td>1000.0</td>\n",
       "    </tr>\n",
       "    <tr>\n",
       "      <th>Pandas</th>\n",
       "      <td>26000</td>\n",
       "      <td>2500.0</td>\n",
       "    </tr>\n",
       "    <tr>\n",
       "      <th>PySpark</th>\n",
       "      <td>25000</td>\n",
       "      <td>2300.0</td>\n",
       "    </tr>\n",
       "    <tr>\n",
       "      <th>Python</th>\n",
       "      <td>46000</td>\n",
       "      <td>2800.0</td>\n",
       "    </tr>\n",
       "    <tr>\n",
       "      <th>Spark</th>\n",
       "      <td>47000</td>\n",
       "      <td>2400.0</td>\n",
       "    </tr>\n",
       "  </tbody>\n",
       "</table>\n",
       "</div>"
      ],
      "text/plain": [
       "           Fee  Discount\n",
       "Courses                 \n",
       "Hadoop   48000    1000.0\n",
       "Pandas   26000    2500.0\n",
       "PySpark  25000    2300.0\n",
       "Python   46000    2800.0\n",
       "Spark    47000    2400.0"
      ]
     },
     "execution_count": 23,
     "metadata": {},
     "output_type": "execute_result"
    }
   ],
   "source": [
    "# method 2\n",
    "df.groupby(['Courses'])[['Fee','Discount']].sum()"
   ]
  },
  {
   "cell_type": "code",
   "execution_count": 24,
   "id": "b6eb7106",
   "metadata": {},
   "outputs": [
    {
     "data": {
      "text/html": [
       "<div>\n",
       "<style scoped>\n",
       "    .dataframe tbody tr th:only-of-type {\n",
       "        vertical-align: middle;\n",
       "    }\n",
       "\n",
       "    .dataframe tbody tr th {\n",
       "        vertical-align: top;\n",
       "    }\n",
       "\n",
       "    .dataframe thead th {\n",
       "        text-align: right;\n",
       "    }\n",
       "</style>\n",
       "<table border=\"1\" class=\"dataframe\">\n",
       "  <thead>\n",
       "    <tr style=\"text-align: right;\">\n",
       "      <th></th>\n",
       "      <th>Fee</th>\n",
       "      <th>Duration</th>\n",
       "      <th>Discount</th>\n",
       "    </tr>\n",
       "    <tr>\n",
       "      <th>Courses</th>\n",
       "      <th></th>\n",
       "      <th></th>\n",
       "      <th></th>\n",
       "    </tr>\n",
       "  </thead>\n",
       "  <tbody>\n",
       "    <tr>\n",
       "      <th>Hadoop</th>\n",
       "      <td>48000</td>\n",
       "      <td>55days35days</td>\n",
       "      <td>1000.0</td>\n",
       "    </tr>\n",
       "    <tr>\n",
       "      <th>Pandas</th>\n",
       "      <td>26000</td>\n",
       "      <td>60days</td>\n",
       "      <td>2500.0</td>\n",
       "    </tr>\n",
       "    <tr>\n",
       "      <th>PySpark</th>\n",
       "      <td>25000</td>\n",
       "      <td>50days</td>\n",
       "      <td>2300.0</td>\n",
       "    </tr>\n",
       "    <tr>\n",
       "      <th>Python</th>\n",
       "      <td>46000</td>\n",
       "      <td>40days50days</td>\n",
       "      <td>2800.0</td>\n",
       "    </tr>\n",
       "    <tr>\n",
       "      <th>Spark</th>\n",
       "      <td>47000</td>\n",
       "      <td>30days30days</td>\n",
       "      <td>2400.0</td>\n",
       "    </tr>\n",
       "  </tbody>\n",
       "</table>\n",
       "</div>"
      ],
      "text/plain": [
       "           Fee      Duration  Discount\n",
       "Courses                               \n",
       "Hadoop   48000  55days35days    1000.0\n",
       "Pandas   26000        60days    2500.0\n",
       "PySpark  25000        50days    2300.0\n",
       "Python   46000  40days50days    2800.0\n",
       "Spark    47000  30days30days    2400.0"
      ]
     },
     "execution_count": 24,
     "metadata": {},
     "output_type": "execute_result"
    }
   ],
   "source": [
    "# similarly\n",
    "df.groupby(['Courses']).aggregate('sum')"
   ]
  },
  {
   "cell_type": "code",
   "execution_count": null,
   "id": "a2e7e045",
   "metadata": {},
   "outputs": [],
   "source": []
  },
  {
   "cell_type": "markdown",
   "id": "aa363720",
   "metadata": {},
   "source": [
    "#### pandas groupby() on Two or More Columns like Courses and Duration"
   ]
  },
  {
   "cell_type": "code",
   "execution_count": 25,
   "id": "f2e69a05",
   "metadata": {
    "scrolled": true
   },
   "outputs": [
    {
     "data": {
      "text/html": [
       "<div>\n",
       "<style scoped>\n",
       "    .dataframe tbody tr th:only-of-type {\n",
       "        vertical-align: middle;\n",
       "    }\n",
       "\n",
       "    .dataframe tbody tr th {\n",
       "        vertical-align: top;\n",
       "    }\n",
       "\n",
       "    .dataframe thead th {\n",
       "        text-align: right;\n",
       "    }\n",
       "</style>\n",
       "<table border=\"1\" class=\"dataframe\">\n",
       "  <thead>\n",
       "    <tr style=\"text-align: right;\">\n",
       "      <th></th>\n",
       "      <th></th>\n",
       "      <th>Fee</th>\n",
       "      <th>Discount</th>\n",
       "    </tr>\n",
       "    <tr>\n",
       "      <th>Courses</th>\n",
       "      <th>Duration</th>\n",
       "      <th></th>\n",
       "      <th></th>\n",
       "    </tr>\n",
       "  </thead>\n",
       "  <tbody>\n",
       "    <tr>\n",
       "      <th rowspan=\"2\" valign=\"top\">Hadoop</th>\n",
       "      <th>35days</th>\n",
       "      <td>25000.0</td>\n",
       "      <td>NaN</td>\n",
       "    </tr>\n",
       "    <tr>\n",
       "      <th>55days</th>\n",
       "      <td>23000.0</td>\n",
       "      <td>1000.0</td>\n",
       "    </tr>\n",
       "    <tr>\n",
       "      <th>Pandas</th>\n",
       "      <th>60days</th>\n",
       "      <td>26000.0</td>\n",
       "      <td>2500.0</td>\n",
       "    </tr>\n",
       "    <tr>\n",
       "      <th>PySpark</th>\n",
       "      <th>50days</th>\n",
       "      <td>25000.0</td>\n",
       "      <td>2300.0</td>\n",
       "    </tr>\n",
       "    <tr>\n",
       "      <th rowspan=\"2\" valign=\"top\">Python</th>\n",
       "      <th>40days</th>\n",
       "      <td>24000.0</td>\n",
       "      <td>1200.0</td>\n",
       "    </tr>\n",
       "    <tr>\n",
       "      <th>50days</th>\n",
       "      <td>22000.0</td>\n",
       "      <td>1600.0</td>\n",
       "    </tr>\n",
       "    <tr>\n",
       "      <th>Spark</th>\n",
       "      <th>30days</th>\n",
       "      <td>23500.0</td>\n",
       "      <td>1200.0</td>\n",
       "    </tr>\n",
       "  </tbody>\n",
       "</table>\n",
       "</div>"
      ],
      "text/plain": [
       "                      Fee  Discount\n",
       "Courses Duration                   \n",
       "Hadoop  35days    25000.0       NaN\n",
       "        55days    23000.0    1000.0\n",
       "Pandas  60days    26000.0    2500.0\n",
       "PySpark 50days    25000.0    2300.0\n",
       "Python  40days    24000.0    1200.0\n",
       "        50days    22000.0    1600.0\n",
       "Spark   30days    23500.0    1200.0"
      ]
     },
     "execution_count": 25,
     "metadata": {},
     "output_type": "execute_result"
    }
   ],
   "source": [
    "df.groupby(['Courses','Duration']).mean()"
   ]
  },
  {
   "cell_type": "code",
   "execution_count": null,
   "id": "c215129d",
   "metadata": {},
   "outputs": [],
   "source": [
    "# df"
   ]
  },
  {
   "cell_type": "markdown",
   "id": "b98b7b54",
   "metadata": {},
   "source": [
    "#### Add Index to the grouped data\n",
    "- By default `groupby()` result doesn’t include row Index, you can add the index using `DataFrame.reset_index()` method."
   ]
  },
  {
   "cell_type": "code",
   "execution_count": 26,
   "id": "a65ff9a3",
   "metadata": {},
   "outputs": [
    {
     "data": {
      "text/html": [
       "<div>\n",
       "<style scoped>\n",
       "    .dataframe tbody tr th:only-of-type {\n",
       "        vertical-align: middle;\n",
       "    }\n",
       "\n",
       "    .dataframe tbody tr th {\n",
       "        vertical-align: top;\n",
       "    }\n",
       "\n",
       "    .dataframe thead th {\n",
       "        text-align: right;\n",
       "    }\n",
       "</style>\n",
       "<table border=\"1\" class=\"dataframe\">\n",
       "  <thead>\n",
       "    <tr style=\"text-align: right;\">\n",
       "      <th></th>\n",
       "      <th>Courses</th>\n",
       "      <th>Duration</th>\n",
       "      <th>Fee</th>\n",
       "      <th>Discount</th>\n",
       "    </tr>\n",
       "  </thead>\n",
       "  <tbody>\n",
       "    <tr>\n",
       "      <th>0</th>\n",
       "      <td>Hadoop</td>\n",
       "      <td>35days</td>\n",
       "      <td>25000.0</td>\n",
       "      <td>NaN</td>\n",
       "    </tr>\n",
       "    <tr>\n",
       "      <th>1</th>\n",
       "      <td>Hadoop</td>\n",
       "      <td>55days</td>\n",
       "      <td>23000.0</td>\n",
       "      <td>1000.0</td>\n",
       "    </tr>\n",
       "    <tr>\n",
       "      <th>2</th>\n",
       "      <td>Pandas</td>\n",
       "      <td>60days</td>\n",
       "      <td>26000.0</td>\n",
       "      <td>2500.0</td>\n",
       "    </tr>\n",
       "    <tr>\n",
       "      <th>3</th>\n",
       "      <td>PySpark</td>\n",
       "      <td>50days</td>\n",
       "      <td>25000.0</td>\n",
       "      <td>2300.0</td>\n",
       "    </tr>\n",
       "    <tr>\n",
       "      <th>4</th>\n",
       "      <td>Python</td>\n",
       "      <td>40days</td>\n",
       "      <td>24000.0</td>\n",
       "      <td>1200.0</td>\n",
       "    </tr>\n",
       "    <tr>\n",
       "      <th>5</th>\n",
       "      <td>Python</td>\n",
       "      <td>50days</td>\n",
       "      <td>22000.0</td>\n",
       "      <td>1600.0</td>\n",
       "    </tr>\n",
       "    <tr>\n",
       "      <th>6</th>\n",
       "      <td>Spark</td>\n",
       "      <td>30days</td>\n",
       "      <td>23500.0</td>\n",
       "      <td>1200.0</td>\n",
       "    </tr>\n",
       "  </tbody>\n",
       "</table>\n",
       "</div>"
      ],
      "text/plain": [
       "   Courses Duration      Fee  Discount\n",
       "0   Hadoop   35days  25000.0       NaN\n",
       "1   Hadoop   55days  23000.0    1000.0\n",
       "2   Pandas   60days  26000.0    2500.0\n",
       "3  PySpark   50days  25000.0    2300.0\n",
       "4   Python   40days  24000.0    1200.0\n",
       "5   Python   50days  22000.0    1600.0\n",
       "6    Spark   30days  23500.0    1200.0"
      ]
     },
     "execution_count": 26,
     "metadata": {},
     "output_type": "execute_result"
    }
   ],
   "source": [
    "df.groupby(['Courses','Duration']).mean().reset_index()"
   ]
  },
  {
   "cell_type": "markdown",
   "id": "e5be5e6c",
   "metadata": {},
   "source": [
    "#### Remove sorting on grouped results by using `sort` parameter of df.groupby()"
   ]
  },
  {
   "cell_type": "code",
   "execution_count": null,
   "id": "079ff937",
   "metadata": {
    "scrolled": true
   },
   "outputs": [],
   "source": [
    "df2=df.groupby(by=['Courses'], sort=False).sum()\n",
    "df2"
   ]
  },
  {
   "cell_type": "markdown",
   "id": "9cb7b15e",
   "metadata": {},
   "source": [
    "#### Apply More Aggregations\n",
    "- You can also compute several aggregations at the same time in pandas by passing the list of agg functions to the `aggregate().`"
   ]
  },
  {
   "cell_type": "markdown",
   "id": "4d24cf15",
   "metadata": {},
   "source": [
    "#### Compute minimu and maximum fee of each course"
   ]
  },
  {
   "cell_type": "code",
   "execution_count": null,
   "id": "a4a67d30",
   "metadata": {},
   "outputs": [],
   "source": [
    "df.groupby('Courses')['Fee'].aggregate(['min','max'])"
   ]
  },
  {
   "cell_type": "code",
   "execution_count": null,
   "id": "84f17ea2",
   "metadata": {},
   "outputs": [],
   "source": [
    "# Groupby multiple columns & multiple aggregations\n",
    "df.groupby('Courses').aggregate({'Duration':'count',\n",
    "                                'Fee':['min','max']})"
   ]
  },
  {
   "cell_type": "code",
   "execution_count": null,
   "id": "778abea1",
   "metadata": {},
   "outputs": [],
   "source": []
  },
  {
   "cell_type": "markdown",
   "id": "db7e4e53",
   "metadata": {},
   "source": [
    "## Practice Questions"
   ]
  },
  {
   "cell_type": "markdown",
   "id": "1198aa13",
   "metadata": {},
   "source": [
    "### Regiment\n",
    "- A regiment is a military unit. Its role and size varies markedly, depending on the country, service and/or a specialisation.\n",
    "\n"
   ]
  },
  {
   "cell_type": "markdown",
   "id": "c826893b",
   "metadata": {},
   "source": [
    "#### Step 1. Import the necessary libraries\n"
   ]
  },
  {
   "cell_type": "code",
   "execution_count": null,
   "id": "d9821aa4",
   "metadata": {},
   "outputs": [],
   "source": [
    "import pandas as pd"
   ]
  },
  {
   "cell_type": "markdown",
   "id": "297c02ba",
   "metadata": {},
   "source": [
    "#### Step 2. Create the DataFrame with the following values and Assign it to a variable called regiment."
   ]
  },
  {
   "cell_type": "code",
   "execution_count": null,
   "id": "c28246a5",
   "metadata": {},
   "outputs": [],
   "source": [
    "raw_data = {'regiment': ['Nighthawks', 'Nighthawks', 'Nighthawks', 'Nighthawks', 'Dragoons', 'Dragoons', 'Dragoons', 'Dragoons', 'Scouts', 'Scouts', 'Scouts', 'Scouts'], \n",
    "        'company': ['1st', '1st', '2nd', '2nd', '1st', '1st', '2nd', '2nd','1st', '1st', '2nd', '2nd'], \n",
    "        'name': ['Miller', 'Jacobson', 'Ali', 'Milner', 'Cooze', 'Jacon', 'Ryaner', 'Sone', 'Sloan', 'Piger', 'Riani', 'Ali'], \n",
    "        'preTestScore': [4, 24, 31, 2, 3, 4, 24, 31, 2, 3, 2, 3],\n",
    "        'postTestScore': [25, 94, 57, 62, 70, 25, 94, 57, 62, 70, 62, 70]}\n",
    "regiment = pd.DataFrame(raw_data)\n",
    "regiment"
   ]
  },
  {
   "cell_type": "code",
   "execution_count": null,
   "id": "c635b963",
   "metadata": {},
   "outputs": [],
   "source": []
  },
  {
   "cell_type": "markdown",
   "id": "c97a2a02",
   "metadata": {},
   "source": [
    "#### Step 3. What is the mean `preTestScore` from the regiment `Nighthawks`(Nightbird/Night owl)?\n"
   ]
  },
  {
   "cell_type": "code",
   "execution_count": null,
   "id": "67c33f0b",
   "metadata": {},
   "outputs": [],
   "source": [
    "# First Method\n",
    "regiment[regiment['regiment'] == 'Nighthawks'].describe()"
   ]
  },
  {
   "cell_type": "code",
   "execution_count": null,
   "id": "93fac618",
   "metadata": {},
   "outputs": [],
   "source": [
    "regiment[regiment['regiment'] == 'Nighthawks']['preTestScore']"
   ]
  },
  {
   "cell_type": "code",
   "execution_count": null,
   "id": "7264ab5f",
   "metadata": {},
   "outputs": [],
   "source": [
    "# Second Method\n",
    "regiment[regiment['regiment'] == 'Nighthawks']['preTestScore'].mean()"
   ]
  },
  {
   "cell_type": "code",
   "execution_count": null,
   "id": "3181435f",
   "metadata": {},
   "outputs": [],
   "source": [
    "# regiment[regiment['regiment'] == 'Nighthawks']\n",
    "\n",
    "# 3rd Method\n",
    "regiment.groupby('regiment').mean()"
   ]
  },
  {
   "cell_type": "code",
   "execution_count": null,
   "id": "e1e6611f",
   "metadata": {},
   "outputs": [],
   "source": []
  },
  {
   "cell_type": "code",
   "execution_count": null,
   "id": "d4ae0f57",
   "metadata": {},
   "outputs": [],
   "source": [
    "regiment.groupby('regiment').get_group('Nighthawks')['preTestScore'].mean()"
   ]
  },
  {
   "cell_type": "code",
   "execution_count": null,
   "id": "71420455",
   "metadata": {},
   "outputs": [],
   "source": []
  },
  {
   "cell_type": "code",
   "execution_count": null,
   "id": "d52d1d68",
   "metadata": {},
   "outputs": [],
   "source": []
  },
  {
   "cell_type": "markdown",
   "id": "a9ef1ea2",
   "metadata": {},
   "source": [
    "#### Step 4. Present/show general statistics by `company` of regiment."
   ]
  },
  {
   "cell_type": "code",
   "execution_count": null,
   "id": "b00b90c4",
   "metadata": {},
   "outputs": [],
   "source": [
    "# regiment.groupby('company').describe()\n",
    "\n",
    "regiment.groupby('company').describe()"
   ]
  },
  {
   "cell_type": "code",
   "execution_count": null,
   "id": "b7103f48",
   "metadata": {},
   "outputs": [],
   "source": []
  },
  {
   "cell_type": "code",
   "execution_count": null,
   "id": "8b5df0d9",
   "metadata": {},
   "outputs": [],
   "source": []
  },
  {
   "cell_type": "markdown",
   "id": "489c67d0",
   "metadata": {},
   "source": [
    "#### Step 5. What is the mean of each company's preTestScore?"
   ]
  },
  {
   "cell_type": "code",
   "execution_count": null,
   "id": "983e5189",
   "metadata": {},
   "outputs": [],
   "source": [
    "regiment.groupby('company')['preTestScore'].mean()"
   ]
  },
  {
   "cell_type": "code",
   "execution_count": null,
   "id": "ce04ba82",
   "metadata": {},
   "outputs": [],
   "source": [
    "# regiment.groupby('company')['preTestScore'].mean()\n",
    "\n",
    "# OR\n",
    "\n",
    "regiment.groupby('company').mean()"
   ]
  },
  {
   "cell_type": "markdown",
   "id": "4bf158fa",
   "metadata": {},
   "source": [
    "#### Step 6. Presents/shows the `mean` preTestScores grouped by regiment and company."
   ]
  },
  {
   "cell_type": "code",
   "execution_count": null,
   "id": "a0473b22",
   "metadata": {},
   "outputs": [],
   "source": [
    "regiment.groupby(['regiment','company'])['preTestScore'].mean()"
   ]
  },
  {
   "cell_type": "code",
   "execution_count": null,
   "id": "214f3cf8",
   "metadata": {
    "scrolled": true
   },
   "outputs": [],
   "source": [
    "# regiment.groupby(['regiment','company'])['preTestScore'].mean()\n",
    "# OR\n",
    "regiment.groupby(['regiment', 'company']).preTestScore.mean().unstack()"
   ]
  },
  {
   "cell_type": "markdown",
   "id": "78c1f5ef",
   "metadata": {},
   "source": [
    "#### Step 7. Presents/shows the `mean` preTestScores grouped by regiment and company with reset_index parameter"
   ]
  },
  {
   "cell_type": "code",
   "execution_count": null,
   "id": "8b5c9263",
   "metadata": {
    "scrolled": true
   },
   "outputs": [],
   "source": [
    "regiment.groupby(['regiment', 'company'])['preTestScore'].mean().reset_index()"
   ]
  },
  {
   "cell_type": "code",
   "execution_count": null,
   "id": "20273f15",
   "metadata": {},
   "outputs": [],
   "source": []
  },
  {
   "cell_type": "code",
   "execution_count": null,
   "id": "da845e19",
   "metadata": {},
   "outputs": [],
   "source": []
  },
  {
   "cell_type": "code",
   "execution_count": null,
   "id": "6e6aa8b8",
   "metadata": {},
   "outputs": [],
   "source": []
  },
  {
   "cell_type": "markdown",
   "id": "48911819",
   "metadata": {},
   "source": [
    "#### Step 8. Group the entire dataframe by regiment and company , also perform `sum` aggregate function."
   ]
  },
  {
   "cell_type": "code",
   "execution_count": null,
   "id": "3b04db0f",
   "metadata": {},
   "outputs": [],
   "source": [
    "regiment.groupby(['regiment','company']).sum()"
   ]
  },
  {
   "cell_type": "markdown",
   "id": "5660c165",
   "metadata": {},
   "source": [
    "#### Step 9. What is the number of observations in each regiment and company."
   ]
  },
  {
   "cell_type": "code",
   "execution_count": null,
   "id": "cf22f292",
   "metadata": {},
   "outputs": [],
   "source": [
    "regiment.groupby(['regiment','company']).size()\n",
    "# OR \n",
    "regiment.groupby(['regiment','company']).count()"
   ]
  },
  {
   "cell_type": "markdown",
   "id": "462657d0",
   "metadata": {},
   "source": [
    "#### Step 10. Iterate over a group and print the name and the whole data from the regiment"
   ]
  },
  {
   "cell_type": "code",
   "execution_count": null,
   "id": "18cd8111",
   "metadata": {},
   "outputs": [],
   "source": [
    "for name, data in regiment.groupby('regiment'):\n",
    "    print(\"Group Name :\", name)\n",
    "    print(\"Group Data : \", data,sep=\"\\n\")"
   ]
  },
  {
   "cell_type": "code",
   "execution_count": null,
   "id": "0da1ed0f",
   "metadata": {},
   "outputs": [],
   "source": []
  },
  {
   "cell_type": "code",
   "execution_count": null,
   "id": "e3c97960",
   "metadata": {},
   "outputs": [],
   "source": []
  },
  {
   "cell_type": "markdown",
   "id": "94c74048",
   "metadata": {},
   "source": [
    "## Merging, Joining and Concatenation\n",
    "Before I start with Pandas join and merge functions, let me introduce you to four different types of joins, they are inner join, left join, right join, outer join.\n",
    "<img src=\"images/Untitled.png\" height=500px width=500px align=\"right\"> \n",
    "\n",
    "- **Full outer join**: Combines results from both DataFrames. The result will have all columns from both DataFrames.\n",
    "- **Inner join**: Only those rows which are present in both DataFrame A and DataFrame B will be present in the output.\n",
    "- **Right join**: Right join uses all records from DataFrame B and matching records from DataFrame A.\n",
    "- **Left join**: Left join uses all records from DataFrame A and matching records from DataFrame B.\n",
    "\n",
    "<img src=\"images/joins.png\" height=600px width=600px align=\"left\" > \n"
   ]
  },
  {
   "cell_type": "code",
   "execution_count": null,
   "id": "75b5ecea",
   "metadata": {},
   "outputs": [],
   "source": []
  },
  {
   "cell_type": "markdown",
   "id": "8ab9cb91",
   "metadata": {},
   "source": [
    "### Merging\n",
    "- Merging a Dataframe with one unique key.\n",
    "\n",
    "#### Syntax:\n",
    "```\n",
    "pd.merge(left, right, how='inner', on=None, left_on=None, right_on=None,\n",
    "left_index=False, right_index=False, sort=True)\n",
    "``` \n",
    "- `left` − A DataFrame object.\n",
    "- `right` − Another DataFrame object.\n",
    "- `on` − Columns (names) to join on. Must be found in both the left and right DataFrame objects.\n",
    "- `left_on` − Columns from the left DataFrame to use as keys. Can either be column names or arrays with length equal to the length of the DataFrame.\n",
    "- `right_on` − Columns from the right DataFrame to use as keys. Can either be column names or arrays with length equal to the length of the DataFrame.\n",
    "- `left_index` − If True, use the index (row labels) from the left DataFrame as its join key(s). In case of a DataFrame with a MultiIndex (hierarchical), the number of levels must match the number of join keys from the right DataFrame.\n",
    "- `right_index` − Same usage as left_index for the right DataFrame.\n",
    "- `how` − One of 'left', 'right', 'outer', 'inner'. Defaults to inner. Each method has been described below.\n",
    "- `sort` − Sort the result DataFrame by the join keys in lexicographical order. Defaults to True, setting to False will improve the performance substantially in many cases."
   ]
  },
  {
   "cell_type": "code",
   "execution_count": 27,
   "id": "9c7efe9d-28bc-4125-b047-5efdc259dfd0",
   "metadata": {},
   "outputs": [],
   "source": [
    "# Define a dictionary containing employee data \n",
    "import pandas as pd\n",
    "data1 = {'key':['K0','K1','K2','K3'],\n",
    "         'Name':['Mercy', 'Prince', 'John', 'Cena'],\n",
    "         'Age':[27, 24, 22, 32],} \n",
    "# Define a dictionary containing employee data \n",
    "\n",
    "data2 = {'key':['K0','K1','K2','K3'],\n",
    "         'Address':['Canada', 'UK', 'India', 'USA'], \n",
    "         'Qualification':['Btech', 'B.A', 'MS', 'Phd']} "
   ]
  },
  {
   "cell_type": "code",
   "execution_count": 29,
   "id": "a74b251b",
   "metadata": {},
   "outputs": [
    {
     "data": {
      "text/html": [
       "<div>\n",
       "<style scoped>\n",
       "    .dataframe tbody tr th:only-of-type {\n",
       "        vertical-align: middle;\n",
       "    }\n",
       "\n",
       "    .dataframe tbody tr th {\n",
       "        vertical-align: top;\n",
       "    }\n",
       "\n",
       "    .dataframe thead th {\n",
       "        text-align: right;\n",
       "    }\n",
       "</style>\n",
       "<table border=\"1\" class=\"dataframe\">\n",
       "  <thead>\n",
       "    <tr style=\"text-align: right;\">\n",
       "      <th></th>\n",
       "      <th>key</th>\n",
       "      <th>Name</th>\n",
       "      <th>Age</th>\n",
       "    </tr>\n",
       "  </thead>\n",
       "  <tbody>\n",
       "    <tr>\n",
       "      <th>0</th>\n",
       "      <td>K0</td>\n",
       "      <td>Mercy</td>\n",
       "      <td>27</td>\n",
       "    </tr>\n",
       "    <tr>\n",
       "      <th>1</th>\n",
       "      <td>K1</td>\n",
       "      <td>Prince</td>\n",
       "      <td>24</td>\n",
       "    </tr>\n",
       "    <tr>\n",
       "      <th>2</th>\n",
       "      <td>K2</td>\n",
       "      <td>John</td>\n",
       "      <td>22</td>\n",
       "    </tr>\n",
       "    <tr>\n",
       "      <th>3</th>\n",
       "      <td>K3</td>\n",
       "      <td>Cena</td>\n",
       "      <td>32</td>\n",
       "    </tr>\n",
       "  </tbody>\n",
       "</table>\n",
       "</div>"
      ],
      "text/plain": [
       "  key    Name  Age\n",
       "0  K0   Mercy   27\n",
       "1  K1  Prince   24\n",
       "2  K2    John   22\n",
       "3  K3    Cena   32"
      ]
     },
     "execution_count": 29,
     "metadata": {},
     "output_type": "execute_result"
    }
   ],
   "source": [
    "\n",
    "\n",
    "# Convert the dictionary into DataFrame  \n",
    "df1 = pd.DataFrame(data1)\n",
    "# Convert the dictionary into DataFrame  \n",
    "df2 = pd.DataFrame(data2) \n",
    "\n",
    "df1"
   ]
  },
  {
   "cell_type": "code",
   "execution_count": 30,
   "id": "b68298e3-67f4-4b94-befe-929c3a7f7bfb",
   "metadata": {},
   "outputs": [
    {
     "data": {
      "text/html": [
       "<div>\n",
       "<style scoped>\n",
       "    .dataframe tbody tr th:only-of-type {\n",
       "        vertical-align: middle;\n",
       "    }\n",
       "\n",
       "    .dataframe tbody tr th {\n",
       "        vertical-align: top;\n",
       "    }\n",
       "\n",
       "    .dataframe thead th {\n",
       "        text-align: right;\n",
       "    }\n",
       "</style>\n",
       "<table border=\"1\" class=\"dataframe\">\n",
       "  <thead>\n",
       "    <tr style=\"text-align: right;\">\n",
       "      <th></th>\n",
       "      <th>key</th>\n",
       "      <th>Address</th>\n",
       "      <th>Qualification</th>\n",
       "    </tr>\n",
       "  </thead>\n",
       "  <tbody>\n",
       "    <tr>\n",
       "      <th>0</th>\n",
       "      <td>K0</td>\n",
       "      <td>Canada</td>\n",
       "      <td>Btech</td>\n",
       "    </tr>\n",
       "    <tr>\n",
       "      <th>1</th>\n",
       "      <td>K1</td>\n",
       "      <td>UK</td>\n",
       "      <td>B.A</td>\n",
       "    </tr>\n",
       "    <tr>\n",
       "      <th>2</th>\n",
       "      <td>K2</td>\n",
       "      <td>India</td>\n",
       "      <td>MS</td>\n",
       "    </tr>\n",
       "    <tr>\n",
       "      <th>3</th>\n",
       "      <td>K3</td>\n",
       "      <td>USA</td>\n",
       "      <td>Phd</td>\n",
       "    </tr>\n",
       "  </tbody>\n",
       "</table>\n",
       "</div>"
      ],
      "text/plain": [
       "  key Address Qualification\n",
       "0  K0  Canada         Btech\n",
       "1  K1      UK           B.A\n",
       "2  K2   India            MS\n",
       "3  K3     USA           Phd"
      ]
     },
     "execution_count": 30,
     "metadata": {},
     "output_type": "execute_result"
    }
   ],
   "source": [
    "df2"
   ]
  },
  {
   "cell_type": "code",
   "execution_count": null,
   "id": "e69aaf02-f51f-4c81-b3ac-e4582765937f",
   "metadata": {},
   "outputs": [],
   "source": []
  },
  {
   "cell_type": "code",
   "execution_count": null,
   "id": "0bbdf964-bb93-4cb2-a1e9-f0763f6a1d11",
   "metadata": {},
   "outputs": [],
   "source": []
  },
  {
   "cell_type": "code",
   "execution_count": 31,
   "id": "5b9f46ab",
   "metadata": {},
   "outputs": [
    {
     "data": {
      "text/html": [
       "<div>\n",
       "<style scoped>\n",
       "    .dataframe tbody tr th:only-of-type {\n",
       "        vertical-align: middle;\n",
       "    }\n",
       "\n",
       "    .dataframe tbody tr th {\n",
       "        vertical-align: top;\n",
       "    }\n",
       "\n",
       "    .dataframe thead th {\n",
       "        text-align: right;\n",
       "    }\n",
       "</style>\n",
       "<table border=\"1\" class=\"dataframe\">\n",
       "  <thead>\n",
       "    <tr style=\"text-align: right;\">\n",
       "      <th></th>\n",
       "      <th>key</th>\n",
       "      <th>Name</th>\n",
       "      <th>Age</th>\n",
       "      <th>Address</th>\n",
       "      <th>Qualification</th>\n",
       "    </tr>\n",
       "  </thead>\n",
       "  <tbody>\n",
       "    <tr>\n",
       "      <th>0</th>\n",
       "      <td>K0</td>\n",
       "      <td>Mercy</td>\n",
       "      <td>27</td>\n",
       "      <td>Canada</td>\n",
       "      <td>Btech</td>\n",
       "    </tr>\n",
       "    <tr>\n",
       "      <th>1</th>\n",
       "      <td>K1</td>\n",
       "      <td>Prince</td>\n",
       "      <td>24</td>\n",
       "      <td>UK</td>\n",
       "      <td>B.A</td>\n",
       "    </tr>\n",
       "    <tr>\n",
       "      <th>2</th>\n",
       "      <td>K2</td>\n",
       "      <td>John</td>\n",
       "      <td>22</td>\n",
       "      <td>India</td>\n",
       "      <td>MS</td>\n",
       "    </tr>\n",
       "    <tr>\n",
       "      <th>3</th>\n",
       "      <td>K3</td>\n",
       "      <td>Cena</td>\n",
       "      <td>32</td>\n",
       "      <td>USA</td>\n",
       "      <td>Phd</td>\n",
       "    </tr>\n",
       "  </tbody>\n",
       "</table>\n",
       "</div>"
      ],
      "text/plain": [
       "  key    Name  Age Address Qualification\n",
       "0  K0   Mercy   27  Canada         Btech\n",
       "1  K1  Prince   24      UK           B.A\n",
       "2  K2    John   22   India            MS\n",
       "3  K3    Cena   32     USA           Phd"
      ]
     },
     "execution_count": 31,
     "metadata": {},
     "output_type": "execute_result"
    }
   ],
   "source": [
    "# merging of two dataframes on basis ok `key` \n",
    "final_df = pd.merge(df1, df2, on='key')\n",
    "final_df"
   ]
  },
  {
   "cell_type": "code",
   "execution_count": null,
   "id": "6bdeb316",
   "metadata": {},
   "outputs": [],
   "source": []
  },
  {
   "cell_type": "markdown",
   "id": "cc3d47dd",
   "metadata": {},
   "source": [
    "#### Merging Dataframe using multiple keys."
   ]
  },
  {
   "cell_type": "code",
   "execution_count": 32,
   "id": "62a5d89d",
   "metadata": {},
   "outputs": [
    {
     "data": {
      "text/plain": [
       "(0       Canada\n",
       " 1    Australia\n",
       " 2        India\n",
       " 3        Japan\n",
       " Name: Address, dtype: object,\n",
       " 0    Canada\n",
       " 1        UK\n",
       " 2     India\n",
       " 3       USA\n",
       " Name: Address, dtype: object)"
      ]
     },
     "execution_count": 32,
     "metadata": {},
     "output_type": "execute_result"
    }
   ],
   "source": [
    "# Define a dictionary containing employee data \n",
    "\n",
    "data1 = {'key':['K0','K1','K2','K3'],\n",
    "         'Name':['Mercy', 'Prince', 'John', 'Cena'],\n",
    "          'Address':['Canada', 'Australia', 'India', 'Japan'],\n",
    "         'Age':[27, 24, 22, 32],} \n",
    "# Define a dictionary containing employee data \n",
    "\n",
    "data2 = {'key':['K0','K1','K2','K3'],\n",
    "         'Address':['Canada', 'UK', 'India', 'USA'], \n",
    "         'Qualification':['Btech', 'B.A', 'MS', 'Phd']} \n",
    "\n",
    "# Convert the dictionary into DataFrame  \n",
    "df1 = pd.DataFrame(data1)\n",
    "# Convert the dictionary into DataFrame  \n",
    "df2 = pd.DataFrame(data2) \n",
    "\n",
    "df1.Address, df2.Address"
   ]
  },
  {
   "cell_type": "code",
   "execution_count": 33,
   "id": "c53ae03d",
   "metadata": {},
   "outputs": [
    {
     "data": {
      "text/html": [
       "<div>\n",
       "<style scoped>\n",
       "    .dataframe tbody tr th:only-of-type {\n",
       "        vertical-align: middle;\n",
       "    }\n",
       "\n",
       "    .dataframe tbody tr th {\n",
       "        vertical-align: top;\n",
       "    }\n",
       "\n",
       "    .dataframe thead th {\n",
       "        text-align: right;\n",
       "    }\n",
       "</style>\n",
       "<table border=\"1\" class=\"dataframe\">\n",
       "  <thead>\n",
       "    <tr style=\"text-align: right;\">\n",
       "      <th></th>\n",
       "      <th>key</th>\n",
       "      <th>Name</th>\n",
       "      <th>Address</th>\n",
       "      <th>Age</th>\n",
       "      <th>Qualification</th>\n",
       "    </tr>\n",
       "  </thead>\n",
       "  <tbody>\n",
       "    <tr>\n",
       "      <th>0</th>\n",
       "      <td>K0</td>\n",
       "      <td>Mercy</td>\n",
       "      <td>Canada</td>\n",
       "      <td>27</td>\n",
       "      <td>Btech</td>\n",
       "    </tr>\n",
       "    <tr>\n",
       "      <th>1</th>\n",
       "      <td>K2</td>\n",
       "      <td>John</td>\n",
       "      <td>India</td>\n",
       "      <td>22</td>\n",
       "      <td>MS</td>\n",
       "    </tr>\n",
       "  </tbody>\n",
       "</table>\n",
       "</div>"
      ],
      "text/plain": [
       "  key   Name Address  Age Qualification\n",
       "0  K0  Mercy  Canada   27         Btech\n",
       "1  K2   John   India   22            MS"
      ]
     },
     "execution_count": 33,
     "metadata": {},
     "output_type": "execute_result"
    }
   ],
   "source": [
    "# merging of two dataframes on basis ok `key` \n",
    "final_df = pd.merge(df1, df2, on=['key','Address'])\n",
    "final_df"
   ]
  },
  {
   "cell_type": "code",
   "execution_count": null,
   "id": "a8403ba0",
   "metadata": {},
   "outputs": [],
   "source": []
  },
  {
   "cell_type": "markdown",
   "id": "11c4a4e7",
   "metadata": {},
   "source": [
    "#### Left merge\n",
    "- In pd.merge() I pass the argument `how = left` to perform a left merge."
   ]
  },
  {
   "cell_type": "code",
   "execution_count": 34,
   "id": "8da43cba",
   "metadata": {},
   "outputs": [
    {
     "data": {
      "text/html": [
       "<div>\n",
       "<style scoped>\n",
       "    .dataframe tbody tr th:only-of-type {\n",
       "        vertical-align: middle;\n",
       "    }\n",
       "\n",
       "    .dataframe tbody tr th {\n",
       "        vertical-align: top;\n",
       "    }\n",
       "\n",
       "    .dataframe thead th {\n",
       "        text-align: right;\n",
       "    }\n",
       "</style>\n",
       "<table border=\"1\" class=\"dataframe\">\n",
       "  <thead>\n",
       "    <tr style=\"text-align: right;\">\n",
       "      <th></th>\n",
       "      <th>key</th>\n",
       "      <th>Name</th>\n",
       "      <th>Address</th>\n",
       "      <th>Age</th>\n",
       "    </tr>\n",
       "  </thead>\n",
       "  <tbody>\n",
       "    <tr>\n",
       "      <th>0</th>\n",
       "      <td>K0</td>\n",
       "      <td>Mercy</td>\n",
       "      <td>Canada</td>\n",
       "      <td>27</td>\n",
       "    </tr>\n",
       "    <tr>\n",
       "      <th>1</th>\n",
       "      <td>K1</td>\n",
       "      <td>Prince</td>\n",
       "      <td>Australia</td>\n",
       "      <td>24</td>\n",
       "    </tr>\n",
       "    <tr>\n",
       "      <th>2</th>\n",
       "      <td>K2</td>\n",
       "      <td>John</td>\n",
       "      <td>India</td>\n",
       "      <td>22</td>\n",
       "    </tr>\n",
       "    <tr>\n",
       "      <th>3</th>\n",
       "      <td>K3</td>\n",
       "      <td>Cena</td>\n",
       "      <td>Japan</td>\n",
       "      <td>32</td>\n",
       "    </tr>\n",
       "  </tbody>\n",
       "</table>\n",
       "</div>"
      ],
      "text/plain": [
       "  key    Name    Address  Age\n",
       "0  K0   Mercy     Canada   27\n",
       "1  K1  Prince  Australia   24\n",
       "2  K2    John      India   22\n",
       "3  K3    Cena      Japan   32"
      ]
     },
     "execution_count": 34,
     "metadata": {},
     "output_type": "execute_result"
    }
   ],
   "source": [
    "# Define a dictionary containing employee data \n",
    "\n",
    "data1 = {'key':['K0','K1','K2','K3'],\n",
    "         'Name':['Mercy', 'Prince', 'John', 'Cena'],\n",
    "          'Address':['Canada', 'Australia', 'India', 'Japan'],\n",
    "         'Age':[27, 24, 22, 32],} \n",
    "# Define a dictionary containing employee data \n",
    "\n",
    "data2 = {'key':['K0','K1','K2','K3'],\n",
    "         'Address':['Canada', 'UK', 'India', 'USA'], \n",
    "         'Qualification':['Btech', 'B.A', 'MS', 'Phd']} \n",
    "\n",
    "# Convert the dictionary into DataFrame  \n",
    "df1 = pd.DataFrame(data1)\n",
    "# Convert the dictionary into DataFrame  \n",
    "df2 = pd.DataFrame(data2) \n",
    "\n",
    "df1"
   ]
  },
  {
   "cell_type": "code",
   "execution_count": 35,
   "id": "c2e3e514",
   "metadata": {},
   "outputs": [
    {
     "data": {
      "text/html": [
       "<div>\n",
       "<style scoped>\n",
       "    .dataframe tbody tr th:only-of-type {\n",
       "        vertical-align: middle;\n",
       "    }\n",
       "\n",
       "    .dataframe tbody tr th {\n",
       "        vertical-align: top;\n",
       "    }\n",
       "\n",
       "    .dataframe thead th {\n",
       "        text-align: right;\n",
       "    }\n",
       "</style>\n",
       "<table border=\"1\" class=\"dataframe\">\n",
       "  <thead>\n",
       "    <tr style=\"text-align: right;\">\n",
       "      <th></th>\n",
       "      <th>key</th>\n",
       "      <th>Address</th>\n",
       "      <th>Qualification</th>\n",
       "    </tr>\n",
       "  </thead>\n",
       "  <tbody>\n",
       "    <tr>\n",
       "      <th>0</th>\n",
       "      <td>K0</td>\n",
       "      <td>Canada</td>\n",
       "      <td>Btech</td>\n",
       "    </tr>\n",
       "    <tr>\n",
       "      <th>1</th>\n",
       "      <td>K1</td>\n",
       "      <td>UK</td>\n",
       "      <td>B.A</td>\n",
       "    </tr>\n",
       "    <tr>\n",
       "      <th>2</th>\n",
       "      <td>K2</td>\n",
       "      <td>India</td>\n",
       "      <td>MS</td>\n",
       "    </tr>\n",
       "    <tr>\n",
       "      <th>3</th>\n",
       "      <td>K3</td>\n",
       "      <td>USA</td>\n",
       "      <td>Phd</td>\n",
       "    </tr>\n",
       "  </tbody>\n",
       "</table>\n",
       "</div>"
      ],
      "text/plain": [
       "  key Address Qualification\n",
       "0  K0  Canada         Btech\n",
       "1  K1      UK           B.A\n",
       "2  K2   India            MS\n",
       "3  K3     USA           Phd"
      ]
     },
     "execution_count": 35,
     "metadata": {},
     "output_type": "execute_result"
    }
   ],
   "source": [
    "df2"
   ]
  },
  {
   "cell_type": "code",
   "execution_count": 36,
   "id": "f5630fc8",
   "metadata": {},
   "outputs": [
    {
     "data": {
      "text/html": [
       "<div>\n",
       "<style scoped>\n",
       "    .dataframe tbody tr th:only-of-type {\n",
       "        vertical-align: middle;\n",
       "    }\n",
       "\n",
       "    .dataframe tbody tr th {\n",
       "        vertical-align: top;\n",
       "    }\n",
       "\n",
       "    .dataframe thead th {\n",
       "        text-align: right;\n",
       "    }\n",
       "</style>\n",
       "<table border=\"1\" class=\"dataframe\">\n",
       "  <thead>\n",
       "    <tr style=\"text-align: right;\">\n",
       "      <th></th>\n",
       "      <th>key</th>\n",
       "      <th>Name</th>\n",
       "      <th>Address</th>\n",
       "      <th>Age</th>\n",
       "      <th>Qualification</th>\n",
       "    </tr>\n",
       "  </thead>\n",
       "  <tbody>\n",
       "    <tr>\n",
       "      <th>0</th>\n",
       "      <td>K0</td>\n",
       "      <td>Mercy</td>\n",
       "      <td>Canada</td>\n",
       "      <td>27</td>\n",
       "      <td>Btech</td>\n",
       "    </tr>\n",
       "    <tr>\n",
       "      <th>1</th>\n",
       "      <td>K1</td>\n",
       "      <td>Prince</td>\n",
       "      <td>Australia</td>\n",
       "      <td>24</td>\n",
       "      <td>NaN</td>\n",
       "    </tr>\n",
       "    <tr>\n",
       "      <th>2</th>\n",
       "      <td>K2</td>\n",
       "      <td>John</td>\n",
       "      <td>India</td>\n",
       "      <td>22</td>\n",
       "      <td>MS</td>\n",
       "    </tr>\n",
       "    <tr>\n",
       "      <th>3</th>\n",
       "      <td>K3</td>\n",
       "      <td>Cena</td>\n",
       "      <td>Japan</td>\n",
       "      <td>32</td>\n",
       "      <td>NaN</td>\n",
       "    </tr>\n",
       "  </tbody>\n",
       "</table>\n",
       "</div>"
      ],
      "text/plain": [
       "  key    Name    Address  Age Qualification\n",
       "0  K0   Mercy     Canada   27         Btech\n",
       "1  K1  Prince  Australia   24           NaN\n",
       "2  K2    John      India   22            MS\n",
       "3  K3    Cena      Japan   32           NaN"
      ]
     },
     "execution_count": 36,
     "metadata": {},
     "output_type": "execute_result"
    }
   ],
   "source": [
    "# merging of two dataframes on basis ok `key` \n",
    "final_df = pd.merge(df1, df2, on=['key','Address'], how='left')\n",
    "final_df"
   ]
  },
  {
   "cell_type": "code",
   "execution_count": null,
   "id": "477530d2",
   "metadata": {},
   "outputs": [],
   "source": []
  },
  {
   "cell_type": "markdown",
   "id": "b9aba6b4",
   "metadata": {},
   "source": [
    "#### Right merge\n",
    "- In pd.merge() I pass the argument `how = right` to perform a left merge."
   ]
  },
  {
   "cell_type": "code",
   "execution_count": 37,
   "id": "db97cf75",
   "metadata": {},
   "outputs": [
    {
     "data": {
      "text/html": [
       "<div>\n",
       "<style scoped>\n",
       "    .dataframe tbody tr th:only-of-type {\n",
       "        vertical-align: middle;\n",
       "    }\n",
       "\n",
       "    .dataframe tbody tr th {\n",
       "        vertical-align: top;\n",
       "    }\n",
       "\n",
       "    .dataframe thead th {\n",
       "        text-align: right;\n",
       "    }\n",
       "</style>\n",
       "<table border=\"1\" class=\"dataframe\">\n",
       "  <thead>\n",
       "    <tr style=\"text-align: right;\">\n",
       "      <th></th>\n",
       "      <th>key</th>\n",
       "      <th>Name</th>\n",
       "      <th>Address</th>\n",
       "      <th>Age</th>\n",
       "    </tr>\n",
       "  </thead>\n",
       "  <tbody>\n",
       "    <tr>\n",
       "      <th>0</th>\n",
       "      <td>K0</td>\n",
       "      <td>Mercy</td>\n",
       "      <td>Canada</td>\n",
       "      <td>27</td>\n",
       "    </tr>\n",
       "    <tr>\n",
       "      <th>1</th>\n",
       "      <td>K1</td>\n",
       "      <td>Prince</td>\n",
       "      <td>Australia</td>\n",
       "      <td>24</td>\n",
       "    </tr>\n",
       "    <tr>\n",
       "      <th>2</th>\n",
       "      <td>K2</td>\n",
       "      <td>John</td>\n",
       "      <td>India</td>\n",
       "      <td>22</td>\n",
       "    </tr>\n",
       "    <tr>\n",
       "      <th>3</th>\n",
       "      <td>K3</td>\n",
       "      <td>Cena</td>\n",
       "      <td>Japan</td>\n",
       "      <td>32</td>\n",
       "    </tr>\n",
       "  </tbody>\n",
       "</table>\n",
       "</div>"
      ],
      "text/plain": [
       "  key    Name    Address  Age\n",
       "0  K0   Mercy     Canada   27\n",
       "1  K1  Prince  Australia   24\n",
       "2  K2    John      India   22\n",
       "3  K3    Cena      Japan   32"
      ]
     },
     "execution_count": 37,
     "metadata": {},
     "output_type": "execute_result"
    }
   ],
   "source": [
    "# Define a dictionary containing employee data \n",
    "\n",
    "data1 = {'key':['K0','K1','K2','K3'],\n",
    "         'Name':['Mercy', 'Prince', 'John', 'Cena'],\n",
    "          'Address':['Canada', 'Australia', 'India', 'Japan'],\n",
    "         'Age':[27, 24, 22, 32],} \n",
    "# Define a dictionary containing employee data \n",
    "\n",
    "data2 = {'key':['K0','K1','K2','K3'],\n",
    "         'Address':['Canada', 'UK', 'India', 'USA'], \n",
    "         'Qualification':['Btech', 'B.A', 'MS', 'Phd']} \n",
    "\n",
    "# Convert the dictionary into DataFrame  \n",
    "df1 = pd.DataFrame(data1)\n",
    "# Convert the dictionary into DataFrame  \n",
    "df2 = pd.DataFrame(data2) \n",
    "df1"
   ]
  },
  {
   "cell_type": "code",
   "execution_count": 38,
   "id": "d507079d",
   "metadata": {},
   "outputs": [
    {
     "data": {
      "text/html": [
       "<div>\n",
       "<style scoped>\n",
       "    .dataframe tbody tr th:only-of-type {\n",
       "        vertical-align: middle;\n",
       "    }\n",
       "\n",
       "    .dataframe tbody tr th {\n",
       "        vertical-align: top;\n",
       "    }\n",
       "\n",
       "    .dataframe thead th {\n",
       "        text-align: right;\n",
       "    }\n",
       "</style>\n",
       "<table border=\"1\" class=\"dataframe\">\n",
       "  <thead>\n",
       "    <tr style=\"text-align: right;\">\n",
       "      <th></th>\n",
       "      <th>key</th>\n",
       "      <th>Address</th>\n",
       "      <th>Qualification</th>\n",
       "    </tr>\n",
       "  </thead>\n",
       "  <tbody>\n",
       "    <tr>\n",
       "      <th>0</th>\n",
       "      <td>K0</td>\n",
       "      <td>Canada</td>\n",
       "      <td>Btech</td>\n",
       "    </tr>\n",
       "    <tr>\n",
       "      <th>1</th>\n",
       "      <td>K1</td>\n",
       "      <td>UK</td>\n",
       "      <td>B.A</td>\n",
       "    </tr>\n",
       "    <tr>\n",
       "      <th>2</th>\n",
       "      <td>K2</td>\n",
       "      <td>India</td>\n",
       "      <td>MS</td>\n",
       "    </tr>\n",
       "    <tr>\n",
       "      <th>3</th>\n",
       "      <td>K3</td>\n",
       "      <td>USA</td>\n",
       "      <td>Phd</td>\n",
       "    </tr>\n",
       "  </tbody>\n",
       "</table>\n",
       "</div>"
      ],
      "text/plain": [
       "  key Address Qualification\n",
       "0  K0  Canada         Btech\n",
       "1  K1      UK           B.A\n",
       "2  K2   India            MS\n",
       "3  K3     USA           Phd"
      ]
     },
     "execution_count": 38,
     "metadata": {},
     "output_type": "execute_result"
    }
   ],
   "source": [
    "df2"
   ]
  },
  {
   "cell_type": "code",
   "execution_count": 39,
   "id": "b90e2a26",
   "metadata": {},
   "outputs": [
    {
     "data": {
      "text/html": [
       "<div>\n",
       "<style scoped>\n",
       "    .dataframe tbody tr th:only-of-type {\n",
       "        vertical-align: middle;\n",
       "    }\n",
       "\n",
       "    .dataframe tbody tr th {\n",
       "        vertical-align: top;\n",
       "    }\n",
       "\n",
       "    .dataframe thead th {\n",
       "        text-align: right;\n",
       "    }\n",
       "</style>\n",
       "<table border=\"1\" class=\"dataframe\">\n",
       "  <thead>\n",
       "    <tr style=\"text-align: right;\">\n",
       "      <th></th>\n",
       "      <th>key</th>\n",
       "      <th>Name</th>\n",
       "      <th>Address</th>\n",
       "      <th>Age</th>\n",
       "      <th>Qualification</th>\n",
       "    </tr>\n",
       "  </thead>\n",
       "  <tbody>\n",
       "    <tr>\n",
       "      <th>0</th>\n",
       "      <td>K0</td>\n",
       "      <td>Mercy</td>\n",
       "      <td>Canada</td>\n",
       "      <td>27.0</td>\n",
       "      <td>Btech</td>\n",
       "    </tr>\n",
       "    <tr>\n",
       "      <th>1</th>\n",
       "      <td>K1</td>\n",
       "      <td>NaN</td>\n",
       "      <td>UK</td>\n",
       "      <td>NaN</td>\n",
       "      <td>B.A</td>\n",
       "    </tr>\n",
       "    <tr>\n",
       "      <th>2</th>\n",
       "      <td>K2</td>\n",
       "      <td>John</td>\n",
       "      <td>India</td>\n",
       "      <td>22.0</td>\n",
       "      <td>MS</td>\n",
       "    </tr>\n",
       "    <tr>\n",
       "      <th>3</th>\n",
       "      <td>K3</td>\n",
       "      <td>NaN</td>\n",
       "      <td>USA</td>\n",
       "      <td>NaN</td>\n",
       "      <td>Phd</td>\n",
       "    </tr>\n",
       "  </tbody>\n",
       "</table>\n",
       "</div>"
      ],
      "text/plain": [
       "  key   Name Address   Age Qualification\n",
       "0  K0  Mercy  Canada  27.0         Btech\n",
       "1  K1    NaN      UK   NaN           B.A\n",
       "2  K2   John   India  22.0            MS\n",
       "3  K3    NaN     USA   NaN           Phd"
      ]
     },
     "execution_count": 39,
     "metadata": {},
     "output_type": "execute_result"
    }
   ],
   "source": [
    "\n",
    "# merging of two dataframes on basis ok `key` \n",
    "final_df = pd.merge(df1, df2, on=['key','Address'], how='right')\n",
    "final_df"
   ]
  },
  {
   "cell_type": "code",
   "execution_count": null,
   "id": "e9cd03bf",
   "metadata": {},
   "outputs": [],
   "source": []
  },
  {
   "cell_type": "markdown",
   "id": "17b7a4dc",
   "metadata": {},
   "source": [
    "#### Outer Merge\n",
    "- In pd.merge(), I pass the argument `how = outer` to perform a outer merge."
   ]
  },
  {
   "cell_type": "code",
   "execution_count": 40,
   "id": "0ed3d5cd",
   "metadata": {},
   "outputs": [
    {
     "data": {
      "text/html": [
       "<div>\n",
       "<style scoped>\n",
       "    .dataframe tbody tr th:only-of-type {\n",
       "        vertical-align: middle;\n",
       "    }\n",
       "\n",
       "    .dataframe tbody tr th {\n",
       "        vertical-align: top;\n",
       "    }\n",
       "\n",
       "    .dataframe thead th {\n",
       "        text-align: right;\n",
       "    }\n",
       "</style>\n",
       "<table border=\"1\" class=\"dataframe\">\n",
       "  <thead>\n",
       "    <tr style=\"text-align: right;\">\n",
       "      <th></th>\n",
       "      <th>key</th>\n",
       "      <th>Name</th>\n",
       "      <th>Address</th>\n",
       "      <th>Age</th>\n",
       "    </tr>\n",
       "  </thead>\n",
       "  <tbody>\n",
       "    <tr>\n",
       "      <th>0</th>\n",
       "      <td>K0</td>\n",
       "      <td>Mercy</td>\n",
       "      <td>Canada</td>\n",
       "      <td>27</td>\n",
       "    </tr>\n",
       "    <tr>\n",
       "      <th>1</th>\n",
       "      <td>K1</td>\n",
       "      <td>Prince</td>\n",
       "      <td>Australia</td>\n",
       "      <td>24</td>\n",
       "    </tr>\n",
       "    <tr>\n",
       "      <th>2</th>\n",
       "      <td>K2</td>\n",
       "      <td>John</td>\n",
       "      <td>India</td>\n",
       "      <td>22</td>\n",
       "    </tr>\n",
       "    <tr>\n",
       "      <th>3</th>\n",
       "      <td>K3</td>\n",
       "      <td>Cena</td>\n",
       "      <td>Japan</td>\n",
       "      <td>32</td>\n",
       "    </tr>\n",
       "  </tbody>\n",
       "</table>\n",
       "</div>"
      ],
      "text/plain": [
       "  key    Name    Address  Age\n",
       "0  K0   Mercy     Canada   27\n",
       "1  K1  Prince  Australia   24\n",
       "2  K2    John      India   22\n",
       "3  K3    Cena      Japan   32"
      ]
     },
     "execution_count": 40,
     "metadata": {},
     "output_type": "execute_result"
    }
   ],
   "source": [
    "# Define a dictionary containing employee data \n",
    "\n",
    "data1 = {'key':['K0','K1','K2','K3'],\n",
    "         'Name':['Mercy', 'Prince', 'John', 'Cena'],\n",
    "          'Address':['Canada', 'Australia', 'India', 'Japan'],\n",
    "         'Age':[27, 24, 22, 32],} \n",
    "# Define a dictionary containing employee data \n",
    "\n",
    "data2 = {'key':['K0','K1','K2','K3'],\n",
    "         'Address':['Canada', 'UK', 'India', 'USA'], \n",
    "         'Qualification':['Btech', 'B.A', 'MS', 'Phd']} \n",
    "\n",
    "# Convert the dictionary into DataFrame  \n",
    "df1 = pd.DataFrame(data1)\n",
    "# Convert the dictionary into DataFrame  \n",
    "df2 = pd.DataFrame(data2) \n",
    "df1"
   ]
  },
  {
   "cell_type": "code",
   "execution_count": 41,
   "id": "658229b4",
   "metadata": {},
   "outputs": [
    {
     "data": {
      "text/html": [
       "<div>\n",
       "<style scoped>\n",
       "    .dataframe tbody tr th:only-of-type {\n",
       "        vertical-align: middle;\n",
       "    }\n",
       "\n",
       "    .dataframe tbody tr th {\n",
       "        vertical-align: top;\n",
       "    }\n",
       "\n",
       "    .dataframe thead th {\n",
       "        text-align: right;\n",
       "    }\n",
       "</style>\n",
       "<table border=\"1\" class=\"dataframe\">\n",
       "  <thead>\n",
       "    <tr style=\"text-align: right;\">\n",
       "      <th></th>\n",
       "      <th>key</th>\n",
       "      <th>Address</th>\n",
       "      <th>Qualification</th>\n",
       "    </tr>\n",
       "  </thead>\n",
       "  <tbody>\n",
       "    <tr>\n",
       "      <th>0</th>\n",
       "      <td>K0</td>\n",
       "      <td>Canada</td>\n",
       "      <td>Btech</td>\n",
       "    </tr>\n",
       "    <tr>\n",
       "      <th>1</th>\n",
       "      <td>K1</td>\n",
       "      <td>UK</td>\n",
       "      <td>B.A</td>\n",
       "    </tr>\n",
       "    <tr>\n",
       "      <th>2</th>\n",
       "      <td>K2</td>\n",
       "      <td>India</td>\n",
       "      <td>MS</td>\n",
       "    </tr>\n",
       "    <tr>\n",
       "      <th>3</th>\n",
       "      <td>K3</td>\n",
       "      <td>USA</td>\n",
       "      <td>Phd</td>\n",
       "    </tr>\n",
       "  </tbody>\n",
       "</table>\n",
       "</div>"
      ],
      "text/plain": [
       "  key Address Qualification\n",
       "0  K0  Canada         Btech\n",
       "1  K1      UK           B.A\n",
       "2  K2   India            MS\n",
       "3  K3     USA           Phd"
      ]
     },
     "execution_count": 41,
     "metadata": {},
     "output_type": "execute_result"
    }
   ],
   "source": [
    "df2"
   ]
  },
  {
   "cell_type": "code",
   "execution_count": 42,
   "id": "6b324a08",
   "metadata": {},
   "outputs": [
    {
     "data": {
      "text/html": [
       "<div>\n",
       "<style scoped>\n",
       "    .dataframe tbody tr th:only-of-type {\n",
       "        vertical-align: middle;\n",
       "    }\n",
       "\n",
       "    .dataframe tbody tr th {\n",
       "        vertical-align: top;\n",
       "    }\n",
       "\n",
       "    .dataframe thead th {\n",
       "        text-align: right;\n",
       "    }\n",
       "</style>\n",
       "<table border=\"1\" class=\"dataframe\">\n",
       "  <thead>\n",
       "    <tr style=\"text-align: right;\">\n",
       "      <th></th>\n",
       "      <th>key</th>\n",
       "      <th>Name</th>\n",
       "      <th>Address</th>\n",
       "      <th>Age</th>\n",
       "      <th>Qualification</th>\n",
       "    </tr>\n",
       "  </thead>\n",
       "  <tbody>\n",
       "    <tr>\n",
       "      <th>0</th>\n",
       "      <td>K0</td>\n",
       "      <td>Mercy</td>\n",
       "      <td>Canada</td>\n",
       "      <td>27.0</td>\n",
       "      <td>Btech</td>\n",
       "    </tr>\n",
       "    <tr>\n",
       "      <th>1</th>\n",
       "      <td>K1</td>\n",
       "      <td>Prince</td>\n",
       "      <td>Australia</td>\n",
       "      <td>24.0</td>\n",
       "      <td>NaN</td>\n",
       "    </tr>\n",
       "    <tr>\n",
       "      <th>2</th>\n",
       "      <td>K2</td>\n",
       "      <td>John</td>\n",
       "      <td>India</td>\n",
       "      <td>22.0</td>\n",
       "      <td>MS</td>\n",
       "    </tr>\n",
       "    <tr>\n",
       "      <th>3</th>\n",
       "      <td>K3</td>\n",
       "      <td>Cena</td>\n",
       "      <td>Japan</td>\n",
       "      <td>32.0</td>\n",
       "      <td>NaN</td>\n",
       "    </tr>\n",
       "    <tr>\n",
       "      <th>4</th>\n",
       "      <td>K1</td>\n",
       "      <td>NaN</td>\n",
       "      <td>UK</td>\n",
       "      <td>NaN</td>\n",
       "      <td>B.A</td>\n",
       "    </tr>\n",
       "    <tr>\n",
       "      <th>5</th>\n",
       "      <td>K3</td>\n",
       "      <td>NaN</td>\n",
       "      <td>USA</td>\n",
       "      <td>NaN</td>\n",
       "      <td>Phd</td>\n",
       "    </tr>\n",
       "  </tbody>\n",
       "</table>\n",
       "</div>"
      ],
      "text/plain": [
       "  key    Name    Address   Age Qualification\n",
       "0  K0   Mercy     Canada  27.0         Btech\n",
       "1  K1  Prince  Australia  24.0           NaN\n",
       "2  K2    John      India  22.0            MS\n",
       "3  K3    Cena      Japan  32.0           NaN\n",
       "4  K1     NaN         UK   NaN           B.A\n",
       "5  K3     NaN        USA   NaN           Phd"
      ]
     },
     "execution_count": 42,
     "metadata": {},
     "output_type": "execute_result"
    }
   ],
   "source": [
    "\n",
    "# merging of two dataframes on basis ok `key` \n",
    "final_df = pd.merge(df1, df2, on=['key','Address'], how='outer')\n",
    "final_df"
   ]
  },
  {
   "cell_type": "code",
   "execution_count": null,
   "id": "52ca1ddc",
   "metadata": {},
   "outputs": [],
   "source": []
  },
  {
   "cell_type": "markdown",
   "id": "bd34723f",
   "metadata": {},
   "source": [
    "## Join\n",
    "- Join is used to combine DataFrames having different indcies values.\n",
    "- `I have two different tables in Python but I’m not sure how to join them. What criteria should I consider? What are the different ways I can join these tables?`\n",
    "- Sound familiar? I have come across this question plenty of times on online discussion forums. Working with one table is fairly straightforward but things become challenging when we have data spread across two or more tables.\n",
    "- This is where the concept of Joins comes in. I cannot emphasize the number of times I have used these Joins in Pandas! They’ve come in especially handy during data science hackathons when I needed to quickly join multiple tables."
   ]
  },
  {
   "cell_type": "code",
   "execution_count": 46,
   "id": "e82c9017",
   "metadata": {},
   "outputs": [
    {
     "ename": "ValueError",
     "evalue": "len(left_on) must equal the number of levels in the index of \"right\"",
     "output_type": "error",
     "traceback": [
      "\u001b[0;31m---------------------------------------------------------------------------\u001b[0m",
      "\u001b[0;31mValueError\u001b[0m                                Traceback (most recent call last)",
      "Cell \u001b[0;32mIn[46], line 1\u001b[0m\n\u001b[0;32m----> 1\u001b[0m df1\u001b[38;5;241m.\u001b[39mjoin(df2, on \u001b[38;5;241m=\u001b[39m [\u001b[38;5;124m'\u001b[39m\u001b[38;5;124mkey\u001b[39m\u001b[38;5;124m'\u001b[39m,\u001b[38;5;124m'\u001b[39m\u001b[38;5;124mAddress\u001b[39m\u001b[38;5;124m'\u001b[39m])\n",
      "File \u001b[0;32m/opt/anaconda3/lib/python3.11/site-packages/pandas/core/frame.py:10412\u001b[0m, in \u001b[0;36mDataFrame.join\u001b[0;34m(self, other, on, how, lsuffix, rsuffix, sort, validate)\u001b[0m\n\u001b[1;32m  10402\u001b[0m     \u001b[38;5;28;01mif\u001b[39;00m how \u001b[38;5;241m==\u001b[39m \u001b[38;5;124m\"\u001b[39m\u001b[38;5;124mcross\u001b[39m\u001b[38;5;124m\"\u001b[39m:\n\u001b[1;32m  10403\u001b[0m         \u001b[38;5;28;01mreturn\u001b[39;00m merge(\n\u001b[1;32m  10404\u001b[0m             \u001b[38;5;28mself\u001b[39m,\n\u001b[1;32m  10405\u001b[0m             other,\n\u001b[0;32m   (...)\u001b[0m\n\u001b[1;32m  10410\u001b[0m             validate\u001b[38;5;241m=\u001b[39mvalidate,\n\u001b[1;32m  10411\u001b[0m         )\n\u001b[0;32m> 10412\u001b[0m     \u001b[38;5;28;01mreturn\u001b[39;00m merge(\n\u001b[1;32m  10413\u001b[0m         \u001b[38;5;28mself\u001b[39m,\n\u001b[1;32m  10414\u001b[0m         other,\n\u001b[1;32m  10415\u001b[0m         left_on\u001b[38;5;241m=\u001b[39mon,\n\u001b[1;32m  10416\u001b[0m         how\u001b[38;5;241m=\u001b[39mhow,\n\u001b[1;32m  10417\u001b[0m         left_index\u001b[38;5;241m=\u001b[39mon \u001b[38;5;129;01mis\u001b[39;00m \u001b[38;5;28;01mNone\u001b[39;00m,\n\u001b[1;32m  10418\u001b[0m         right_index\u001b[38;5;241m=\u001b[39m\u001b[38;5;28;01mTrue\u001b[39;00m,\n\u001b[1;32m  10419\u001b[0m         suffixes\u001b[38;5;241m=\u001b[39m(lsuffix, rsuffix),\n\u001b[1;32m  10420\u001b[0m         sort\u001b[38;5;241m=\u001b[39msort,\n\u001b[1;32m  10421\u001b[0m         validate\u001b[38;5;241m=\u001b[39mvalidate,\n\u001b[1;32m  10422\u001b[0m     )\n\u001b[1;32m  10423\u001b[0m \u001b[38;5;28;01melse\u001b[39;00m:\n\u001b[1;32m  10424\u001b[0m     \u001b[38;5;28;01mif\u001b[39;00m on \u001b[38;5;129;01mis\u001b[39;00m \u001b[38;5;129;01mnot\u001b[39;00m \u001b[38;5;28;01mNone\u001b[39;00m:\n",
      "File \u001b[0;32m/opt/anaconda3/lib/python3.11/site-packages/pandas/core/reshape/merge.py:169\u001b[0m, in \u001b[0;36mmerge\u001b[0;34m(left, right, how, on, left_on, right_on, left_index, right_index, sort, suffixes, copy, indicator, validate)\u001b[0m\n\u001b[1;32m    154\u001b[0m     \u001b[38;5;28;01mreturn\u001b[39;00m _cross_merge(\n\u001b[1;32m    155\u001b[0m         left_df,\n\u001b[1;32m    156\u001b[0m         right_df,\n\u001b[0;32m   (...)\u001b[0m\n\u001b[1;32m    166\u001b[0m         copy\u001b[38;5;241m=\u001b[39mcopy,\n\u001b[1;32m    167\u001b[0m     )\n\u001b[1;32m    168\u001b[0m \u001b[38;5;28;01melse\u001b[39;00m:\n\u001b[0;32m--> 169\u001b[0m     op \u001b[38;5;241m=\u001b[39m _MergeOperation(\n\u001b[1;32m    170\u001b[0m         left_df,\n\u001b[1;32m    171\u001b[0m         right_df,\n\u001b[1;32m    172\u001b[0m         how\u001b[38;5;241m=\u001b[39mhow,\n\u001b[1;32m    173\u001b[0m         on\u001b[38;5;241m=\u001b[39mon,\n\u001b[1;32m    174\u001b[0m         left_on\u001b[38;5;241m=\u001b[39mleft_on,\n\u001b[1;32m    175\u001b[0m         right_on\u001b[38;5;241m=\u001b[39mright_on,\n\u001b[1;32m    176\u001b[0m         left_index\u001b[38;5;241m=\u001b[39mleft_index,\n\u001b[1;32m    177\u001b[0m         right_index\u001b[38;5;241m=\u001b[39mright_index,\n\u001b[1;32m    178\u001b[0m         sort\u001b[38;5;241m=\u001b[39msort,\n\u001b[1;32m    179\u001b[0m         suffixes\u001b[38;5;241m=\u001b[39msuffixes,\n\u001b[1;32m    180\u001b[0m         indicator\u001b[38;5;241m=\u001b[39mindicator,\n\u001b[1;32m    181\u001b[0m         validate\u001b[38;5;241m=\u001b[39mvalidate,\n\u001b[1;32m    182\u001b[0m     )\n\u001b[1;32m    183\u001b[0m     \u001b[38;5;28;01mreturn\u001b[39;00m op\u001b[38;5;241m.\u001b[39mget_result(copy\u001b[38;5;241m=\u001b[39mcopy)\n",
      "File \u001b[0;32m/opt/anaconda3/lib/python3.11/site-packages/pandas/core/reshape/merge.py:783\u001b[0m, in \u001b[0;36m_MergeOperation.__init__\u001b[0;34m(self, left, right, how, on, left_on, right_on, left_index, right_index, sort, suffixes, indicator, validate)\u001b[0m\n\u001b[1;32m    776\u001b[0m     msg \u001b[38;5;241m=\u001b[39m (\n\u001b[1;32m    777\u001b[0m         \u001b[38;5;124m\"\u001b[39m\u001b[38;5;124mNot allowed to merge between different levels. \u001b[39m\u001b[38;5;124m\"\u001b[39m\n\u001b[1;32m    778\u001b[0m         \u001b[38;5;124mf\u001b[39m\u001b[38;5;124m\"\u001b[39m\u001b[38;5;124m(\u001b[39m\u001b[38;5;132;01m{\u001b[39;00m_left\u001b[38;5;241m.\u001b[39mcolumns\u001b[38;5;241m.\u001b[39mnlevels\u001b[38;5;132;01m}\u001b[39;00m\u001b[38;5;124m levels on the left, \u001b[39m\u001b[38;5;124m\"\u001b[39m\n\u001b[1;32m    779\u001b[0m         \u001b[38;5;124mf\u001b[39m\u001b[38;5;124m\"\u001b[39m\u001b[38;5;132;01m{\u001b[39;00m_right\u001b[38;5;241m.\u001b[39mcolumns\u001b[38;5;241m.\u001b[39mnlevels\u001b[38;5;132;01m}\u001b[39;00m\u001b[38;5;124m on the right)\u001b[39m\u001b[38;5;124m\"\u001b[39m\n\u001b[1;32m    780\u001b[0m     )\n\u001b[1;32m    781\u001b[0m     \u001b[38;5;28;01mraise\u001b[39;00m MergeError(msg)\n\u001b[0;32m--> 783\u001b[0m \u001b[38;5;28mself\u001b[39m\u001b[38;5;241m.\u001b[39mleft_on, \u001b[38;5;28mself\u001b[39m\u001b[38;5;241m.\u001b[39mright_on \u001b[38;5;241m=\u001b[39m \u001b[38;5;28mself\u001b[39m\u001b[38;5;241m.\u001b[39m_validate_left_right_on(left_on, right_on)\n\u001b[1;32m    785\u001b[0m (\n\u001b[1;32m    786\u001b[0m     \u001b[38;5;28mself\u001b[39m\u001b[38;5;241m.\u001b[39mleft_join_keys,\n\u001b[1;32m    787\u001b[0m     \u001b[38;5;28mself\u001b[39m\u001b[38;5;241m.\u001b[39mright_join_keys,\n\u001b[0;32m   (...)\u001b[0m\n\u001b[1;32m    790\u001b[0m     right_drop,\n\u001b[1;32m    791\u001b[0m ) \u001b[38;5;241m=\u001b[39m \u001b[38;5;28mself\u001b[39m\u001b[38;5;241m.\u001b[39m_get_merge_keys()\n\u001b[1;32m    793\u001b[0m \u001b[38;5;28;01mif\u001b[39;00m left_drop:\n",
      "File \u001b[0;32m/opt/anaconda3/lib/python3.11/site-packages/pandas/core/reshape/merge.py:1573\u001b[0m, in \u001b[0;36m_MergeOperation._validate_left_right_on\u001b[0;34m(self, left_on, right_on)\u001b[0m\n\u001b[1;32m   1571\u001b[0m     \u001b[38;5;28;01mif\u001b[39;00m \u001b[38;5;28mself\u001b[39m\u001b[38;5;241m.\u001b[39mright_index:\n\u001b[1;32m   1572\u001b[0m         \u001b[38;5;28;01mif\u001b[39;00m \u001b[38;5;28mlen\u001b[39m(left_on) \u001b[38;5;241m!=\u001b[39m \u001b[38;5;28mself\u001b[39m\u001b[38;5;241m.\u001b[39mright\u001b[38;5;241m.\u001b[39mindex\u001b[38;5;241m.\u001b[39mnlevels:\n\u001b[0;32m-> 1573\u001b[0m             \u001b[38;5;28;01mraise\u001b[39;00m \u001b[38;5;167;01mValueError\u001b[39;00m(\n\u001b[1;32m   1574\u001b[0m                 \u001b[38;5;124m\"\u001b[39m\u001b[38;5;124mlen(left_on) must equal the number \u001b[39m\u001b[38;5;124m\"\u001b[39m\n\u001b[1;32m   1575\u001b[0m                 \u001b[38;5;124m'\u001b[39m\u001b[38;5;124mof levels in the index of \u001b[39m\u001b[38;5;124m\"\u001b[39m\u001b[38;5;124mright\u001b[39m\u001b[38;5;124m\"\u001b[39m\u001b[38;5;124m'\u001b[39m\n\u001b[1;32m   1576\u001b[0m             )\n\u001b[1;32m   1577\u001b[0m         right_on \u001b[38;5;241m=\u001b[39m [\u001b[38;5;28;01mNone\u001b[39;00m] \u001b[38;5;241m*\u001b[39m n\n\u001b[1;32m   1578\u001b[0m \u001b[38;5;28;01melif\u001b[39;00m right_on \u001b[38;5;129;01mis\u001b[39;00m \u001b[38;5;129;01mnot\u001b[39;00m \u001b[38;5;28;01mNone\u001b[39;00m:\n",
      "\u001b[0;31mValueError\u001b[0m: len(left_on) must equal the number of levels in the index of \"right\""
     ]
    }
   ],
   "source": [
    "df1.join(df2, on = ['key','Address'])"
   ]
  },
  {
   "cell_type": "markdown",
   "id": "d7fa0d44",
   "metadata": {},
   "source": [
    "#### Understanding the Problem Statement\n",
    "\n",
    "- I’m sure you’re quite familiar with e-commerce sites like `Amazon` and `Flipkart` these days. We are bombarded by their advertisements when we’re visiting non-related websites – that’s the power of targeted marketing!\n",
    "- We’ll take a simple problem from a related marketing brand here. We are given two tables – one which contains data about products and the other that has customer-level information.\n",
    "- We will use these tables to understand how the different types of joins work using Pandas.\n",
    "\n",
    "#### Note: \n",
    " >- Our task is to use our joining skills and generate meaningful information from the data."
   ]
  },
  {
   "cell_type": "code",
   "execution_count": 47,
   "id": "7afa26b8",
   "metadata": {},
   "outputs": [],
   "source": [
    "# The product dataframe contains product details like Product_ID, Product_name, Category, Price, and Seller_City. \n",
    "product=pd.DataFrame({\n",
    "    'Product_ID':[101,102,103,104,105,106,107],\n",
    "    'Product_name':['Watch','Bag','Shoes','Smartphone','Books','Oil','Laptop'],\n",
    "    'Category':['Fashion','Fashion','Fashion','Electronics','Study','Grocery','Electronics'],\n",
    "    'Price':[299.0,1350.50,2999.0,14999.0,145.0,110.0,79999.0],\n",
    "    'Seller_City':['Delhi','Mumbai','Chennai','Kolkata','Delhi','Chennai','Bengalore']\n",
    "})\n",
    "\n",
    "# The customer dataframe contains details like id, name, age, Product_ID, Purchased_Product, and City.\n",
    "customer=pd.DataFrame({\n",
    "    'id':[1,2,3,4,5,6,7,8,9],\n",
    "    'name':['Olivia','Aditya','Cory','Isabell','Dominic','Tyler','Samuel','Daniel','Jeremy'],\n",
    "    'age':[20,25,15,10,30,65,35,18,23],\n",
    "    'Product_ID':[101,0,106,0,103,104,0,0,107],\n",
    "    'Purchased_Product':['Watch','NA','Oil','NA','Shoes','Smartphone','NA','NA','Laptop'],\n",
    "    'City':['Mumbai','Delhi','Bangalore','Chennai','Chennai','Delhi','Kolkata','Delhi','Mumbai']\n",
    "})"
   ]
  },
  {
   "cell_type": "markdown",
   "id": "0181585b",
   "metadata": {},
   "source": [
    "- Let’s say we want to know about all the products sold online and who purchased them. We can get this easily using an inner join.\n",
    "\n",
    "- The `merge()` function in Pandas is our friend here. By default, the merge function performs an inner join. It takes both the dataframes as arguments and the name of the column on which the join has to be performed:"
   ]
  },
  {
   "cell_type": "code",
   "execution_count": 48,
   "id": "db600c43",
   "metadata": {},
   "outputs": [
    {
     "data": {
      "text/html": [
       "<div>\n",
       "<style scoped>\n",
       "    .dataframe tbody tr th:only-of-type {\n",
       "        vertical-align: middle;\n",
       "    }\n",
       "\n",
       "    .dataframe tbody tr th {\n",
       "        vertical-align: top;\n",
       "    }\n",
       "\n",
       "    .dataframe thead th {\n",
       "        text-align: right;\n",
       "    }\n",
       "</style>\n",
       "<table border=\"1\" class=\"dataframe\">\n",
       "  <thead>\n",
       "    <tr style=\"text-align: right;\">\n",
       "      <th></th>\n",
       "      <th>Product_ID</th>\n",
       "      <th>Product_name</th>\n",
       "      <th>Category</th>\n",
       "      <th>Price</th>\n",
       "      <th>Seller_City</th>\n",
       "    </tr>\n",
       "  </thead>\n",
       "  <tbody>\n",
       "    <tr>\n",
       "      <th>0</th>\n",
       "      <td>101</td>\n",
       "      <td>Watch</td>\n",
       "      <td>Fashion</td>\n",
       "      <td>299.0</td>\n",
       "      <td>Delhi</td>\n",
       "    </tr>\n",
       "    <tr>\n",
       "      <th>1</th>\n",
       "      <td>102</td>\n",
       "      <td>Bag</td>\n",
       "      <td>Fashion</td>\n",
       "      <td>1350.5</td>\n",
       "      <td>Mumbai</td>\n",
       "    </tr>\n",
       "    <tr>\n",
       "      <th>2</th>\n",
       "      <td>103</td>\n",
       "      <td>Shoes</td>\n",
       "      <td>Fashion</td>\n",
       "      <td>2999.0</td>\n",
       "      <td>Chennai</td>\n",
       "    </tr>\n",
       "    <tr>\n",
       "      <th>3</th>\n",
       "      <td>104</td>\n",
       "      <td>Smartphone</td>\n",
       "      <td>Electronics</td>\n",
       "      <td>14999.0</td>\n",
       "      <td>Kolkata</td>\n",
       "    </tr>\n",
       "    <tr>\n",
       "      <th>4</th>\n",
       "      <td>105</td>\n",
       "      <td>Books</td>\n",
       "      <td>Study</td>\n",
       "      <td>145.0</td>\n",
       "      <td>Delhi</td>\n",
       "    </tr>\n",
       "    <tr>\n",
       "      <th>5</th>\n",
       "      <td>106</td>\n",
       "      <td>Oil</td>\n",
       "      <td>Grocery</td>\n",
       "      <td>110.0</td>\n",
       "      <td>Chennai</td>\n",
       "    </tr>\n",
       "    <tr>\n",
       "      <th>6</th>\n",
       "      <td>107</td>\n",
       "      <td>Laptop</td>\n",
       "      <td>Electronics</td>\n",
       "      <td>79999.0</td>\n",
       "      <td>Bengalore</td>\n",
       "    </tr>\n",
       "  </tbody>\n",
       "</table>\n",
       "</div>"
      ],
      "text/plain": [
       "   Product_ID Product_name     Category    Price Seller_City\n",
       "0         101        Watch      Fashion    299.0       Delhi\n",
       "1         102          Bag      Fashion   1350.5      Mumbai\n",
       "2         103        Shoes      Fashion   2999.0     Chennai\n",
       "3         104   Smartphone  Electronics  14999.0     Kolkata\n",
       "4         105        Books        Study    145.0       Delhi\n",
       "5         106          Oil      Grocery    110.0     Chennai\n",
       "6         107       Laptop  Electronics  79999.0   Bengalore"
      ]
     },
     "execution_count": 48,
     "metadata": {},
     "output_type": "execute_result"
    }
   ],
   "source": [
    "product"
   ]
  },
  {
   "cell_type": "code",
   "execution_count": 49,
   "id": "d486fb22",
   "metadata": {},
   "outputs": [
    {
     "data": {
      "text/html": [
       "<div>\n",
       "<style scoped>\n",
       "    .dataframe tbody tr th:only-of-type {\n",
       "        vertical-align: middle;\n",
       "    }\n",
       "\n",
       "    .dataframe tbody tr th {\n",
       "        vertical-align: top;\n",
       "    }\n",
       "\n",
       "    .dataframe thead th {\n",
       "        text-align: right;\n",
       "    }\n",
       "</style>\n",
       "<table border=\"1\" class=\"dataframe\">\n",
       "  <thead>\n",
       "    <tr style=\"text-align: right;\">\n",
       "      <th></th>\n",
       "      <th>id</th>\n",
       "      <th>name</th>\n",
       "      <th>age</th>\n",
       "      <th>Product_ID</th>\n",
       "      <th>Purchased_Product</th>\n",
       "      <th>City</th>\n",
       "    </tr>\n",
       "  </thead>\n",
       "  <tbody>\n",
       "    <tr>\n",
       "      <th>0</th>\n",
       "      <td>1</td>\n",
       "      <td>Olivia</td>\n",
       "      <td>20</td>\n",
       "      <td>101</td>\n",
       "      <td>Watch</td>\n",
       "      <td>Mumbai</td>\n",
       "    </tr>\n",
       "    <tr>\n",
       "      <th>1</th>\n",
       "      <td>2</td>\n",
       "      <td>Aditya</td>\n",
       "      <td>25</td>\n",
       "      <td>0</td>\n",
       "      <td>NA</td>\n",
       "      <td>Delhi</td>\n",
       "    </tr>\n",
       "    <tr>\n",
       "      <th>2</th>\n",
       "      <td>3</td>\n",
       "      <td>Cory</td>\n",
       "      <td>15</td>\n",
       "      <td>106</td>\n",
       "      <td>Oil</td>\n",
       "      <td>Bangalore</td>\n",
       "    </tr>\n",
       "    <tr>\n",
       "      <th>3</th>\n",
       "      <td>4</td>\n",
       "      <td>Isabell</td>\n",
       "      <td>10</td>\n",
       "      <td>0</td>\n",
       "      <td>NA</td>\n",
       "      <td>Chennai</td>\n",
       "    </tr>\n",
       "    <tr>\n",
       "      <th>4</th>\n",
       "      <td>5</td>\n",
       "      <td>Dominic</td>\n",
       "      <td>30</td>\n",
       "      <td>103</td>\n",
       "      <td>Shoes</td>\n",
       "      <td>Chennai</td>\n",
       "    </tr>\n",
       "    <tr>\n",
       "      <th>5</th>\n",
       "      <td>6</td>\n",
       "      <td>Tyler</td>\n",
       "      <td>65</td>\n",
       "      <td>104</td>\n",
       "      <td>Smartphone</td>\n",
       "      <td>Delhi</td>\n",
       "    </tr>\n",
       "    <tr>\n",
       "      <th>6</th>\n",
       "      <td>7</td>\n",
       "      <td>Samuel</td>\n",
       "      <td>35</td>\n",
       "      <td>0</td>\n",
       "      <td>NA</td>\n",
       "      <td>Kolkata</td>\n",
       "    </tr>\n",
       "    <tr>\n",
       "      <th>7</th>\n",
       "      <td>8</td>\n",
       "      <td>Daniel</td>\n",
       "      <td>18</td>\n",
       "      <td>0</td>\n",
       "      <td>NA</td>\n",
       "      <td>Delhi</td>\n",
       "    </tr>\n",
       "    <tr>\n",
       "      <th>8</th>\n",
       "      <td>9</td>\n",
       "      <td>Jeremy</td>\n",
       "      <td>23</td>\n",
       "      <td>107</td>\n",
       "      <td>Laptop</td>\n",
       "      <td>Mumbai</td>\n",
       "    </tr>\n",
       "  </tbody>\n",
       "</table>\n",
       "</div>"
      ],
      "text/plain": [
       "   id     name  age  Product_ID Purchased_Product       City\n",
       "0   1   Olivia   20         101             Watch     Mumbai\n",
       "1   2   Aditya   25           0                NA      Delhi\n",
       "2   3     Cory   15         106               Oil  Bangalore\n",
       "3   4  Isabell   10           0                NA    Chennai\n",
       "4   5  Dominic   30         103             Shoes    Chennai\n",
       "5   6    Tyler   65         104        Smartphone      Delhi\n",
       "6   7   Samuel   35           0                NA    Kolkata\n",
       "7   8   Daniel   18           0                NA      Delhi\n",
       "8   9   Jeremy   23         107            Laptop     Mumbai"
      ]
     },
     "execution_count": 49,
     "metadata": {},
     "output_type": "execute_result"
    }
   ],
   "source": [
    "customer"
   ]
  },
  {
   "cell_type": "code",
   "execution_count": null,
   "id": "2644f7ac",
   "metadata": {},
   "outputs": [],
   "source": []
  },
  {
   "cell_type": "code",
   "execution_count": 50,
   "id": "b46dc7a4",
   "metadata": {},
   "outputs": [
    {
     "data": {
      "text/html": [
       "<div>\n",
       "<style scoped>\n",
       "    .dataframe tbody tr th:only-of-type {\n",
       "        vertical-align: middle;\n",
       "    }\n",
       "\n",
       "    .dataframe tbody tr th {\n",
       "        vertical-align: top;\n",
       "    }\n",
       "\n",
       "    .dataframe thead th {\n",
       "        text-align: right;\n",
       "    }\n",
       "</style>\n",
       "<table border=\"1\" class=\"dataframe\">\n",
       "  <thead>\n",
       "    <tr style=\"text-align: right;\">\n",
       "      <th></th>\n",
       "      <th>Product_ID</th>\n",
       "      <th>Product_name</th>\n",
       "      <th>Category</th>\n",
       "      <th>Price</th>\n",
       "      <th>Seller_City</th>\n",
       "      <th>id</th>\n",
       "      <th>name</th>\n",
       "      <th>age</th>\n",
       "      <th>Purchased_Product</th>\n",
       "      <th>City</th>\n",
       "    </tr>\n",
       "  </thead>\n",
       "  <tbody>\n",
       "    <tr>\n",
       "      <th>0</th>\n",
       "      <td>101</td>\n",
       "      <td>Watch</td>\n",
       "      <td>Fashion</td>\n",
       "      <td>299.0</td>\n",
       "      <td>Delhi</td>\n",
       "      <td>1</td>\n",
       "      <td>Olivia</td>\n",
       "      <td>20</td>\n",
       "      <td>Watch</td>\n",
       "      <td>Mumbai</td>\n",
       "    </tr>\n",
       "    <tr>\n",
       "      <th>1</th>\n",
       "      <td>103</td>\n",
       "      <td>Shoes</td>\n",
       "      <td>Fashion</td>\n",
       "      <td>2999.0</td>\n",
       "      <td>Chennai</td>\n",
       "      <td>5</td>\n",
       "      <td>Dominic</td>\n",
       "      <td>30</td>\n",
       "      <td>Shoes</td>\n",
       "      <td>Chennai</td>\n",
       "    </tr>\n",
       "    <tr>\n",
       "      <th>2</th>\n",
       "      <td>104</td>\n",
       "      <td>Smartphone</td>\n",
       "      <td>Electronics</td>\n",
       "      <td>14999.0</td>\n",
       "      <td>Kolkata</td>\n",
       "      <td>6</td>\n",
       "      <td>Tyler</td>\n",
       "      <td>65</td>\n",
       "      <td>Smartphone</td>\n",
       "      <td>Delhi</td>\n",
       "    </tr>\n",
       "    <tr>\n",
       "      <th>3</th>\n",
       "      <td>106</td>\n",
       "      <td>Oil</td>\n",
       "      <td>Grocery</td>\n",
       "      <td>110.0</td>\n",
       "      <td>Chennai</td>\n",
       "      <td>3</td>\n",
       "      <td>Cory</td>\n",
       "      <td>15</td>\n",
       "      <td>Oil</td>\n",
       "      <td>Bangalore</td>\n",
       "    </tr>\n",
       "    <tr>\n",
       "      <th>4</th>\n",
       "      <td>107</td>\n",
       "      <td>Laptop</td>\n",
       "      <td>Electronics</td>\n",
       "      <td>79999.0</td>\n",
       "      <td>Bengalore</td>\n",
       "      <td>9</td>\n",
       "      <td>Jeremy</td>\n",
       "      <td>23</td>\n",
       "      <td>Laptop</td>\n",
       "      <td>Mumbai</td>\n",
       "    </tr>\n",
       "  </tbody>\n",
       "</table>\n",
       "</div>"
      ],
      "text/plain": [
       "   Product_ID Product_name     Category    Price Seller_City  id     name  \\\n",
       "0         101        Watch      Fashion    299.0       Delhi   1   Olivia   \n",
       "1         103        Shoes      Fashion   2999.0     Chennai   5  Dominic   \n",
       "2         104   Smartphone  Electronics  14999.0     Kolkata   6    Tyler   \n",
       "3         106          Oil      Grocery    110.0     Chennai   3     Cory   \n",
       "4         107       Laptop  Electronics  79999.0   Bengalore   9   Jeremy   \n",
       "\n",
       "   age Purchased_Product       City  \n",
       "0   20             Watch     Mumbai  \n",
       "1   30             Shoes    Chennai  \n",
       "2   65        Smartphone      Delhi  \n",
       "3   15               Oil  Bangalore  \n",
       "4   23            Laptop     Mumbai  "
      ]
     },
     "execution_count": 50,
     "metadata": {},
     "output_type": "execute_result"
    }
   ],
   "source": [
    "pd.merge(product, customer, on='Product_ID')"
   ]
  },
  {
   "cell_type": "markdown",
   "id": "4df78879",
   "metadata": {},
   "source": [
    "- Here, I have performed inner join on the product and customer dataframes on the `Product_ID` column.\n",
    "- But, what if the column names are different in the two dataframes? Then, we have to explicitly mention both the column names.\n",
    "- `left_on` and `right_on` are two arguments through which we can achieve this. `left_on` is the name of the key in the left dataframe and `right_on` in the right dataframe"
   ]
  },
  {
   "cell_type": "code",
   "execution_count": 51,
   "id": "e1ca9ff7",
   "metadata": {},
   "outputs": [
    {
     "data": {
      "text/html": [
       "<div>\n",
       "<style scoped>\n",
       "    .dataframe tbody tr th:only-of-type {\n",
       "        vertical-align: middle;\n",
       "    }\n",
       "\n",
       "    .dataframe tbody tr th {\n",
       "        vertical-align: top;\n",
       "    }\n",
       "\n",
       "    .dataframe thead th {\n",
       "        text-align: right;\n",
       "    }\n",
       "</style>\n",
       "<table border=\"1\" class=\"dataframe\">\n",
       "  <thead>\n",
       "    <tr style=\"text-align: right;\">\n",
       "      <th></th>\n",
       "      <th>Product_ID_x</th>\n",
       "      <th>Product_name</th>\n",
       "      <th>Category</th>\n",
       "      <th>Price</th>\n",
       "      <th>Seller_City</th>\n",
       "      <th>id</th>\n",
       "      <th>name</th>\n",
       "      <th>age</th>\n",
       "      <th>Product_ID_y</th>\n",
       "      <th>Purchased_Product</th>\n",
       "      <th>City</th>\n",
       "    </tr>\n",
       "  </thead>\n",
       "  <tbody>\n",
       "    <tr>\n",
       "      <th>0</th>\n",
       "      <td>101</td>\n",
       "      <td>Watch</td>\n",
       "      <td>Fashion</td>\n",
       "      <td>299.0</td>\n",
       "      <td>Delhi</td>\n",
       "      <td>1</td>\n",
       "      <td>Olivia</td>\n",
       "      <td>20</td>\n",
       "      <td>101</td>\n",
       "      <td>Watch</td>\n",
       "      <td>Mumbai</td>\n",
       "    </tr>\n",
       "    <tr>\n",
       "      <th>1</th>\n",
       "      <td>103</td>\n",
       "      <td>Shoes</td>\n",
       "      <td>Fashion</td>\n",
       "      <td>2999.0</td>\n",
       "      <td>Chennai</td>\n",
       "      <td>5</td>\n",
       "      <td>Dominic</td>\n",
       "      <td>30</td>\n",
       "      <td>103</td>\n",
       "      <td>Shoes</td>\n",
       "      <td>Chennai</td>\n",
       "    </tr>\n",
       "    <tr>\n",
       "      <th>2</th>\n",
       "      <td>104</td>\n",
       "      <td>Smartphone</td>\n",
       "      <td>Electronics</td>\n",
       "      <td>14999.0</td>\n",
       "      <td>Kolkata</td>\n",
       "      <td>6</td>\n",
       "      <td>Tyler</td>\n",
       "      <td>65</td>\n",
       "      <td>104</td>\n",
       "      <td>Smartphone</td>\n",
       "      <td>Delhi</td>\n",
       "    </tr>\n",
       "    <tr>\n",
       "      <th>3</th>\n",
       "      <td>106</td>\n",
       "      <td>Oil</td>\n",
       "      <td>Grocery</td>\n",
       "      <td>110.0</td>\n",
       "      <td>Chennai</td>\n",
       "      <td>3</td>\n",
       "      <td>Cory</td>\n",
       "      <td>15</td>\n",
       "      <td>106</td>\n",
       "      <td>Oil</td>\n",
       "      <td>Bangalore</td>\n",
       "    </tr>\n",
       "    <tr>\n",
       "      <th>4</th>\n",
       "      <td>107</td>\n",
       "      <td>Laptop</td>\n",
       "      <td>Electronics</td>\n",
       "      <td>79999.0</td>\n",
       "      <td>Bengalore</td>\n",
       "      <td>9</td>\n",
       "      <td>Jeremy</td>\n",
       "      <td>23</td>\n",
       "      <td>107</td>\n",
       "      <td>Laptop</td>\n",
       "      <td>Mumbai</td>\n",
       "    </tr>\n",
       "  </tbody>\n",
       "</table>\n",
       "</div>"
      ],
      "text/plain": [
       "   Product_ID_x Product_name     Category    Price Seller_City  id     name  \\\n",
       "0           101        Watch      Fashion    299.0       Delhi   1   Olivia   \n",
       "1           103        Shoes      Fashion   2999.0     Chennai   5  Dominic   \n",
       "2           104   Smartphone  Electronics  14999.0     Kolkata   6    Tyler   \n",
       "3           106          Oil      Grocery    110.0     Chennai   3     Cory   \n",
       "4           107       Laptop  Electronics  79999.0   Bengalore   9   Jeremy   \n",
       "\n",
       "   age  Product_ID_y Purchased_Product       City  \n",
       "0   20           101             Watch     Mumbai  \n",
       "1   30           103             Shoes    Chennai  \n",
       "2   65           104        Smartphone      Delhi  \n",
       "3   15           106               Oil  Bangalore  \n",
       "4   23           107            Laptop     Mumbai  "
      ]
     },
     "execution_count": 51,
     "metadata": {},
     "output_type": "execute_result"
    }
   ],
   "source": [
    "pd.merge(product, customer, left_on='Product_name', right_on='Purchased_Product')"
   ]
  },
  {
   "cell_type": "markdown",
   "id": "a1ba408d",
   "metadata": {},
   "source": [
    "- Let’s take things up a notice. The leadership team now wants more details about the products sold. They want to know about all the products sold by the seller to the same city i.e., seller and customer both belong to the same city.\n",
    "\n",
    "- In this case, we have to perform an inner join on both Product_ID and Seller_City of product and Product_ID and City columns of the customer dataframe."
   ]
  },
  {
   "cell_type": "code",
   "execution_count": 52,
   "id": "e4c6d9cc",
   "metadata": {},
   "outputs": [
    {
     "data": {
      "text/html": [
       "<div>\n",
       "<style scoped>\n",
       "    .dataframe tbody tr th:only-of-type {\n",
       "        vertical-align: middle;\n",
       "    }\n",
       "\n",
       "    .dataframe tbody tr th {\n",
       "        vertical-align: top;\n",
       "    }\n",
       "\n",
       "    .dataframe thead th {\n",
       "        text-align: right;\n",
       "    }\n",
       "</style>\n",
       "<table border=\"1\" class=\"dataframe\">\n",
       "  <thead>\n",
       "    <tr style=\"text-align: right;\">\n",
       "      <th></th>\n",
       "      <th>Product_ID</th>\n",
       "      <th>Product_name</th>\n",
       "      <th>Category</th>\n",
       "      <th>Price</th>\n",
       "      <th>Seller_City</th>\n",
       "      <th>id</th>\n",
       "      <th>name</th>\n",
       "      <th>age</th>\n",
       "      <th>Purchased_Product</th>\n",
       "      <th>City</th>\n",
       "    </tr>\n",
       "  </thead>\n",
       "  <tbody>\n",
       "    <tr>\n",
       "      <th>0</th>\n",
       "      <td>103</td>\n",
       "      <td>Shoes</td>\n",
       "      <td>Fashion</td>\n",
       "      <td>2999.0</td>\n",
       "      <td>Chennai</td>\n",
       "      <td>5</td>\n",
       "      <td>Dominic</td>\n",
       "      <td>30</td>\n",
       "      <td>Shoes</td>\n",
       "      <td>Chennai</td>\n",
       "    </tr>\n",
       "  </tbody>\n",
       "</table>\n",
       "</div>"
      ],
      "text/plain": [
       "   Product_ID Product_name Category   Price Seller_City  id     name  age  \\\n",
       "0         103        Shoes  Fashion  2999.0     Chennai   5  Dominic   30   \n",
       "\n",
       "  Purchased_Product     City  \n",
       "0             Shoes  Chennai  "
      ]
     },
     "execution_count": 52,
     "metadata": {},
     "output_type": "execute_result"
    }
   ],
   "source": [
    "pd.merge(product, customer, left_on=['Product_ID', 'Seller_City'], right_on=['Product_ID','City'])"
   ]
  },
  {
   "cell_type": "code",
   "execution_count": null,
   "id": "9dcfb3c0",
   "metadata": {},
   "outputs": [],
   "source": []
  },
  {
   "cell_type": "markdown",
   "id": "a3f077b2",
   "metadata": {},
   "source": [
    "## Concatenation\n",
    "Concatenating of two or more dataframes using `.concat()` function."
   ]
  },
  {
   "cell_type": "code",
   "execution_count": 53,
   "id": "0dc0b9a3",
   "metadata": {},
   "outputs": [
    {
     "name": "stdout",
     "output_type": "stream",
     "text": [
      "First DataFrame : \n",
      "  key    Name    Address  Age\n",
      "0  K0   Mercy     Canada   27\n",
      "1  K1  Prince  Australia   24\n",
      "2  K2    John      India   22\n",
      "3  K3    Cena      Japan   32\n",
      "Second DataFrame : \n",
      "  key Address Qualification\n",
      "0  K0  Canada         Btech\n",
      "1  K1      UK           B.A\n",
      "2  K2   India            MS\n",
      "3  K3     USA           Phd\n"
     ]
    }
   ],
   "source": [
    "print(\"First DataFrame : \", df1, sep=\"\\n\")\n",
    "print(\"Second DataFrame : \", df2, sep=\"\\n\")"
   ]
  },
  {
   "cell_type": "code",
   "execution_count": 54,
   "id": "c171ac20",
   "metadata": {},
   "outputs": [
    {
     "data": {
      "text/html": [
       "<div>\n",
       "<style scoped>\n",
       "    .dataframe tbody tr th:only-of-type {\n",
       "        vertical-align: middle;\n",
       "    }\n",
       "\n",
       "    .dataframe tbody tr th {\n",
       "        vertical-align: top;\n",
       "    }\n",
       "\n",
       "    .dataframe thead th {\n",
       "        text-align: right;\n",
       "    }\n",
       "</style>\n",
       "<table border=\"1\" class=\"dataframe\">\n",
       "  <thead>\n",
       "    <tr style=\"text-align: right;\">\n",
       "      <th></th>\n",
       "      <th>key</th>\n",
       "      <th>Name</th>\n",
       "      <th>Address</th>\n",
       "      <th>Age</th>\n",
       "      <th>Qualification</th>\n",
       "    </tr>\n",
       "  </thead>\n",
       "  <tbody>\n",
       "    <tr>\n",
       "      <th>0</th>\n",
       "      <td>K0</td>\n",
       "      <td>Mercy</td>\n",
       "      <td>Canada</td>\n",
       "      <td>27.0</td>\n",
       "      <td>NaN</td>\n",
       "    </tr>\n",
       "    <tr>\n",
       "      <th>1</th>\n",
       "      <td>K1</td>\n",
       "      <td>Prince</td>\n",
       "      <td>Australia</td>\n",
       "      <td>24.0</td>\n",
       "      <td>NaN</td>\n",
       "    </tr>\n",
       "    <tr>\n",
       "      <th>2</th>\n",
       "      <td>K2</td>\n",
       "      <td>John</td>\n",
       "      <td>India</td>\n",
       "      <td>22.0</td>\n",
       "      <td>NaN</td>\n",
       "    </tr>\n",
       "    <tr>\n",
       "      <th>3</th>\n",
       "      <td>K3</td>\n",
       "      <td>Cena</td>\n",
       "      <td>Japan</td>\n",
       "      <td>32.0</td>\n",
       "      <td>NaN</td>\n",
       "    </tr>\n",
       "    <tr>\n",
       "      <th>0</th>\n",
       "      <td>K0</td>\n",
       "      <td>NaN</td>\n",
       "      <td>Canada</td>\n",
       "      <td>NaN</td>\n",
       "      <td>Btech</td>\n",
       "    </tr>\n",
       "    <tr>\n",
       "      <th>1</th>\n",
       "      <td>K1</td>\n",
       "      <td>NaN</td>\n",
       "      <td>UK</td>\n",
       "      <td>NaN</td>\n",
       "      <td>B.A</td>\n",
       "    </tr>\n",
       "    <tr>\n",
       "      <th>2</th>\n",
       "      <td>K2</td>\n",
       "      <td>NaN</td>\n",
       "      <td>India</td>\n",
       "      <td>NaN</td>\n",
       "      <td>MS</td>\n",
       "    </tr>\n",
       "    <tr>\n",
       "      <th>3</th>\n",
       "      <td>K3</td>\n",
       "      <td>NaN</td>\n",
       "      <td>USA</td>\n",
       "      <td>NaN</td>\n",
       "      <td>Phd</td>\n",
       "    </tr>\n",
       "  </tbody>\n",
       "</table>\n",
       "</div>"
      ],
      "text/plain": [
       "  key    Name    Address   Age Qualification\n",
       "0  K0   Mercy     Canada  27.0           NaN\n",
       "1  K1  Prince  Australia  24.0           NaN\n",
       "2  K2    John      India  22.0           NaN\n",
       "3  K3    Cena      Japan  32.0           NaN\n",
       "0  K0     NaN     Canada   NaN         Btech\n",
       "1  K1     NaN         UK   NaN           B.A\n",
       "2  K2     NaN      India   NaN            MS\n",
       "3  K3     NaN        USA   NaN           Phd"
      ]
     },
     "execution_count": 54,
     "metadata": {},
     "output_type": "execute_result"
    }
   ],
   "source": [
    "frames = [df1, df2]\n",
    "# concatenation using concate function\n",
    "pd.concat(frames)"
   ]
  },
  {
   "cell_type": "markdown",
   "id": "5e53080e",
   "metadata": {},
   "source": [
    "The resultant DataFrame has a repeated index. If you want the new Dataframe to have its own index, set `ignore_index` to True."
   ]
  },
  {
   "cell_type": "code",
   "execution_count": 55,
   "id": "f981c077",
   "metadata": {},
   "outputs": [
    {
     "data": {
      "text/html": [
       "<div>\n",
       "<style scoped>\n",
       "    .dataframe tbody tr th:only-of-type {\n",
       "        vertical-align: middle;\n",
       "    }\n",
       "\n",
       "    .dataframe tbody tr th {\n",
       "        vertical-align: top;\n",
       "    }\n",
       "\n",
       "    .dataframe thead th {\n",
       "        text-align: right;\n",
       "    }\n",
       "</style>\n",
       "<table border=\"1\" class=\"dataframe\">\n",
       "  <thead>\n",
       "    <tr style=\"text-align: right;\">\n",
       "      <th></th>\n",
       "      <th>key</th>\n",
       "      <th>Name</th>\n",
       "      <th>Address</th>\n",
       "      <th>Age</th>\n",
       "      <th>Qualification</th>\n",
       "    </tr>\n",
       "  </thead>\n",
       "  <tbody>\n",
       "    <tr>\n",
       "      <th>0</th>\n",
       "      <td>K0</td>\n",
       "      <td>Mercy</td>\n",
       "      <td>Canada</td>\n",
       "      <td>27.0</td>\n",
       "      <td>NaN</td>\n",
       "    </tr>\n",
       "    <tr>\n",
       "      <th>1</th>\n",
       "      <td>K1</td>\n",
       "      <td>Prince</td>\n",
       "      <td>Australia</td>\n",
       "      <td>24.0</td>\n",
       "      <td>NaN</td>\n",
       "    </tr>\n",
       "    <tr>\n",
       "      <th>2</th>\n",
       "      <td>K2</td>\n",
       "      <td>John</td>\n",
       "      <td>India</td>\n",
       "      <td>22.0</td>\n",
       "      <td>NaN</td>\n",
       "    </tr>\n",
       "    <tr>\n",
       "      <th>3</th>\n",
       "      <td>K3</td>\n",
       "      <td>Cena</td>\n",
       "      <td>Japan</td>\n",
       "      <td>32.0</td>\n",
       "      <td>NaN</td>\n",
       "    </tr>\n",
       "    <tr>\n",
       "      <th>4</th>\n",
       "      <td>K0</td>\n",
       "      <td>NaN</td>\n",
       "      <td>Canada</td>\n",
       "      <td>NaN</td>\n",
       "      <td>Btech</td>\n",
       "    </tr>\n",
       "    <tr>\n",
       "      <th>5</th>\n",
       "      <td>K1</td>\n",
       "      <td>NaN</td>\n",
       "      <td>UK</td>\n",
       "      <td>NaN</td>\n",
       "      <td>B.A</td>\n",
       "    </tr>\n",
       "    <tr>\n",
       "      <th>6</th>\n",
       "      <td>K2</td>\n",
       "      <td>NaN</td>\n",
       "      <td>India</td>\n",
       "      <td>NaN</td>\n",
       "      <td>MS</td>\n",
       "    </tr>\n",
       "    <tr>\n",
       "      <th>7</th>\n",
       "      <td>K3</td>\n",
       "      <td>NaN</td>\n",
       "      <td>USA</td>\n",
       "      <td>NaN</td>\n",
       "      <td>Phd</td>\n",
       "    </tr>\n",
       "  </tbody>\n",
       "</table>\n",
       "</div>"
      ],
      "text/plain": [
       "  key    Name    Address   Age Qualification\n",
       "0  K0   Mercy     Canada  27.0           NaN\n",
       "1  K1  Prince  Australia  24.0           NaN\n",
       "2  K2    John      India  22.0           NaN\n",
       "3  K3    Cena      Japan  32.0           NaN\n",
       "4  K0     NaN     Canada   NaN         Btech\n",
       "5  K1     NaN         UK   NaN           B.A\n",
       "6  K2     NaN      India   NaN            MS\n",
       "7  K3     NaN        USA   NaN           Phd"
      ]
     },
     "execution_count": 55,
     "metadata": {},
     "output_type": "execute_result"
    }
   ],
   "source": [
    "frames = [df1, df2]\n",
    "# concatenation using concate function\n",
    "pd.concat(frames, ignore_index=True)"
   ]
  },
  {
   "cell_type": "code",
   "execution_count": null,
   "id": "fa980038",
   "metadata": {},
   "outputs": [],
   "source": []
  },
  {
   "cell_type": "markdown",
   "id": "6f789d00",
   "metadata": {},
   "source": [
    "#### Note: \n",
    " >- The second DataFrame is concatenating below the first one, making the resultant DataFrame have new rows. If you want the second DataFrame to be added as columns, pass the argument axis=1."
   ]
  },
  {
   "cell_type": "code",
   "execution_count": 56,
   "id": "129e5446",
   "metadata": {},
   "outputs": [
    {
     "data": {
      "text/html": [
       "<div>\n",
       "<style scoped>\n",
       "    .dataframe tbody tr th:only-of-type {\n",
       "        vertical-align: middle;\n",
       "    }\n",
       "\n",
       "    .dataframe tbody tr th {\n",
       "        vertical-align: top;\n",
       "    }\n",
       "\n",
       "    .dataframe thead th {\n",
       "        text-align: right;\n",
       "    }\n",
       "</style>\n",
       "<table border=\"1\" class=\"dataframe\">\n",
       "  <thead>\n",
       "    <tr style=\"text-align: right;\">\n",
       "      <th></th>\n",
       "      <th>key</th>\n",
       "      <th>Name</th>\n",
       "      <th>Address</th>\n",
       "      <th>Age</th>\n",
       "      <th>key</th>\n",
       "      <th>Address</th>\n",
       "      <th>Qualification</th>\n",
       "    </tr>\n",
       "  </thead>\n",
       "  <tbody>\n",
       "    <tr>\n",
       "      <th>0</th>\n",
       "      <td>K0</td>\n",
       "      <td>Mercy</td>\n",
       "      <td>Canada</td>\n",
       "      <td>27</td>\n",
       "      <td>K0</td>\n",
       "      <td>Canada</td>\n",
       "      <td>Btech</td>\n",
       "    </tr>\n",
       "    <tr>\n",
       "      <th>1</th>\n",
       "      <td>K1</td>\n",
       "      <td>Prince</td>\n",
       "      <td>Australia</td>\n",
       "      <td>24</td>\n",
       "      <td>K1</td>\n",
       "      <td>UK</td>\n",
       "      <td>B.A</td>\n",
       "    </tr>\n",
       "    <tr>\n",
       "      <th>2</th>\n",
       "      <td>K2</td>\n",
       "      <td>John</td>\n",
       "      <td>India</td>\n",
       "      <td>22</td>\n",
       "      <td>K2</td>\n",
       "      <td>India</td>\n",
       "      <td>MS</td>\n",
       "    </tr>\n",
       "    <tr>\n",
       "      <th>3</th>\n",
       "      <td>K3</td>\n",
       "      <td>Cena</td>\n",
       "      <td>Japan</td>\n",
       "      <td>32</td>\n",
       "      <td>K3</td>\n",
       "      <td>USA</td>\n",
       "      <td>Phd</td>\n",
       "    </tr>\n",
       "  </tbody>\n",
       "</table>\n",
       "</div>"
      ],
      "text/plain": [
       "  key    Name    Address  Age key Address Qualification\n",
       "0  K0   Mercy     Canada   27  K0  Canada         Btech\n",
       "1  K1  Prince  Australia   24  K1      UK           B.A\n",
       "2  K2    John      India   22  K2   India            MS\n",
       "3  K3    Cena      Japan   32  K3     USA           Phd"
      ]
     },
     "execution_count": 56,
     "metadata": {},
     "output_type": "execute_result"
    }
   ],
   "source": [
    "frames = [df1, df2]\n",
    "# concatenation using concate function\n",
    "pd.concat(frames, axis=1,)"
   ]
  },
  {
   "cell_type": "code",
   "execution_count": null,
   "id": "c68cdc07",
   "metadata": {},
   "outputs": [],
   "source": [
    "pd.concat(frames, axis=1)"
   ]
  },
  {
   "cell_type": "markdown",
   "id": "88c623e2",
   "metadata": {},
   "source": [
    "#### Note: \n",
    " >- Here columns of resultant dataframes are repeated to avoid this, we will append() function."
   ]
  },
  {
   "cell_type": "markdown",
   "id": "18b67637",
   "metadata": {},
   "source": [
    "### Concatenating using `.append()` function\n",
    "- Append function concatenates along axis = 0 only. It can take multiple objects as input."
   ]
  },
  {
   "cell_type": "code",
   "execution_count": 57,
   "id": "8bab0f8b",
   "metadata": {},
   "outputs": [
    {
     "ename": "AttributeError",
     "evalue": "'DataFrame' object has no attribute 'append'",
     "output_type": "error",
     "traceback": [
      "\u001b[0;31m---------------------------------------------------------------------------\u001b[0m",
      "\u001b[0;31mAttributeError\u001b[0m                            Traceback (most recent call last)",
      "\u001b[0;32m/var/folders/qb/lf_2q09x7wj115gvfnkv6tkm0000gn/T/ipykernel_23808/2149412069.py\u001b[0m in \u001b[0;36m?\u001b[0;34m()\u001b[0m\n\u001b[0;32m----> 1\u001b[0;31m \u001b[0mdf1\u001b[0m\u001b[0;34m.\u001b[0m\u001b[0mappend\u001b[0m\u001b[0;34m(\u001b[0m\u001b[0mdf2\u001b[0m\u001b[0;34m,\u001b[0m \u001b[0mignore_index\u001b[0m\u001b[0;34m=\u001b[0m\u001b[0;32mTrue\u001b[0m\u001b[0;34m)\u001b[0m\u001b[0;34m\u001b[0m\u001b[0;34m\u001b[0m\u001b[0m\n\u001b[0m",
      "\u001b[0;32m/opt/anaconda3/lib/python3.11/site-packages/pandas/core/generic.py\u001b[0m in \u001b[0;36m?\u001b[0;34m(self, name)\u001b[0m\n\u001b[1;32m   6200\u001b[0m             \u001b[0;32mand\u001b[0m \u001b[0mname\u001b[0m \u001b[0;32mnot\u001b[0m \u001b[0;32min\u001b[0m \u001b[0mself\u001b[0m\u001b[0;34m.\u001b[0m\u001b[0m_accessors\u001b[0m\u001b[0;34m\u001b[0m\u001b[0;34m\u001b[0m\u001b[0m\n\u001b[1;32m   6201\u001b[0m             \u001b[0;32mand\u001b[0m \u001b[0mself\u001b[0m\u001b[0;34m.\u001b[0m\u001b[0m_info_axis\u001b[0m\u001b[0;34m.\u001b[0m\u001b[0m_can_hold_identifiers_and_holds_name\u001b[0m\u001b[0;34m(\u001b[0m\u001b[0mname\u001b[0m\u001b[0;34m)\u001b[0m\u001b[0;34m\u001b[0m\u001b[0;34m\u001b[0m\u001b[0m\n\u001b[1;32m   6202\u001b[0m         ):\n\u001b[1;32m   6203\u001b[0m             \u001b[0;32mreturn\u001b[0m \u001b[0mself\u001b[0m\u001b[0;34m[\u001b[0m\u001b[0mname\u001b[0m\u001b[0;34m]\u001b[0m\u001b[0;34m\u001b[0m\u001b[0;34m\u001b[0m\u001b[0m\n\u001b[0;32m-> 6204\u001b[0;31m         \u001b[0;32mreturn\u001b[0m \u001b[0mobject\u001b[0m\u001b[0;34m.\u001b[0m\u001b[0m__getattribute__\u001b[0m\u001b[0;34m(\u001b[0m\u001b[0mself\u001b[0m\u001b[0;34m,\u001b[0m \u001b[0mname\u001b[0m\u001b[0;34m)\u001b[0m\u001b[0;34m\u001b[0m\u001b[0;34m\u001b[0m\u001b[0m\n\u001b[0m",
      "\u001b[0;31mAttributeError\u001b[0m: 'DataFrame' object has no attribute 'append'"
     ]
    }
   ],
   "source": [
    "df1.append(df2, ignore_index=True)"
   ]
  },
  {
   "cell_type": "code",
   "execution_count": null,
   "id": "ccf409a0",
   "metadata": {},
   "outputs": [],
   "source": []
  },
  {
   "cell_type": "code",
   "execution_count": null,
   "id": "f6462fa4",
   "metadata": {},
   "outputs": [],
   "source": []
  },
  {
   "cell_type": "markdown",
   "id": "9119ab0b",
   "metadata": {},
   "source": [
    "## Practices \n",
    "- Import pandas library.\n",
    "- Download both datasets for this exercise from here [data1](https://raw.githubusercontent.com/bsef19m521/DatasetsForProjects/master/data1.csv) and [data2](https://raw.githubusercontent.com/bsef19m521/DatasetsForProjects/master/data2.csv) "
   ]
  },
  {
   "cell_type": "markdown",
   "id": "a238e939",
   "metadata": {},
   "source": [
    "### Step 1 : Write a program to join the two given dataframes along rows and assign all to variable `data`."
   ]
  },
  {
   "cell_type": "code",
   "execution_count": null,
   "id": "efb9ea0e",
   "metadata": {},
   "outputs": [],
   "source": [
    "data1 = pd.read_csv('datasets/data1.csv')\n",
    "data2 = pd.read_csv('datasets/data2.csv')\n",
    "print(\"First Data : \", data1, sep=\"\\n\")\n",
    "print(\"Second Data : \", data2, sep=\"\\n\")\n",
    "print(\"Joining of two dataframes along rows wise ...\")\n",
    "data = pd.concat([data1, data2],)\n",
    "data\n",
    "\n",
    "# pd.concat([df1,df2])"
   ]
  },
  {
   "cell_type": "code",
   "execution_count": null,
   "id": "ecad0c8d",
   "metadata": {},
   "outputs": [],
   "source": []
  },
  {
   "cell_type": "code",
   "execution_count": null,
   "id": "86c5eed4",
   "metadata": {},
   "outputs": [],
   "source": []
  },
  {
   "cell_type": "markdown",
   "id": "890ff8e3",
   "metadata": {},
   "source": [
    "### Step 2 : Write a program to join the two given dataframes along columns and assign all to variable data."
   ]
  },
  {
   "cell_type": "code",
   "execution_count": null,
   "id": "c41ab952",
   "metadata": {},
   "outputs": [],
   "source": [
    "# data1 = pd.read_csv('datasets/data1.csv')\n",
    "# data2 = pd.read_csv('datasets/data2.csv')\n",
    "# # print(\"First Data : \", data1, sep=\"\\n\")\n",
    "# # print(\"Second Data : \", data2, sep=\"\\n\")\n",
    "# print(\"Joining of two dataframes along rows wise ...\")\n",
    "data = pd.concat([data1, data2],axis=1)\n",
    "data"
   ]
  },
  {
   "cell_type": "markdown",
   "id": "3463bcd0",
   "metadata": {},
   "source": [
    "### Step 3 : Write a Pandas program to append rows to an existing DataFrame `data1` and display the combined data."
   ]
  },
  {
   "cell_type": "code",
   "execution_count": 58,
   "id": "cb43b353",
   "metadata": {},
   "outputs": [
    {
     "data": {
      "text/plain": [
       "student_id                S6\n",
       "name          Ehtisham Sadiq\n",
       "marks                    187\n",
       "dtype: object"
      ]
     },
     "execution_count": 58,
     "metadata": {},
     "output_type": "execute_result"
    }
   ],
   "source": [
    "s1 = pd.Series(['S6','Ehtisham Sadiq', 187], index=['student_id', 'name', 'marks'])\n",
    "s1"
   ]
  },
  {
   "cell_type": "code",
   "execution_count": 59,
   "id": "9458b0dc",
   "metadata": {},
   "outputs": [
    {
     "ename": "AttributeError",
     "evalue": "'dict' object has no attribute 'append'",
     "output_type": "error",
     "traceback": [
      "\u001b[0;31m---------------------------------------------------------------------------\u001b[0m",
      "\u001b[0;31mAttributeError\u001b[0m                            Traceback (most recent call last)",
      "Cell \u001b[0;32mIn[59], line 1\u001b[0m\n\u001b[0;32m----> 1\u001b[0m combined_data \u001b[38;5;241m=\u001b[39m data1\u001b[38;5;241m.\u001b[39mappend(s1, ignore_index\u001b[38;5;241m=\u001b[39m\u001b[38;5;28;01mTrue\u001b[39;00m)\n\u001b[1;32m      2\u001b[0m \u001b[38;5;28mprint\u001b[39m(\u001b[38;5;124m\"\u001b[39m\u001b[38;5;124mCombined data : \u001b[39m\u001b[38;5;124m\"\u001b[39m, combined_data, sep\u001b[38;5;241m=\u001b[39m\u001b[38;5;124m\"\u001b[39m\u001b[38;5;130;01m\\n\u001b[39;00m\u001b[38;5;124m\"\u001b[39m)\n",
      "\u001b[0;31mAttributeError\u001b[0m: 'dict' object has no attribute 'append'"
     ]
    }
   ],
   "source": [
    "combined_data = data1.append(s1, ignore_index=True)\n",
    "print(\"Combined data : \", combined_data, sep=\"\\n\")"
   ]
  },
  {
   "cell_type": "markdown",
   "id": "75560e1e",
   "metadata": {},
   "source": [
    "#### Summary\n",
    "- For `pandas.DataFrame`, both `join` and `merge` operates on columns and rename the common columns using the given suffix. In terms of row-wise alignment, `merge` provides more flexible control.\n",
    "- Different from `join` and `merge`, `concat` can operate on columns or rows, depending on the given axis, and no renaming is performed. In addition, `concat` allows defining hierachy structures by passing in `keys` and `names`."
   ]
  },
  {
   "cell_type": "code",
   "execution_count": null,
   "id": "34c8a6ed",
   "metadata": {},
   "outputs": [],
   "source": []
  },
  {
   "cell_type": "markdown",
   "id": "3033a5a8",
   "metadata": {},
   "source": [
    "## How To Perform Data Visualization with Pandas\n"
   ]
  },
  {
   "cell_type": "markdown",
   "id": "bb06db2b",
   "metadata": {},
   "source": [
    "#### Introduction\n",
    "- Data visualization is the most important step in the life cycle of data science, data analytics, or we can say in data engineering. It is more impressive, interesting and understanding when we represent our study or analysis with the help of colours and graphics. Using visualization elements like graphs, charts, maps, etc., it becomes easier for clients to understand the underlying structure, trends, patterns and relationships among variables within the dataset. Simply explaining the data summary and analysis using plain numbers becomes complicated for both, people coming from technical and non-technical backgrounds. Data visualization gives us a clear idea of what the data wants to convey to us. It makes data neutral for us to understand the data insights.\n",
    "- Data visualization involves operating a huge amount of data and converts it into meaningful and knowledgeable visuals using various tools. For visualizing data we need the best software tools to handle various types of data in structured or unstructured format from different sources such as files, web API, databases, and many more. We must choose the best visualization tool that fulfils all our requirements. The tool should support interactive plots generation, connectivity to data sources, combining data sources, automatically refresh the data, secured access to data sources, and exporting widgets. All these features allow us to make the best visuals of our data and also save time.\n",
    "#### Advantages of Data Visualization\n",
    "<img src=\"images/70513benefits.jpg\" height=600px width=600px >"
   ]
  },
  {
   "cell_type": "markdown",
   "id": "9a54ec3a",
   "metadata": {},
   "source": [
    "### Data Visualization with Pandas:\n",
    "\n",
    "- Pandas library in python is mainly used for data analysis. It is not a data visualization library but, we can create basic plots using Pandas. Pandas is highly useful and practical if we want to create exploratory data analysis plots. We do not need to import other data visualization libraries in addition to Pandas for such tasks.\n",
    "\n",
    "- As Pandas is Python’s popular data analysis library, it provides several different functions to visualizing our data with the help of the .plot() function. There is one more advantage of using Pandas for visualization is we can serialize or create a pipeline of data analysis functions and plotting functions. It simplifies the task."
   ]
  },
  {
   "cell_type": "markdown",
   "id": "adba7660",
   "metadata": {},
   "source": [
    "#### Creating of Dataframe"
   ]
  },
  {
   "cell_type": "code",
   "execution_count": 60,
   "id": "504dcfd8",
   "metadata": {},
   "outputs": [],
   "source": [
    "x = pd.Series(np.arange(1,21))\n",
    "y = x**1.2\n",
    "z = x**1.7\n",
    "w = x**.5"
   ]
  },
  {
   "cell_type": "code",
   "execution_count": 62,
   "id": "421fed4d",
   "metadata": {},
   "outputs": [],
   "source": [
    "dict1 = {'col1':x,\n",
    "        'col2':y,\n",
    "        'col3':z,\n",
    "        'col4':w}\n",
    "# dict1"
   ]
  },
  {
   "cell_type": "code",
   "execution_count": 63,
   "id": "1a152fd6",
   "metadata": {},
   "outputs": [
    {
     "data": {
      "text/html": [
       "<div>\n",
       "<style scoped>\n",
       "    .dataframe tbody tr th:only-of-type {\n",
       "        vertical-align: middle;\n",
       "    }\n",
       "\n",
       "    .dataframe tbody tr th {\n",
       "        vertical-align: top;\n",
       "    }\n",
       "\n",
       "    .dataframe thead th {\n",
       "        text-align: right;\n",
       "    }\n",
       "</style>\n",
       "<table border=\"1\" class=\"dataframe\">\n",
       "  <thead>\n",
       "    <tr style=\"text-align: right;\">\n",
       "      <th></th>\n",
       "      <th>col1</th>\n",
       "      <th>col2</th>\n",
       "      <th>col3</th>\n",
       "      <th>col4</th>\n",
       "    </tr>\n",
       "  </thead>\n",
       "  <tbody>\n",
       "    <tr>\n",
       "      <th>0</th>\n",
       "      <td>1</td>\n",
       "      <td>1.000000</td>\n",
       "      <td>1.000000</td>\n",
       "      <td>1.000000</td>\n",
       "    </tr>\n",
       "    <tr>\n",
       "      <th>1</th>\n",
       "      <td>2</td>\n",
       "      <td>2.297397</td>\n",
       "      <td>3.249010</td>\n",
       "      <td>1.414214</td>\n",
       "    </tr>\n",
       "    <tr>\n",
       "      <th>2</th>\n",
       "      <td>3</td>\n",
       "      <td>3.737193</td>\n",
       "      <td>6.473008</td>\n",
       "      <td>1.732051</td>\n",
       "    </tr>\n",
       "    <tr>\n",
       "      <th>3</th>\n",
       "      <td>4</td>\n",
       "      <td>5.278032</td>\n",
       "      <td>10.556063</td>\n",
       "      <td>2.000000</td>\n",
       "    </tr>\n",
       "    <tr>\n",
       "      <th>4</th>\n",
       "      <td>5</td>\n",
       "      <td>6.898648</td>\n",
       "      <td>15.425847</td>\n",
       "      <td>2.236068</td>\n",
       "    </tr>\n",
       "    <tr>\n",
       "      <th>5</th>\n",
       "      <td>6</td>\n",
       "      <td>8.585814</td>\n",
       "      <td>21.030865</td>\n",
       "      <td>2.449490</td>\n",
       "    </tr>\n",
       "    <tr>\n",
       "      <th>6</th>\n",
       "      <td>7</td>\n",
       "      <td>10.330412</td>\n",
       "      <td>27.331701</td>\n",
       "      <td>2.645751</td>\n",
       "    </tr>\n",
       "    <tr>\n",
       "      <th>7</th>\n",
       "      <td>8</td>\n",
       "      <td>12.125733</td>\n",
       "      <td>34.296751</td>\n",
       "      <td>2.828427</td>\n",
       "    </tr>\n",
       "    <tr>\n",
       "      <th>8</th>\n",
       "      <td>9</td>\n",
       "      <td>13.966610</td>\n",
       "      <td>41.899830</td>\n",
       "      <td>3.000000</td>\n",
       "    </tr>\n",
       "    <tr>\n",
       "      <th>9</th>\n",
       "      <td>10</td>\n",
       "      <td>15.848932</td>\n",
       "      <td>50.118723</td>\n",
       "      <td>3.162278</td>\n",
       "    </tr>\n",
       "    <tr>\n",
       "      <th>10</th>\n",
       "      <td>11</td>\n",
       "      <td>17.769337</td>\n",
       "      <td>58.934223</td>\n",
       "      <td>3.316625</td>\n",
       "    </tr>\n",
       "    <tr>\n",
       "      <th>11</th>\n",
       "      <td>12</td>\n",
       "      <td>19.725022</td>\n",
       "      <td>68.329480</td>\n",
       "      <td>3.464102</td>\n",
       "    </tr>\n",
       "    <tr>\n",
       "      <th>12</th>\n",
       "      <td>13</td>\n",
       "      <td>21.713609</td>\n",
       "      <td>78.289532</td>\n",
       "      <td>3.605551</td>\n",
       "    </tr>\n",
       "    <tr>\n",
       "      <th>13</th>\n",
       "      <td>14</td>\n",
       "      <td>23.733055</td>\n",
       "      <td>88.800960</td>\n",
       "      <td>3.741657</td>\n",
       "    </tr>\n",
       "    <tr>\n",
       "      <th>14</th>\n",
       "      <td>15</td>\n",
       "      <td>25.781579</td>\n",
       "      <td>99.851626</td>\n",
       "      <td>3.872983</td>\n",
       "    </tr>\n",
       "    <tr>\n",
       "      <th>15</th>\n",
       "      <td>16</td>\n",
       "      <td>27.857618</td>\n",
       "      <td>111.430472</td>\n",
       "      <td>4.000000</td>\n",
       "    </tr>\n",
       "    <tr>\n",
       "      <th>16</th>\n",
       "      <td>17</td>\n",
       "      <td>29.959786</td>\n",
       "      <td>123.527362</td>\n",
       "      <td>4.123106</td>\n",
       "    </tr>\n",
       "    <tr>\n",
       "      <th>17</th>\n",
       "      <td>18</td>\n",
       "      <td>32.086844</td>\n",
       "      <td>136.132951</td>\n",
       "      <td>4.242641</td>\n",
       "    </tr>\n",
       "    <tr>\n",
       "      <th>18</th>\n",
       "      <td>19</td>\n",
       "      <td>34.237679</td>\n",
       "      <td>149.238585</td>\n",
       "      <td>4.358899</td>\n",
       "    </tr>\n",
       "    <tr>\n",
       "      <th>19</th>\n",
       "      <td>20</td>\n",
       "      <td>36.411284</td>\n",
       "      <td>162.836213</td>\n",
       "      <td>4.472136</td>\n",
       "    </tr>\n",
       "  </tbody>\n",
       "</table>\n",
       "</div>"
      ],
      "text/plain": [
       "    col1       col2        col3      col4\n",
       "0      1   1.000000    1.000000  1.000000\n",
       "1      2   2.297397    3.249010  1.414214\n",
       "2      3   3.737193    6.473008  1.732051\n",
       "3      4   5.278032   10.556063  2.000000\n",
       "4      5   6.898648   15.425847  2.236068\n",
       "5      6   8.585814   21.030865  2.449490\n",
       "6      7  10.330412   27.331701  2.645751\n",
       "7      8  12.125733   34.296751  2.828427\n",
       "8      9  13.966610   41.899830  3.000000\n",
       "9     10  15.848932   50.118723  3.162278\n",
       "10    11  17.769337   58.934223  3.316625\n",
       "11    12  19.725022   68.329480  3.464102\n",
       "12    13  21.713609   78.289532  3.605551\n",
       "13    14  23.733055   88.800960  3.741657\n",
       "14    15  25.781579   99.851626  3.872983\n",
       "15    16  27.857618  111.430472  4.000000\n",
       "16    17  29.959786  123.527362  4.123106\n",
       "17    18  32.086844  136.132951  4.242641\n",
       "18    19  34.237679  149.238585  4.358899\n",
       "19    20  36.411284  162.836213  4.472136"
      ]
     },
     "execution_count": 63,
     "metadata": {},
     "output_type": "execute_result"
    }
   ],
   "source": [
    "#importing packages\n",
    "import numpy as np\n",
    "import pandas as pd\n",
    "\n",
    "#creating a DataFrame\n",
    "df = pd.DataFrame(dict1)\n",
    "# Since this is a randomly generated dataframe the values will differ everytime you run this code for everyone.\n",
    "\n",
    "#displaying the DataFrame\n",
    "df"
   ]
  },
  {
   "cell_type": "markdown",
   "id": "ea8eccdc",
   "metadata": {},
   "source": [
    "#### Line plot:\n",
    "- Line plot can be created with DataFrame.plot() function."
   ]
  },
  {
   "cell_type": "code",
   "execution_count": 64,
   "id": "ab2deb17",
   "metadata": {},
   "outputs": [
    {
     "data": {
      "text/plain": [
       "<Axes: >"
      ]
     },
     "execution_count": 64,
     "metadata": {},
     "output_type": "execute_result"
    },
    {
     "data": {
      "image/png": "[encoded data removed]",
      "text/plain": [
       "<Figure size 640x480 with 1 Axes>"
      ]
     },
     "metadata": {},
     "output_type": "display_data"
    }
   ],
   "source": [
    "df.plot()"
   ]
  },
  {
   "cell_type": "code",
   "execution_count": null,
   "id": "4827ac78",
   "metadata": {},
   "outputs": [],
   "source": []
  },
  {
   "cell_type": "markdown",
   "id": "3f4058cc",
   "metadata": {},
   "source": [
    "We have got the well-versed line plot for `df` without specifying any type of features in the `.plot()` function. We can plot graphs between two columns also"
   ]
  },
  {
   "cell_type": "code",
   "execution_count": 65,
   "id": "c26aac55",
   "metadata": {},
   "outputs": [
    {
     "data": {
      "text/plain": [
       "<Axes: xlabel='col1'>"
      ]
     },
     "execution_count": 65,
     "metadata": {},
     "output_type": "execute_result"
    },
    {
     "data": {
      "image/png": "[encoded data removed]",
      "text/plain": [
       "<Figure size 640x480 with 1 Axes>"
      ]
     },
     "metadata": {},
     "output_type": "display_data"
    }
   ],
   "source": [
    "df.plot(x='col1', y='col4')"
   ]
  },
  {
   "cell_type": "code",
   "execution_count": 66,
   "id": "edd4c267",
   "metadata": {},
   "outputs": [
    {
     "data": {
      "text/plain": [
       "<Axes: >"
      ]
     },
     "execution_count": 66,
     "metadata": {},
     "output_type": "execute_result"
    },
    {
     "data": {
      "image/png": "[encoded data removed]",
      "text/plain": [
       "<Figure size 640x480 with 1 Axes>"
      ]
     },
     "metadata": {},
     "output_type": "display_data"
    }
   ],
   "source": [
    "df[['col3','col4']].plot()"
   ]
  },
  {
   "cell_type": "code",
   "execution_count": 67,
   "id": "76c3b524",
   "metadata": {},
   "outputs": [
    {
     "data": {
      "text/plain": [
       "array([<Axes: >, <Axes: >, <Axes: >, <Axes: >], dtype=object)"
      ]
     },
     "execution_count": 67,
     "metadata": {},
     "output_type": "execute_result"
    },
    {
     "data": {
      "image/png": "[encoded data removed]",
      "text/plain": [
       "<Figure size 800x800 with 4 Axes>"
      ]
     },
     "metadata": {},
     "output_type": "display_data"
    }
   ],
   "source": [
    "# We can also generate subplots for individual columns.\n",
    "df.plot(subplots=True, figsize=(8,8))"
   ]
  },
  {
   "cell_type": "code",
   "execution_count": null,
   "id": "3def5d4f",
   "metadata": {},
   "outputs": [],
   "source": []
  },
  {
   "cell_type": "markdown",
   "id": "faf189fb",
   "metadata": {},
   "source": [
    "### Bar plot:\n",
    "- Now, we will create bar plots for the same dataframe. Bar plot can be created with `DataFrame.plot.bar()` function."
   ]
  },
  {
   "cell_type": "code",
   "execution_count": 68,
   "id": "98a97272",
   "metadata": {},
   "outputs": [
    {
     "data": {
      "text/plain": [
       "<Axes: >"
      ]
     },
     "execution_count": 68,
     "metadata": {},
     "output_type": "execute_result"
    },
    {
     "data": {
      "image/png": "[encoded data removed]",
      "text/plain": [
       "<Figure size 640x480 with 1 Axes>"
      ]
     },
     "metadata": {},
     "output_type": "display_data"
    }
   ],
   "source": [
    "df.plot.bar()"
   ]
  },
  {
   "cell_type": "code",
   "execution_count": 69,
   "id": "ac952420",
   "metadata": {},
   "outputs": [
    {
     "data": {
      "text/plain": [
       "<Axes: >"
      ]
     },
     "execution_count": 69,
     "metadata": {},
     "output_type": "execute_result"
    },
    {
     "data": {
      "image/png": "[encoded data removed]",
      "text/plain": [
       "<Figure size 640x480 with 1 Axes>"
      ]
     },
     "metadata": {},
     "output_type": "display_data"
    }
   ],
   "source": [
    "df.plot.bar(stacked=True)\n",
    "# In this bar plot, the bars are stacked."
   ]
  },
  {
   "cell_type": "code",
   "execution_count": null,
   "id": "d0dc833c",
   "metadata": {},
   "outputs": [],
   "source": [
    "df.plot.barh(stacked=True)\n",
    "# In this bar plot, the bars are stacked."
   ]
  },
  {
   "cell_type": "markdown",
   "id": "2abc32ec",
   "metadata": {},
   "source": [
    "### Histogram Plot:\n",
    "Now, let’s generate a histogram for the `df`. Histogram plot can be created with `DataFrame.plot.hist()` function."
   ]
  },
  {
   "cell_type": "code",
   "execution_count": 70,
   "id": "9eb9e569",
   "metadata": {},
   "outputs": [
    {
     "data": {
      "text/plain": [
       "<Axes: ylabel='Frequency'>"
      ]
     },
     "execution_count": 70,
     "metadata": {},
     "output_type": "execute_result"
    },
    {
     "data": {
      "image/png": "[encoded data removed]",
      "text/plain": [
       "<Figure size 640x480 with 1 Axes>"
      ]
     },
     "metadata": {},
     "output_type": "display_data"
    }
   ],
   "source": [
    "df.plot.hist()"
   ]
  },
  {
   "cell_type": "code",
   "execution_count": 71,
   "id": "0b9017ac",
   "metadata": {},
   "outputs": [
    {
     "data": {
      "text/plain": [
       "<Axes: ylabel='Frequency'>"
      ]
     },
     "execution_count": 71,
     "metadata": {},
     "output_type": "execute_result"
    },
    {
     "data": {
      "image/png": "[encoded data removed]",
      "text/plain": [
       "<Figure size 640x480 with 1 Axes>"
      ]
     },
     "metadata": {},
     "output_type": "display_data"
    }
   ],
   "source": [
    "# Now, let’s create a histogram with some other features.\n",
    "df.plot.hist(stacked=True, bins=15)\n",
    "# This is a stacked histogram."
   ]
  },
  {
   "cell_type": "code",
   "execution_count": 72,
   "id": "21fa6a96",
   "metadata": {},
   "outputs": [
    {
     "data": {
      "image/png": "[encoded data removed]",
      "text/plain": [
       "<Figure size 640x480 with 1 Axes>"
      ]
     },
     "metadata": {},
     "output_type": "display_data"
    }
   ],
   "source": [
    "df.plot.hist(orientation=\"horizontal\", cumulative=True);\n",
    "# Here, we have added a cumulative frequency in the histogram."
   ]
  },
  {
   "cell_type": "code",
   "execution_count": null,
   "id": "e24b35b2",
   "metadata": {},
   "outputs": [],
   "source": [
    "# Let’s create a histogram for each column individually.\n",
    "df.diff().hist(bins=15)"
   ]
  },
  {
   "cell_type": "markdown",
   "id": "da81a6c3",
   "metadata": {},
   "source": [
    "### Box Plot:\n",
    "Now, we will create box plot. Box plot can be created with `DataFrame.plot.box()` function or `DataFrame.boxplot()`."
   ]
  },
  {
   "cell_type": "code",
   "execution_count": 73,
   "id": "d65979c2",
   "metadata": {},
   "outputs": [
    {
     "data": {
      "text/plain": [
       "<Axes: >"
      ]
     },
     "execution_count": 73,
     "metadata": {},
     "output_type": "execute_result"
    },
    {
     "data": {
      "image/png": "[encoded data removed]",
      "text/plain": [
       "<Figure size 640x480 with 1 Axes>"
      ]
     },
     "metadata": {},
     "output_type": "display_data"
    }
   ],
   "source": [
    "# First Method    \n",
    "df.plot.box()"
   ]
  },
  {
   "cell_type": "code",
   "execution_count": 74,
   "id": "3fef876b",
   "metadata": {},
   "outputs": [
    {
     "data": {
      "text/plain": [
       "<Axes: >"
      ]
     },
     "execution_count": 74,
     "metadata": {},
     "output_type": "execute_result"
    },
    {
     "data": {
      "image/png": "[encoded data removed]",
      "text/plain": [
       "<Figure size 640x480 with 1 Axes>"
      ]
     },
     "metadata": {},
     "output_type": "display_data"
    }
   ],
   "source": [
    "# Second Method\n",
    "df.boxplot()"
   ]
  },
  {
   "cell_type": "code",
   "execution_count": 75,
   "id": "1ef443b2",
   "metadata": {},
   "outputs": [
    {
     "data": {
      "text/plain": [
       "<Axes: >"
      ]
     },
     "execution_count": 75,
     "metadata": {},
     "output_type": "execute_result"
    },
    {
     "data": {
      "image/png": "[encoded data removed]",
      "text/plain": [
       "<Figure size 640x480 with 1 Axes>"
      ]
     },
     "metadata": {},
     "output_type": "display_data"
    }
   ],
   "source": [
    "# Now, generating the box plot in a horizontal form.\n",
    "df.plot.box(vert=False)"
   ]
  },
  {
   "cell_type": "markdown",
   "id": "0738cf1b",
   "metadata": {},
   "source": [
    "### Area plot:\n",
    "Now, we will create a area plot. Area plot can be created with `DataFrame.plot.area()` function. By default, it is stacked."
   ]
  },
  {
   "cell_type": "code",
   "execution_count": 76,
   "id": "6ac3117b",
   "metadata": {},
   "outputs": [
    {
     "data": {
      "text/plain": [
       "<Axes: >"
      ]
     },
     "execution_count": 76,
     "metadata": {},
     "output_type": "execute_result"
    },
    {
     "data": {
      "image/png": "[encoded data removed]",
      "text/plain": [
       "<Figure size 640x480 with 1 Axes>"
      ]
     },
     "metadata": {},
     "output_type": "display_data"
    }
   ],
   "source": [
    "df.plot.area()"
   ]
  },
  {
   "cell_type": "code",
   "execution_count": 77,
   "id": "2915a7f1",
   "metadata": {},
   "outputs": [
    {
     "data": {
      "text/plain": [
       "<Axes: >"
      ]
     },
     "execution_count": 77,
     "metadata": {},
     "output_type": "execute_result"
    },
    {
     "data": {
      "image/png": "[encoded data removed]",
      "text/plain": [
       "<Figure size 640x480 with 1 Axes>"
      ]
     },
     "metadata": {},
     "output_type": "display_data"
    }
   ],
   "source": [
    "# Now, we will create unstacked area plot.\n",
    "df.plot.area(stacked=False)"
   ]
  },
  {
   "cell_type": "markdown",
   "id": "f598cc28",
   "metadata": {},
   "source": [
    "### Scatter plot:\n",
    "Now, let’s generate a scatter plot. A Scatter plot can be created with `DataFrame.plot.scatter()` function. As we know scatter plot takes two-positional required arguments i.e. x and y to plot the graph. So, we will give the values of the  `x-axis` and `y-axis` as the name of columns."
   ]
  },
  {
   "cell_type": "code",
   "execution_count": 78,
   "id": "bee8071b",
   "metadata": {},
   "outputs": [
    {
     "data": {
      "text/plain": [
       "<Axes: xlabel='col4', ylabel='col3'>"
      ]
     },
     "execution_count": 78,
     "metadata": {},
     "output_type": "execute_result"
    },
    {
     "data": {
      "image/png": "[encoded data removed]",
      "text/plain": [
       "<Figure size 640x480 with 1 Axes>"
      ]
     },
     "metadata": {},
     "output_type": "display_data"
    }
   ],
   "source": [
    "df.plot.scatter('col4', 'col3')"
   ]
  },
  {
   "cell_type": "code",
   "execution_count": 79,
   "id": "f595ae94",
   "metadata": {},
   "outputs": [
    {
     "data": {
      "text/plain": [
       "<Axes: xlabel='col3', ylabel='col4'>"
      ]
     },
     "execution_count": 79,
     "metadata": {},
     "output_type": "execute_result"
    },
    {
     "data": {
      "image/png": "[encoded data removed]",
      "text/plain": [
       "<Figure size 640x480 with 1 Axes>"
      ]
     },
     "metadata": {},
     "output_type": "display_data"
    }
   ],
   "source": [
    "# This is the scatter plot between col_1 and col_2 of dataframe df. Let’s apply some styles.\n",
    "ax = df.plot.scatter('col1', 'col2', color='r', marker=\"*\", s=100)\n",
    "df.plot.scatter(x='col3',y='col4', color='b', s=100, ax=ax)"
   ]
  },
  {
   "cell_type": "markdown",
   "id": "2e532913",
   "metadata": {},
   "source": [
    "In this plot the data is spread with respect to col_2 and col_4 and the we have added some styles also like color, marker  and size of scatters. Let’s see another style of scatter plot"
   ]
  },
  {
   "cell_type": "code",
   "execution_count": 80,
   "id": "6b05c4c5",
   "metadata": {},
   "outputs": [
    {
     "data": {
      "text/plain": [
       "<Axes: xlabel='col2', ylabel='col4'>"
      ]
     },
     "execution_count": 80,
     "metadata": {},
     "output_type": "execute_result"
    },
    {
     "data": {
      "image/png": "[encoded data removed]",
      "text/plain": [
       "<Figure size 640x480 with 2 Axes>"
      ]
     },
     "metadata": {},
     "output_type": "display_data"
    }
   ],
   "source": [
    "df.plot.scatter(x='col2', y='col4', c='col1', s=100)\n",
    "# The c keyword is given as the name of a column to provide colours for each point."
   ]
  },
  {
   "cell_type": "code",
   "execution_count": null,
   "id": "892d80c7",
   "metadata": {},
   "outputs": [],
   "source": []
  },
  {
   "cell_type": "markdown",
   "id": "9452e6ce",
   "metadata": {},
   "source": [
    "### Pie chart:\n",
    "- A Pie plot can be created with `DataFrame.plot.pie()` function or `Series.plot.pie()`. To generate a pie chart we will create series data as a pie chart is created only for one column. Let’s create a series named pie."
   ]
  },
  {
   "cell_type": "code",
   "execution_count": 81,
   "id": "ec4a7c51",
   "metadata": {},
   "outputs": [
    {
     "data": {
      "text/plain": [
       "0    23\n",
       "1    99\n",
       "2    71\n",
       "3    22\n",
       "dtype: int64"
      ]
     },
     "execution_count": 81,
     "metadata": {},
     "output_type": "execute_result"
    }
   ],
   "source": [
    "pie = pd.Series(np.random.randint(10,100,4))\n",
    "pie"
   ]
  },
  {
   "cell_type": "code",
   "execution_count": 82,
   "id": "916650e8",
   "metadata": {},
   "outputs": [
    {
     "data": {
      "text/plain": [
       "<Axes: >"
      ]
     },
     "execution_count": 82,
     "metadata": {},
     "output_type": "execute_result"
    },
    {
     "data": {
      "image/png": "[encoded data removed]",
      "text/plain": [
       "<Figure size 640x480 with 1 Axes>"
      ]
     },
     "metadata": {},
     "output_type": "display_data"
    }
   ],
   "source": [
    "pie.plot.pie()"
   ]
  },
  {
   "cell_type": "code",
   "execution_count": 83,
   "id": "61f5e7a8",
   "metadata": {},
   "outputs": [
    {
     "data": {
      "text/plain": [
       "<Axes: >"
      ]
     },
     "execution_count": 83,
     "metadata": {},
     "output_type": "execute_result"
    },
    {
     "data": {
      "image/png": "[encoded data removed]",
      "text/plain": [
       "<Figure size 640x480 with 1 Axes>"
      ]
     },
     "metadata": {},
     "output_type": "display_data"
    }
   ],
   "source": [
    "# Let's apply some styles\n",
    "pie.plot.pie(autopct='%.2f')"
   ]
  },
  {
   "cell_type": "code",
   "execution_count": null,
   "id": "e02d13f5",
   "metadata": {},
   "outputs": [],
   "source": []
  },
  {
   "cell_type": "markdown",
   "id": "6fda6177",
   "metadata": {},
   "source": [
    "### Pie Chart for DataFrame\n",
    "- A Pie chart can be created for DataFrames  also but it will generate individual pies for each column of DataFrame in the form of subplots. Let’s Create a pie chart for the dataframe also"
   ]
  },
  {
   "cell_type": "code",
   "execution_count": 84,
   "id": "fd656a0c",
   "metadata": {},
   "outputs": [
    {
     "data": {
      "text/html": [
       "<div>\n",
       "<style scoped>\n",
       "    .dataframe tbody tr th:only-of-type {\n",
       "        vertical-align: middle;\n",
       "    }\n",
       "\n",
       "    .dataframe tbody tr th {\n",
       "        vertical-align: top;\n",
       "    }\n",
       "\n",
       "    .dataframe thead th {\n",
       "        text-align: right;\n",
       "    }\n",
       "</style>\n",
       "<table border=\"1\" class=\"dataframe\">\n",
       "  <thead>\n",
       "    <tr style=\"text-align: right;\">\n",
       "      <th></th>\n",
       "      <th>col1</th>\n",
       "      <th>col2</th>\n",
       "      <th>col3</th>\n",
       "    </tr>\n",
       "  </thead>\n",
       "  <tbody>\n",
       "    <tr>\n",
       "      <th>0</th>\n",
       "      <td>30</td>\n",
       "      <td>48</td>\n",
       "      <td>58</td>\n",
       "    </tr>\n",
       "    <tr>\n",
       "      <th>1</th>\n",
       "      <td>64</td>\n",
       "      <td>82</td>\n",
       "      <td>61</td>\n",
       "    </tr>\n",
       "    <tr>\n",
       "      <th>2</th>\n",
       "      <td>46</td>\n",
       "      <td>64</td>\n",
       "      <td>83</td>\n",
       "    </tr>\n",
       "    <tr>\n",
       "      <th>3</th>\n",
       "      <td>81</td>\n",
       "      <td>75</td>\n",
       "      <td>48</td>\n",
       "    </tr>\n",
       "    <tr>\n",
       "      <th>4</th>\n",
       "      <td>44</td>\n",
       "      <td>38</td>\n",
       "      <td>68</td>\n",
       "    </tr>\n",
       "  </tbody>\n",
       "</table>\n",
       "</div>"
      ],
      "text/plain": [
       "   col1  col2  col3\n",
       "0    30    48    58\n",
       "1    64    82    61\n",
       "2    46    64    83\n",
       "3    81    75    48\n",
       "4    44    38    68"
      ]
     },
     "execution_count": 84,
     "metadata": {},
     "output_type": "execute_result"
    }
   ],
   "source": [
    "new_df = pd.DataFrame(np.random.randint(20,100,(5,3)),columns=['col1','col2','col3'])\n",
    "new_df"
   ]
  },
  {
   "cell_type": "code",
   "execution_count": 85,
   "id": "e04270a4",
   "metadata": {},
   "outputs": [
    {
     "data": {
      "text/plain": [
       "array([<Axes: ylabel='col1'>, <Axes: ylabel='col2'>,\n",
       "       <Axes: ylabel='col3'>], dtype=object)"
      ]
     },
     "execution_count": 85,
     "metadata": {},
     "output_type": "execute_result"
    },
    {
     "data": {
      "image/png": "[encoded data removed]",
      "text/plain": [
       "<Figure size 1500x1500 with 3 Axes>"
      ]
     },
     "metadata": {},
     "output_type": "display_data"
    }
   ],
   "source": [
    "new_df.plot.pie(subplots=True, figsize=(15,15), autopct='%.2f')"
   ]
  },
  {
   "cell_type": "code",
   "execution_count": null,
   "id": "333389c2",
   "metadata": {},
   "outputs": [],
   "source": []
  },
  {
   "cell_type": "code",
   "execution_count": null,
   "id": "f3631148",
   "metadata": {},
   "outputs": [],
   "source": []
  },
  {
   "cell_type": "code",
   "execution_count": null,
   "id": "8c925141",
   "metadata": {},
   "outputs": [],
   "source": []
  },
  {
   "cell_type": "markdown",
   "id": "8e230f0a",
   "metadata": {},
   "source": [
    "## Practice Exercise Part 1:\n",
    "#### Visualizing the Titanic Disaster\n",
    "- Step 1. Import the necessary libraries\n",
    "- Step 2. Import the dataset from this [address](https://raw.githubusercontent.com/bsef19m521/DatasetsForProjects/master/train.csv)\n",
    "- Step 3. Assign it to a variable titanic\n",
    "- Step 4. Set PassengerId as the index\n",
    "- Step 5. Create a pie chart presenting the male/female proportion\n",
    "- Step 6. Create a scatterplot with the Fare payed and the Age, differ the plot color by gender\n",
    "- Step 7. How many people survived and died , display using pie chart?\n",
    "- Step 8. Create a histogram with the Fare payed."
   ]
  },
  {
   "cell_type": "code",
   "execution_count": 88,
   "id": "ab39a76d-5a8f-4f33-a630-38fc75bf03d6",
   "metadata": {},
   "outputs": [],
   "source": [
    "import seaborn as sns\n",
    "titanic = sns.load_dataset('titanic')"
   ]
  },
  {
   "cell_type": "code",
   "execution_count": 89,
   "id": "acc8757a-8178-4494-8bc7-1d7727d18ca5",
   "metadata": {},
   "outputs": [
    {
     "data": {
      "text/html": [
       "<div>\n",
       "<style scoped>\n",
       "    .dataframe tbody tr th:only-of-type {\n",
       "        vertical-align: middle;\n",
       "    }\n",
       "\n",
       "    .dataframe tbody tr th {\n",
       "        vertical-align: top;\n",
       "    }\n",
       "\n",
       "    .dataframe thead th {\n",
       "        text-align: right;\n",
       "    }\n",
       "</style>\n",
       "<table border=\"1\" class=\"dataframe\">\n",
       "  <thead>\n",
       "    <tr style=\"text-align: right;\">\n",
       "      <th></th>\n",
       "      <th>survived</th>\n",
       "      <th>pclass</th>\n",
       "      <th>sex</th>\n",
       "      <th>age</th>\n",
       "      <th>sibsp</th>\n",
       "      <th>parch</th>\n",
       "      <th>fare</th>\n",
       "      <th>embarked</th>\n",
       "      <th>class</th>\n",
       "      <th>who</th>\n",
       "      <th>adult_male</th>\n",
       "      <th>deck</th>\n",
       "      <th>embark_town</th>\n",
       "      <th>alive</th>\n",
       "      <th>alone</th>\n",
       "    </tr>\n",
       "  </thead>\n",
       "  <tbody>\n",
       "    <tr>\n",
       "      <th>0</th>\n",
       "      <td>0</td>\n",
       "      <td>3</td>\n",
       "      <td>male</td>\n",
       "      <td>22.0</td>\n",
       "      <td>1</td>\n",
       "      <td>0</td>\n",
       "      <td>7.2500</td>\n",
       "      <td>S</td>\n",
       "      <td>Third</td>\n",
       "      <td>man</td>\n",
       "      <td>True</td>\n",
       "      <td>NaN</td>\n",
       "      <td>Southampton</td>\n",
       "      <td>no</td>\n",
       "      <td>False</td>\n",
       "    </tr>\n",
       "    <tr>\n",
       "      <th>1</th>\n",
       "      <td>1</td>\n",
       "      <td>1</td>\n",
       "      <td>female</td>\n",
       "      <td>38.0</td>\n",
       "      <td>1</td>\n",
       "      <td>0</td>\n",
       "      <td>71.2833</td>\n",
       "      <td>C</td>\n",
       "      <td>First</td>\n",
       "      <td>woman</td>\n",
       "      <td>False</td>\n",
       "      <td>C</td>\n",
       "      <td>Cherbourg</td>\n",
       "      <td>yes</td>\n",
       "      <td>False</td>\n",
       "    </tr>\n",
       "    <tr>\n",
       "      <th>2</th>\n",
       "      <td>1</td>\n",
       "      <td>3</td>\n",
       "      <td>female</td>\n",
       "      <td>26.0</td>\n",
       "      <td>0</td>\n",
       "      <td>0</td>\n",
       "      <td>7.9250</td>\n",
       "      <td>S</td>\n",
       "      <td>Third</td>\n",
       "      <td>woman</td>\n",
       "      <td>False</td>\n",
       "      <td>NaN</td>\n",
       "      <td>Southampton</td>\n",
       "      <td>yes</td>\n",
       "      <td>True</td>\n",
       "    </tr>\n",
       "    <tr>\n",
       "      <th>3</th>\n",
       "      <td>1</td>\n",
       "      <td>1</td>\n",
       "      <td>female</td>\n",
       "      <td>35.0</td>\n",
       "      <td>1</td>\n",
       "      <td>0</td>\n",
       "      <td>53.1000</td>\n",
       "      <td>S</td>\n",
       "      <td>First</td>\n",
       "      <td>woman</td>\n",
       "      <td>False</td>\n",
       "      <td>C</td>\n",
       "      <td>Southampton</td>\n",
       "      <td>yes</td>\n",
       "      <td>False</td>\n",
       "    </tr>\n",
       "    <tr>\n",
       "      <th>4</th>\n",
       "      <td>0</td>\n",
       "      <td>3</td>\n",
       "      <td>male</td>\n",
       "      <td>35.0</td>\n",
       "      <td>0</td>\n",
       "      <td>0</td>\n",
       "      <td>8.0500</td>\n",
       "      <td>S</td>\n",
       "      <td>Third</td>\n",
       "      <td>man</td>\n",
       "      <td>True</td>\n",
       "      <td>NaN</td>\n",
       "      <td>Southampton</td>\n",
       "      <td>no</td>\n",
       "      <td>True</td>\n",
       "    </tr>\n",
       "  </tbody>\n",
       "</table>\n",
       "</div>"
      ],
      "text/plain": [
       "   survived  pclass     sex   age  sibsp  parch     fare embarked  class  \\\n",
       "0         0       3    male  22.0      1      0   7.2500        S  Third   \n",
       "1         1       1  female  38.0      1      0  71.2833        C  First   \n",
       "2         1       3  female  26.0      0      0   7.9250        S  Third   \n",
       "3         1       1  female  35.0      1      0  53.1000        S  First   \n",
       "4         0       3    male  35.0      0      0   8.0500        S  Third   \n",
       "\n",
       "     who  adult_male deck  embark_town alive  alone  \n",
       "0    man        True  NaN  Southampton    no  False  \n",
       "1  woman       False    C    Cherbourg   yes  False  \n",
       "2  woman       False  NaN  Southampton   yes   True  \n",
       "3  woman       False    C  Southampton   yes  False  \n",
       "4    man        True  NaN  Southampton    no   True  "
      ]
     },
     "execution_count": 89,
     "metadata": {},
     "output_type": "execute_result"
    }
   ],
   "source": [
    "titanic.head()"
   ]
  },
  {
   "cell_type": "code",
   "execution_count": 97,
   "id": "88e24d99-c33d-4c3d-a32a-f16e7b2dc1f6",
   "metadata": {},
   "outputs": [],
   "source": [
    "# titanic['sex'].value_counts().values\n",
    "male = (titanic.sex == 'male').sum()\n",
    "female = (titanic.sex == 'female').sum()"
   ]
  },
  {
   "cell_type": "code",
   "execution_count": 99,
   "id": "2f583d36-b29b-4e01-81c1-5a9228fefae7",
   "metadata": {},
   "outputs": [
    {
     "data": {
      "text/plain": [
       "0    577\n",
       "1    314\n",
       "dtype: int64"
      ]
     },
     "execution_count": 99,
     "metadata": {},
     "output_type": "execute_result"
    }
   ],
   "source": [
    "gender_series = pd.Series([male, female])\n",
    "gender_series"
   ]
  },
  {
   "cell_type": "code",
   "execution_count": 107,
   "id": "057502f1-895b-45b6-bc7c-8bf36a041ef4",
   "metadata": {},
   "outputs": [
    {
     "data": {
      "image/png": "[encoded data removed]",
      "text/plain": [
       "<Figure size 640x480 with 1 Axes>"
      ]
     },
     "metadata": {},
     "output_type": "display_data"
    }
   ],
   "source": [
    "gender_series.plot.pie(labels=['male','female'], autopct =\"%.2f\");"
   ]
  },
  {
   "cell_type": "code",
   "execution_count": 108,
   "id": "1931f1a4-4547-4e64-b6e9-4a37645c132b",
   "metadata": {},
   "outputs": [
    {
     "data": {
      "image/png": "[encoded data removed]",
      "text/plain": [
       "<Figure size 640x480 with 1 Axes>"
      ]
     },
     "metadata": {},
     "output_type": "display_data"
    }
   ],
   "source": [
    "sns.countplot(x=titanic['sex']);"
   ]
  },
  {
   "cell_type": "code",
   "execution_count": null,
   "id": "315342a9",
   "metadata": {},
   "outputs": [],
   "source": [
    "# url = \"https://raw.githubusercontent.com/bsef19m521/DatasetsForProjects/master/train.csv\"\n",
    "# titanic = pd.read_csv(url,)\n",
    "\n",
    "# # titanic = pd.read_csv(url,index_col='PassengerId')\n",
    "# # titanic.head()\n",
    "# # OR\n",
    "# titanic.set_index('PassengerId').head()\n",
    "# titanic.shape\n",
    "# males = (titanic.Sex == 'male').sum()\n",
    "# females = (titanic.Sex =='female').sum()\n",
    "# print(\"Total Males : \", males)\n",
    "# print(\"Total Females : \", females)\n",
    "# new_titanic = pd.Series([males,females])\n",
    "# new_titanic\n",
    "# new_titanic.plot.pie(labels=['Male','Female'], autopct='%.2f')\n",
    "# titanic.columns\n",
    "# # titanic.head()\n",
    "# list1 = []\n",
    "# for i in titanic.Sex:\n",
    "#     if i=='male':\n",
    "#         list1.append(1)\n",
    "#     else:\n",
    "#         list1.append(0)\n",
    "# titanic['new_Sex'] = list1\n",
    "# titanic.head()\n",
    "# titanic.plot.scatter(x='Fare',y='Age',c='new_Sex',s=10)\n",
    "# titanic.Fare.min(), titanic.Fare.max(), titanic.Fare.mean()\n",
    "# titanic.Fare.plot.hist(bins=20)"
   ]
  },
  {
   "cell_type": "markdown",
   "id": "93668be6",
   "metadata": {},
   "source": [
    "### Practice Exercise Part 2:\n",
    "- Step 1. Import the necessary libraries\n",
    "- Step 2. Import the dataset given below\n",
    "- Step 3. Assign it to a variable `df3`\n",
    "- Step 4. Create a scatter plot of `b` vs `a` by using `red` color.\n",
    "- Step 5. Create a histogram of the `a` column.\n",
    "- Step 6. Create a histogram of the `b` column and use bins=30.\n",
    "- Step 7. Create a boxplot comparing the `a` and `b` columns.\n",
    "- Step 8. Create a kde plot of the `d` column.\n",
    "- Step 9. Create a kde plot of the `d` column and Figure out how to increase the linewidth and make the linestyle dashed. (Note: You would usually not dash a kde plot line)\n",
    "- Step 10. Create an area plot of all the columns for just the rows up to 30. (hint: alpha=0.4)\n"
   ]
  },
  {
   "cell_type": "code",
   "execution_count": null,
   "id": "fe8ced04",
   "metadata": {},
   "outputs": [],
   "source": [
    "# df3 = pd.DataFrame(np.random.rand(500,4), columns=['a','b','c','d'])\n",
    "# df3.head()"
   ]
  },
  {
   "cell_type": "code",
   "execution_count": null,
   "id": "e5ea5673",
   "metadata": {},
   "outputs": [],
   "source": []
  },
  {
   "cell_type": "code",
   "execution_count": null,
   "id": "b62784ef",
   "metadata": {},
   "outputs": [],
   "source": []
  },
  {
   "cell_type": "markdown",
   "id": "28de8d05",
   "metadata": {},
   "source": [
    "## Basic Python Pandas Exercise \n",
    "- In this exercise, we are using `Automobile Dataset` for data analysis. This Dataset has different characteristics of an auto such as body-style, wheel-base, engine-type, price, mileage, horsepower, etc.\n",
    "- Download dataset from this link [Automobile data_set](https://raw.githubusercontent.com/bsef19m521/DatasetsForProjects/master/Automobile_data.csv)\n"
   ]
  },
  {
   "cell_type": "code",
   "execution_count": null,
   "id": "b838d6b3",
   "metadata": {},
   "outputs": [],
   "source": [
    "url= \"https://raw.githubusercontent.com/bsef19m521/DatasetsForProjects/master/Automobile_data.csv\"\n",
    "automobile = pd.read_csv(url)\n",
    "automobile.head()"
   ]
  },
  {
   "cell_type": "code",
   "execution_count": null,
   "id": "634d4f2c",
   "metadata": {},
   "outputs": [],
   "source": [
    "automobile.info()"
   ]
  },
  {
   "cell_type": "code",
   "execution_count": null,
   "id": "154a4b48",
   "metadata": {},
   "outputs": [],
   "source": [
    "automobile.describe()"
   ]
  },
  {
   "cell_type": "code",
   "execution_count": null,
   "id": "51a7bf28",
   "metadata": {},
   "outputs": [],
   "source": []
  },
  {
   "cell_type": "markdown",
   "id": "abad6b5e",
   "metadata": {},
   "source": [
    "### Exercise 1: From the given dataset print the first and last five rows."
   ]
  },
  {
   "cell_type": "code",
   "execution_count": null,
   "id": "afcfe4b5",
   "metadata": {},
   "outputs": [],
   "source": [
    "automobile.tail()"
   ]
  },
  {
   "cell_type": "code",
   "execution_count": null,
   "id": "9d28a131",
   "metadata": {},
   "outputs": [],
   "source": [
    "automobile.sample(20)"
   ]
  },
  {
   "cell_type": "code",
   "execution_count": null,
   "id": "2437bfec",
   "metadata": {},
   "outputs": [],
   "source": []
  },
  {
   "cell_type": "markdown",
   "id": "03fd1b4e",
   "metadata": {},
   "source": [
    "### Exercise 2: Clean the dataset and update the CSV file(Hint: pd.read_csv(na_values={})\n",
    "Replace all column values which contain `?`, `n.a`, or `NaN.`"
   ]
  },
  {
   "cell_type": "code",
   "execution_count": null,
   "id": "39057c37",
   "metadata": {},
   "outputs": [],
   "source": [
    "automobile = pd.read_csv(url, na_values={'?':np.nan,\n",
    "                                        'n.a':np.nan})"
   ]
  },
  {
   "cell_type": "code",
   "execution_count": null,
   "id": "7e15b979",
   "metadata": {},
   "outputs": [],
   "source": [
    "automobile"
   ]
  },
  {
   "cell_type": "code",
   "execution_count": null,
   "id": "e7b3aeff",
   "metadata": {},
   "outputs": [],
   "source": []
  },
  {
   "cell_type": "markdown",
   "id": "4f163efa",
   "metadata": {},
   "source": [
    "### Exercise 3: Find the most expensive car company name\n",
    "Print most expensive car’s company name and price.     \n",
    "**Expected Output:**\n",
    "![](images/pandas_printing_most_costly_car_name.png)"
   ]
  },
  {
   "cell_type": "code",
   "execution_count": null,
   "id": "88e63d1b",
   "metadata": {},
   "outputs": [],
   "source": [
    "a = automobile.groupby('company')[['price']].max().sort_values(by='price').tail(1)\n",
    "a"
   ]
  },
  {
   "cell_type": "code",
   "execution_count": null,
   "id": "ce044e23",
   "metadata": {},
   "outputs": [],
   "source": []
  },
  {
   "cell_type": "code",
   "execution_count": null,
   "id": "c36a2299",
   "metadata": {},
   "outputs": [],
   "source": [
    "# First Method\n",
    "a = automobile.groupby(['company'])['price'].max()\n",
    "a.sort_values(ascending=False).reset_index().head(1)"
   ]
  },
  {
   "cell_type": "code",
   "execution_count": null,
   "id": "ce6419cf",
   "metadata": {},
   "outputs": [],
   "source": []
  },
  {
   "cell_type": "code",
   "execution_count": null,
   "id": "1d75fdf2",
   "metadata": {},
   "outputs": [],
   "source": [
    "# Second Method\n",
    "b = automobile[['company','price']][automobile['price'] == automobile['price'].max()]\n",
    "b"
   ]
  },
  {
   "cell_type": "code",
   "execution_count": null,
   "id": "1267b039",
   "metadata": {},
   "outputs": [],
   "source": [
    "automobile[['company','price']][automobile.price == automobile.price.max()]"
   ]
  },
  {
   "cell_type": "code",
   "execution_count": null,
   "id": "2f8a8637",
   "metadata": {},
   "outputs": [],
   "source": []
  },
  {
   "cell_type": "markdown",
   "id": "0ba999a8",
   "metadata": {},
   "source": [
    "### Exercise 4: Print All Toyota Cars details\n",
    "**Expected Output**\n",
    "![](images/pandas_printing_all_toyota_car_data.png)    "
   ]
  },
  {
   "cell_type": "code",
   "execution_count": null,
   "id": "8516cb06",
   "metadata": {},
   "outputs": [],
   "source": [
    "# automobile[automobile.company == 'toyota']"
   ]
  },
  {
   "cell_type": "code",
   "execution_count": null,
   "id": "15550206",
   "metadata": {},
   "outputs": [],
   "source": [
    "# # First Method\n",
    "# automobile[automobile['company'] == 'toyota']"
   ]
  },
  {
   "cell_type": "code",
   "execution_count": null,
   "id": "f7a631ef",
   "metadata": {},
   "outputs": [],
   "source": [
    "# # Second Method\n",
    "group = automobile.groupby('company')\n",
    "group.get_group('toyota')"
   ]
  },
  {
   "cell_type": "code",
   "execution_count": null,
   "id": "5b76d874",
   "metadata": {},
   "outputs": [],
   "source": []
  },
  {
   "cell_type": "code",
   "execution_count": null,
   "id": "6bb5c98e",
   "metadata": {},
   "outputs": [],
   "source": []
  },
  {
   "cell_type": "code",
   "execution_count": null,
   "id": "b0a54f69",
   "metadata": {},
   "outputs": [],
   "source": []
  },
  {
   "cell_type": "markdown",
   "id": "6c14f2da",
   "metadata": {},
   "source": [
    "### Exercise 5: Count total cars per company\n",
    "**Expected Output**\n",
    "![](images/pandas_count_total_cars_per_company.png)"
   ]
  },
  {
   "cell_type": "code",
   "execution_count": null,
   "id": "29634f61",
   "metadata": {},
   "outputs": [],
   "source": [
    "automobile.company.value_counts()"
   ]
  },
  {
   "cell_type": "code",
   "execution_count": null,
   "id": "1a09ae4f",
   "metadata": {},
   "outputs": [],
   "source": []
  },
  {
   "cell_type": "markdown",
   "id": "dfb28b24",
   "metadata": {},
   "source": [
    "### Exercise 6: Find each company’s Higesht price car\n",
    "**Expected Outcome:**\n",
    "![](images/pandas_printing_each_companys_higesht_price_car.png)"
   ]
  },
  {
   "cell_type": "code",
   "execution_count": null,
   "id": "2824cf73",
   "metadata": {},
   "outputs": [],
   "source": [
    "# First Method\n",
    "automobile.groupby(['company'])['price'].max().reset_index()"
   ]
  },
  {
   "cell_type": "code",
   "execution_count": null,
   "id": "9f6e19f6",
   "metadata": {},
   "outputs": [],
   "source": [
    "# Second Method\n",
    "automobile.groupby('company')[['company','price']].max()"
   ]
  },
  {
   "cell_type": "markdown",
   "id": "fe3b36d7",
   "metadata": {},
   "source": [
    "### Exercise 7: Find the average mileage of each car making company\n",
    "**Expected Output:**\n",
    "![](images/pandas_printing_average_mileage_of_each_car_making_company.png)"
   ]
  },
  {
   "cell_type": "code",
   "execution_count": null,
   "id": "467aadc4",
   "metadata": {},
   "outputs": [],
   "source": [
    "# First Method\n",
    "automobile.groupby('company')['company','average-mileage'].mean()"
   ]
  },
  {
   "cell_type": "code",
   "execution_count": null,
   "id": "df38afc9",
   "metadata": {},
   "outputs": [],
   "source": [
    "# Second Method\n",
    "result = automobile.groupby('company')\n",
    "result['company','average-mileage'].mean()"
   ]
  },
  {
   "cell_type": "markdown",
   "id": "fd090654",
   "metadata": {},
   "source": [
    "### Exercise 8: Sort all cars by Price column\n",
    "**Expected Output:**\n",
    "![](images/pandas_sort_all_cars_by_price_column.png)"
   ]
  },
  {
   "cell_type": "code",
   "execution_count": null,
   "id": "b178e899",
   "metadata": {},
   "outputs": [],
   "source": [
    "automobile.sort_values(by=['price'], ascending=False).head()"
   ]
  },
  {
   "cell_type": "markdown",
   "id": "9dc19be4",
   "metadata": {},
   "source": [
    "### Exercise 9: Concatenate two data frames using the following conditions\n",
    "Create two data frames using the following two dictionaries.\n",
    "![](images/pandas_concatenate_two_data_frames_and_create_key_for_each_data_frame.png)"
   ]
  },
  {
   "cell_type": "code",
   "execution_count": null,
   "id": "280ea9b1",
   "metadata": {},
   "outputs": [],
   "source": [
    "GermanCars = {'Company': ['Ford', 'Mercedes', 'BMV', 'Audi'], 'Price': [23845, 171995, 135925 , 71400]}\n",
    "japaneseCars = {'Company': ['Toyota', 'Honda', 'Nissan', 'Mitsubishi '], 'Price': [29995, 23600, 61500 , 58900]}\n",
    "German = pd.DataFrame(GermanCars)\n",
    "Japan = pd.DataFrame(japaneseCars)\n",
    "df = pd.concat([German,Japan], keys=['German','Japan'])\n",
    "df"
   ]
  },
  {
   "cell_type": "code",
   "execution_count": null,
   "id": "0987546c",
   "metadata": {},
   "outputs": [],
   "source": []
  },
  {
   "cell_type": "markdown",
   "id": "ea5e8f3f",
   "metadata": {},
   "source": [
    "### Exercise 10: Merge two data frames using the following condition\n",
    "Create two data frames using the following two Dicts, Merge two data frames, and append the second data frame as a new column to the first data frame.\n",
    "![](images/merge_two_data_frames_and_append_new_data_frame_as_new-column.png)"
   ]
  },
  {
   "cell_type": "code",
   "execution_count": null,
   "id": "ed369803",
   "metadata": {},
   "outputs": [],
   "source": [
    "Car_Price = {'Company': ['Toyota', 'Honda', 'BMV', 'Audi'], 'Price': [23845, 17995, 135925 , 71400]}\n",
    "car_Horsepower = {'Company': ['Toyota', 'Honda', 'BMV', 'Audi'], 'horsepower': [141, 80, 182 , 160]}\n",
    "price = pd.DataFrame.from_dict(Car_Price)\n",
    "horsepower = pd.DataFrame.from_dict(car_Horsepower)\n",
    "pd.merge(price,horsepower,on='Company')"
   ]
  },
  {
   "cell_type": "code",
   "execution_count": null,
   "id": "b29ba3af",
   "metadata": {},
   "outputs": [],
   "source": []
  },
  {
   "cell_type": "markdown",
   "id": "1fd3124d",
   "metadata": {},
   "source": [
    "## Pandas Data Visualization Exercise\n",
    "This is just a quick exercise for you to review the various plots we showed earlier. Use **datasets/practice.csv** to replicate the following plots. "
   ]
  },
  {
   "cell_type": "code",
   "execution_count": null,
   "id": "dc9ab777",
   "metadata": {},
   "outputs": [],
   "source": [
    "import pandas as pd\n",
    "import numpy as np"
   ]
  },
  {
   "cell_type": "markdown",
   "id": "7bfb16d8",
   "metadata": {},
   "source": [
    "### Q-01: Import your dataset and also display first five rows of your dataset."
   ]
  },
  {
   "cell_type": "code",
   "execution_count": null,
   "id": "6c8e99ea",
   "metadata": {},
   "outputs": [],
   "source": [
    "df = pd.read_csv('datasets/practice')\n",
    "df.head()"
   ]
  },
  {
   "cell_type": "markdown",
   "id": "f77e0fb6",
   "metadata": {},
   "source": [
    "**Q-02: Create this scatter plot of `b` vs `a`. Note the color and size of the points. Also note the figure size. See if you can figure out how to stretch it in a similar fashion. Remeber back to your matplotlib lecture...**"
   ]
  },
  {
   "cell_type": "code",
   "execution_count": null,
   "id": "96e30a2c",
   "metadata": {},
   "outputs": [],
   "source": [
    "df.plot.scatter(x='b',y='a', color='r', s=100, figsize=(10,5), title=\"Scatter plot of b vs a\")"
   ]
  },
  {
   "cell_type": "code",
   "execution_count": null,
   "id": "ecdee4f7",
   "metadata": {},
   "outputs": [],
   "source": []
  },
  {
   "cell_type": "markdown",
   "id": "56c3f111",
   "metadata": {},
   "source": [
    "**Create a histogram of the 'a' column.**"
   ]
  },
  {
   "cell_type": "code",
   "execution_count": null,
   "id": "1fe1f049",
   "metadata": {},
   "outputs": [],
   "source": [
    "# df.plot.hist(by= 'a', bins=20)"
   ]
  },
  {
   "cell_type": "code",
   "execution_count": null,
   "id": "a7afe968",
   "metadata": {},
   "outputs": [],
   "source": []
  },
  {
   "cell_type": "markdown",
   "id": "a79e90fc",
   "metadata": {},
   "source": [
    "**These plots are okay, but they don't look very polished. Use style sheets to set the style to 'plt.style.use('ggplot') and redo the histogram from above. Also figure out how to add more `bins` and `alpha` to it.***"
   ]
  },
  {
   "cell_type": "code",
   "execution_count": null,
   "id": "be2e67e6",
   "metadata": {},
   "outputs": [],
   "source": [
    "import matplotlib.pyplot as plt\n",
    "plt.style.use('seaborn-dark')"
   ]
  },
  {
   "cell_type": "code",
   "execution_count": null,
   "id": "89918ee5",
   "metadata": {},
   "outputs": [],
   "source": []
  },
  {
   "cell_type": "code",
   "execution_count": null,
   "id": "c5c04396",
   "metadata": {},
   "outputs": [],
   "source": []
  },
  {
   "cell_type": "markdown",
   "id": "e11537c7",
   "metadata": {},
   "source": [
    "**Create a boxplot comparing the `a` and `b` columns.**"
   ]
  },
  {
   "cell_type": "code",
   "execution_count": null,
   "id": "36f25485",
   "metadata": {},
   "outputs": [],
   "source": [
    "df[['a','b']].plot.box()"
   ]
  },
  {
   "cell_type": "code",
   "execution_count": null,
   "id": "e016065a",
   "metadata": {},
   "outputs": [],
   "source": []
  },
  {
   "cell_type": "markdown",
   "id": "d3563a20",
   "metadata": {},
   "source": [
    "**Create a kde plot of the `d` column**"
   ]
  },
  {
   "cell_type": "code",
   "execution_count": null,
   "id": "4d18c06d",
   "metadata": {},
   "outputs": [],
   "source": [
    "df.plot('d', kind='kde')"
   ]
  },
  {
   "cell_type": "code",
   "execution_count": null,
   "id": "9157fba9",
   "metadata": {},
   "outputs": [],
   "source": []
  },
  {
   "cell_type": "markdown",
   "id": "53452bb8",
   "metadata": {},
   "source": [
    "**Figure out how to increase the linewidth and make the linestyle dashed. (Note: You would usually not dash a kde plot line)**"
   ]
  },
  {
   "cell_type": "code",
   "execution_count": null,
   "id": "56e1169f",
   "metadata": {},
   "outputs": [],
   "source": []
  },
  {
   "cell_type": "code",
   "execution_count": null,
   "id": "7c50a7b4",
   "metadata": {},
   "outputs": [],
   "source": []
  },
  {
   "cell_type": "markdown",
   "id": "195e90c3",
   "metadata": {},
   "source": [
    "**Create an area plot of all the columns for just the rows up to `30.` (hint: use `.ix`).**"
   ]
  },
  {
   "cell_type": "code",
   "execution_count": null,
   "id": "0e68358a",
   "metadata": {
    "scrolled": true
   },
   "outputs": [],
   "source": []
  },
  {
   "cell_type": "code",
   "execution_count": null,
   "id": "0f0f5e60",
   "metadata": {},
   "outputs": [],
   "source": []
  },
  {
   "cell_type": "markdown",
   "id": "a2577f2a",
   "metadata": {},
   "source": [
    "# Pandas - Assignment No 01\n",
    "- Click here to solve [Pandas - Assignment no 01](https://www.kaggle.com/code/ehtishamsadiq/pandas-assignment-no-01)"
   ]
  },
  {
   "cell_type": "code",
   "execution_count": null,
   "id": "a5084fff",
   "metadata": {},
   "outputs": [],
   "source": []
  },
  {
   "cell_type": "code",
   "execution_count": 1,
   "id": "5494c5dc-f743-4f86-b7dd-2cfb3f614505",
   "metadata": {},
   "outputs": [
    {
     "data": {
      "text/html": [
       "\n",
       "    <style>\n",
       "        body {\n",
       "            background-color: #f2fff2;\n",
       "        }\n",
       "        h1 {\n",
       "            text-align: center;\n",
       "            font-weight: bold;\n",
       "            font-size: 36px;\n",
       "            color: #4295F4;\n",
       "            text-decoration: underline;\n",
       "            padding-top: 15px;\n",
       "        }\n",
       "        \n",
       "        h2 {\n",
       "            text-align: left;\n",
       "            font-weight: bold;\n",
       "            font-size: 30px;\n",
       "            color: #4A000A;\n",
       "            text-decoration: underline;\n",
       "            padding-top: 10px;\n",
       "        }\n",
       "        \n",
       "        h3 {\n",
       "            text-align: left;\n",
       "            font-weight: bold;\n",
       "            font-size: 30px;\n",
       "            color: #f0081e;\n",
       "            text-decoration: underline;\n",
       "            padding-top: 5px;\n",
       "        }\n",
       "\n",
       "        \n",
       "        p {\n",
       "            text-align: center;\n",
       "            font-size: 12 px;\n",
       "            color: #0B9923;\n",
       "        }\n",
       "    </style>\n",
       "\n",
       "<h1>Hello</h1>\n",
       "<p>Hello World</p>\n",
       "<h2> Hello</h2>\n",
       "<h3> World </h3>\n"
      ],
      "text/plain": [
       "<IPython.core.display.HTML object>"
      ]
     },
     "execution_count": 1,
     "metadata": {},
     "output_type": "execute_result"
    }
   ],
   "source": [
    "from IPython.core.display import HTML\n",
    "\n",
    "style = \"\"\"\n",
    "    <style>\n",
    "        body {\n",
    "            background-color: #f2fff2;\n",
    "        }\n",
    "        h1 {\n",
    "            text-align: center;\n",
    "            font-weight: bold;\n",
    "            font-size: 36px;\n",
    "            color: #4295F4;\n",
    "            text-decoration: underline;\n",
    "            padding-top: 15px;\n",
    "        }\n",
    "        \n",
    "        h2 {\n",
    "            text-align: left;\n",
    "            font-weight: bold;\n",
    "            font-size: 30px;\n",
    "            color: #4A000A;\n",
    "            text-decoration: underline;\n",
    "            padding-top: 10px;\n",
    "        }\n",
    "        \n",
    "        h3 {\n",
    "            text-align: left;\n",
    "            font-weight: bold;\n",
    "            font-size: 30px;\n",
    "            color: #f0081e;\n",
    "            text-decoration: underline;\n",
    "            padding-top: 5px;\n",
    "        }\n",
    "\n",
    "        \n",
    "        p {\n",
    "            text-align: center;\n",
    "            font-size: 12 px;\n",
    "            color: #0B9923;\n",
    "        }\n",
    "    </style>\n",
    "\"\"\"\n",
    "\n",
    "html_content = \"\"\"\n",
    "<h1>Hello</h1>\n",
    "<p>Hello World</p>\n",
    "<h2> Hello</h2>\n",
    "<h3> World </h3>\n",
    "\"\"\"\n",
    "\n",
    "HTML(style + html_content)"
   ]
  },
  {
   "cell_type": "code",
   "execution_count": null,
   "id": "89da323f-720f-445a-97c1-34cdb407e73e",
   "metadata": {},
   "outputs": [],
   "source": []
  }
 ],
 "metadata": {
  "kernelspec": {
   "display_name": "Python 3 (ipykernel)",
   "language": "python",
   "name": "python3"
  },
  "language_info": {
   "codemirror_mode": {
    "name": "ipython",
    "version": 3
   },
   "file_extension": ".py",
   "mimetype": "text/x-python",
   "name": "python",
   "nbconvert_exporter": "python",
   "pygments_lexer": "ipython3",
   "version": "3.11.7"
  }
 },
 "nbformat": 4,
 "nbformat_minor": 5
}
