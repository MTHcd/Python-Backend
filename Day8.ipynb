{
 "cells": [
  {
   "cell_type": "markdown",
   "id": "19f82705",
   "metadata": {},
   "source": [
    "<h1 align=\"center\" style=\"color:red\">File Handling in Python </h1>\n",
    "\n",
    "![](images/main-qimg-c47ec0f011ff0bbc9e7ee7d20c4ae107.png)"
   ]
  },
  {
   "cell_type": "markdown",
   "id": "9727124d",
   "metadata": {},
   "source": [
    "## Learning agenda of this notebook\n",
    "\n",
    "1. What are Files, and Why we need them?\n",
    "2. Opening a text file in Python\n",
    "3. Reading contents of a file\n",
    "4. Writing and appending data in a file\n",
    "5. Closing a file\n",
    "6. **HomeWork:** Change File Offset using `fd.seek()` method\n",
    "7. Performing some Operations on File Contents\n",
    "8. Identifying Type of File\n",
    "9. Bonus: Handling Image Files in Python"
   ]
  },
  {
   "cell_type": "code",
   "execution_count": null,
   "id": "44c43425",
   "metadata": {},
   "outputs": [],
   "source": []
  },
  {
   "cell_type": "code",
   "execution_count": null,
   "id": "2846b8c7",
   "metadata": {},
   "outputs": [],
   "source": []
  },
  {
   "cell_type": "markdown",
   "id": "263d8d43",
   "metadata": {},
   "source": [
    "## 1. What are Files, and Why we need them?\n",
    "- An important component of an operating system is its files and directories. A file is a location on disk that stores related information and has a name. We use files to organize our data in different directories on a hard-disk(Non-volatile).\n",
    "- The RAM (Random Access Memory) is volatile; it holds data only as long as it is up. So, we use files to store data permanently.\n",
    "\n",
    "### File Types\n",
    "- Python supports two types of files (Binary files and Text files):\n",
    "    - **Binary Files:** All binary files follow a specific format. We can open some binary files in the normal text editor, but we cannot read the content present in the file. This is because the binary files are encoded in a specific format. So for handling binary files we need applications that understand the specific format of that binary file. Most of the files that we see in our computer systems are binary files. Some examples are:\n",
    "        - **Document Files:** .pdf, .doc, .xls, etc\n",
    "        - **Image Files:** .png, .jpg, .gif, .bmp, etc\n",
    "        - **Audio Files:** .mp3, .wav, .mka, .aac, etc\n",
    "        - **Video Files:** .mp4, .3gp, .mkv, .avi, etc\n",
    "        - **Database Files:** .mdb, .accde, .frm, .sqlite, etc\n",
    "        - **Archive Files:** .zip, .gzip, .rar, .tar, .iso, .7z, etc\n",
    "        - **Executable Files:** .exe, .dll, .elf, .class, etc\n",
    "    - **Text Files:** Text files do not have any specific encoding and can be opened in a normal text editor. Text files are mostly structured as a sequence of lines, where each line includes a sequence of characters. Every line in a file terminates with a special character known as EOL or end of line. Some examples are:\n",
    "        - **Document Files:** .txt, .tex, .rtf, etc\n",
    "        - **Source Codes:** .c, .cpp, .js, .py, .java, etc\n",
    "        - **Web Standards:** .html, .xml, .css, .json, etc\n",
    "        - **Tabular Data:** .csv, .tsv, etc\n",
    "        - **Configuration Files:** .ini, .cfg, .reg, etc\n",
    "\n",
    "   \n",
    "### File Handling in Python\n",
    "For file handling there are four important operations that can be handled by Python on files:\n",
    " - open\n",
    " - read\n",
    " - write\n",
    " - close\n",
    " \n",
    "There are other file operations as well e.g., deleting a file, renaming a file, appending data to file, copying a file, changing properties of file. However, CRUD operations are basic file handling operations."
   ]
  },
  {
   "cell_type": "code",
   "execution_count": null,
   "id": "a2fe1aed",
   "metadata": {},
   "outputs": [],
   "source": []
  },
  {
   "cell_type": "markdown",
   "id": "01b4663f",
   "metadata": {},
   "source": [
    "## Why we need File Handling\n",
    "- Till now, we were taking the input from the console and writing it back to the console to interact with the user.\n",
    "- Sometimes, it is not enough to only display the data on the console. The data to be displayed may be very large, and only a limited amount of data can be displayed on the console since the memory is volatile, it is impossible to recover the programmatically generated data again and again.\n",
    "- The file handling plays an important role when the data needs to be stored permanently into the file. A file is a named location on disk to store related information. We can access the stored information (non-volatile) after the program termination.\n",
    "- The file-handling implementation is slightly lengthy or complicated in the other programming language, but it is easier and shorter in Python."
   ]
  },
  {
   "cell_type": "code",
   "execution_count": null,
   "id": "53155be4",
   "metadata": {},
   "outputs": [],
   "source": []
  },
  {
   "cell_type": "code",
   "execution_count": null,
   "id": "5b7ab461",
   "metadata": {},
   "outputs": [],
   "source": []
  },
  {
   "cell_type": "markdown",
   "id": "799564e5",
   "metadata": {},
   "source": [
    "## 2. Opening a File\n",
    "Files in Python can be opened with a built-in `open()` function. Ideally, it takes two string arguments:\n",
    "- The `filepath` including the file name and the extension we want to open (passed as a string)\n",
    "- The `mode` in which we want to open the file (passed as a string), default value is `'rt'`\n",
    "***\n",
    "**`open(file,  mode='rt')`**\n",
    "***\n",
    "\n",
    "Where,\n",
    "- `file` is the only required argument, including the file name and the extension we want to open (passed as a string)\n",
    "- `mode` is for the file access modes (passed as a string)\n",
    "- For other arguments read documentation  `help(open)`\n",
    "\n",
    "**FILE ACCESS MODES**\n",
    "\n",
    " * `Read Only (‘r’)`: It opens the text file for reading. If the file does not exist, raises I/O error.\n",
    " * `Read and Write (‘r+’)`: It opens the file for reading and writing. Raises I/O error if the file does not exists.\n",
    " * `Write Only (‘w’)`: It opens the file for writing only. For existing file, data is truncated. Creates the file if the file does not exists.\n",
    " * `Write and Read (‘w+’)`: It opens the file for reading and writing. For existing file, data is truncated. Creates the file if the file does not exists.\n",
    " * `Append Only (‘a’)`: It opens the file for writing, appending to the end off the file if it exists. The file is created if it does not exist.\n",
    " * `Append and Read (‘a+’)`: It opens the file for reading and writing. The file is created if it does not exist. The data being written will be inserted at the end, after the existing data.\n",
    "\n",
    " \n",
    "Along with above file access modes, you can also specify how file should be handled as text or binary\n",
    "  * `Text file (‘t’)`: Opens a file in text mode\n",
    "  * `Binary file (‘b’)`: Opens a file in binary mode\n"
   ]
  },
  {
   "cell_type": "code",
   "execution_count": null,
   "id": "e08b9bee",
   "metadata": {},
   "outputs": [],
   "source": []
  },
  {
   "cell_type": "code",
   "execution_count": 7,
   "id": "dfd9d8f8",
   "metadata": {},
   "outputs": [
    {
     "name": "stdout",
     "output_type": "stream",
     "text": [
      "Hello Students.\n",
      "Welcome to File Handling with Ehtisham Sadiq\n",
      "I learn a lot when I teach to others.\n",
      "Hope learning will be fun for you all, at least it is for me\n",
      "Happy Learning\n"
     ]
    }
   ],
   "source": [
    "!cat datasets/f1.txt"
   ]
  },
  {
   "cell_type": "code",
   "execution_count": null,
   "id": "f3c82859-f330-4957-ab4e-0594f83bfbc7",
   "metadata": {},
   "outputs": [],
   "source": []
  },
  {
   "cell_type": "code",
   "execution_count": 10,
   "id": "056aceec",
   "metadata": {},
   "outputs": [
    {
     "data": {
      "text/plain": [
       "<_io.TextIOWrapper name='datasets/f1.txt' mode='rt+' encoding='UTF-8'>"
      ]
     },
     "execution_count": 10,
     "metadata": {},
     "output_type": "execute_result"
    }
   ],
   "source": [
    "# Example 1: Open a text named file f1.txt, present in the current working directory in read write mode\n",
    "#On Linux OS the absolute path may looks like : /home/dell/Data/...../Module 1(Introduction to Python)/Lecture # 16/f1.txt\n",
    "\n",
    "fd = open(\"datasets/f1.txt\", \"rt+\")\n",
    "fd"
   ]
  },
  {
   "cell_type": "code",
   "execution_count": null,
   "id": "f6d6b731-541d-4a4c-b686-b9bb3225c722",
   "metadata": {},
   "outputs": [],
   "source": []
  },
  {
   "cell_type": "code",
   "execution_count": 13,
   "id": "978ed48d",
   "metadata": {},
   "outputs": [
    {
     "data": {
      "text/plain": [
       "<_io.BufferedRandom name='./images/while.png'>"
      ]
     },
     "execution_count": 13,
     "metadata": {},
     "output_type": "execute_result"
    }
   ],
   "source": [
    "# Example 2: Open a binary file named image.png, present in the current working directory in read write mode\n",
    "filepath = \"./images/while.png\"\n",
    "fd = open(filepath, \"rb+\")\n",
    "fd"
   ]
  },
  {
   "cell_type": "code",
   "execution_count": null,
   "id": "6f07db83",
   "metadata": {},
   "outputs": [],
   "source": []
  },
  {
   "cell_type": "markdown",
   "id": "3a2e45f2",
   "metadata": {},
   "source": [
    "## 3. Reading Contents of a File\n",
    "- In Python once you have a file opened, there are three ways to read contents of that file:\n",
    "```\n",
    "fd.read(size=-1)\n",
    "fd.readline(size=-1)\n",
    "fd.readlines(sizehint=-1)\n",
    "```"
   ]
  },
  {
   "cell_type": "markdown",
   "id": "70101033",
   "metadata": {},
   "source": [
    "### a.  Using `fd.read(size=-1)` method\n",
    "- The `fd.read()` method reads and returns `size` characters from the file (if size is positive)\n",
    "- The read() method reads a string from the file. It can read the data in the text as well as a binary format.\n",
    "- If `size` is negative or omitted, read until EOF"
   ]
  },
  {
   "cell_type": "code",
   "execution_count": null,
   "id": "5f3d597f",
   "metadata": {},
   "outputs": [],
   "source": []
  },
  {
   "cell_type": "code",
   "execution_count": null,
   "id": "0062c8d4",
   "metadata": {},
   "outputs": [],
   "source": []
  },
  {
   "cell_type": "code",
   "execution_count": 14,
   "id": "6d6873d6",
   "metadata": {},
   "outputs": [
    {
     "name": "stdout",
     "output_type": "stream",
     "text": [
      "Hello Students.\n",
      "Welcome to File Handling with Ehtisham Sadiq\n",
      "I learn a lot when I teach to others.\n",
      "Hope learning will be fun for you all, at least it is for me\n",
      "Happy Learning\n"
     ]
    }
   ],
   "source": [
    "!cat datasets/f1.txt"
   ]
  },
  {
   "cell_type": "code",
   "execution_count": 15,
   "id": "3023dbbc",
   "metadata": {},
   "outputs": [],
   "source": [
    "# Example: \n",
    "fd = open(\"datasets/f1.txt\",\"r\") \n",
    "fd = open(\"datasets/f1.txt\")\n",
    "fd = open(\"datasets/f1.txt\", \"rt\")    # are all equivalent"
   ]
  },
  {
   "cell_type": "code",
   "execution_count": 16,
   "id": "028157e9",
   "metadata": {},
   "outputs": [
    {
     "data": {
      "text/plain": [
       "<_io.TextIOWrapper name='datasets/f1.txt' mode='rt' encoding='UTF-8'>"
      ]
     },
     "execution_count": 16,
     "metadata": {},
     "output_type": "execute_result"
    }
   ],
   "source": [
    "fd"
   ]
  },
  {
   "cell_type": "code",
   "execution_count": 17,
   "id": "c6dae261",
   "metadata": {},
   "outputs": [
    {
     "name": "stdout",
     "output_type": "stream",
     "text": [
      "Hello Stud\n",
      "<class 'str'>\n"
     ]
    }
   ],
   "source": [
    "#Here we read 10 characters or bytes from the file\n",
    "rv = fd.read(10)\n",
    "print(rv, type(rv), sep=\"\\n\")"
   ]
  },
  {
   "cell_type": "code",
   "execution_count": null,
   "id": "d0a603a3",
   "metadata": {},
   "outputs": [],
   "source": []
  },
  {
   "cell_type": "code",
   "execution_count": 18,
   "id": "6af297ed",
   "metadata": {},
   "outputs": [
    {
     "name": "stdout",
     "output_type": "stream",
     "text": [
      "Hello Students.\n",
      "Welcome to File Handling with Ehtisham Sadiq\n",
      "I learn a lot when I teach to others.\n",
      "Hope learning will be fun for you all, at least it is for me\n",
      "Happy Learning\n",
      "\n"
     ]
    }
   ],
   "source": [
    "# Example: Reading the complete file till EOF character\n",
    "\n",
    "fd = open(\"datasets/f1.txt\")\n",
    "result = fd.read()\n",
    "print(result)"
   ]
  },
  {
   "cell_type": "code",
   "execution_count": 19,
   "id": "308bfebd",
   "metadata": {},
   "outputs": [
    {
     "data": {
      "text/plain": [
       "str"
      ]
     },
     "execution_count": 19,
     "metadata": {},
     "output_type": "execute_result"
    }
   ],
   "source": [
    "type(result)"
   ]
  },
  {
   "cell_type": "code",
   "execution_count": 20,
   "id": "701d3dce",
   "metadata": {},
   "outputs": [
    {
     "data": {
      "text/plain": [
       "''"
      ]
     },
     "execution_count": 20,
     "metadata": {},
     "output_type": "execute_result"
    }
   ],
   "source": [
    "# Example: Try to read again, and notice what will happen?\n",
    "fd.read()"
   ]
  },
  {
   "cell_type": "markdown",
   "id": "99841da5",
   "metadata": {},
   "source": [
    ">- As you can see we got an empty string. \n",
    ">- The reason is `fd.read()` always reads from the **current file offset**, which in this situation has reached the **end of file**, therefore it returns an empty string"
   ]
  },
  {
   "cell_type": "code",
   "execution_count": 21,
   "id": "de8e5e43",
   "metadata": {},
   "outputs": [],
   "source": [
    "# close the file\n",
    "fd.close()"
   ]
  },
  {
   "cell_type": "code",
   "execution_count": 22,
   "id": "a262d64b",
   "metadata": {},
   "outputs": [],
   "source": [
    "# Let us open and read the file again\n",
    "fd = open(\"datasets/f1.txt\",\"r\")"
   ]
  },
  {
   "cell_type": "code",
   "execution_count": 23,
   "id": "bc5fc321",
   "metadata": {},
   "outputs": [
    {
     "name": "stdout",
     "output_type": "stream",
     "text": [
      "Hello Students.\n",
      "Welcome to File Handling with Ehtisham Sadiq\n",
      "I learn a lot when I teach to others.\n",
      "Hope learning will be fun for you all, at least it is for me\n",
      "Happy Learning\n",
      "\n"
     ]
    }
   ],
   "source": [
    "print(fd.read())\n",
    "fd.close()"
   ]
  },
  {
   "cell_type": "markdown",
   "id": "40810345",
   "metadata": {},
   "source": [
    ">- **Note** : read() method read the content of the file where the current offset of file is present. Once, we opened a file, the **current file offset** is at the **beginning of the file**. "
   ]
  },
  {
   "cell_type": "code",
   "execution_count": null,
   "id": "faf73ea9",
   "metadata": {},
   "outputs": [],
   "source": []
  },
  {
   "cell_type": "code",
   "execution_count": null,
   "id": "99d9b088",
   "metadata": {},
   "outputs": [],
   "source": []
  },
  {
   "cell_type": "markdown",
   "id": "91121e45",
   "metadata": {},
   "source": [
    "### b. Using `fd.readline(size=-1)` method\n",
    "- The `fd.readline()` method reads and returns one line at a time\n",
    "- If `size` is passed then reads and returns size characters of a line"
   ]
  },
  {
   "cell_type": "code",
   "execution_count": 24,
   "id": "e03f67e1",
   "metadata": {},
   "outputs": [
    {
     "name": "stdout",
     "output_type": "stream",
     "text": [
      "Hello Students.\n",
      "Welcome to File Handling with Ehtisham Sadiq\n",
      "I learn a lot when I teach to others.\n",
      "Hope learning will be fun for you all, at least it is for me\n",
      "Happy Learning\n"
     ]
    }
   ],
   "source": [
    "!cat datasets/f1.txt"
   ]
  },
  {
   "cell_type": "code",
   "execution_count": 25,
   "id": "d7c530f4",
   "metadata": {},
   "outputs": [],
   "source": [
    "# Example: If you want to read a file line by line use readline() method\n",
    "fd = open(\"datasets/f1.txt\",\"r\")"
   ]
  },
  {
   "cell_type": "code",
   "execution_count": 26,
   "id": "45eec5d1",
   "metadata": {},
   "outputs": [
    {
     "name": "stdout",
     "output_type": "stream",
     "text": [
      "Hello Students.\n",
      "\n"
     ]
    }
   ],
   "source": [
    "print(fd.readline())"
   ]
  },
  {
   "cell_type": "code",
   "execution_count": 27,
   "id": "70e33d6e",
   "metadata": {},
   "outputs": [
    {
     "name": "stdout",
     "output_type": "stream",
     "text": [
      "Welcome to File Handling with Ehtisham Sadiq\n",
      "\n"
     ]
    }
   ],
   "source": [
    "print(fd.readline())"
   ]
  },
  {
   "cell_type": "code",
   "execution_count": 28,
   "id": "05077e1f",
   "metadata": {},
   "outputs": [
    {
     "name": "stdout",
     "output_type": "stream",
     "text": [
      "I learn a lot when I teach to others.\n",
      "\n",
      "Hope learning will be fun for you all, at least it is for me\n",
      "\n"
     ]
    }
   ],
   "source": [
    "print(fd.readline())\n",
    "print(fd.readline())"
   ]
  },
  {
   "cell_type": "code",
   "execution_count": 29,
   "id": "80c6582e",
   "metadata": {},
   "outputs": [
    {
     "name": "stdout",
     "output_type": "stream",
     "text": [
      "Happy Learning\n",
      "\n",
      "\n",
      "\n",
      "\n",
      "Done\n"
     ]
    }
   ],
   "source": [
    "print(fd.readline())\n",
    "print(fd.readline())\n",
    "print(fd.readline())\n",
    "print(fd.readline())\n",
    "print(\"Done\")\n",
    "\n",
    "# close the file\n",
    "fd.close()"
   ]
  },
  {
   "cell_type": "code",
   "execution_count": 30,
   "id": "e0122d39",
   "metadata": {},
   "outputs": [
    {
     "name": "stdout",
     "output_type": "stream",
     "text": [
      "Hello Students.\n",
      "\n"
     ]
    }
   ],
   "source": [
    "# Example: If you want to read a file line by line use readline() method\n",
    "fd = open(\"datasets/f1.txt\",\"r\")\n",
    "print(fd.readline())"
   ]
  },
  {
   "cell_type": "code",
   "execution_count": 31,
   "id": "4fb075bd",
   "metadata": {},
   "outputs": [
    {
     "name": "stdout",
     "output_type": "stream",
     "text": [
      "Welcome to\n"
     ]
    }
   ],
   "source": [
    "print(fd.readline(10))\n",
    "\n",
    "\n",
    "# close the file\n",
    "fd.close()"
   ]
  },
  {
   "cell_type": "markdown",
   "id": "04a4b5ba",
   "metadata": {},
   "source": [
    ">So `fd.read()` method focuses on reading a file character by character, while the `fd.readline()` method focuses on reading a file line by line."
   ]
  },
  {
   "cell_type": "markdown",
   "id": "5a9addca",
   "metadata": {},
   "source": [
    "### c. Using `fd.readlines(sizehint=-1)` method\n",
    "- The `fd.readlines()` method reads until end of file and returns a list object containing the lines. "
   ]
  },
  {
   "cell_type": "code",
   "execution_count": 32,
   "id": "95036650",
   "metadata": {},
   "outputs": [
    {
     "name": "stdout",
     "output_type": "stream",
     "text": [
      "Hello Students.\n",
      "Welcome to File Handling with Ehtisham Sadiq\n",
      "I learn a lot when I teach to others.\n",
      "Hope learning will be fun for you all, at least it is for me\n",
      "Happy Learning\n"
     ]
    }
   ],
   "source": [
    "!cat datasets/f1.txt"
   ]
  },
  {
   "cell_type": "code",
   "execution_count": 33,
   "id": "5aa498e6",
   "metadata": {},
   "outputs": [],
   "source": [
    "fd = open(\"datasets/f1.txt\",\"r\")\n",
    "mylist = fd.readlines()"
   ]
  },
  {
   "cell_type": "code",
   "execution_count": 34,
   "id": "71d9e1ef",
   "metadata": {},
   "outputs": [
    {
     "name": "stdout",
     "output_type": "stream",
     "text": [
      "['Hello Students.\\n', 'Welcome to File Handling with Ehtisham Sadiq\\n', 'I learn a lot when I teach to others.\\n', 'Hope learning will be fun for you all, at least it is for me\\n', 'Happy Learning\\n']\n",
      "\n",
      "\n",
      "\n",
      "<class 'list'>\n"
     ]
    }
   ],
   "source": [
    "print(mylist)\n",
    "print(\"\\n\\n\")\n",
    "print(type(mylist))"
   ]
  },
  {
   "cell_type": "code",
   "execution_count": 35,
   "id": "c0c9b984",
   "metadata": {},
   "outputs": [],
   "source": [
    "# close the file\n",
    "fd.close()"
   ]
  },
  {
   "cell_type": "markdown",
   "id": "721accde",
   "metadata": {},
   "source": [
    "- If the optional `sizehint` passed, instead of reading up to EOF, whole lines totalling approximately `sizehint` bytes are read. (possibly after rounding up to an internal buffer size) "
   ]
  },
  {
   "cell_type": "code",
   "execution_count": 36,
   "id": "0be99eb7",
   "metadata": {},
   "outputs": [],
   "source": [
    "fd = open(\"datasets/f1.txt\",\"r\")\n",
    "rd = fd.readlines(10)\n"
   ]
  },
  {
   "cell_type": "code",
   "execution_count": 37,
   "id": "ca10b346",
   "metadata": {},
   "outputs": [
    {
     "name": "stdout",
     "output_type": "stream",
     "text": [
      "['Hello Students.\\n']\n"
     ]
    }
   ],
   "source": [
    "print(rd)\n",
    "\n",
    "# close the file\n",
    "fd.close()"
   ]
  },
  {
   "cell_type": "code",
   "execution_count": null,
   "id": "2a60e9e3",
   "metadata": {},
   "outputs": [],
   "source": []
  },
  {
   "cell_type": "code",
   "execution_count": null,
   "id": "976bbe5d",
   "metadata": {},
   "outputs": [],
   "source": []
  },
  {
   "cell_type": "markdown",
   "id": "e5435465",
   "metadata": {},
   "source": [
    "## 4. Writing in a File"
   ]
  },
  {
   "cell_type": "markdown",
   "id": "41789820",
   "metadata": {},
   "source": [
    "### a. The `fd.write()` method\n",
    "- To write a file, one must open the file in write or append mode.\n",
    "- The `fd.write(text)` method is used to write a string to file.\n",
    "- If the file is opened in write mode the existing file data is overwritten\n",
    "- If the file is opened in append mode the new data is written at the end of the file\n",
    "- If the file doesnot exist, a new file with that name is created\n",
    "- The `fd.write(text)` returns the number of characters written (which is always equal to the length of the string) It overwrites the existing data. If the file doesn't exist, it will create the file. \n",
    "\n",
    "\n",
    " * `Append Only (‘a’)`: It opens the file for writing, appending to the end off the file if it exists. The file is created if it does not exist.\n",
    " * `Append and Read (‘a+’)`: It opens the file for reading and writing. The file is created if it does not exist. The data being written will be inserted at the end, after the existing data.\n",
    " "
   ]
  },
  {
   "cell_type": "markdown",
   "id": "a4e41ce4",
   "metadata": {},
   "source": [
    "**Example 1:** Let us create a new file in the present working directory. Let us use `mode='w'`(`Write Only`). It will create the file as it do not exist. If the file with the name exist its data is truncated."
   ]
  },
  {
   "cell_type": "code",
   "execution_count": 51,
   "id": "8b18a43d",
   "metadata": {},
   "outputs": [],
   "source": [
    "!cat datasets/out.txt"
   ]
  },
  {
   "cell_type": "code",
   "execution_count": 52,
   "id": "eb78e860",
   "metadata": {},
   "outputs": [],
   "source": [
    "fd1 = open('datasets/out.txt','w')"
   ]
  },
  {
   "cell_type": "code",
   "execution_count": 53,
   "id": "73d828eb",
   "metadata": {},
   "outputs": [
    {
     "data": {
      "text/plain": [
       "<_io.TextIOWrapper name='datasets/out.txt' mode='w' encoding='UTF-8'>"
      ]
     },
     "execution_count": 53,
     "metadata": {},
     "output_type": "execute_result"
    }
   ],
   "source": [
    "fd1"
   ]
  },
  {
   "cell_type": "code",
   "execution_count": 54,
   "id": "adaa18b1-7f3c-49df-9463-23e09d165e63",
   "metadata": {},
   "outputs": [
    {
     "ename": "UnsupportedOperation",
     "evalue": "not readable",
     "output_type": "error",
     "traceback": [
      "\u001b[0;31m---------------------------------------------------------------------------\u001b[0m",
      "\u001b[0;31mUnsupportedOperation\u001b[0m                      Traceback (most recent call last)",
      "Cell \u001b[0;32mIn[54], line 1\u001b[0m\n\u001b[0;32m----> 1\u001b[0m fd1\u001b[38;5;241m.\u001b[39mread()\n",
      "\u001b[0;31mUnsupportedOperation\u001b[0m: not readable"
     ]
    }
   ],
   "source": [
    "fd1.read()"
   ]
  },
  {
   "cell_type": "code",
   "execution_count": 55,
   "id": "de98604c",
   "metadata": {},
   "outputs": [],
   "source": [
    "rv = fd1.write('Python is Awesome!')"
   ]
  },
  {
   "cell_type": "code",
   "execution_count": 56,
   "id": "ccb6ccb6",
   "metadata": {},
   "outputs": [
    {
     "name": "stdout",
     "output_type": "stream",
     "text": [
      "Number of bytes/charaters written in the file:  18\n"
     ]
    }
   ],
   "source": [
    "print(\"Number of bytes/charaters written in the file: \", rv)"
   ]
  },
  {
   "cell_type": "code",
   "execution_count": 57,
   "id": "3a1a3d86",
   "metadata": {},
   "outputs": [],
   "source": [
    "fd1.close()"
   ]
  },
  {
   "cell_type": "code",
   "execution_count": null,
   "id": "58ba84a0",
   "metadata": {},
   "outputs": [],
   "source": []
  },
  {
   "cell_type": "code",
   "execution_count": 58,
   "id": "da4e5491",
   "metadata": {},
   "outputs": [
    {
     "name": "stdout",
     "output_type": "stream",
     "text": [
      "Python is Awesome!\n"
     ]
    }
   ],
   "source": [
    "# Let us open the file in read mode and read its contents\n",
    "fd1 = open('datasets/out.txt')\n",
    "print(fd1.read())\n",
    "fd1.close()"
   ]
  },
  {
   "cell_type": "code",
   "execution_count": null,
   "id": "6806022a",
   "metadata": {},
   "outputs": [],
   "source": []
  },
  {
   "cell_type": "code",
   "execution_count": null,
   "id": "692813b8",
   "metadata": {},
   "outputs": [],
   "source": []
  },
  {
   "cell_type": "markdown",
   "id": "39cd31b2",
   "metadata": {},
   "source": [
    "**Example 2:** Let us again open `out.txt` file in the present working directory in `mode=w+` (Write and Read). Since the file already exist, the file is opened and its data is truncated. If the file with the name does not exist, a new file is created."
   ]
  },
  {
   "cell_type": "code",
   "execution_count": 59,
   "id": "1d059593",
   "metadata": {},
   "outputs": [
    {
     "name": "stdout",
     "output_type": "stream",
     "text": [
      "Python is Awesome!"
     ]
    }
   ],
   "source": [
    "!cat datasets/out.txt"
   ]
  },
  {
   "cell_type": "code",
   "execution_count": 61,
   "id": "b961d227",
   "metadata": {},
   "outputs": [],
   "source": [
    "fd1 = open('datasets/out.txt','w+') # Due to w+ all the data is truncated"
   ]
  },
  {
   "cell_type": "code",
   "execution_count": 62,
   "id": "048e73c9",
   "metadata": {},
   "outputs": [
    {
     "name": "stdout",
     "output_type": "stream",
     "text": [
      "Existing data in the file is:  \n",
      "The filepointer is at byte : 0\n"
     ]
    }
   ],
   "source": [
    "print(\"Existing data in the file is: \", fd1.read())\n",
    "print(\"The filepointer is at byte :\",fd1.tell())    "
   ]
  },
  {
   "cell_type": "code",
   "execution_count": 63,
   "id": "933fbe12",
   "metadata": {},
   "outputs": [
    {
     "name": "stdout",
     "output_type": "stream",
     "text": [
      "The filepointer is at byte : 31\n"
     ]
    }
   ],
   "source": [
    "# Since the file is opened in read-write mode so we can write in the file\n",
    "fd1.write('Learning Python & Data Science!')\n",
    "print(\"The filepointer is at byte :\",fd1.tell())    "
   ]
  },
  {
   "cell_type": "code",
   "execution_count": 64,
   "id": "f49f0a74",
   "metadata": {},
   "outputs": [
    {
     "name": "stdout",
     "output_type": "stream",
     "text": [
      "Data in out.txt after writing:  \n"
     ]
    }
   ],
   "source": [
    "# Since the file is opened in read-write mode so we can read from the file\n",
    "print(\"Data in out.txt after writing: \", fd1.read())"
   ]
  },
  {
   "cell_type": "code",
   "execution_count": 65,
   "id": "f49b0c0e",
   "metadata": {},
   "outputs": [],
   "source": [
    "\n",
    "fd1.close()\n",
    "# Here filepointer is at the end of file means the file offset is at end of the file,\n",
    "# we cannot write something at the end ,\n",
    "# we should need to mentioned the filepointer or to change the file offset to write something in file "
   ]
  },
  {
   "cell_type": "code",
   "execution_count": null,
   "id": "054c7ddd",
   "metadata": {},
   "outputs": [],
   "source": []
  },
  {
   "cell_type": "markdown",
   "id": "1d88dcc1",
   "metadata": {},
   "source": [
    "### File Pointer positions\n",
    ">- Python provides the tell() method which is used to print the byte number at which the file pointer currently exists. "
   ]
  },
  {
   "cell_type": "code",
   "execution_count": 66,
   "id": "8b12b9d1",
   "metadata": {},
   "outputs": [
    {
     "name": "stdout",
     "output_type": "stream",
     "text": [
      "Existing data in the file is:  \n"
     ]
    }
   ],
   "source": [
    "fd1 = open('datasets/out.txt','w+') # Due to w+ all the data is truncated\n",
    "print(\"Existing data in the file is: \", fd1.read())"
   ]
  },
  {
   "cell_type": "code",
   "execution_count": 67,
   "id": "3c5f3f27",
   "metadata": {},
   "outputs": [
    {
     "data": {
      "text/plain": [
       "23"
      ]
     },
     "execution_count": 67,
     "metadata": {},
     "output_type": "execute_result"
    }
   ],
   "source": [
    "# Since the file is opened in read-write mode so we can write in the file\n",
    "fd1.write('Learning Python is Fun!')"
   ]
  },
  {
   "cell_type": "code",
   "execution_count": 69,
   "id": "24ea2373-b77e-478e-a4ed-68968f5c1142",
   "metadata": {},
   "outputs": [
    {
     "data": {
      "text/plain": [
       "23"
      ]
     },
     "execution_count": 69,
     "metadata": {},
     "output_type": "execute_result"
    }
   ],
   "source": [
    "fd1.tell()"
   ]
  },
  {
   "cell_type": "code",
   "execution_count": 70,
   "id": "bf307e13",
   "metadata": {},
   "outputs": [
    {
     "name": "stdout",
     "output_type": "stream",
     "text": [
      "Data in out.txt after writing:  \n"
     ]
    }
   ],
   "source": [
    "# Since the file is opened in read-write mode so we can read from the file\n",
    "print(\"Data in out.txt after writing: \", fd1.read())"
   ]
  },
  {
   "cell_type": "code",
   "execution_count": 1,
   "id": "45318b8b",
   "metadata": {},
   "outputs": [
    {
     "ename": "NameError",
     "evalue": "name 'fd1' is not defined",
     "output_type": "error",
     "traceback": [
      "\u001b[0;31m---------------------------------------------------------------------------\u001b[0m",
      "\u001b[0;31mNameError\u001b[0m                                 Traceback (most recent call last)",
      "Cell \u001b[0;32mIn[1], line 2\u001b[0m\n\u001b[1;32m      1\u001b[0m \u001b[38;5;66;03m#This is because the file offset is at the end of the file\u001b[39;00m\n\u001b[0;32m----> 2\u001b[0m fd1\u001b[38;5;241m.\u001b[39mseek(\u001b[38;5;241m0\u001b[39m)\n\u001b[1;32m      3\u001b[0m \u001b[38;5;28mprint\u001b[39m(\u001b[38;5;124m\"\u001b[39m\u001b[38;5;124mData read again after seek: \u001b[39m\u001b[38;5;124m\"\u001b[39m, fd1\u001b[38;5;241m.\u001b[39mread())\n",
      "\u001b[0;31mNameError\u001b[0m: name 'fd1' is not defined"
     ]
    }
   ],
   "source": [
    "#This is because the file offset is at the end of the file\n",
    "fd1.seek(0)\n",
    "print(\"Data read again after seek: \", fd1.read())"
   ]
  },
  {
   "cell_type": "code",
   "execution_count": 72,
   "id": "6543feab",
   "metadata": {},
   "outputs": [],
   "source": [
    "fd1.close()"
   ]
  },
  {
   "cell_type": "code",
   "execution_count": null,
   "id": "e08a0b9e",
   "metadata": {},
   "outputs": [],
   "source": []
  },
  {
   "cell_type": "code",
   "execution_count": null,
   "id": "77e9c72e",
   "metadata": {},
   "outputs": [],
   "source": []
  },
  {
   "cell_type": "markdown",
   "id": "cfa382d7",
   "metadata": {},
   "source": [
    "**Example 3:** Let us now append some text in the file `out.txt` by opening it in append mode `mode=a`. It opens the file for writing, appending to the end of the file if it exists. The file is created if it does not exist."
   ]
  },
  {
   "cell_type": "code",
   "execution_count": 73,
   "id": "4b91b807",
   "metadata": {},
   "outputs": [],
   "source": [
    "# creating a list\n",
    "fruits = [\"\\nApple\",\"\\nBanana\",\"\\nOranges\"]\n",
    "\n",
    "# open a file in append mode\n",
    "fd =open(\"datasets/out.txt\",mode=\"a\")"
   ]
  },
  {
   "cell_type": "code",
   "execution_count": 75,
   "id": "95e8f5ee-e947-4352-8bdb-91771f2738a7",
   "metadata": {},
   "outputs": [],
   "source": [
    "# fd.read()"
   ]
  },
  {
   "cell_type": "code",
   "execution_count": 76,
   "id": "29e12069",
   "metadata": {},
   "outputs": [],
   "source": [
    "#Copying the list content in file\n",
    "for fruit in fruits:\n",
    "    fd.write(fruit)\n",
    "\n",
    "fd.close()"
   ]
  },
  {
   "cell_type": "code",
   "execution_count": 79,
   "id": "c9c14f14",
   "metadata": {},
   "outputs": [
    {
     "name": "stdout",
     "output_type": "stream",
     "text": [
      "Learning Python is Fun!\n",
      "\n",
      "Apple\n",
      "\n",
      "Banana\n",
      "\n",
      "Oranges\n"
     ]
    }
   ],
   "source": [
    "# open a file in read mode again\n",
    "fd =open(\"datasets/out.txt\")\n",
    "\n",
    "# print(fd.read())\n",
    "\n",
    "#reading the data from file\n",
    "for line in fd:\n",
    "    print(line)\n",
    "    \n",
    "# close the file\n",
    "fd.close()"
   ]
  },
  {
   "cell_type": "code",
   "execution_count": null,
   "id": "1f00ac18",
   "metadata": {},
   "outputs": [],
   "source": []
  },
  {
   "cell_type": "markdown",
   "id": "5e7315be",
   "metadata": {},
   "source": [
    "## 5. Closing a File"
   ]
  },
  {
   "cell_type": "markdown",
   "id": "25f02832",
   "metadata": {},
   "source": [
    "### a. The `fd.close()` method\n",
    "Closing a file will free up the resources that were tied with the file. Python has a garbage collector to clean up unreferenced objects but we must not rely on it to close the file."
   ]
  },
  {
   "cell_type": "code",
   "execution_count": 80,
   "id": "93262e79",
   "metadata": {},
   "outputs": [],
   "source": [
    "# open a file\n",
    "f = open(\"datasets/f1.txt\", \"r\")\n",
    "\n",
    "# perform some file operations\n",
    "\n",
    "#close the file\n",
    "f.close()"
   ]
  },
  {
   "cell_type": "markdown",
   "id": "f7352ee2",
   "metadata": {},
   "source": [
    "### b. Use `fd.close()` in `try...finally` Block\n",
    "- Often one forgets to close an open file. This may produce errors and may become harmful when you are working on large files.\n",
    "- Moreover, if an exception occurs when we are performing some operation with the file, the program exits without closing the file.\n",
    "\n",
    "> In such scenarios, `try-except-finally` blocks come to the rescue. We can keep the  `fd.close()` method in the finally block, so that even if the program execution stops due to an exception, the file will get closed anyway."
   ]
  },
  {
   "cell_type": "code",
   "execution_count": 81,
   "id": "2fc7d4c3",
   "metadata": {},
   "outputs": [
    {
     "name": "stdout",
     "output_type": "stream",
     "text": [
      "[Errno 2] No such file or directory: 'datasets/f12.txt'\n"
     ]
    }
   ],
   "source": [
    "# Put the entire code in try block\n",
    "try:\n",
    "    fd = open(\"datasets/f12.txt\", \"r\")\n",
    "   # perform file operations\n",
    "except Exception as e:\n",
    "    print(e)\n",
    "finally:\n",
    "    fd.close() "
   ]
  },
  {
   "cell_type": "markdown",
   "id": "80bd17db",
   "metadata": {},
   "source": [
    "### c. Use of `with` Keyword while opening a File\n",
    "- The best way to open a file in Python script is by using the `with` keyword. \n",
    "- This guarantees that the file will automatically be closed when the block inside the `with` statement exits.\n",
    "- Even if an exception occurs before the end of the block, it will close the file before the exception is caught by an outer exception handler."
   ]
  },
  {
   "cell_type": "code",
   "execution_count": 82,
   "id": "dbb86693",
   "metadata": {},
   "outputs": [
    {
     "name": "stdout",
     "output_type": "stream",
     "text": [
      "Hello Students.\n",
      "Welcome to File Handling with Ehtisham Sadiq\n",
      "I learn a lot when I teach to others.\n",
      "Hope learning will be fun for you all, at least it is for me\n",
      "Happy Learning\n",
      "\n"
     ]
    }
   ],
   "source": [
    "# open the file in read mode using with statement\n",
    "with open(\"datasets/f1.txt\", \"r\") as fd:\n",
    "    \n",
    "    # perform file operations\n",
    "    print(fd.read())\n",
    "   "
   ]
  },
  {
   "cell_type": "markdown",
   "id": "066b787d",
   "metadata": {},
   "source": [
    "**Let us confirm if the file opened in the above code cell is closed or not**"
   ]
  },
  {
   "cell_type": "code",
   "execution_count": 83,
   "id": "4a5a9aad",
   "metadata": {},
   "outputs": [
    {
     "ename": "ValueError",
     "evalue": "I/O operation on closed file.",
     "output_type": "error",
     "traceback": [
      "\u001b[0;31m---------------------------------------------------------------------------\u001b[0m",
      "\u001b[0;31mValueError\u001b[0m                                Traceback (most recent call last)",
      "Cell \u001b[0;32mIn[83], line 1\u001b[0m\n\u001b[0;32m----> 1\u001b[0m fd\u001b[38;5;241m.\u001b[39mread()\n",
      "\u001b[0;31mValueError\u001b[0m: I/O operation on closed file."
     ]
    }
   ],
   "source": [
    "fd.read()"
   ]
  },
  {
   "cell_type": "markdown",
   "id": "f1040bab",
   "metadata": {},
   "source": [
    "## 6. _HomeWork:_ Change File Offset using `fd.seek()` method\n",
    "<img align=\"right\" width=\"500\" height=\"300\"  src=\"images/seek.png\"  >    \n",
    "  \n",
    "\n",
    "The `fd.seek()` method is used to change the position of the File Handle or current file offset to a given specific position, from where the data has to be read or written in the file. The method returns the new absolute position.\n",
    "```\n",
    "seek(offset, whence)\n",
    "```\n",
    "Where,\n",
    " - `offset` means the number of positions to move forward/backward. It is interpreted relative to the position indicated by whence\n",
    " - `whence` can take following values: \n",
    "     - 0:  start of stream (the default); offset should be zero or positive \n",
    "     - 1:  current stream position; offset may be negative\n",
    "     - 2:  end of stream; offset is usually negative\n",
    "     - In image : seek(+n, 0) -> means take positive offset from the beginning of the file.\n",
    "     \n",
    "**Note:** \n",
    "- Reference point at current position / end of file cannot be set in text mode except when offset is equal to 0.\n",
    "- Seek() function with negative offset only works when file is opened in Binary mode.\n",
    "- When we open a file, current offset of file in case of reading and writing is at the beginning of the file.   \n",
    "- In case of append mode, file offset represents the first byte after the end of the file. "
   ]
  },
  {
   "cell_type": "code",
   "execution_count": null,
   "id": "e77fd658",
   "metadata": {},
   "outputs": [],
   "source": []
  },
  {
   "cell_type": "code",
   "execution_count": null,
   "id": "f8055f38",
   "metadata": {},
   "outputs": [],
   "source": []
  },
  {
   "cell_type": "code",
   "execution_count": null,
   "id": "42ef8418",
   "metadata": {},
   "outputs": [],
   "source": []
  },
  {
   "cell_type": "markdown",
   "id": "e09f3def",
   "metadata": {},
   "source": [
    "## 7. Performing some Operations on File Contents"
   ]
  },
  {
   "cell_type": "markdown",
   "id": "cd573f06",
   "metadata": {},
   "source": [
    "### a. Iterating Contents of a File (Line by Line)"
   ]
  },
  {
   "cell_type": "markdown",
   "id": "9944983b",
   "metadata": {},
   "source": [
    "**Using a `while` loop**"
   ]
  },
  {
   "cell_type": "code",
   "execution_count": null,
   "id": "bafdf762",
   "metadata": {},
   "outputs": [],
   "source": [
    "# # open(), it is used to open a file.\n",
    "# # read(), It is used to read content of a file.\n",
    "# # write(), it is used t write something in the file.\n",
    "# # close(), It is used to free all the resources contained by the file.\n",
    "# read() -> file content character by character. \n",
    "# readline() -> One line of file at a time.\n",
    "# readlines() -> But list of lines by comma separated."
   ]
  },
  {
   "cell_type": "code",
   "execution_count": 84,
   "id": "3eed229b",
   "metadata": {},
   "outputs": [
    {
     "name": "stdout",
     "output_type": "stream",
     "text": [
      "Hello Students.\n",
      "Welcome to File Handling with Ehtisham Sadiq\n",
      "I learn a lot when I teach to others.\n",
      "Hope learning will be fun for you all, at least it is for me\n",
      "Happy Learning\n"
     ]
    }
   ],
   "source": [
    "!cat  datasets/f1.txt"
   ]
  },
  {
   "cell_type": "code",
   "execution_count": 85,
   "id": "ff5c934e",
   "metadata": {},
   "outputs": [
    {
     "name": "stdout",
     "output_type": "stream",
     "text": [
      "Hello there! Welcome to the world of possibilities and endless opportunities. \n",
      "Embrace each moment with a sense of curiosity and a spirit of determination. \n",
      "Remember, every challenge is an opportunity in disguise. \n",
      "Stay positive, stay motivated, and keep striving for greatness. You've got this!\n"
     ]
    }
   ],
   "source": [
    "!cat datasets/hello.txt"
   ]
  },
  {
   "cell_type": "code",
   "execution_count": null,
   "id": "f2d91a3b",
   "metadata": {},
   "outputs": [],
   "source": []
  },
  {
   "cell_type": "code",
   "execution_count": 86,
   "id": "e8b4ace5",
   "metadata": {},
   "outputs": [
    {
     "name": "stdout",
     "output_type": "stream",
     "text": [
      "Hello there! Welcome to the world of possibilities and endless opportunities. \n",
      "\n",
      "Embrace each moment with a sense of curiosity and a spirit of determination. \n",
      "\n",
      "Remember, every challenge is an opportunity in disguise. \n",
      "\n",
      "Stay positive, stay motivated, and keep striving for greatness. You've got this!\n",
      "\n"
     ]
    }
   ],
   "source": [
    "fd = open(\"datasets/hello.txt\",\"r\")\n",
    "\n",
    "while True:\n",
    "    line = fd.readline()\n",
    "#     loop will break when line is empty or readline returns nothing\n",
    "    if not line:\n",
    "        break\n",
    "    print(line)\n",
    "fd.close()"
   ]
  },
  {
   "cell_type": "code",
   "execution_count": null,
   "id": "946df44b",
   "metadata": {},
   "outputs": [],
   "source": []
  },
  {
   "cell_type": "code",
   "execution_count": null,
   "id": "25cef4a3",
   "metadata": {},
   "outputs": [],
   "source": []
  },
  {
   "cell_type": "markdown",
   "id": "5c9df4e2",
   "metadata": {},
   "source": [
    "**Using a `for` loop**"
   ]
  },
  {
   "cell_type": "code",
   "execution_count": null,
   "id": "7996a1b9",
   "metadata": {},
   "outputs": [],
   "source": []
  },
  {
   "cell_type": "code",
   "execution_count": 87,
   "id": "15dbedc2",
   "metadata": {},
   "outputs": [
    {
     "name": "stdout",
     "output_type": "stream",
     "text": [
      "Hello there! Welcome to the world of possibilities and endless opportunities. \n",
      "\n",
      "Embrace each moment with a sense of curiosity and a spirit of determination. \n",
      "\n",
      "Remember, every challenge is an opportunity in disguise. \n",
      "\n",
      "Stay positive, stay motivated, and keep striving for greatness. You've got this!\n",
      "\n"
     ]
    }
   ],
   "source": [
    "fd = open(\"datasets/hello.txt\",\"r\")\n",
    "\n",
    "for line in fd:  #File handle can be used as iterator in the for loop\n",
    "    print(line)\n",
    "fd.close()"
   ]
  },
  {
   "cell_type": "code",
   "execution_count": null,
   "id": "fbf6e272",
   "metadata": {},
   "outputs": [],
   "source": []
  },
  {
   "cell_type": "markdown",
   "id": "6e11a5d7",
   "metadata": {},
   "source": [
    "**A better way to iterate a file line by line using a `for` loop**"
   ]
  },
  {
   "cell_type": "code",
   "execution_count": null,
   "id": "748226a3",
   "metadata": {},
   "outputs": [],
   "source": []
  },
  {
   "cell_type": "code",
   "execution_count": null,
   "id": "435596a2",
   "metadata": {},
   "outputs": [],
   "source": []
  },
  {
   "cell_type": "code",
   "execution_count": null,
   "id": "bf7f4dbd",
   "metadata": {},
   "outputs": [],
   "source": [
    "for line in open(\"datasets/hello.txt\", 'r'):\n",
    "    print(line)\n",
    "\n",
    "#How can we close the file handle, as we dont have one"
   ]
  },
  {
   "cell_type": "markdown",
   "id": "a3d00522",
   "metadata": {},
   "source": [
    "**The best way to iterate a file line by line using a `for` loop**"
   ]
  },
  {
   "cell_type": "code",
   "execution_count": 88,
   "id": "bcf23e3e",
   "metadata": {},
   "outputs": [
    {
     "name": "stdout",
     "output_type": "stream",
     "text": [
      "Hello there! Welcome to the world of possibilities and endless opportunities. \n",
      "\n",
      "Embrace each moment with a sense of curiosity and a spirit of determination. \n",
      "\n",
      "Remember, every challenge is an opportunity in disguise. \n",
      "\n",
      "Stay positive, stay motivated, and keep striving for greatness. You've got this!\n",
      "\n"
     ]
    }
   ],
   "source": [
    "with open(\"datasets/hello.txt\", 'r') as fd:\n",
    "    for line in fd:\n",
    "        print(line)"
   ]
  },
  {
   "cell_type": "code",
   "execution_count": null,
   "id": "2e587b47",
   "metadata": {},
   "outputs": [],
   "source": []
  },
  {
   "cell_type": "code",
   "execution_count": null,
   "id": "eb95ba2b",
   "metadata": {},
   "outputs": [],
   "source": []
  },
  {
   "cell_type": "markdown",
   "id": "fca239ed",
   "metadata": {},
   "source": [
    "### b.  Count the words in the file using `str.split()` method"
   ]
  },
  {
   "cell_type": "code",
   "execution_count": null,
   "id": "ddd51e5c",
   "metadata": {},
   "outputs": [],
   "source": [
    "# string = \"Data Science and Machine Learning\"\n",
    "# len(string.split(\" \"))"
   ]
  },
  {
   "cell_type": "code",
   "execution_count": 2,
   "id": "8213c4bc",
   "metadata": {},
   "outputs": [
    {
     "name": "stdout",
     "output_type": "stream",
     "text": [
      "Hello Students.\n",
      "Welcome to File Handling with Ehtisham Sadiq\n",
      "I learn a lot when I teach to others.\n",
      "Hope learning will be fun for you all, at least it is for me\n",
      "Happy Learning\n"
     ]
    }
   ],
   "source": [
    "!cat datasets/f1.txt"
   ]
  },
  {
   "cell_type": "code",
   "execution_count": 5,
   "id": "56891b93-3c93-4a3a-b137-6895f89891aa",
   "metadata": {},
   "outputs": [
    {
     "data": {
      "text/plain": [
       "['Welcome', 'to', 'File', 'Handling', 'with', 'Ehtisham', 'Sadiq']"
      ]
     },
     "execution_count": 5,
     "metadata": {},
     "output_type": "execute_result"
    }
   ],
   "source": [
    "str1 = \"Welcome to File Handling with Ehtisham Sadiq\"\n",
    "str1.split(\" \")"
   ]
  },
  {
   "cell_type": "code",
   "execution_count": 6,
   "id": "c5b15245",
   "metadata": {},
   "outputs": [
    {
     "name": "stdout",
     "output_type": "stream",
     "text": [
      "<class 'list'>\n",
      "\n",
      "\n",
      "['Hello', 'Students.', 'Welcome', 'to', 'File', 'Handling', 'with', 'Ehtisham', 'Sadiq', 'I', 'learn', 'a', 'lot', 'when', 'I', 'teach', 'to', 'others.', 'Hope', 'learning', 'will', 'be', 'fun', 'for', 'you', 'all,', 'at', 'least', 'it', 'is', 'for', 'me', 'Happy', 'Learning']\n",
      "\n",
      "\n",
      "Total words in the file is :  34\n"
     ]
    }
   ],
   "source": [
    "# First Method\n",
    "with open(\"datasets/f1.txt\", \"r\") as fd:\n",
    "    data = fd.read().split() # space, a, #, \n",
    "    print(type(data))\n",
    "    print()\n",
    "    print()\n",
    "    \n",
    "    print(data)\n",
    "    print()\n",
    "    print()\n",
    "    \n",
    "    print(\"Total words in the file is : \", len(data))"
   ]
  },
  {
   "cell_type": "code",
   "execution_count": null,
   "id": "79cc7481",
   "metadata": {},
   "outputs": [],
   "source": []
  },
  {
   "cell_type": "markdown",
   "id": "814f07a3",
   "metadata": {},
   "source": [
    "### Count of unique words in the file."
   ]
  },
  {
   "cell_type": "code",
   "execution_count": 7,
   "id": "b5cfda52",
   "metadata": {},
   "outputs": [
    {
     "name": "stdout",
     "output_type": "stream",
     "text": [
      "['Hello', 'Students.', 'Welcome', 'to', 'File', 'Handling', 'with', 'Ehtisham', 'Sadiq', 'I', 'learn', 'a', 'lot', 'when', 'teach', 'others.', 'Hope', 'learning', 'will', 'be', 'fun', 'for', 'you', 'all,', 'at', 'least', 'it', 'is', 'me', 'Happy', 'Learning']\n",
      "\n",
      "Total words in the file are :  31\n"
     ]
    }
   ],
   "source": [
    "UniqueWords = []\n",
    "with open(\"datasets/f1.txt\",\"r\") as fd:\n",
    "    data = fd.read().split() # here `data` is a list\n",
    "    for i in data:\n",
    "        if i not in UniqueWords:\n",
    "            UniqueWords.append(i)\n",
    "    print(UniqueWords)\n",
    "    print()\n",
    "    print(\"Total words in the file are : \", len(UniqueWords))"
   ]
  },
  {
   "cell_type": "code",
   "execution_count": null,
   "id": "7bee2421",
   "metadata": {},
   "outputs": [],
   "source": []
  },
  {
   "cell_type": "code",
   "execution_count": null,
   "id": "7b5a04c6",
   "metadata": {},
   "outputs": [],
   "source": []
  },
  {
   "cell_type": "code",
   "execution_count": null,
   "id": "43768d28",
   "metadata": {},
   "outputs": [],
   "source": []
  },
  {
   "cell_type": "code",
   "execution_count": 8,
   "id": "17270b6d",
   "metadata": {},
   "outputs": [
    {
     "name": "stdout",
     "output_type": "stream",
     "text": [
      "Hello Students.\n",
      " 2\n",
      "Welcome to File Handling with Ehtisham Sadiq\n",
      " 7\n",
      "I learn a lot when I teach to others.\n",
      " 9\n",
      "Hope learning will be fun for you all, at least it is for me\n",
      " 14\n",
      "Happy Learning\n",
      " 2\n",
      "\n",
      "Total words in this file are:  34\n"
     ]
    }
   ],
   "source": [
    "# Example:\n",
    "\n",
    "totalwords = 0\n",
    "with open(\"datasets/f1.txt\", \"r\") as fd:\n",
    "    for line in fd:\n",
    "        listoftokens = line.split(' ')\n",
    "        print(line, len(listoftokens))\n",
    "        totalwords = totalwords + len(listoftokens)\n",
    "\n",
    "print(\"\\nTotal words in this file are: \", totalwords)"
   ]
  },
  {
   "cell_type": "code",
   "execution_count": null,
   "id": "1c71bed2",
   "metadata": {},
   "outputs": [],
   "source": []
  },
  {
   "cell_type": "markdown",
   "id": "ff4037c7",
   "metadata": {},
   "source": [
    "## 8. Identifying Type of File"
   ]
  },
  {
   "cell_type": "code",
   "execution_count": 9,
   "id": "b4faf4bc",
   "metadata": {},
   "outputs": [
    {
     "name": "stdout",
     "output_type": "stream",
     "text": [
      "\u001b[34mAssignments\u001b[m\u001b[m      Day5.ipynb       \u001b[34mFiles\u001b[m\u001b[m            details.txt\n",
      "Day1.ipynb       Day6.ipynb       \u001b[34mMachine-Learning\u001b[m\u001b[m \u001b[34mimages\u001b[m\u001b[m\n",
      "Day2.ipynb       \u001b[34mDay7\u001b[m\u001b[m             README.md        myfile.csv\n",
      "Day3.ipynb       \u001b[31mDay8.ipynb\u001b[m\u001b[m       Syllabus.pdf\n",
      "Day4.ipynb       Day9.ipynb       \u001b[34mdatasets\u001b[m\u001b[m\n"
     ]
    }
   ],
   "source": [
    "!ls"
   ]
  },
  {
   "cell_type": "code",
   "execution_count": 10,
   "id": "5b8ae957",
   "metadata": {},
   "outputs": [
    {
     "name": "stdin",
     "output_type": "stream",
     "text": [
      "Enter name of the file/directory:  Day7\n"
     ]
    }
   ],
   "source": [
    "import os\n",
    "name = input(\"Enter name of the file/directory: \")"
   ]
  },
  {
   "cell_type": "code",
   "execution_count": 11,
   "id": "aabfb0fd",
   "metadata": {},
   "outputs": [
    {
     "name": "stdout",
     "output_type": "stream",
     "text": [
      "It is a directory\n"
     ]
    }
   ],
   "source": [
    "if os.path.isfile(name):\n",
    "    print(\"It is a file\")\n",
    "elif os.path.isdir(name):\n",
    "    print(\"It is a directory\")\n",
    "\n",
    "else:\n",
    "    print(\"Unknown file type or file do not exist\")"
   ]
  },
  {
   "cell_type": "code",
   "execution_count": null,
   "id": "5b0da030",
   "metadata": {},
   "outputs": [],
   "source": []
  },
  {
   "cell_type": "code",
   "execution_count": null,
   "id": "e480b0df",
   "metadata": {},
   "outputs": [],
   "source": []
  },
  {
   "cell_type": "code",
   "execution_count": null,
   "id": "023e8bfe",
   "metadata": {},
   "outputs": [],
   "source": []
  },
  {
   "cell_type": "code",
   "execution_count": null,
   "id": "6a4397e1",
   "metadata": {},
   "outputs": [],
   "source": []
  },
  {
   "cell_type": "markdown",
   "id": "24cc2649",
   "metadata": {},
   "source": [
    "# Bonus: Reading CSV Files in Python"
   ]
  },
  {
   "cell_type": "code",
   "execution_count": null,
   "id": "ea2342e3",
   "metadata": {
    "scrolled": true
   },
   "outputs": [],
   "source": []
  },
  {
   "cell_type": "code",
   "execution_count": 13,
   "id": "848f21b0",
   "metadata": {},
   "outputs": [
    {
     "name": "stdout",
     "output_type": "stream",
     "text": [
      "<_csv.reader object at 0x107105a10>\n",
      "['Name', 'Age', 'Address']\n",
      "['Sadiq', '50', 'Okara']\n",
      "['Zeeshan', '25', 'Okara']\n",
      "['Subah', '23', 'Multan']\n",
      "['Ehtisham', '21', 'Lahore']\n",
      "['Ali', '19', 'Lahore']\n",
      "['Ayesha', '15', 'Okara']\n"
     ]
    }
   ],
   "source": [
    "import csv\n",
    "with open('datasets/MyFamily.csv', 'r') as fd:\n",
    "    obj = csv.reader(fd)\n",
    "    print(obj)\n",
    "    for line in obj:\n",
    "        print(line)"
   ]
  },
  {
   "cell_type": "code",
   "execution_count": null,
   "id": "8d976f16",
   "metadata": {},
   "outputs": [],
   "source": []
  },
  {
   "cell_type": "code",
   "execution_count": 19,
   "id": "1838c1ae",
   "metadata": {},
   "outputs": [
    {
     "name": "stdout",
     "output_type": "stream",
     "text": [
      "['Name', 'Age', 'Address']\n",
      "['Sadiq', '50', 'Okara']\n",
      "['Zeeshan', '25', 'Okara']\n",
      "['Subah', '23', 'Multan']\n",
      "['Ehtisham', '', 'Lahore']\n"
     ]
    }
   ],
   "source": [
    "import csv\n",
    "with open('datasets/MyFamily.csv', 'r') as fd:\n",
    "    obj = csv.reader(fd)\n",
    "    count = 0\n",
    "    for i in obj:\n",
    "        print(i)\n",
    "        count = count +1\n",
    "        if count==5:\n",
    "            break"
   ]
  },
  {
   "cell_type": "code",
   "execution_count": 20,
   "id": "3fdf82b8-9fc8-4ca8-82d4-2bd0f3321850",
   "metadata": {},
   "outputs": [],
   "source": [
    "# import pandas as pd\n",
    "# pd.read_csv(\"datasets/MyFamily.csv\")"
   ]
  },
  {
   "cell_type": "code",
   "execution_count": null,
   "id": "7679a43c-8566-439d-b2d1-333c71736402",
   "metadata": {},
   "outputs": [],
   "source": []
  },
  {
   "cell_type": "code",
   "execution_count": null,
   "id": "ffa5b81e-e73b-403c-8783-3628d4fb3b8a",
   "metadata": {},
   "outputs": [],
   "source": []
  },
  {
   "cell_type": "code",
   "execution_count": null,
   "id": "3970c1a7-8b17-4a18-8d50-a6d13e42c29e",
   "metadata": {},
   "outputs": [],
   "source": []
  },
  {
   "cell_type": "code",
   "execution_count": null,
   "id": "66b3fc0c",
   "metadata": {},
   "outputs": [],
   "source": []
  },
  {
   "cell_type": "markdown",
   "id": "77d12efd",
   "metadata": {},
   "source": [
    "\n",
    "# Bonus: Handling Image Files in Python\n",
    "- Let us now try to open and read binary files in Python"
   ]
  },
  {
   "cell_type": "code",
   "execution_count": null,
   "id": "78467d2b-1a26-4867-89a3-40c8e5a1a99e",
   "metadata": {},
   "outputs": [],
   "source": []
  },
  {
   "cell_type": "code",
   "execution_count": 23,
   "id": "3aed1e91",
   "metadata": {},
   "outputs": [],
   "source": [
    "fd = open(\"images/Subset.png\", \"rb\")\n",
    "# 'rb' means it is a binary file"
   ]
  },
  {
   "cell_type": "code",
   "execution_count": 24,
   "id": "c93bc732",
   "metadata": {},
   "outputs": [
    {
     "name": "stdout",
     "output_type": "stream",
     "text": [
      "b'\\x89PNG\\r\\n\\x1a\\n\\x00\\x00\\x00\\rIHDR\\x00\\x00\\x01\\x9f\\x00\\x00\\x01\\xf8\\x08\\x02\\x00\\x00\\x00\\x1aqw!\\x00\\x00\\x00\\x01sRGB\\x00\\xae\\xce\\x1c\\xe9\\x00\\x00\\x00\\x04gAMA\\x00\\x00\\xb1\\x8f\\x0b\\xfca\\x05\\x00\\x00\\x00\\tpHYs\\x00\\x00\\x12t\\x00\\x00\\x12t\\x01\\xdef\\x1fx\\x00\\x00+`IDATx^\\xed\\x9d\\xbd\\x8eTY\\x16f\\xfbA\\x1a\\xa7\\xd4/P\\xaa\\xb6\\x90Z\\xe3\"4\\x06V\\x95\\x83\\xda\\xc4+\\x0c\\x0c\\x8c\\xb6Z\\xe2\\x050\\x19\\xf1\\x00e\\x8f\\x83\\xd1\\x88\\x07hi^`\\x84\\xe0\\x01F*\\x03a $\\xa4\\x9c\\x9dy7\\x9b\\x93_\\xdc\\x1b\\x19\\x11\\xf7\\xef\\x9c}\\xd6\\xd2r\\n\\x92$\\xee\\xd9\\xdf\\xfe\\x88\\x9b\\x11\\x99\\xf5\\x97+\\x00\\x80\\x8c\\xd0n\\x00\\x90\\x13\\xda\\r\\x00rB\\xbb\\x01@Nh7\\x00\\xc8\\t\\xed\\x06\\x009\\xa1\\xdd\\x00 \\'\\xb4\\x1b\\x00\\xe4\\x84v\\x03\\x80\\x9c\\xd0n\\x00\\x90\\x13\\xda\\r\\x00rB\\xbb\\x01@Nh7\\x00\\xc8\\t\\xed\\x06\\x009\\xa1\\xdd\\x00 \\'\\xb4\\x1b\\x00\\xe4\\x84v\\x03\\x80\\x9c\\xd0n\\x00\\x90\\x13\\xda\\r\\x00rB\\xbb\\x01@Nh7\\x00\\xc8\\t\\xed\\x06\\x009\\xa1\\xdd\\x00 \\'\\xb4\\x1b\\x00\\xe4\\x84v\\x03\\x80\\x9c\\xd0n\\x00\\x90\\x13\\xda\\r\\x00rB\\xbb\\x01@Nh7\\x00\\xc8\\t\\xed\\x06\\x009\\xa1\\xdd\\x00 \\'\\xb4\\x1b\\x00\\xe4\\x84v\\x03\\x80\\x9c\\xd0n\\x00\\x90\\x13\\xda\\r\\x00rB\\xbb\\x01@Nh7\\x00\\xc8\\t\\xed\\x06\\x009\\xa1\\xdd\\x00 \\'\\xb4\\x1b\\x00\\xe4\\x84v\\x03\\x80\\x9c\\xd0n\\x00\\x90\\x13\\xda\\r\\x00rB\\xbb\\x01@Nh7X\\x86\\x9f\\xfe\\xf7\\xff\\\\J\\xff\\x8c\\x00\\xf3\\xa0\\xdd\\xe0$\\xa4\\x80\\xf6\\xd5\\x1f\\x13\\xc0Qh7P\\xa4JZ\\xd1\\x1f=\\xc0wh7X\\xa0\\xce\\xfe}\\xf5\\xef\\x05\\x95O~\\x99~m\\xd01\\xb4[\\x8fH\\x11\\x9c\\xa2\\x14\\xd0\\xbe\\xcac;E\\xbfr\\xe8\\t\\xda\\xad\\x0bd\\xd5\\x8f+U\\xd2\\x8ar\\x15\\xc7\\xf5s\\x81\\xd4\\xd0ni\\x91}>\\xa2\\xd4D\\x0e\\xe5\\x1a\\x8f\\xe8\\xe7\\x05\\xe9\\xa0\\xdd\\xb2!\\xab;\\xaa\\x14A\\x0f\\xca\\t\\x8c\\xea\\'\\x08Y\\xa0\\xdd\\x92 \\x8bz\\xa8l{\\xcf\\xca\\xc9\\x8c\\xea\\xc7\\n-C\\xbb\\xb5\\x8d\\xec\\xa4([\\x8d\\x87\\xca\\x89\\x89~\\xca\\xd0&\\xb4[\\x93\\xc8\\x12\\x96\\xca\\xf6\\xe2\\xe9\\xcaI\\x96\\xfa\\xb9CS\\xd0n-!+W*\\x8b\\x8as\\x94\\xb3-\\xf5I@\\x0b\\xd0n\\r \\x0bV*k\\x89\\xcb*\\xa7]\\xea\\xb3\\x81\\x8a\\xa1\\xdd\\xaaF6*\\x94%\\xc4\\xb5\\x95\\xf3\\x0f}NP%\\xb4[\\x8d\\xc8\\n\\x85\\xb2r\\xb8\\xbd2\\x91\\xd0\\'\\x075A\\xbb\\xd5\\x85\\xecL(;\\x86\\xfb*\\xd3\\t}\\x8aP\\x07\\xb4[-\\xc8\\x9e\\x0c\\xcaRam\\xca\\xbc\\x06}\\xa2\\xb07\\xb4\\xdb\\xce\\xc8b\\x84\\xb2EX\\xb32\\xbb\\xd0g\\x0c;A\\xbb\\xed\\x86l\\xc2\\xa0\\xac\\r\\xb6\\xa5Ls\\xd0\\xe7\\r\\x9bC\\xbb\\xed\\x80\\xa4\\x7fP\\xf6\\x04\\xdbU&;\\xe8\\xb3\\x87\\r\\xa1\\xdd6E\\x12?(\\xbb\\x819\\x94)\\x0fz\\x0e`\\x13h\\xb7\\x8d\\x90\\x94\\x0f\\xca>`>e\\xe2\\x83\\x9e\\tX\\x19\\xdamu$\\xd9\\x83\\xb2\\x03\\x98[\\x99\\xfe\\xa0\\xe7\\x03V\\x83v[\\x17\\t\\xb4)\\xb9\\xc7~\\x94$\\x98\\x9e\\x12X\\x07\\xdam-$\\xc7\\xa6d\\x1d\\xfbTRazb`ih\\xb7\\xe5\\x91\\xec\\x9a\\x92oDI\\x88\\xe9\\xe9\\x81\\xe5\\xa0\\xdd\\x16F\"kJ\\xac\\x11\\x07%\\'\\xa6g\\x08\\x16\\x82v[\\x0cI\\xaa)iF<T2cz\\x9e`6\\xb4\\xdb\\x02H:MI0\\xe2q%?\\xa6g\\x0bf@\\xbb\\xcdEBiJp\\x11OT\\x82\\xe4\\t\\x83K\\xa1\\xdd.G\\xb2hJX\\x11\\xcfU\\x12ez\\xda\\xe0|h\\xb7K\\x90\\xfc\\x99\\x92Q\\xc49J\\xbaLO\\x1e\\x9c\\x03\\xedv6\\x12;S\\xa2\\x89\\xb8\\x88\\x123\\xcf\\x1f\\x9c\\x0c\\xedv\\x1e\\x128\\x89#\\xe2\\xb2J\\xde<\\x85p\\x1a\\xb4\\xdb\\xa9H\\xce$\\x85\\x88\\xeb)\\xd9\\xf3D\\xc2]\\xd0n\\'!\\xf1\\x92\\xf0!\\xae\\xad$\\xd0s\\tG\\xa1\\xdd\\xeeF\\x82%\\xb1C\\xdcF\\xc9\\xa1\\xa7\\x13\\xa6\\xa1\\xdd\\x8e!y\\x92\\xb4!n\\xafd\\xd2\\x93\\nc\\xd0n\\x93H\\x8c$d\\x88{)\\xc9\\xf4\\xbc\\xc2\\x01\\xb4\\xdb8\\x12 \\x89\\x17\\xe2\\xbeJ>M\\x0f.\\x14\\xd0n\\x8a\\x84FR\\x85X\\x8f\\x92UO0|\\x87v\\xbb\\x85\\xc4E\\xc2\\x84X\\x9b\\x92X\\xcf1\\xdc@\\xbb\\xfd\\xa0L\\x89d\\x08\\xb1f\\xcb\\xe8z\\x9a\\x81v\\x0b\\xca|Ht\\x10\\xeb\\xb7\\x0c\\xb0\\xe9\\xb1\\xee\\x1b\\xda\\x8d\\xbbQL\\xa2$\\xd9\\xf3\\xdd1\\xbd\\xb7\\x9b\\x04B\\xe2\\x82\\xd8\\x96\\x92gOy\\xaft\\xddn\\x12\\x05\\t\\nb\\x8bJ\\xaa=\\xeb]\\xd2o\\xbbI\\x08$\"\\x88M[f\\xdb\\x13\\xdf\\x1f\\x9d\\xb6[9{\\x89\\x05b\\x0e\\xcb\\x90{\\xee;\\xa3\\xc7v+\\xa7.\\x81@\\xccd\\x19uO\\x7fOt\\xd7n\\xe5\\xbc%\\n\\x88\\xf9,\\x03\\xef;\\xd0\\r}\\xb5[9i\\t\\x01bV\\xcb\\xd8\\xfb&\\xf4A/\\xedV\\x0e\\xd8\\x94\\xf1#\\xe6V\\xf2\\xef[\\x91\\x9d.\\xdaMF+\\x83G\\xecA\\xd9\\x02\\xdf\\x8d\\xd4\\xe4o7\\x19\\xaa\\x8c\\x1c/\\xf6\\xea\\xed\\xf3?\\xff\\xfa\\xb7\\x0b\\xfc\\xf4\\xea\\xa3|*\\xdcF\\xd9\\x05\\xdf\\x90\\xbc\\xf4\\xd5n2l\\x9c#\\xed\\xd6\\xa2\\xe5:\\x98\\xbe$II\\xden\\xe5 e\\xcc8S\\xda\\xadQ\\xcb\\xa5\\xf0=IJ\\xe6v+\\xa7(\\x03\\xc6\\xf9\\xd2n\\xedZ\\xae\\x86oKF\\xd2\\xb6[9?\\x19-.\"\\xed\\xd6\\xb4\\xe5\\x82\\xf8\\xce\\xa4#g\\xbb\\x95\\x93\\x93\\xa1\\xe2R\\x8e\\xb6\\x1b\\xcd\\xd5\\x90\\xe5\\x9a\\xf8\\xe6\\xe4\"a\\xbb\\x953\\x93q\\xe2\\x82\\xd2n\\t,\\x97\\xc5\\xf7\\'\\x11\\xd9\\xda\\xad\\x9c\\x96\\x0c\\x12\\x97\\xb5\\xcfv{\\xfa\\xe6\\xc1/\\xf7\\xef\\xdd\\xfb\\xcb\\x0f\\xee\\xd9\\x7f>y\\xf0\\xe0\\xcd\\xd3\\x1f\\x1f\\xf6\\xe6\\x17\\xff\\xbd)\\xee?xz\\xf5\\xf8\\xae\\x0f\\n~y\\x1c\\x9fY|\\xff\\xa0|$\\xb7\\xb8yT\\x8f\\xdf\\x1f\\xfc\\x91\\x03\\xcb\\x95\\xf1-\\xcaB\\xaav+\\xe7$#\\xc4\\xc5\\xed\\xae\\xdd\\xde?\\xfe\\xe5\\xbeW\\xc78\\xd7\\x9du\\xf3\\x915\\xb4\\x9bs\\xef\\x977\\x07\\x7f\\xea\\xc0rq|\\x97R\\x90\\xa7\\xdd\\xca\\t\\xc9\\xf0p\\r\\xfbj\\xb7\\xbb{\\xa4\\xcev+\\x1e\\xd5Q\\xcb\\xf5\\xf1\\x8dj\\x9f$\\xedV\\xceF\\xc6\\x86+9\\xdan\\xea\\xc3G\\x9f\\x9e=\\xff\\xf2\\xf6\\xe3\\xb7+\\xfb\\x03\\xfa\\x19\\x1a\\xf2\\xf1\\x13\\xef\\x8a\\x1b\\xee\\x15\\xf7\\xa1Oo\\xeeUo~y\\xb4\\xddN+\\x97\\x7f\\xdf*\\xbb{\\x0fN\\xb8\\xa3\\xbc\\xf6V\\xbbE\\t>\\xd5G{\\xdag+\\x97\\xc8\\xf7\\xaaq2\\xb4[9\\x15\\x19\\x18\\xae\\xe7I\\xedV\\xf8\\xe9\\xd9\\xbbf;\\xee\\xd6\\xf3\\xac\\xd1{=\\xeb\\xb8{\\xb5\\xb4\\x9b\\xfc\\xfa\\xc9\\x9f-]\\xc15\\xdfn\\xe5<dT\\xb8\\xaa\\xe7\\xb6\\xdb\\xb5\\x0f\\x9f\\x7fm\\xb2\\xe0n\\xdfE>y|Ga\\xd5\\xd5n\\xd37\\xb6c\\x96\\x0b\\xe5;\\xd6,\\xb4\\x1b^\\xe8%\\xedf>|\\xdd\\xe03\\xb8\\xa7\\x0f\\x0e^O\\xb8w\\xff\\x97\\x07/\\x1f?~_\\xbcT\\x1a\\xde\\xf5u\\xb7\\xb1g\\x7fk\\xdd\\x99\\xde{9\\xf6\\x08\\x8f\\x1a\\x0b\\xe5;\\xd6,m\\xb7[\\x8c\\xc1\\x94\\t\\xe1\\xda^\\xd8nm\\xbe\\xf2\\xf0\\xf4eQ#\\x07\\xe8{/\\xf6i\\xb7C\\xee\\xfdr~\\xb5\\x99\\xe5Z\\xf9\\xa6\\xb5I\\xc3\\xedV\\xce@\\xc6\\x83\\x1bx\\xd3n\\x8f>={}\\xfd\\xa2\\xc1\\x87\\x1fO\\xc7\\xae\\xae\\xec??~}\\xf5\\xfc\\xd3A\\xaf\\xb9M>}\\xfb\\xf7\\xe3\\'G\\x9b\\xa4|\\xefE-\\xedf\\xf7\\xc5\\xf6\\xa8\\xfa-\\xb8V\\xdb\\xad<}\\x19\\x0cV\\xa2\\xd5\\xdc\\x97\\x87\\x07\\xd5v\\xed\\xa3/E\\x1b6\\xe4\\xd3\\xeb\\xb7\\xbc\\x1d\\xe9\\x93\\xef\\xad\\xb4\\xcf\\xd7\\xdd&\\xb9\\xe0\\xe6\\xd4,W\\xcc\\xb7\\xae5\\x9ao7\\x19\\tV\\xe5\\xc4\\xddk\\xab\\xed\\x16Z\\xcd=~y\\xfdM\\x0b\\xde\\x1f\\xdf\\xf1\\x1e\\xd9\\xfdU\\x05}S\\xc8y/,\\x84\\xb1e\\xa6/^S4\\xd9n\\xe5\\xa1\\xcb<\\xb0*\\xaf\\xae\\xde}\\xd6j\\xbb\\xf6\\xf3\\xdb\\xb6\\xdb\\xed\\x87\\xf6l\\xce\\x1b\\xe4\\x9aj\\xda\\xcd\\xbc\\xf5\\xc0F\\xdf\\xc5r\\x8a\\xb1h\\xbe{M\\xd1^\\xbb\\xc5q\\x9b2\\t\\xac\\xcd\\xab\\x0f\\xafG\\xbf\\xfa\\xd6X\\xbbY\\x89\\xdc\\xffe\\xe2{6o\\xbd\\x9c\\x9a\\xb8\\xddL\\xdf\\xc0vh\\xac\\xdd\\xca\\xb3\\x961`\\x85&\\xb93\\x8d\\x12\\xb9\\xff\\xcb\\x837O\\x9f\\xfe\\xa8\\x9e\\xa7\\x8fo\\xbd\\x96\\xba\\xef\\xd7\\xdd\\x8av{\\xff\\xf8\\xf6[X.\\xbc3\\x1d,\\x97\\xce\\xf7\\xb0\\x11Zm7\\x19\\x00n\\xec\\xd7g7o\\xcd\\xfdp\\xec\\xbd\\x1dW\\x1f\\xc6oK\\xff\\xfckk\\xef\\xe9\\xbdU\"\\x93\\xdc{\\xf2\\xd8?\\xbel\\xb7QF*o~\\xbbM\\x13\\x0f\\xecRc\\xefL_\\xc5\\x16h\\xa9\\xdd\\xca#\\x96\\xd3\\xc7\\x8d\\xbdn7\\xaf\\xaa\\xeb7\\x85|\\xbd\\xfd\\x9d\\xa4w\\xbc#\\xe4\\xd9\\xbb\\xf8\\xc86<\\xa1Dn\\xbd.YS\\xbbY\\xe7\\x9e\\xf6\\xe4\\xf1\\x0ec\\xf5|\\x1b[\\xa0\\x99v\\x8b\\xc35\\xe5\\xdcq{\\x8bv;\\xdbF_Rx\\xfa\\xe6\\xf1\\x83\\'\\xf7\\xee\\xdd~\\x9d\\xd4\\xfe\\xf3\\x97\\x97\\x8f\\x8b{\\xd5\\x1b\\xabh\\xb7\\xe1\\xe7\\xbb]\\xf2^\\x90Q\\xcb\\x05\\xf4\\x9d\\xac\\x9e6\\xda\\xad<Y9t\\xdc\\xc5\\xcb\\xdb\\xad\\xb9\\'n\\xf8\\xddr\\r}3\\xeb\\xa6\\x81v+\\xcfT\\x8e\\x1b\\xf7\\xf2\\xc2vk\\xf5\\xbb\\xe8\\xd1-\\x97\\xd1\\xf7\\xb3bZj79h\\xdc\\xd1K\\xda\\xad\\xcdo\\xc02\\xfdV\\xafq\\xe4\\xa2.6\\xf6\\xd1\\xf7\\xb3bjo\\xb78JSN\\x19w\\xf4\\xfa\\xf5\\xd0\\x87\\x8f\\xb4\\xbf&}\\xf4\\xf9m\\xc3?\\xb3\\xd7\\xeb\\xa1q\\xe4\\xa2.\\xb6\\\\I\\xdf\\xd2Z\\xa9\\xba\\xdd\\xcas\\x94#\\xc6J\\xfc\\xf6\\xe1\\xdd\\x97W\\xcf\\xad\\xe9>\\x1d\\x94\\x9d\\xfd\\xca\\xf0=\\xf6\\xf2G\\xb0u\\xcb\\xc5\\xf4]\\xad\\x926\\xdaM\\x0e\\x17\\x11\\xf75v\\xd3w\\xb5J\\xeam\\xb78>SN\\x16\\x11\\xf7\\xb5\\\\O\\xdf\\xd8\\xfah\\xa0\\xdd\\xe4X\\x11\\xb1\\x06cC}c\\xeb\\xa3\\xd2v\\x8b\\x833\\xe5L\\x11\\xb1\\x12cI}o+\\xa3\\xc6v\\x8b#3\\xe54\\x11\\xb1\\x1e\\xcbU\\xf5\\xed\\xad\\x89\\xaa\\xdbM\\x8e\\x12\\x11k3\\xb6\\xd5\\xb7\\xb7&\\xaak\\xb78,S\\xce\\x11\\x11k\\xb3\\\\X\\xdf\\xe1j\\xa8\\xb7\\xdd\\xe4\\x10\\x11\\xb1NcgM_\\xe3:\\xa8\\xab\\xdd\\xe2\\x8c\\xe4\\xf8\\x10\\xb1fcs}\\x93\\xeb\\xa0\\xa2v\\x8b\\x032\\xe5\\xec\\x10\\xb1f\\xcb\\xe5\\xf5}\\xae\\x80\\x1a\\xdbM\\x0e\\x0e\\x11\\xeb7\\xf6\\xd7\\xf7\\xb9\\x02ji\\xb78\\x1aSN\\r\\x11\\xeb\\xb7\\\\a\\xdf\\xea\\xbd\\xa9\\xa2\\xdd\\xcas\\x91#C\\xc4V,\\x17\\xd9w{W\\xeaj79,Dl\\xcb\\xd8e\\xdf\\xed]\\xd9\\xbf\\xdd\\xe28L9)Dl\\xcbr\\x9d}\\xc3\\xf7\\xa3\\xa2v\\x93cB\\xc4\\x16\\x8d\\x8d\\xf6\\r\\xdf\\x8f\\x9d\\xdb-\\x0e\\xc2\\x943B\\xc4\\x16-\\x97\\xda\\xf7|\\'ji79 Dl\\xd7\\xd8k\\xdf\\xf3\\x9d\\xd8\\xb3\\xdd\\xe2\\x08L9\\x1dDl\\xd7r\\xb5}\\xdb\\xf7\\xa0\\x8av\\x93\\xa3A\\xc4\\xd6\\x8d\\xed\\xf6m\\xdf\\x83\\xdd\\xda-.\\xde\\x94sA\\xc4\\xd6-\\x17\\xdcw~s\\xf6o79\\x14D\\xcca\\xec\\xb8\\xef\\xfc\\xe6\\xec\\xd3nq\\xd9\\xa6\\x9c\\x08\"\\xe6\\xb0\\\\s\\xdf\\xfcm\\xd9\\xb9\\xdd\\xe48\\x101\\x93\\xb1\\xe9\\xbe\\xf9\\xdb\\xb2C\\xbb\\xc5\\x05\\x9br\\x16\\x88\\x98\\xc9r\\xd9}\\xff7d\\xcfv\\x93\\x83@\\xc4|\\xc6\\xbe\\xfb\\xfeo\\x08\\xed\\x86\\x88+\\x1a\\xfbnz\\x05l\\xc5\\xd6\\xed\\x16\\xd7)G\\x80\\x88Y\\x8d\\xad\\xf7\\x16\\xd8\\n\\xda\\r\\x11\\xd75\\xb6\\xde[`+6m\\xb7\\xb8H\\xb9xD\\xccm\\xec\\xbew\\xc1&\\xd0n\\x88\\xb8\\xba\\xb1\\xfb\\xde\\x05\\x9b\\xb0]\\xbb\\xc5\\xe5\\x99r\\xe5\\x88\\x98\\xdbr\\xfd\\xbd\\x11\\xd6g\\x87v\\x93\\xcbF\\xc4\\x1e\\x8c\\x06\\xf0FX\\x1f\\xda\\r\\x11\\xb70\\x1a\\xc0\\x1ba}6j\\xb7\\xb80\\xb9`D\\xec\\xc7\\xe8\\x01\\xef\\x85\\x95\\xa1\\xdd\\x10q#\\xa3\\x07\\xbc\\x17Vf\\x8bv\\x8bK2\\xe5j\\x11\\xb1\\x1f\\xcb*\\xf0vX\\x93M\\xdbM.\\x15\\x11{3\\xda\\xc0\\xdbaMh7D\\xdc\\xceh\\x03o\\x875Y\\xbd\\xdd\\xe2bL\\xb9ND\\xec\\xd0(\\x04\\xef\\x88\\xd5\\xd8\\xae\\xdd\\xe4\\n\\x11q3\\xbf\\xbd}\\xfd\\xe5\\xd9\\xf3O\\x0f\\x1f}\\xfa\\xeb\\xdf\\xfe,\\xbc\\xfe\\x95g\\xcf\\xbf|\\xb8\\x92\\x8f_\\xd5\\xe8\\x04\\xef\\x88\\xd5\\xa0\\xdd\\xfe}\\xf5\\xe1\\xb5\\x8c|\\xf0\\xd3\\xab\\x8f\\xf2\\x91\\x88my\\xf5\\xe1\\xe3\\xd7g\\x8f$\\xd8\\x87~~K\\xbb\\x9dO\\\\\\x86\\\\^=^]}\\xfc\\xf2P\\x87=H\\xbba\\xd3~{\\xf5|\\xf4\\x9f\\xedC7n73\\x9a\\xc1\\x9bb\\x1dzo\\xb7\\xaf\\xcft\\xd2!\\xed\\x86\\x8dj\\xfff\\x9f\\xf2\\x94-\\xa4\\xdd.!\\xaeA\\xae\\xad\\x12\\xaf\\xde>\\x971\\x97\\xd2n\\xd8\\xa8G\\xfe\\xcd\\x1e\\x95v;\\x9b\\xb8\\x00\\xb9\\xb0J\\x9c\\xfar[H\\xbba\\x8bN\\xff\\x9b\\xfd\\xe8\\xf3\\xabw\\xdf>\\xfcH\\xf5\\xf5W\\xe5\\xec\\xee\\xf5\\xe1\\x0e\\xedfF?x_\\xac@\\xa7\\xedv\\xe4\\xcbm!\\xed\\x86\\xcdyu\\xf5\\xee\\xf3A\\x92\\xaf}\\xf6\\xee\\xdb\\xd5\\x0e\\x15v\\xc4\\xe8\\x07\\xef\\x8b\\x15\\xe8\\xb4\\xdd\\xbe\\xbd\\xba\\xfb\\xab\\x12\\xb4\\x1b6\\xe7x\\xb0\\x1f\\xbe\\xae\\xad\\xda\\xcc\\xe8\\x07\\xef\\x8b\\x15X\\xab\\xdd\\xe2\\xa1\\x9brU\\xbb{\\xf0\\xd4\\xfd\\xd1\\xe7\\xb1/\\xc1\\xd2n\\xd8\\x96\\x13O\\xdc\\x1em\\xfcv\\xb6\\xd3\\x8d\\x8a\\xf0\\xd6X\\x9a\\xd5\\xdbM\\xaegw\\x0f\\x13`-6\\xfa/\\x1e\\xed\\x86m9\\xfe\\x15\\xb7g\\xef\\xe4\\xc3\\xea1Z\\xc2[ci\\xfaj\\xb7\\x91/\\xb7\\xdd\\xcc\\x9ev\\xc3\\x04\\x1e\\x89\\xf1\\xd5\\x87w_\\x9e=\\xfaT\\x84\\xff\\xd3\\xc3\\x9b\\x17\\x19v\\xbdc\\x8d\\x96\\xf0\\xd6X\\x9a\\xbe\\xda\\xed`\\xfc\\xcf\\xbf\\xdeL\\x97v\\xc3\\xd6\\x9dx\\xa1\\xec\\xd1\\xe7\\xb7\\xef>\\x1f{\\x01\\xcd>`\\xb7\\x9cGKxk,\\xcd*\\xed\\x16\\x0fZ.f_\\x0f\\xdf\\x02\\x12/\\x84\\xd3n\\xd8\\xba\\xa7\\xbc\\r`\\xca\\x1d\\xa3\\x1e]\\xe1\\xdd\\xb1(\\xbd\\xb4\\xdb\\xe8\\x97\\xdb\\xe2wi\\xb7-\\xb5`\\xfc\\x8f\\x07\\xff\\xe72\\xe5Sa8\\xf9^\\x90\\xd3\\xdc\\xe5-oft\\x85w\\xc7\\xa2\\xf4\\xd2n\\xfa\\xee\\xed\\xdb\\xaf\\x91\\xd3n\\xeb)\\xf5\\xb4\\x86\\xf27\\xf6\\xe9\\x9d\\xefN\\xbf\\xc3\\x9d\\xde5\\x12]\\xe1\\xdd\\xb1(]\\xb4\\xdbAy\\xe9k\\xe4\\xb4\\xdb\\x82J\\xf5l\\xaf<\\x9eN\\x9c\\xfeQ7\\xef\\xbe}O\\xfb\\xf5\\xf7\\x9fN\\x7fk\\xfd\\xbe\\xdf\\xb1`z},\\xc7\\xf2\\xed\\x16\\x8fU.c/\\x8f|\\xb9-\\xa4\\xddf*\\xfdr\\xa7\\xff\\xeb\\xff\\xfe\\xbf\\xcb\\x94\\xcfs\\xa7\\xf28\\x13;\\xd1n#ov\\x9b\\xfaV\\xad\\xbd\\x02\\x1f\\x8d\\xe1\\r\\xb2\\x1c\\xc9\\xdbm\\xea- \"\\xedv\\x816b\\xa9\\x92Q\\xa5\\x9e\\x16\\xf7\\xc4\\x87!\\x0f>\\x9f\\x13\\xed\\xe6\\xef\\n\\xb8\\xf5\\x91S\\xaf?\\xec\\xf4\\xce\\xb8h\\x0co\\x90\\xe5\\xc8\\xden3\\xbf\\x18\\xf1\\xdd\\xbd\\xbe\\xe6Z\\xa7R\\x1c\\x87J\\x01m\\xa9\\x05O\\x1e\\x8c(\\xd7\\x92\\xc6\\xd3\\x9f\\xbb\\x99\\xa3\\xff\\x9c\\xe7\\xfb\\xd2\\x1b\\xedv\\x92\\xb4\\x9b)5!J\\xcb\\xd4\\xa0<BQ\\xae\\xaeu\\xcf\\xfa6\\xac:\\xdb\\xcd\\xf4\\x12Y\\x88\\x85\\xdb-\\x1e\\xa5\\\\\\xc0^\\xd2n\\xf3\\xb5iJ/\\x84\\xd2&\\xd5z\\xe4\\x12\\xe4b\\xdbu\\xea~s4\\xbaU\\xb5\\x9b\\x19\\xbd\\xe1=\\xb2\\x10\\xb4\\xdbI\\xf6\\xd9n6G\\xe9\\x82P\\xea\\xa3\\x15\\x8f\\\\\\x91\\\\{\\x8b\\x8e\\xfe\\xd0\\xca\\xd1/\\x1f\\x8f\\xffx\\xcb\\xfd\\xbe#5z\\xc3{d!h\\xb7\\x93\\xec\\xad\\xddd\\xf3C)\\x8bv\\x95\\xeb\\n\\xe5\\x1c\\xdar\\xfc\\xc5\\xd0\\x83gdS\\xcf\\xf2v|\\x19-z\\xc3{d!\\x92\\xb7\\xdb\\x89\\xf2\\x9ai(\\xdb>(\\xd5\\x90F\\x0b\\xaa\\\\\\xe9\\xa0\\x9cI+N}\\xbb\\x82\\xfc\\xdb<\\xf1\\x8e\\x90=\\x7fPR\\xf4\\x86\\xf7\\xc8B,\\xd9n\\xf1\\x10My\\xf4\\x95K\\xbb\\x99\\xb2\\xe1\\x83R\\x07)\\xb5\\xb8\\xcaU\\x0f\\xca\\xf94\\xe1\\xc4\\xffQ\\xe1\\xc7\\xb7\\xca\\x7f{;\\xf1n\\xde\\xbd\\x7fPRT\\x87\\xb7\\xc9\\x12\\xac\\xd2n\\xf2\\xb8\\xeb\\xb7\\xf3v\\xb3\\x91\\xc9b\\x9bR\\x01\\xe9\\x1d=\\x049\\xa8\\xfa\\xbd\\xf4\\xbbM\\xf7|\\xe26\\x18\\xed\\xe1m\\xb2\\x04\\xb4\\xdb\\xb5=\\xb7\\x9b\\xec\\xb3)k\\xdf\\x95\\x96^9\\rSN\\xacr\\xa7\\xbe\\x15\\xe1\\x885D=\\xda\\xc3\\xdbd\\th\\xb7k\\xfbl7\\xd9aSV\\xbd[-\\xc3r2\\xa6\\x9c^\\xcd\\xda\\xed\\xa7\\x84\\xf9\\x88\\x95\\xe4<\\xda\\xc3\\xdbd\\th\\xb7k{k7\\x9b\\x91\\xac\\xae)\\x1b\\x8e\\x87\\xa7$\\xc7X\\xb3W\\x1f\\x8e\\xff\\xd0\\xca\\x1b\\x1f>\\xdf\\xfd\\x864\\x8c\\xf6\\xf06Y\\x02\\xda\\xed\\xda\\xae\\xdaM6\\xd6\\x94\\xad\\xde\\xc5\\x91\\x11\\xdc\\xbc\\x95A>l{\\xe5\\xacL9\\xcf\\x9a\\xbd\\xf9\\x81\\xe3\\xcf?=\\xbcu\\xb6\\xd7?s\\xfc\\xd9\\xeb\\xaf\\xd5\\xf4\\xda`\\xb4\\x87\\xb7\\xc9\\x12,\\xd6n\\xf1\\xe0\\xe4AcU\\xca\\xa2\\xca&\\xef\\xe5\\xf8;\\xb0\\xeah7\\xd3R-\\xe7&\\xa7\\x8a\\x8b\\x18\\x1d\\xe2\\x9d2\\x1b\\xda\\xad\\x17m4\\xb2\\xa2\\xb2\\xc3;:\\xfa\\xdc\\xb9\\x9ev\\x1b<<@9a\\x9cit\\x88w\\xcalh\\xb7.\\x94\\xb5\\x94\\xbd\\xdd\\xcbo\\x1f>~}\\xfbz\\xf2\\xcbC\\x95\\xb5\\x9bi\\xf1\\x96\\x93\\x94s\\xc69F\\x87x\\xa7\\xcc\\x86vK\\xaeMD\\x16R6v{O}\\xcbB}\\xed6(\\xe7)\\x07\\x8e\\x17\\x1b\\x1d\\xe2\\x9d2\\x1b\\xda-\\xb36\\x8er\\x0feK\\xf7\\xb2\\xf5v3\\xe5`\\xe5\\xd8\\xf12\\xa3C\\xbcSfC\\xbb\\xa5\\xb5\\\\?S\\xf6sG\\x13\\xb4\\x9biQ\\x97\\x13\\x96\\xf3\\xc7s\\x8d\\x0e\\xf1N\\x99\\r\\xed\\x96SY<\\xd9\\xcc}\\xcd\\xd1n\\x83r\\xce2\\x05<\\xcb\\xe8\\x10\\xd3ke\\x1e\\xcb\\xb4[<&y\\xb8\\xb8\\x8b\\xb2r\\xb2\\x90\\xbb\\x9b\\xa9\\xddL9m\\x99\\x05\\x9ee4\\x897\\xcb<h\\xb7l\\xca\\xb2\\xc9*\\xd6\\xe9\\xf8\\x8f\\xe1k\\xa4\\xddL9s\\x99\\x08\\x9en4\\x897\\xcb<h\\xb7T\\x96;&\\x1bX\\xb3\\xad\\xb7\\x9bi\\xe1/\\x0f_\\xe6\\x82\\'\\x1aM\\xe2\\xcd2\\x0f\\xda-\\x8f\\xe5v\\xc9\\xeeUn\\x82v3-\\xff\\xe5\\x08d:x\\x8a\\xd1$\\xde,\\xf3\\xa0\\xdd\\x92X\\xee\\x95l]\\xfd\\xe6h7\\xd3V\\xa0\\x1c\\x84\\xcc\\x08\\xef4\\x9a\\xc4\\x9be\\x1e\\xb4[\\x06\\xcb\\x8d\\x92}k\\xc24\\xedf\\xda\\x16\\x94\\xe3\\x90I\\xe1q\\xa3I\\xbcY\\xe6A\\xbb5o\\xb9K\\xb2i\\xad\\x98\\xa9\\xddL[\\x84r(2/<b4\\x897\\xcb<h\\xb7\\xb6-\\xb7Hv\\xac!\\x93\\xb5\\x9bi\\xbbP\\x8eF\\xa6\\x86SF\\x93x\\xb3\\xcc\\x83vk\\xd8r\\x7fd\\xbb\\xda2_\\xbb\\x99\\xb6\\x0e\\xe5\\x80dv8j4\\x897\\xcb<h\\xb7V-7G\\xf6\\xaa9S\\xb6\\x9bi\\x1bQ\\x8eI&\\x88\\xa3\\x0eM\\xe2\\xcd2\\x8f\\x05\\xdamx4\\xa6<J\\\\O;\\xedrmd\\xa9\\x9a3k\\xbb\\x99\\xe5\\xa4d\\x888j\\xf4\\x89\\xf7\\xcb\\x0ch\\xb7&\\x8d\\x851e\\x9dZ4q\\xbb\\x99\\xe5\\xb0d\\x8exh\\xf4\\x89\\xf7\\xcb\\x0ch\\xb7\\xf6,\\xb7E\\x16\\xa9Qs\\xb7\\x9b\\xadF92\\x99&\\x8a\\xd1\\'\\xde/3\\xa0\\xdd\\x1a\\xb3\\xdc\\x13\\xd9\\xa2v\\xcd\\xddn\\xa6mG98\\x99)\\x96F\\x9fx\\xbf\\xcc\\x80vkI;\\xe4\\xd8\\x10\\xd9\\x9f\\xa6M\\xdfnf9;\\x19+\\x96F\\x9fx\\xbf\\xcc\\x80vk\\xc9X\\x0fS\\x96\\xa7i{h7\\xb3\\x1c\\x9fL\\x16\\xc3\\xe8\\x13\\xef\\x97\\x19\\xd0n\\xcdX\\xee\\x86\\xacM[\\x9e\\xfa\\xf3\\xdd\\x0em\\xbc\\xeflG\\xca!\\xca|q0\\xfa\\xc4\\xfbe\\x06\\xb4[\\x1b\\x96[!;\\xd3\\x9c\\xdd\\xb6\\x9bikR\\x8eR\\xa6\\x8cf\\xf4\\x89\\xf7\\xcb\\x0ch\\xb76\\x8c}\\x90mi\\xd1\\x9e\\xdb\\xcd\\xb4M\\x89i\\xca\\x94\\xd1\\x8c>\\xf1~\\x99\\x01\\xed\\xd6\\x80\\xb1\\x0c\\xa6\\xacJ\\x8bv\\xdenf9P\\x995F\\x9fx\\xbf\\xcc\\x80v\\xab];\\xd8\\xd8\\x04Y\\x92F\\xa5\\xdd\\xca\\x99\\xca\\xb81\\xfa\\xc4\\xfbe\\x06\\xb4[\\xed\\xc6\\x1a\\x98\\xb2$\\xd8\\xae\\xb6/1V\\x99x\\xe7F\\x9fx\\xbf\\xcc\\x80v\\xab\\xdaX\\x00S\\xd6\\x03\\x9b\\xd6\\xf6\\xa5\\x1c\\xae\\xcc\\xbdg\\xa3O\\xbc_f@\\xbbUm\\xa4_v\\x03\\x13h+\\x13\\xf3\\x95\\xb9\\xf7l\\xf4\\x89\\xf7\\xcb\\x0ch\\xb7z\\x8d\\xe8\\x9b\\xb2\\x18\\x98\\xc3r\\xc42\\xfdn\\x8d>\\xf1~\\x99\\x01\\xedV\\xaf\\x91{Y\\tL\\xa3mMLY\\xa6\\xdf\\xad\\xd1\\'\\xde/3\\xa0\\xdd*5Bo\\xcaJ`&mqb\\xd0\\x92\\x81>\\x8d>\\xf1~\\x99\\x01\\xedV\\xa9\\x91xY\\x06L\\xa6-N\\xccZ2\\xd0\\xa7\\xd1\\'\\xde/3\\xa0\\xddj4\\xe2n\\xca2`>\\xcbqK\\x12:4\\xfa\\xc4\\xfbe\\x06\\xb4[\\x8dF\\xd6e\\r0\\xa5\\xb6;1qIB\\x87F\\x9fx\\xbf\\xcc\\x80v\\xab\\xce\\x08\\xba)k\\x80Y-\\x87.y\\xe8\\xcd\\xe8\\x13\\xef\\x97\\x19\\xd0n\\xd5\\x19)\\x97\\x05\\xc0\\xc4\\xda\\xfa\\xc4\\xdc%\\x0f\\xbd\\x19}\\xe2\\xfd2\\x03\\xda\\xad.#\\xe2\\xa6,\\x00\\xe6\\xb6\\x1c\\xbd\\xa4\\xa2+\\xa3O\\xbc_f@\\xbb\\xd5e\\xe4[\\xa2\\x8f\\xe9\\xb5\\r\\x8a\\xe9K*\\xba2\\xfa\\xc4\\xfbe\\x06\\x0b\\xb4\\x9b1<\\x1ay\\x94x\\xaev\\x86\\x91o\\x89>\\xa6\\xb7\\x9c\\xbe\\x04\\xa3+\\x8721\\xbd\\\\f\\xb0d\\xbb\\x99\\xf2@\\xf1,#\\xdc\\x92{\\xecD\\xdb\\xa0\\xc8\\x80d\\xa3\\x13\\xa3I\\xbcY\\xe6A\\xbbUd$[B\\x8f\\x9dh\\x1b\\x14\\x19\\x90ltb4\\x897\\xcb<h\\xb7Z\\x8cX\\x9b\\x12z\\xec\\xc72\\x06\\x92\\x90\\x1e\\x8c&\\xf1f\\x99\\x07\\xedV\\x8b\\x91i\\x89;v\\xa5-Q$A\\x12\\xd2\\x83\\xd1$\\xde,\\xf3\\xa0\\xddj12-q\\xc7\\xae\\xb4%\\x8a$HBz0\\x9a\\xc4\\x9be\\x1e\\xb4[\\x15F\\xa0M\\x89;\\xf6\\xa6\\xedQ\\x84Ar\\x92\\xdeh\\x12o\\x96y\\xd0nU\\x18i\\x96\\xa0c\\x87\\xda\\x1eE\\x1e$\\'\\xe9\\x8d&\\xf1f\\x99\\x07\\xedV\\x85\\x91f\\t:v\\xa8\\xedQ\\xe4Ar\\x92\\xdeh\\x12o\\x96y\\xd0n\\xfb\\x1bQ6%\\xe8\\xd8\\xa7e$$-\\xb9\\x8d&\\xf1f\\x99\\x07\\xed\\xb6\\xbf\\x91c\\x898v\\xab\\xadR\\xa4B\\xd2\\x92\\xdbh\\x12o\\x96y,\\xd3nF<,y\\xb8x\\xa7\\x91c\\x898v\\xab\\xedQ\\xa4B\\xd2\\x92\\xdb\\xa1C\\xbcSfC\\xbb\\xedo\\xe4X\"\\x8e\\xddj{\\x14\\xa9\\x90\\xb4$6:\\xc4;e6\\xb4\\xdb\\xceF\\x88M\\x898\\xf6l\\x19\\x0c\\xc9LV\\xa3C\\xbcSfC\\xbb\\xedl$X\\xc2\\x8d\\x9dk\\xab\\x14\\xd9\\x90\\xccd5:\\xc4;e6\\xb4\\xdb\\xceF\\x82%\\xdc\\xd8\\xb9\\xb6J\\x91\\r\\xc9LV\\xa3C\\xbcSfC\\xbb\\xedl$X\\xc2\\x8d\\x9dk\\xab\\x14\\xd9\\x90\\xccd5:\\xc4;e6\\xb4\\xdb\\xceF\\x82%\\xdc\\xd8\\xb9\\xb6J\\x91\\r\\xc9LV\\xa3C\\xbcSf\\xb3X\\xbb\\x19\\xf1\\xe0\\xe4A\\xe3\\x94\\x11_I6\\xa2i\\xab\\x14\\t\\x91\\xe4\\xe43\\xda\\xc3\\xdbd\\th\\xb7=\\x8d\\xecJ\\xac\\x11M[\\xa5H\\x88$\\'\\x9f\\xd1\\x1e\\xde&K@\\xbb\\xedidWb\\x8dh\\xda*EB$9\\xf9\\x8c\\xf6\\xf06Y\\x02\\xdamO#\\xbb\\x12kD\\xd3V)\\x12\"\\xc9\\xc9g\\xb4\\x87\\xb7\\xc9\\x12\\xd0n{\\x1a\\xd9\\x95X#\\x9a\\xb6J\\x91\\x10IN>\\xa3=\\xbcM\\x96`\\x95v3\\xe5\\xa1\\xe3\\xa8\\x91]\\x895\\xa2i{\\x14\\t\\x91\\xe4\\xe43\\xaa\\xc3\\xdbd\\t\\x96l7#\\x1e\\xa2<t\\x1c5\\xb2+\\xb1F\\x1c\\x8c\\x84Hr\\x92\\x19\\xbd\\xe1=\\xb2\\x10\\xb4\\xdbn\\xda)Qmx\\xdc\\x08I\\xee\\x82\\x8b\\xde\\xf0\\x1eY\\x08\\xdam7#\\xb5\\x12h\\xc4\\xd0V)r\"\\xf9\\xc9d\\xf4\\x86\\xf7\\xc8B\\xd0n\\xbb\\x19\\xa9\\x95@#\\x86\\xb6J\\x91\\x13\\xc9O&\\xa37\\xbcG\\x16b\\xe1v3\\xe2\\x81\\xca\\x05\\xa0\\x18\\xa9\\x95@#\\x86\\xb6G\\x91\\x13\\xc9O\\x1a\\xa31L/\\x91\\x85\\xa0\\xddv3R+\\x81F\\x0cm\\x8f\"\\'\\x92\\x9f4Fcx\\x83,\\x07\\xed\\xb6\\x9b\\x91Z\\t4\\xee\\xe5\\xb7\\x0f\\xef\\xbe\\xbcz\\xfe\\xf9\\xe1\\xa3O\\x0f\\xff\\xf6\\xe7_\\x0b\\xaf\\x7f\\xe5\\xf9\\xe7W\\xaf\\xbf~\\xb8\\x92?\\xb2\\xb6\\xb6G\\x91\\x13\\xc9O\\x1a\\xa31\\xbcA\\x96\\x83v\\xdb\\xcdH\\xad\\x04\\x1a\\xb7\\xf4\\xea\\xea\\xe3\\xb7\\xb7\\xaf?K\\x9d\\x1d\\xf1\\xe1\\xf3/o?\\xca\\'YO\\xdb\\xa3\\xc8\\x89\\xe4\\'\\x8d\\xd1\\x18\\xde \\xcb\\xb1b\\xbb\\x99r\\x19X\\x1a\\xa9\\x95@o\\xec\\xd5\\x87\\x8f_m\\xbd\\x9f\\xd9\\xd3\\x93G\\xb77yx\\xc2\\xf2\\xee\\xdb\\xe6OX\\xb6\\xf4\\xea\\xc3\\xebO\\xb7\\xae\\xfa$?\\xbd\\xda\\xa8\\xe0l\\x89\"\\'\\x92\\x9f\\x1c\\x96u\\xe1\\r\\xb2\\x1c\\xcb\\xb7\\x9b\\x11\\x0fW\\xae\\x04K#\\xb5\\x12\\xe8m\\xb4\\xe7,_\\xad\\xd1\\x0e\\xf6v\\xd4O\\xcfv\\xb8)\\xdb\\xc6\\xcb\\xda\\xcd\\xdc\\xa6\\xe0l\\x89\"\\'\\x92\\x9f\\x1cFWxw,\\n\\xed\\xb6\\x9b\\x91Z\\t\\xf46^\\xbd}.\\xebz\\x97\\x8f\\xbed,\\xb8\\x8b\\xdb\\xed\\xcf\\xbf>\\xffz\\xb5\\xfa\\x81\\xd8\\x12EN$?9\\x8c\\xae\\xf0\\xeeX\\x14\\xdam7#\\xb5\\x12\\xe8m<\\xbf\\xdd\\xcc\\x84\\x057\\xa3\\xdd\\xfe\\xf6\\xf9-\\xed6\\xd7\\xe8\\n\\xef\\x8eEY\\xa5\\xdd\\x8cx\\xd0r1\\x18Fj%\\xd0\\xdbxQ\\xbb\\xfd\\xed\\xcfg\\xef\\xe4\\xf3\\xb4n\\xd9n\\x9f\\xae_1x\\xf7\\xed\\xc3\\x8f[\\xce\\xab\\x0f\\x1f\\xbf\\xbd}>U\\x7f\\x1b\\xdc\\x9c\\xda\\x06EN$?\\t\\x8c\\x960\\xbd8\\x16\\x85v\\xdb\\xcdH\\xad\\x04z\\x1b/l\\xb7tO\\xdfn\\xda\\xed\\xd1\\xf5\\x8b\\'\\xd3\\xb7\\x99S\\xcf\\xefh\\xb7\\x99FKxk,\\r\\xed\\xb6\\x9b\\x91Z\\t\\xf46\\x16\\xedf\\xbb\\xfd\\xfa\\xeb\\xed\\',_\\x9f\\xc9\\xeb\\xa7?\\xdc\\xec\\xe5\\xc2z\\xbc\\xba\\xfa\\xf8e\\xec-#\\xb4\\xdbL\\xa3%\\xbc5\\x96f\\xf5v3\\xe5\\x92p0R+\\x81\\xde\\xc6\\xebv;\\xfa\\xd6\\xado\\xaf&\\n.\\xdd\\xcd\\xe9\\x9dN\\xb4\\xdb\\x16Ocm}\"\\'\\x92\\x9f\\x04FExk,\\xcdZ\\xedf\\xc4C\\x97K\\xc2\\xc1H\\xad\\x04\\xba\\x12\\xaf\\xae\\xde}\\xd6}\\xbe\\xb1\\xc3v\\x1b\\xbd3}\\xf8\\xfa\\xc8\\xcd\\xecR\\xda\\xfaDN$?\\xad\\x1b\\xfd\\xe0}\\xb1\\x02\\xb4\\xdbnFj%\\xd0\\xf5\\xf8\\xf5\\xd9\\xc1J\\x9b=\\xb5\\xdb7\\xbbI\\x7f5\\xfa\\xaa\\xc2F_\\x7f\\xb4\\xf5\\x89\\x9cH~Z7\\xfa\\xc1\\xfbb\\x05h\\xb7=\\xa5\\xdd*t\\xfc\\xaao\\xf9\\xe8\\xf3V\\xdf\\x8ce\\xebC\\xbb]\\xcc\\x8a\\xedf\\xc4\\x05\\xc8\\x85\\xe1`\\x04W2]\\x83;~)}_\\x8f\\xb7\\xdb\\xa7\\x87\\xcf7\\xfb\\xb6\\x8daw\\xa8\\xb6\\x8b\\xa1\\xdd\\xf6\\xb4\\xeev\\x1b\\xfd\\xba[\\xce\\xefX(=\\xd2n7o\\x88\\xfb\\xb8\\xc1\\x97\\xdb\\x06mq\"!\\x92\\x9c\\xd6\\x8df\\xf0\\xa6X\\x07\\xdamO#\\xbb\\x12\\xeb\\x1a\\x1c\\x7f\\xcdt\\x93/\\xa5\\xef\\xeb\\tw\\xa6\\xf6\\x04\\xf6\\xd8\\xfb\\xe3\\x96\\xd2\\x16\\'\\x12\"\\xc9i\\xddh\\x06o\\x8auX\\xb7\\xdd\\x8c\\xb8\\x0c\\xb9<4#\\xbb\\x12\\xeb\\xdd\\x9dz\\xc1\\xb4\\x877\\xbb\\x9d\\xd2n\\xd7\\xae\\xff\\xf5G\\xdb\\x9aH\\x88$\\xa7i\\xa3\\x13\\xbc#V\\x83v\\xdb\\xd3\\xc8\\xae\\xc4zw\\xc77\\xbc\\x83\\'n\\x87^\\xffH\\xcb\\x89\\xf76\\xaf\\xdd\\xf5\\xb65\\x91\\x10IN\\xd3F\\'xG\\xac\\xc6v\\xedf\\xcaEbdWb\\xbd\\xafS\\xef\\xe3\\xdd\\xe0\\x9b\\xc6\\xabu\\xe2L\\xd6\\xfd1!\\xb62\\x91\\x10IN\\xd3F!xG\\xac\\xc6\\xea\\xedf\\xc4\\xc5\\xc8Ebd\\xd7\\x94d\\xef\\xe5\\xd4\\xf7\\x9fv\\xf8\\rX\\xa5\\x13\\xdfj\\xba\\xe2k,\\xc3\\xcaD<$9\\xed\\x1am\\xe0\\xed\\xb0&\\xb4\\xdb\\xceF|%\\xdc\\xbb8\\xf5\\xed\\xe2\\x1d~\\x7f\\x828u2\\xeb=\\x9f\\xb5}\\x89lHf\\x9a6\\xda\\xc0\\xdbaM6m7S.\\x15#\\xc1\\x12\\xee\\xed\\x9d\\xac\\xb6.\\xbf\\xdc&N<\\xa5]\\xf7\\xb9[dC2\\xd3\\xaee\\x15x;\\xac\\xc9\\x16\\xedf\\xc4%\\xc9\\xd5b$X\\xc2\\xbd\\xb1}V\\xdb\\xf0\\xd2\\xf0\\x9d?W}\\xea\\x8d\\xcd\\xb4\\xdb\\xb9F\\x0fx/\\xac\\x0c\\xed\\xb6\\xb3\\x91`\\t\\xf7\\x96\\xda\\x13\\x93>\\x9f\\xb5\\xdd~\\xe3\\x8b\\xff$\\xa8\\xf2\\x92\\xfd\\xfbL\\xa7\\xfe\\x8fYk\\x9e\\x8f-KdC2\\xd3\\xae\\xd1\\x03\\xde\\x0b+\\xb3Q\\xbb\\x19qar\\xc1\\x9d\\x1b\\t6%\\xdf\\xdb\\xf8m\\xea\\xc7XvpC:\\xf9sPNs\\xbdWZ\\x86M\\x89`Hf\\x1a5\\x1a\\xc0\\x1ba}h\\xb7\\xfd\\x8d\\x10K\\xc47p\\xea\\xcd\\x1f\\x9f\\x9em\\xf1^\\xfc\\xdd\\x9d\\xd7n+\\xbe\\x1d\\xc4\\xd6$R!ii\\xd7h\\x00o\\x84\\xf5\\xd9\\xa1\\xddL\\xb9\\xec\\xce\\x8d\\x1cK\\xc4Wu\\xf8?\\xfe\\x1dl\\xec\\xb5\\xfd\\xbc\\xf9cF\\xbb=Z\\xf5\\xdd\\x7f\\xb6#\\x91\\nIK\\xa3\\x96\\xeb\\xef\\x8d\\xb0>\\xdb\\xb5\\x9b\\x11\\x97\\'W\\xde\\xb9\\x91c\\x89\\xf8zN\\x7f\\x99\\xfcD\\xb7\\xf8\\x9f\\xddm\\xe0\\xa5\\xed\\xb6\\xfa\\x8f\\x12\\xb0\\x1d\\x89THZ\\x1a5v\\xdf\\xbb`\\x13h\\xb7\\xfd\\x8d\\x1c\\x9b\\x92\\xf2\\x95\\x9c\\xf9\\xf5\\xa64\\xedf~{\\xfb\\xfa\\xf39E\\xbf\\xc1=\\xbb-H\\x19\\tIK\\xa3\\xc6\\xee{\\x17l\\xc2\\xa6\\xedf\\xc4E\\xca\\xc5wnDY\\x82\\xbe\\x92\\xb4\\x9bhOf\\xbf\\xbd}\\xf7\\xe5\\xd9\\xf3O\\x0f\\x1f\\x1d\\xbeBz\\xfd\\x8b\\xcf\\xb6\\xfb\\xd9G\\xb6\\x1d\\x91\\x07\\xc9I\\xa3\\xc6\\xd6\\x9b^\\x04\\x9b@\\xbbUa\\xa4Y\\x82\\xbe\\x92\\xb4[\\xcd\\xdavD\\x1e$\\'\\x8d\\x1a[\\xef-\\xb0\\x15\\xbb\\xb5\\x9b)G\\xd0\\xb3\\x91f;\\x16\\xc9\\xfa\\x1a\\xd2n\\xd5:\\xacF\\xe4Ar\\xd2\\xa2\\xc3\\x15\\rz\\x0bl\\xc5\\xd6\\xedf\\xc4\\xa5\\xca)tn\\x04Z\\xe2\\x8e]i{\\x11I\\x90\\x844j\\xec\\xbb\\xef\\xff\\x86\\xec\\xd9n\\xa6\\x1cD\\xcfF\\xa6%\\xee\\xd8\\x95\\xb6\\x14\\x91\\x04IH\\x8b\\x96\\xcb\\xee\\xfb\\xbf!;\\xb4\\x9b\\x11\\x17,g\\xd1\\xb3\\x91iS\\x12\\x8f\\x9dh\\x1bQ\\xc6@\\x12\\xd2\\xa2\\xb1\\xe9\\xbe\\xf9\\xdb\\xb2s\\xbb\\x99r\\x1c=\\x1b\\xb1\\x96\\xd0c\\'\\xda:D\\x06$\\x1b-Z\\xae\\xb9o\\xfe\\xb6\\xec\\xd3nF\\\\\\xb6\\x9cH\\xcfF\\xb2\\xedX$\\xf7\\xd8\\x836\\xf7\\xc8\\x80d\\xa3Ec\\xc7}\\xe77g\\xffv3\\xe5Pz6\\xc2-\\xb9\\xc7\\xf4\\xda\"\\xc4\\xf4M\\tFs\\x96\\x0b\\xee;\\xbf9\\xbb\\xb5\\x9b\\x11\\x17/\\xe7\\xd2\\xb3\\x11n\\x89>\\xa6\\xd7\\x16!\\xa6/\\xa9h\\xd1\\xd8n\\xdf\\xf6=\\xa8\\xa2\\xddL9\\x9an\\x8d|\\x9b\\x92~L\\xec\\xb0\\x051zIEs\\xc6^\\x9b\\xbe\\xed{\\xb0g\\xbb\\x19q\\x04r:=\\x1b\\x11\\x97\\x05\\xc0\\xc4\\xda\\n\\xc4\\xdc%\\x0f-\\x1a{\\xed{\\xbe\\x13\\xb5\\xb4\\x9b)\\x07\\xd4\\xad\\x91rSv\\x00S:\\xe4?\\x86.yh\\xce\\xd8h\\xd3\\xf7|\\'vn7#\\x0eB\\xce\\xa8g#\\xe8\\xb2\\x06\\x98R\\x0b\\x7fL\\\\\\x92\\xd0\\xa2\\xb1\\xd1\\xbe\\xe1\\xfbQQ\\xbb\\x99rL\\xdd\\x1aY7e\\x130\\x99C\\xf2c\\xdc\\x92\\x84\\xe6\\x8c]6}\\xc3\\xf7c\\xffv3\\xe28\\xe4\\xa4z6\\xe2.\\xcb\\x80\\xc9\\xb4\\xd8\\xc7\\xac%\\x03-\\x1a\\xbb\\xec\\xbb\\xbd+u\\xb5\\x9b)\\x87\\xd5\\xad\\x91xS\\xf6\\x01\\xd38d>\\x06-\\x19h\\xce\\xd8b\\xd3w{W\\xaah7\\xa3<\\x179\\xb2n\\x8d\\xd0\\xcbJ`\\x1a-\\xed1e\\x99~\\x8b\\xc6\\n\\xfbV\\xefM-\\xedf\\xc4\\xd1\\xc8\\x91uk\\xe4\\xde\\x94\\xad\\xc0\\x04Z\\xd4\\xcb\\x11\\xcb\\xf4\\x9b3\\xf6\\xd7\\xf7\\xb9\\x02jl7S\\x0e\\xae[#\\xfav&\\xb2\\x1b\\xd8\\xb4C\\xcec\\xbe2\\xf7\\xe6\\x1c.g\\xd0\\xf7\\xb9\\x02*j7#\\x0eH\\xce\\xae[#\\xfd\\xa6\\xac\\xc7\\x8e\\xbex\\xfd\\xe2\\x1f?\\xff\\xfd\\xa7\\xbf\\xfc\\xe0\\'\\xfb\\xcf\\xdf^\\xfc\\xfa\\xfa\\xbf?>\\xec\\xf5?\\xfd\\xf7\\xa6\\xf8\\xf9\\xc5\\x8b\\xff\\xfb\\xc7?\\xfc?\\xee\\xe4\\x9f\\xbf\\xc7g\\x9e\\xf6\\xc5\\xbf\\xfe\\xee\\x1f~\\xc3O\\xff*\\x1eOeZ\\xc8\\xcb\\xe1\\xca\\xdc\\x9b36\\xd77\\xb9\\x0e*m7S\\x8e\\xaf[c\\x01\\xecLdCv\\xf0?\\x7f\\xfc\\xe3g\\xef\\x8eq\\xae;\\xeb\\xe6#wh\\xb7\\xff\\xfe*\\x8f-\\x1eLe\\x0e\\t\\x8f\\xc9\\xca\\xc4\\x9bs\\xb8\\x9cA\\xdf\\xe4:\\xa8\\xab\\xdd\\x8c\\xf2\\xa4\\xe4\\x10\\xbb5\\xd6@\\x96dk\\xff\\xf3\\xa2|\\xbe6\\xce\\x8e\\xed6\\xf2\\xf0\\xfe\\xfe\\xeb\\x7f\\x0e>\\xac\\x02-\\xdb1SS\\xc6\\xdd\\x96\\xe5\\xc2\\xfa\\x0eWCu\\xedf\\xc4a\\xc99vk\\xb9\\t\\xb2\\'[\\xfa\\xfbo\\xde\\x197\\xfc\\xbd\\xb8\\x0f\\xfd\\xef\\xcd\\xbd\\xea\\xcd/\\x8f\\xb6\\xdb\\xa9\\xcf\\xa1\\xca\\xb2;\\xbb\\x98\\xe4\\xb6t\\xa0\\xc2\\x9bS\\x0bv9P\\x99us\\xc6\\xb6\\xfa\\xf6\\xd6D\\xd5\\xedf\\xcaQvk,\\x83\\x9d\\x89l\\xcbV\\xdez\\x9e\\xf5\\x8f\\xd7\\xf2\\xbb\\xd7Z\\xc7\\xfd\\xb4[\\xbb\\x1d\\xdc\\x96\\x0e\\x9c\\xfaWo\\xe4\\x90\\xea\\x98\\xa6L\\xb99\\x87\\xcb\\x19\\xf4\\xed\\xad\\x89\\x1a\\xdb\\xcd(OM\\x0e\\xb4Oc\\x1fL;\\x13\\xd9\\x99M\\xbc}\\x17\\xf9\\xdb\\x1fw\\xb4\\xc6\\xc6\\xedV\\xde\\x96\\xfe\\xf6\\xe2\\xd7\\x1fO3\\xeb\\xba9\\xb5\\xd9\\x95\\xa3\\x94)7g,\\xa9\\xefmeT\\xdanF\\x1c\\x9c\\x1ch\\xb7\\x96[!;\\xb3\\x89#O\\x8e~\\xfa\\xf9\\x9f\\xbf\\xfe\\xeb\\x8f\\xdf\\xff3v\\xf7w\\xd7\\xd7\\xdd\\xc6\\x9e\\xfd]\\xden\\xe5m\\xe9\\xf5g.\\xfe\\xf6znN-\\xcc\\xe5\\x10e\\xbe\\xcd\\x19\\x1b\\xea\\x1b[\\x1f\\r\\xb4\\x9b)\\xc7\\xda\\xad\\xe5n\\xc8\\xe6l\\xe0\\xe8\\x17\\xb6\\x82\\x9f~{\\xf1{\\xd9G\\x9b\\xb6[\\xd9\\xbc\\xc3\\xeb\\x0f\\xc5\\xa7\\xaa\\xe3\\xe6tHr\\x8cO&\\xdb\\x9c\\xb1\\x9b\\xa6ol}\\xd4\\xdbnF\\x1c\\x9f\\x9cl\\xcf\\xc6z\\xd8\\xb1\\xc8\\xfel\\xe0\\xef\\xbf\\x1d+8\\xab\\xa4\\x1f\\x9d\\xb5e\\xbb\\x95\\xb7\\xa5\\xdeee\\xdf\\xed\\x7fs:\\xc48fg\\xcaX\\x9bs\\xb8\"\\xd3w\\xb5J\\xdah7S\\x0e\\xb7[\\xcb\\r\\xb1c\\x91-\\xda\\xc0\\x17\\xd7oy;\\xd2q\\xdf\\xabd\\xc3\\xaf\\xbb\\x95O*\\xe3>t\\xf4\\x17wq\\x08p98\\x99is\\x0eW4\\xe8\\xbbZ%U\\xb7\\x9bQ\\x9e\\xa3\\x1cq\\xb7\\x96{\"\\x8b\\xb4\\xa5Vs\\xbf\\xff\\xeb\\xfa\\x9b\\x16\\xbcB\\xbe\\xe3U\\xb2]\\xbbM\\xbcZZ\\xb2\\xeb\\xcd\\xa9E\\xb7\\x1c\\x99L\\xb39\\xcb\\x95\\xf4-\\xad\\x95\\xda\\xdb\\xcd\\x88\\xa3\\x94S\\xee\\xd9r[d\\x97v\\xd0\\x9e\\xcdy\\x8b\\\\\\xb3u\\xbb\\x9d\\xf2\\x1e\\xe3\\xfdnN-\\xb7\\xe5\\xb0d\\x8e-\\x1a\\xfb\\xe8\\xfbY1-\\xb5\\x9b)\\x07\\xdd\\xb3\\xb10v,\\xb2Q\\xabh%\\xf2\\xf3?o\\xbdn\\xf0\\xc3[\\xcf\\x9e6n\\xb7\\xe3\\xafu\\x04\\xbb\\xdc\\x9c\\x0e\\xa1\\x8dI\\x992\\xc4\\xe6\\x1c\\xaeh\\xd0\\xf7\\xb3b\\x1ah7\\xa3<S9\\xeen-w\\xc6\\x8eE\\xf6jy\\xe3)\\xd2\\xcf\\xff\\xfc\\xf5\\xf5\\x7f_\\xfc\\xa8\\x9e\\xff\\xfe~\\xab_\\xbe\\xb7\\xd2F\\xedv\\xabX\\xf5\\x95\\x8aK\\x1e\\xc3b\\x0eq-\\xc7$\\x13l\\xce\\xe1\\x8a\\x06}3\\xeb\\xa6\\x8dv3\\xca\\x93\\x95C\\xef\\xd6rs\\xecXd\\xbb\\x16\\xf6\\xa4\\x1b\\xc0\\xbf\\xfc\\xf4\\xdb\\x1f\\xfe\\xf1e\\xb3\\x8c2R7\\xe7\\xb7\\xdb\\xadGu\\xf8\\xbd\\xa8\\x17\\xdd\\xea.\\xe1\\x10\\xd4r@2\\xbb\\xe6\\x1c\\xaeh\\xd0w\\xb2z\\x9ai7\\xa3<_9\\xfan-\\xf7\\xc7\\x8eEvlIOh\\xb7[w\\x7f\\x9b\\xb4\\xdb\\xad\\xdb\\xd2(\\xd6\\xc2\\xf2{c7\\xbb9\\x1d\"Z\\x8eF\\xa6\\xd6\\xa2\\xc3E\\x99\\xbe\\x8d-@\\xbb5o\\xb9Ev2\\xb2i\\xcb\\xfa\\xe2\\xf5\\x1f\\xbf\\xfe\\xf6\\xf7\\x9fn\\xbfNj\\xff\\xf9\\x8f\\x7f\\xfdQ\\xdc\\xab\\xde\\xb8E\\xbb\\x1d\\xbd-\\x1d\\xdc\\xfc\\xe6t\\xc8g9\\x14\\x99W\\x8b\\x0e\\x175\\xe8\\xdb\\xd8\\x02-\\xb5\\x9bQ\\x9e\\xb2\\x0c\\xa0g\\xcb]\\xb2\\x93\\x91}\\xc3\\xcd\\x1c\\x92Y\\x8eC&\\xd5\\xa2\\xc3E\\r\\xfa\\x1e6Bc\\xedf\\x94g-c\\xe8\\xd9r\\xa3\\xecdd\\xebp\\x03\\x87L\\x96\\x83\\x90\\x19\\xb5\\xe8pQ\\x83\\xbe\\x81\\xed\\xd0^\\xbb\\x19\\xe5\\x89\\xcb0z\\xb6\\xdc+;\\x19\\xd9\\xbd\\x99\\xfa\\xcd]\\xe3\\xc8E-\\xe8\\x90\\xc6r\\x042\\x9dF\\x1d\\xae\\xcb\\xf4\\xddk\\x8a&\\xdb\\xcd\\x88C\\x97atn\\xb9]v8\\xb2\\x81s\\xf4zh\\x1c\\xb9\\xa8\\xa5\\x1c\\xa2X\\x1e\\xbe\\xcc\\xa5Q\\x87\\xeb\\x1a\\xf4\\xc5k\\x8a\\xe6\\xdb\\xcd\\x94\\x91tn\\xb9c\\xa6\\xec!.\\xee\\x10\\xc2\\xf2\\xcce\"\\x8d\\x1a\\xfbe\\xfa\\xd6\\xb5F\\xab\\xedf\\x94\\xa7/\\x83\\xe9\\xdcr\\xd3L\\xd9F\\\\P\\xcb\\x9e\\x9c\\xb6\\xcc\\xa2Q\\xcb\\xe5\\xf2}k\\x90\\x86\\xdb\\xcd(g \\xe3\\xe9\\\\Y9;\\x1fYK\\x9c\\xe9\\x90:9g\\x99B\\xbb\\x0eWg\\xfa\\xa6\\xb5I\\xdb\\xedf\\xc4\\x18d<(\\x8bgG$\\xfb\\x89\\x17;DNNX\\xce\\xbf]\\x87\\xab\\x1b\\xf45k\\x93<\\xedf\\xca\\x90P\\xd6\\xcf\\x8eH\\xb6\\x14/p\\x08[y\\xb0r\\xecM;\\\\\\xdd\\xa0\\xefX\\xb34\\xdfnF9\\x0f\\x19\\x15\\x9a\\xe5\\x1e\\x9avJ\\xb2\\xaex\\xa2C\\xc6\\xe4<\\xe5\\xb4\\x9bv\\xb8\\xc0A\\xdf\\xae\\x96\\xc9\\xd0nF9\\x15\\x19\\x18\\x9a\\xb2\\x90vJ\\xb2\\xb7x\\xa7C\\xba\\xe4$\\xe5\\x9c\\x9bv\\xb8\\xc0A\\xdf\\xab\\xc6I\\xd2nF9\\x1b\\x19\\x1b\\x9a\\xb2\\x96\\xc3A\\xc9\\x02\\xe3\\xa8\\x91+9C9\\xe1\\xa6\\x8dk4}\\xa3\\xda\\'O\\xbb\\x19\\xe5\\x84dx8(\\xfbi\\x07%\\x9b\\x8c\\xe2\\x10\\'979\\xd5\\xd6\\x1d\\xaeq\\xd0w)\\x05\\xa9\\xda\\xcd(\\xe7$#\\xc4AYT\\xd3\\xceJV\\x1a\\xcd!ErV\\xa6\\x9cg\\xeb\\x0e\\x979\\xe8[\\x94\\x85l\\xedf\\x94\\xd3\\x92Ab(\\x1b;\\x1c\\x97\\xacw\\xb7F~\\xe4\\x94L9\\xc6\\xd6\\x8d+5}\\x7f\\x12\\x91\\xb0\\xdd\\x8crf2N\\x0ceoM;.\\xd9\\xf3\\x0e\\x1db#\\'c\\xca\\xe9%p\\xb8\\xd2A\\xdf\\x9c\\\\\\xe4l7\\xa3\\x9c\\x9c\\x0c\\x15Ke\\x87\\xcd\\xe1\\xd0d\\xe7{p\\xb8p9\\rSN,\\x87\\xc3\\xc5\\x0e\\xfa\\xce\\xa4#m\\xbb\\x19\\xe5\\xfcd\\xb4(\\xca>\\x9b\\xc3\\xb9\\xc9\\xfe\\xa74B\"\\'0(\\x07\\x95\\xc3\\xb8d\\xd3\\xb7%#\\x99\\xdb\\xcd(\\xa7(\\x03FQ\\xb6zp8:\\xa9\\x834F6\\xe4\\xaa\\x07\\xe5|\\xd2\\x18W=\\xe8\\xab\\x92\\x91\\x8e\\xda\\xcd\\x941\\xe3\\xa1\\xb2\\xe1\\x83\\xc3\\xe9I54mDB\\xaetP\\xce$\\x99q\\xed\\xa6\\xefIR\\x92\\xb7\\x9bQ\\xce\\xd2\\x94I\\xe3\\xa8\\xb2\\xed\\xe1p\\x86\\xd2\\x14\\r\\x191\\x90\\xeb\\n\\xe5\\x1c\\x92\\x19\\x97?\\xe8\\x1b\\x92\\x97\\xfc\\xedf\\xc8Pe\\xe48\\xa5l~\\x18\\')\\xddQ\\xad\\xf1\\x80M\\xb9\\x96P\\xae=\\x9f\\xe5!\\x98\\xbe\\x1b\\xa9\\xe9\\xa2\\xdd\\x0c\\x19\\xad\\x0c\\x1e\\x8f+E\\x10\\xc6yJ\\x9bTb<<S\\x1ey\\xa9\\\\lJ\\xcb\\xa30}+\\xb2\\xd3K\\xbb\\r\\x94\\x03\\x96\\xf1\\xe3\\x9dJ)\\x94\\x96\\x07+\\x15\\xb3\\xb1\\xe5#1\\xe5q\\x96\\xca\\xd5%V\\xce\\xc4\\x97\\xa1\\x03\\xfaj7\\xa3\\x1c\\xb3\\x84\\x00OTjB,O\\xd8\\x94\\xf6Y\\\\\\xf9\\xebLy<\\xa2\\\\Kz\\xcb\\x93\\xf1\\x1d\\xe8\\x86\\xee\\xda\\xcd(\\xe7-Q\\xc0\\xb3\\x94\\xe2\\x18\\xb5<\\xedA\\xa9\\xa7\\xb3\\x94O5(\\x7f\\xe3\\xa8\\xf2\\xc8;\\xb1<%O\\x7fO\\xf4\\xd8nF9u\\t\\x04^\\xa0T\\xc9\\x9d\\x96\\xe7\\x7f\\xae\\xf2\\xa9\\x8e+\\x8f\\xb3+\\xcbC\\xf3\\xdcwF\\xa7\\xedf\\x94\\xb37%\\x19x\\xb1\\xd2/\\xdb+\\x8f\\xa7O\\xcbl{\\xe2\\xfb\\xa3\\xdfv3\\xca\\x04\\x98\\x92\\x0f\\\\D\\xa9\\x9e5\\x94\\xbf\\xb1s%\\xd5\\x9e\\xf5.\\xe9\\xba\\xdd\\x0c\\x89\\x82\\x04\\x05WR\\xea\\xe9,\\xe5Sa\\xa9\\xe4\\xd9S\\xde+\\xbd\\xb7\\x9b!\\x81\\x90\\xb8 \\xb6\\xa2$\\xd9\\xf3\\xdd1\\xb4\\xdb5\\x12\\x0b\\t\\rb\\xfdJ\\x86=\\xd9}C\\xbb\\xfd\\xa0\\x0c\\x87D\\x07\\xb1f\\xcb\\xe8z\\x9a\\x81v\\x13\\xca\\x94\\x98\\x92!\\xc4\\xda\\x94\\xc4z\\x8e\\xe1\\x06\\xdaM\\x91\\xb8H\\x98\\x10\\xebQ\\xb2\\xea\\t\\x86\\xef\\xd0n#HhLI\\x15\\xe2\\xeeJD=\\xbbP@\\xbbM\"\\xe9\\x91l!\\xee\\xa5$\\xd3\\xf3\\n\\x07\\xd0n\\xc7\\x90\\x18I\\xc8\\x10\\xb7W2\\xe9I\\x851h\\xb7;\\x900\\x99\\x926\\xc4\\xcd\\x94(zFa\\x02\\xda\\xed$$U\\x929\\xc4\\xb5\\x95\\x04z.\\xe1(\\xb4\\xdb\\xa9H\\xbc$|\\x88\\xeb)\\xd9\\xf3D\\xc2]\\xd0n\\xe7!9\\x93\\x14\".\\xab\\xe4\\xcd\\xf4 \\xc2\\t\\xd0ng#i\\x938\".\\xa5$\\xcd\\xf3\\x07\\'C\\xbb]\\x82\\xc4\\xce\\x94\\\\\"\\xceQ\\xd2ez\\xf2\\xe0\\x1ch\\xb7\\xcb\\x91\\xfc\\x99\\x92Q\\xc4s\\x95D\\x99\\x9e68\\x1f\\xdam\\x16\\x12DS\\xc2\\x8ax\\xba\\x92%\\xd3s\\x06\\x17A\\xbb-\\x80$\\xd2\\x94\\xd4\"\\x1eW\\xf2cz\\xb6`\\x06\\xb4\\xdbbH:MI0\\xe2\\xa1\\x92\\x19\\xd3\\xf3\\x04\\xb3\\xa1\\xdd\\x16F\\x92*QF,\\x95\\xb4\\x98\\x1e#X\\x02\\xdamy$\\xaf\\xa6d\\x1aQ\\x12bzz`9h\\xb7\\xb5\\x90\\xec\\x9a\\x92o\\xecSI\\x85\\xe9\\x89\\x81\\xa5\\xa1\\xdd\\xd6ErlJ\\xd6\\xb1\\x1f%\\t\\x83\\x1e\\x14X\\x01\\xdamu$\\xcd\\x83\\x92{\\xcc\\xadL\\x7f\\xd0\\xf3\\x01\\xabA\\xbbm\\x84${Pv\\x00\\xf3)\\x13\\x1f\\xf4L\\xc0\\xca\\xd0n\\x9b\")\\x1f\\x94}\\xc0\\x1c\\xca\\x94\\x07=\\x07\\xb0\\t\\xb4\\xdb\\x0eH\\xe2\\x07e7\\xb0]e\\xb2\\x83>{\\xd8\\x10\\xdam7$\\xfd\\x83\\xb2\\'\\xd8\\x962\\xcdA\\x9f7l\\x0e\\xed\\xb63\\xb2\\t\\x83\\xb23X\\xbf2\\xc1A\\x9f1\\xec\\x04\\xedV\\x05\\xb2\\x15\\xa1\\xac\\x10\\xd6\\xa6\\xcc+\\xf4\\xb9\\xc2\\xae\\xd0nu!K\\x12\\xcaR\\xe1\\xee\\xca\\x80\\x06}\\x8aP\\x07\\xb4[\\x8d\\xc8\\xce\\x84\\xb2`\\xb8\\xbd2\\x91\\xd0\\'\\x075A\\xbb\\xd5\\x8b\\xecO\\xa9\\xac\\x1c\\xae\\xad\\x9c\\x7f\\xa9O\\x0b\\xea\\x83vk\\x00Y\\xa7RYB\\\\V9\\xedR\\x9f\\rT\\x0c\\xed\\xd6\\x12\\xb2`\\xa5\\xb2\\x968G9\\xdbR\\x9f\\x04\\xb4\\x00\\xed\\xd6\\x1e\\xb2o\\xa2,*\\x9e\\xae\\x9c\\xa4\\xe8\\xa7\\x0f\\xed@\\xbb5\\x8c\\xac\\xdf\\xa1\\xb2\\xbdx\\xa8\\x9c\\xd8\\xa1~\\xd6\\xd0 \\xb4[\\x06d!\\x0f\\x95\\x95F9\\x9fC\\xfdd\\xa1eh\\xb7l\\xc8\\x96\\x8e*\\xab\\xde\\x83r\\x02\\xa3\\xfa\\tB\\x16h\\xb7\\xb4\\xc8\\xeaN)-\\x90I\\xb9\\xd2)\\xfd\\xbc \\x1d\\xb4[\\x17\\xc8>\\x1fW:\\xa2\\x15\\xe5*\\x8e\\xeb\\xe7\\x02\\xa9\\xa1\\xddzDV\\xfd\\x14\\xa5J\\xf6U\\x1e\\xdb\\x89\\xfa\\xc5C7\\xd0n\\xbd#\\x15p\\x99\\xd2>\\xf3\\x95\\xcf\\x7f\\x99~\\x85\\xd0+\\xb4\\x1b(\\xd2\\x11\\xad\\xe8\\x8f\\x1e\\xe0;\\xb4\\x1b\\x9c\\x84T\\xc9\\xbe\\xfac\\x028\\n\\xed\\x06\\xcb \\x054G\\xff\\x8c\\x00\\xf3\\xa0\\xdd\\x00 \\'\\xb4\\x1b\\x00\\xe4\\x84v\\x03\\x80\\x9c\\xd0n\\x00\\x90\\x13\\xda\\r\\x00rB\\xbb\\x01@Nh7\\x00\\xc8\\t\\xed\\x06\\x009\\xa1\\xdd\\x00 \\'\\xb4\\x1b\\x00\\xe4\\x84v\\x03\\x80\\x9c\\xd0n\\x00\\x90\\x13\\xda\\r\\x00rB\\xbb\\x01@Nh7\\x00\\xc8\\t\\xed\\x06\\x009\\xa1\\xdd\\x00 \\'\\xb4\\x1b\\x00\\xe4\\x84v\\x03\\x80\\x9c\\xd0n\\x00\\x90\\x13\\xda\\r\\x00rB\\xbb\\x01@Nh7\\x00\\xc8\\t\\xed\\x06\\x009\\xa1\\xdd\\x00 \\'\\xb4\\x1b\\x00\\xe4\\x84v\\x03\\x80\\x9c\\xd0n\\x00\\x90\\x13\\xda\\rn\\xf1\\xfe\\xe5\\xfd\\xbf\\x8cs\\xff\\xe5{\\xff\\x98fx\\xf3\\xc4\\x1f\\xfbi\\xdc\\xbf\\xe6\\xc9\\xcb\\x97o\\x9a\\xbbP\\x18\\x85v\\x83\\x82\\xe9nk\\xb1\\xdd\\xce,\\xb7\\x12+9*\\xaeyh7\\x08\\x8eu[\\x83\\xed6\\xa3\\xdcnh\\xf0\\xc9*\\xdc\\x82v\\x03\\xe7x\\xb7m\\xbf\\xec\\xfe\\xd7~\\xc7\\x7f\\xf5t\\xe6\\x96\\x9b\\xf1\\xe4\\x8d\\x7f.h\\x12\\xda\\rn\\xb8\\xab\\xdb\\xd6k7\\xff\\xf4w\\xe1\\x1f}2\\x0b\\x94\\x1b\\xcf\\xde\\x1a\\x87v\\x03\\xe3\\xeen[p\\xd5\\xfd\\xf3\\x9d\\x89\\xff\\xe1SY\\xa2\\xdcx\\xee\\xd68\\xb4\\x1b\\x9c\\xd4m\\x17\\xb7\\x9b\\xff\\xe9i\\xfc\\xe3\\x96e\\xa2\\xdc\\x0e\\xae\\xe1\\xfd\\x9b#\\xd7\\xceS\\xb7\\xc6\\xa1\\xdd\\xba\\xe7\\xd4g9g\\xef\\xba\\xff\\xb91\\xfc#V\\xe3\\xd4r\\xbbf\\xb2\\xdb)\\xb7\\xd6\\xa1\\xdd:\\xe7\\xf4;\\xb83\\x96\\xdd\\xff\\xc4m\\xfc\\xf7\\xb6\\xe0\\x9cr\\x9bl7nK\\x9b\\x87v\\xeb\\x9a\\xd1\\x1a\\xb8\\xff\\xe4\\xc9\\xd8\\xbe\\x9f\\xdan\\xfe\\xe1\\x05\\xfe\\x1b\\x9b\\xb1D\\xb9\\xf1\\xc4-\\x01\\xb4[\\xc7\\x8cw\\xdb\\xcb\\xf7\\xe3\\x0b\\x7f\\xd2\\xbe\\xfb\\xc7~\\xc7\\x7fu[\\xce)\\xb7\\x89n\\xe3y[\\nh\\xb7n\\x99\\xea\\xb6\\xa9\\x95\\xbf\\xbb\\xdd\\xfc\\x03o\\xf0_\\xda\\x81\\xd3\\xca\\xed\\xfd\\xfb7/G\\x9f\\xa2\\xdaSW\\xbe\\x13+\\t\\xb4[\\xa7Lw\\xdbT?\\xdc\\xd1n\\xfeQ{\\xf6\\xda\\r\\x13\\xe5v\\x1a4[*h\\xb7.\\x19\\xaf\\x80\\xef\\xf7c-\\xb7\\xdb\\xa5\\xe5\\xc67\\x96&\\x84v\\xeb\\x90\\xe3\\xdd\\xd6t\\xbb]Zn\\x03Vq<wK\\x04\\xed\\xd6\\x1dwu\\xdb\\x85\\xedf\\xf8\\x07\\xeeXp\\xf3\\xcam\\x80W\\x14\\xd2@\\xbbu\\xc6\\xdd\\xdd\\xb6@\\xbb\\x19\\xfeK\\xdb\\xb2D\\xb9\\x19\\xf4[\\x12h\\xb7\\xae8\\xa5\\xdbf\\xbd\\x03\\xcc?\\xf6;\\xfe\\xab\\x1b1Qnc\\x0f|\\xfa%\\xd3k\\xa8\\xb7\\x1c\\xd0n\\x1dqR\\xb7\\xcdk7\\xc3?\\xfc;\\xfe\\xab\\x1bpF\\xb9\\rL\\\\\\xe8\\xe9\\x97\\nuC\\xbbu\\xc3\\xdc\\xdb\\xb6\\xb3W\\xde\\xff\\xdc\\x01\\xfe\\xdbKsv\\xb9M\\x1f\\t\\xcf\\xddr@\\xbbu\\xc2\\xdcn\\xbb\\xf8\\t\\x8d\\xff\\xe9i\\xfc\\xe3\\xe6rA\\xb9M=w\\xe3\\xa9[\\x12h\\xb7.\\x98\\xdfm3w\\xde?\\xc7\\xc9\\xf8\\x1f;\\x1d\\xca\\r\\x0e\\xa0\\xdd:`\\x89n[p\\xe9\\xfd\\xf3\\x9d\\x89\\xff\\xe1\\t.(\\xb7\\xa9S\\xa1\\xdc\\xd2@\\xbb\\xa5g\\x99n[i\\xeb\\xfds\\x9f\\x80\\xff\\x81q&\\xaeq\\xf2\\xebg\\xef\\xdfL\\xbe`\\xca\\xd7\\xdc\\xf2@\\xbb%g\\xa9n\\xdb\\xf89\\x8d\\xff\\x9d\\x05\\xfe\\x1bcL\\xddb\\x1e\\x16\\xd5\\xfb\\xe3\\xef\\x04\\xa1\\xdbrA\\xbb\\xa5f\\xbc\\xdb\\xee\\xe8\\xa9\\x89B\\xac\\xf6\\x8em\\xf2\\x8d\\x1dgC\\xb7\\xe5\\x82v\\xcb\\xcb\\xc4\\xd6\\xdf\\xd9R\\x8d\\xb5\\xdbR\\xe5F\\xb5\\xa5\\x83v\\xcb\\xca\\xa5\\xdd6\\xd9\\x16\\x95\\xb6\\xdb\"\\xe5V\\xed\\xf3R\\x98\\x03\\xed\\x96\\x93\\xa9\\x9d?\\xe1\\t\\xca%\\xed\\xe6\\x1f\\xb2&\\xfe7)\\xb3\\xcb\\x8d\\x1f\\xe9\\x96\\x17\\xda-#3\\xba\\xad\\xb1v\\x9bSn\\xfc\\xbc\\xa3\\xec\\xd0n\\t\\x99\\xd3mm\\xb5\\xdb\\x99\\xe5v\\xff\\x9a\\'O^\\xd2j}@\\xbb\\x01@Nh7\\x00\\xc8\\t\\xed\\x06\\x009\\xa1\\xdd\\x00 \\'\\xb4\\x1b\\x00\\xe4\\x84v\\xcb\\x86\\xbf<\\x08\\x8b\\xe2\\x87\\x0bM\\xc1\\xd8\\xb2\\xe1\\xeb\\x08\\x8b\\xe2\\x87\\x0bM\\xc1\\xd8\\xb2\\xe1\\xeb\\x08\\x8b\\xe2\\x87\\x0bM\\xc1\\xd8\\x00 \\'\\xb4\\x1b\\x00\\xe4\\x84v\\x03\\x80\\x9c\\xd0n\\x00\\x90\\x13\\xda\\r\\x00rB\\xbb\\x01@Nh7\\x00\\xc8\\t\\xed\\x06\\x009\\xa1\\xdd\\x00 \\'\\xb4\\x1b\\x00\\xe4\\x84v\\x03\\x80\\x9c\\xd0n\\x00\\x90\\x13\\xda\\r\\x00rB\\xbb\\x01@Nh7\\x00\\xc8\\t\\xed\\x06\\x009\\xa1\\xdd\\x00 \\'\\xb4\\x1b\\x00\\xe4\\x84v\\x03\\x80\\x9c\\xd0n\\x00\\x90\\x13\\xda\\r\\x00rB\\xbb\\x01@Nh7\\x00\\xc8\\t\\xed\\x06\\x009\\xa1\\xdd\\x00 \\'\\xb4\\x1b\\x00\\xe4\\x84v\\x03\\x80\\x9c\\xd0n\\x00\\x90\\x91\\xab\\xab\\xff\\x0f\\x82\\x8a\\xfe\\xf8\\xd03p\\x87\\x00\\x00\\x00\\x00IEND\\xaeB`\\x82'\n"
     ]
    }
   ],
   "source": [
    "print(fd.read())\n",
    "# This is a huge string of bytes represent Hexa-format"
   ]
  },
  {
   "cell_type": "code",
   "execution_count": 25,
   "id": "49acecb0",
   "metadata": {},
   "outputs": [],
   "source": [
    "fd.close()"
   ]
  },
  {
   "cell_type": "code",
   "execution_count": 26,
   "id": "df81393e",
   "metadata": {},
   "outputs": [],
   "source": [
    "from PIL import Image\n",
    "# PLI is python imaging Library , it is used to save, read , manipulate etc operations on images."
   ]
  },
  {
   "cell_type": "code",
   "execution_count": null,
   "id": "3cf8a8ef",
   "metadata": {},
   "outputs": [],
   "source": []
  },
  {
   "cell_type": "code",
   "execution_count": 27,
   "id": "710fd965",
   "metadata": {},
   "outputs": [],
   "source": [
    "img = Image.open(\"images/Subset.png\")"
   ]
  },
  {
   "cell_type": "code",
   "execution_count": 28,
   "id": "d1e74196",
   "metadata": {},
   "outputs": [
    {
     "data": {
      "text/plain": [
       "'PNG'"
      ]
     },
     "execution_count": 28,
     "metadata": {},
     "output_type": "execute_result"
    }
   ],
   "source": [
    "img.format"
   ]
  },
  {
   "cell_type": "code",
   "execution_count": 29,
   "id": "412777d9",
   "metadata": {},
   "outputs": [
    {
     "data": {
      "text/plain": [
       "(415, 504)"
      ]
     },
     "execution_count": 29,
     "metadata": {},
     "output_type": "execute_result"
    }
   ],
   "source": [
    "img.size\n",
    "# It's showing height and width of the image"
   ]
  },
  {
   "cell_type": "code",
   "execution_count": 30,
   "id": "de383556",
   "metadata": {},
   "outputs": [
    {
     "data": {
      "text/plain": [
       "'RGB'"
      ]
     },
     "execution_count": 30,
     "metadata": {},
     "output_type": "execute_result"
    }
   ],
   "source": [
    "img.mode"
   ]
  },
  {
   "cell_type": "code",
   "execution_count": 31,
   "id": "e42518f8",
   "metadata": {},
   "outputs": [
    {
     "data": {
      "image/jpeg": "[encoded data removed]",
      "image/png": "[encoded data removed]",
      "text/plain": [
       "<PIL.PngImagePlugin.PngImageFile image mode=RGB size=415x504>"
      ]
     },
     "execution_count": 31,
     "metadata": {},
     "output_type": "execute_result"
    }
   ],
   "source": [
    "img"
   ]
  },
  {
   "cell_type": "code",
   "execution_count": 32,
   "id": "8a36839c",
   "metadata": {},
   "outputs": [],
   "source": [
    "import numpy as np"
   ]
  },
  {
   "cell_type": "code",
   "execution_count": 33,
   "id": "310ac946",
   "metadata": {},
   "outputs": [
    {
     "data": {
      "text/plain": [
       "array([[[255, 255, 255],\n",
       "        [255, 255, 255],\n",
       "        [255, 255, 255],\n",
       "        ...,\n",
       "        [255, 255, 255],\n",
       "        [255, 255, 255],\n",
       "        [255, 255, 255]],\n",
       "\n",
       "       [[255, 255, 255],\n",
       "        [255, 255, 255],\n",
       "        [255, 255, 255],\n",
       "        ...,\n",
       "        [255, 255, 255],\n",
       "        [255, 255, 255],\n",
       "        [255, 255, 255]],\n",
       "\n",
       "       [[255, 255, 255],\n",
       "        [255, 255, 255],\n",
       "        [255, 255, 255],\n",
       "        ...,\n",
       "        [255, 255, 255],\n",
       "        [255, 255, 255],\n",
       "        [255, 255, 255]],\n",
       "\n",
       "       ...,\n",
       "\n",
       "       [[255, 255, 255],\n",
       "        [255, 255, 255],\n",
       "        [255, 255, 255],\n",
       "        ...,\n",
       "        [255, 255, 255],\n",
       "        [255, 255, 255],\n",
       "        [255, 255, 255]],\n",
       "\n",
       "       [[255, 255, 255],\n",
       "        [255, 255, 255],\n",
       "        [255, 255, 255],\n",
       "        ...,\n",
       "        [255, 255, 255],\n",
       "        [255, 255, 255],\n",
       "        [255, 255, 255]],\n",
       "\n",
       "       [[255, 255, 255],\n",
       "        [255, 255, 255],\n",
       "        [255, 255, 255],\n",
       "        ...,\n",
       "        [255, 255, 255],\n",
       "        [255, 255, 255],\n",
       "        [255, 255, 255]]], dtype=uint8)"
      ]
     },
     "execution_count": 33,
     "metadata": {},
     "output_type": "execute_result"
    }
   ],
   "source": [
    "img_array = np.array(img)\n",
    "img_array"
   ]
  },
  {
   "cell_type": "code",
   "execution_count": 34,
   "id": "f3b2b620",
   "metadata": {},
   "outputs": [
    {
     "data": {
      "text/plain": [
       "(504, 415, 3)"
      ]
     },
     "execution_count": 34,
     "metadata": {},
     "output_type": "execute_result"
    }
   ],
   "source": [
    "img_array.shape\n",
    "# it's three dimensional matrix, list in side list , list inside sublist"
   ]
  },
  {
   "cell_type": "code",
   "execution_count": null,
   "id": "635b9756",
   "metadata": {},
   "outputs": [],
   "source": [
    "# img_array\n",
    "# [179, 178, 183] -> This is value of First pixel of the image.\n",
    "# [ 23,  21,  24] -> This is value of the Last pixel of the image"
   ]
  },
  {
   "cell_type": "code",
   "execution_count": 35,
   "id": "9568d05f",
   "metadata": {},
   "outputs": [],
   "source": [
    "img_copy = img.copy()"
   ]
  },
  {
   "cell_type": "code",
   "execution_count": 36,
   "id": "630a1954",
   "metadata": {},
   "outputs": [
    {
     "data": {
      "image/jpeg": "[encoded data removed]",
      "image/png": "[encoded data removed]",
      "text/plain": [
       "<PIL.Image.Image image mode=RGB size=415x504>"
      ]
     },
     "execution_count": 36,
     "metadata": {},
     "output_type": "execute_result"
    }
   ],
   "source": [
    "img_copy"
   ]
  },
  {
   "cell_type": "code",
   "execution_count": 37,
   "id": "615e5f7a",
   "metadata": {},
   "outputs": [],
   "source": [
    "img_cropped = img_copy.crop((250,8,790,800))"
   ]
  },
  {
   "cell_type": "code",
   "execution_count": 38,
   "id": "2833e1a3",
   "metadata": {},
   "outputs": [
    {
     "data": {
      "image/jpeg": "[encoded data removed]",
      "image/png": "[encoded data removed]",
      "text/plain": [
       "<PIL.Image.Image image mode=RGB size=540x792>"
      ]
     },
     "execution_count": 38,
     "metadata": {},
     "output_type": "execute_result"
    }
   ],
   "source": [
    "img_cropped"
   ]
  },
  {
   "cell_type": "code",
   "execution_count": 39,
   "id": "e46a0ec7",
   "metadata": {},
   "outputs": [],
   "source": [
    "out = img_cropped.transpose(Image.ROTATE_90)"
   ]
  },
  {
   "cell_type": "code",
   "execution_count": 40,
   "id": "8f6c44a2",
   "metadata": {},
   "outputs": [
    {
     "data": {
      "image/jpeg": "[encoded data removed]",
      "image/png": "[encoded data removed]",
      "text/plain": [
       "<PIL.Image.Image image mode=RGB size=792x540>"
      ]
     },
     "execution_count": 40,
     "metadata": {},
     "output_type": "execute_result"
    }
   ],
   "source": [
    "out"
   ]
  },
  {
   "cell_type": "code",
   "execution_count": null,
   "id": "72be84de",
   "metadata": {},
   "outputs": [],
   "source": []
  },
  {
   "cell_type": "markdown",
   "id": "719550ac",
   "metadata": {},
   "source": [
    "# Bonus: Accessing Files from GitHub Gists"
   ]
  },
  {
   "cell_type": "markdown",
   "id": "c040707d",
   "metadata": {},
   "source": [
    "> While accessing Internet, if you get `SSL: CERTIFICATE_VERIFY_FAILED` error, set, the `_create_default_https_context` attribute of `ssl` to `_create_unverified_context`"
   ]
  },
  {
   "cell_type": "code",
   "execution_count": 41,
   "id": "d1788020",
   "metadata": {},
   "outputs": [
    {
     "name": "stdout",
     "output_type": "stream",
     "text": [
      "Anaheim Angels\n",
      "Arizona Diamondbacks\n",
      "Atlanta Braves\n",
      "Baltimore Orioles\n",
      "Boston Americans\n",
      "Boston Braves\n",
      "Boston Red Sox\n",
      "Brooklyn Dodgers\n",
      "Chicago Cubs\n",
      "Chicago White Sox\n",
      "Cincinnati Reds\n",
      "Cleveland Indians\n",
      "Detroit Tigers\n",
      "Florida Marlins\n",
      "Houston Astros\n",
      "Kansas City Royals\n",
      "Los Angeles Dodgers\n",
      "Milwaukee Braves\n",
      "Minnesota Twins\n",
      "New York Giants\n",
      "New York Mets\n",
      "New York Yankees\n",
      "No World Series\n",
      "Oakland Athletics\n",
      "Philadelphia Athletics\n",
      "Philadelphia Phillies\n",
      "Pittsburgh Pirates\n",
      "San Francisco Giants\n",
      "St. Louis Cardinals\n",
      "Toronto Blue Jays\n",
      "Washington Senators\n"
     ]
    }
   ],
   "source": [
    "!cat datasets/assign.txt"
   ]
  },
  {
   "cell_type": "code",
   "execution_count": 42,
   "id": "b6e8c88a",
   "metadata": {},
   "outputs": [
    {
     "name": "stdout",
     "output_type": "stream",
     "text": [
      "Anaheim Angels\n",
      "Arizona Diamondbacks\n",
      "Atlanta Braves\n",
      "Baltimore Orioles\n",
      "Boston Americans\n",
      "Boston Braves\n",
      "Boston Red Sox\n",
      "Brooklyn Dodgers\n",
      "Chicago Cubs\n",
      "Chicago White Sox\n",
      "Cincinnati Reds\n",
      "Cleveland Indians\n",
      "Detroit Tigers\n",
      "Florida Marlins\n",
      "Houston Astros\n",
      "Kansas City Royals\n",
      "Los Angeles Dodgers\n",
      "Milwaukee Braves\n",
      "Minnesota Twins\n",
      "New York Giants\n",
      "New York Mets\n",
      "New York Yankees\n",
      "No World Series\n",
      "Oakland Athletics\n",
      "Philadelphia Athletics\n",
      "Philadelphia Phillies\n",
      "Pittsburgh Pirates\n",
      "San Francisco Giants\n",
      "St. Louis Cardinals\n",
      "Toronto Blue Jays\n",
      "Washington Senators\n",
      "\n"
     ]
    }
   ],
   "source": [
    "fd1 = open('datasets/assign.txt','r')\n",
    "mydata = fd1.read()\n",
    "print(mydata)\n",
    "fd1.close()"
   ]
  },
  {
   "cell_type": "code",
   "execution_count": 43,
   "id": "c984cb63",
   "metadata": {},
   "outputs": [
    {
     "name": "stdout",
     "output_type": "stream",
     "text": [
      "Anaheim Angels\n",
      "\n",
      "Arizona Diamondbacks\n",
      "\n",
      "Atlanta Braves\n",
      "\n",
      "Baltimore Orioles\n",
      "\n",
      "Boston Americans\n",
      "\n"
     ]
    }
   ],
   "source": [
    "# Read first five lines of the file\n",
    "fd1 = open('datasets/assign.txt','r')\n",
    "j = 0\n",
    "for i in fd1:\n",
    "    j = j +1\n",
    "    print(i)\n",
    "    if j==5:\n",
    "        break\n",
    "# print(mydata)\n",
    "fd1.close()"
   ]
  },
  {
   "cell_type": "code",
   "execution_count": null,
   "id": "b7f720ff",
   "metadata": {},
   "outputs": [],
   "source": []
  },
  {
   "cell_type": "code",
   "execution_count": null,
   "id": "29a5f041",
   "metadata": {},
   "outputs": [],
   "source": [
    "import ssl\n",
    "ssl._create_default_https_context = ssl._create_unverified_context"
   ]
  },
  {
   "cell_type": "markdown",
   "id": "38075fc1",
   "metadata": {},
   "source": [
    "> Get the raw data url of the file ('hellogist.txt') to be downloaded from your github gist. Pass that url to `urlretrieve()` function to download file to disk\n",
    "```\n",
    "urllib.request.urlretrieve(url, filename=None)\n",
    "``` "
   ]
  },
  {
   "cell_type": "markdown",
   "id": "2d1a335e",
   "metadata": {},
   "source": [
    "**Example1: Download, Open and Read any `.txt` file from Github Gist**"
   ]
  },
  {
   "cell_type": "code",
   "execution_count": 44,
   "id": "87491b77",
   "metadata": {},
   "outputs": [
    {
     "data": {
      "text/plain": [
       "('datasets/setup.py', <http.client.HTTPMessage at 0x127c03750>)"
      ]
     },
     "execution_count": 44,
     "metadata": {},
     "output_type": "execute_result"
    }
   ],
   "source": [
    "# Download\n",
    "import urllib\n",
    "link = \"https://raw.githubusercontent.com/beancount/beancount/master/setup.py\"\n",
    "urllib.request.urlretrieve(link,\"datasets/setup.py\")"
   ]
  },
  {
   "cell_type": "code",
   "execution_count": null,
   "id": "0d58055a",
   "metadata": {},
   "outputs": [],
   "source": []
  },
  {
   "cell_type": "code",
   "execution_count": 46,
   "id": "e51f26ff",
   "metadata": {},
   "outputs": [
    {
     "name": "stdout",
     "output_type": "stream",
     "text": [
      "#!/usr/bin/env python3\n",
      "\"\"\"\n",
      "Install script for beancount.\n",
      "\"\"\"\n",
      "\n",
      "__copyright__ = \"Copyright (C) 2008-2011, 2013-2016  Martin Blais\"\n",
      "__license__ = \"GNU GPLv2\"\n",
      "\n",
      "\n",
      "from os import path\n",
      "import platform\n",
      "import re\n",
      "import runpy\n",
      "import subprocess\n",
      "\n",
      "from setuptools import setup, find_packages, Extension\n",
      "\n",
      "# Make sure we can import hashsrc in order to create a binary with a checksum of\n",
      "# the C source code. This checksum is used to issue a warning when loading an\n",
      "# incompatible binary. (Also note that you should _NOT_ add the path of this\n",
      "# file to the PYTHONPATH directly because it contains a 'parser' module and that\n",
      "# overrides the stdlib 'parser' module which is used by setuptools, and causes a\n",
      "# subtle bug. That's why I import this utility directly from path).\n",
      "hashsrc = runpy.run_path(path.join(path.dirname(__file__), \"beancount/parser/hashsrc.py\"))\n",
      "hash_parser_source_files = hashsrc[\"hash_parser_source_files\"]\n",
      "\n",
      "\n",
      "def get_cflags():\n",
      "    \"Returns suitable CFLAGS for the platform.\"\n",
      "    if platform.system() == \"Windows\":\n",
      "        # unistd.h is not available with MSDEV.\n",
      "        # See https://bitbucket.org/blais/beancount/issues/173/\n",
      "        return [\"-DYY_NO_UNISTD_H\"]\n",
      "    else:\n",
      "        return [\"-std=gnu99\"]\n",
      "\n",
      "\n",
      "# Read the version.\n",
      "with open(\"beancount/VERSION\") as version_file:\n",
      "    version = version_file.read().strip()\n",
      "assert isinstance(version, str)\n",
      "\n",
      "\n",
      "def get_hg_changeset():\n",
      "    \"\"\"Get the Mercurial changeset id.\"\"\"\n",
      "    try:\n",
      "        output = subprocess.check_output(\n",
      "            [\"hg\", \"parent\", \"--template\", \"{node} {date|hgdate}\"], shell=False\n",
      "        )\n",
      "        vc_changeset, vc_timestamp = output.decode(\"utf-8\").split()[:2]\n",
      "        vc_changeset = \"hg:{}\".format(vc_changeset)\n",
      "        return vc_changeset, vc_timestamp\n",
      "    except (subprocess.CalledProcessError, FileNotFoundError, PermissionError):\n",
      "        return None\n",
      "\n",
      "\n",
      "def get_git_changeset():\n",
      "    \"\"\"Get the Git changeset id.\"\"\"\n",
      "    try:\n",
      "        output = subprocess.check_output(\n",
      "            [\"git\", \"log\", \"--pretty=%H %ct\", \"-1\"], shell=False\n",
      "        )\n",
      "        match = re.match(r\"([0-9a-f]+) ([0-9]+)$\", output.decode(\"utf-8\").strip())\n",
      "        if match:\n",
      "            vc_changeset = \"git:{}\".format(match.group(1))\n",
      "            vc_timestamp = match.group(2)\n",
      "            return vc_changeset, vc_timestamp\n",
      "        else:\n",
      "            return None\n",
      "    except (subprocess.CalledProcessError, FileNotFoundError, PermissionError):\n",
      "        return None\n",
      "\n",
      "\n",
      "# Get the changeset to bake into the binary.\n",
      "for get_changeset in get_git_changeset, get_hg_changeset:\n",
      "    changeset_timestamp = get_changeset()\n",
      "    if changeset_timestamp is not None:\n",
      "        vc_changeset, vc_timestamp = changeset_timestamp\n",
      "        break\n",
      "else:\n",
      "    vc_changeset, vc_timestamp = \"\", 0\n",
      "\n",
      "\n",
      "install_requires = []\n",
      "\n",
      "# Create a setup.\n",
      "# Please read: http://furius.ca/beancount/doc/install about version numbers.\n",
      "setup(\n",
      "    name=\"beancount\",\n",
      "    version=version,\n",
      "    description=\"Command-line Double-Entry Accounting\",\n",
      "    long_description=\"\"\"\n",
      "      A double-entry accounting system that uses text files as input.\n",
      "\n",
      "      Beancount defines a simple data format or \"language\" that lets you define\n",
      "      financial transaction records in a text file, load them in memory and\n",
      "      generate and export a variety of reports, such as balance sheets or income\n",
      "      statements. It also provides a client with an SQL-like query language to\n",
      "      filter and aggregate financial data, and a web interface which renders\n",
      "      those reports to HTML. Finally, it provides the scaffolding required to\n",
      "      automate the conversion of external data into one's input file in\n",
      "      Beancount syntax.\n",
      "      \"\"\",\n",
      "    license=\"GNU GPLv2 only\",\n",
      "    author=\"Martin Blais\",\n",
      "    author_email=\"blais@furius.ca\",\n",
      "    url=\"https://github.com/beancount/beancount\",\n",
      "    download_url=\"https://github.com/beancount/beancount\",\n",
      "    packages=find_packages(exclude=[\"experiments*\"]),\n",
      "    package_data={\n",
      "        \"beancount\": [\"VERSION\"],\n",
      "        \"beancount.utils.file_type_testdata\": [\"*\"],\n",
      "    },\n",
      "    ext_modules=[\n",
      "        Extension(\n",
      "            \"beancount.parser._parser\",\n",
      "            include_dirs=[\".\"],\n",
      "            sources=[\n",
      "                \"beancount/parser/decimal.c\",\n",
      "                \"beancount/parser/lexer.c\",\n",
      "                \"beancount/parser/grammar.c\",\n",
      "                \"beancount/parser/parser.c\",\n",
      "                \"beancount/parser/tokens.c\",\n",
      "            ],\n",
      "            define_macros=[\n",
      "                (\"BEANCOUNT_VERSION\", version),\n",
      "                (\"VC_CHANGESET\", vc_changeset),\n",
      "                (\"VC_TIMESTAMP\", int(float(vc_timestamp))),\n",
      "                (\"PARSER_SOURCE_HASH\", hash_parser_source_files()),\n",
      "            ],\n",
      "            extra_compile_args=get_cflags(),\n",
      "        ),\n",
      "    ],\n",
      "    install_requires=[\n",
      "        # Command line parsing.\n",
      "        \"click\",\n",
      "        # Used to generate recurring events in beancounr.scripts.example.\n",
      "        \"python-dateutil\",\n",
      "        # Unicode character class aware regular expressions.\n",
      "        \"regex\",\n",
      "    ],\n",
      "    entry_points={\n",
      "        \"console_scripts\": [\n",
      "            \"bean-check = beancount.scripts.check:main\",\n",
      "            \"bean-doctor = beancount.scripts.doctor:main\",\n",
      "            \"bean-example = beancount.scripts.example:main\",\n",
      "            \"bean-format = beancount.scripts.format:main\",\n",
      "            \"treeify = beancount.tools.treeify:main\",\n",
      "        ]\n",
      "    },\n",
      "    python_requires=\">=3.8\",\n",
      ")\n",
      "\n",
      "\n",
      "# Development setup requires two tools IFF you need to change the grammar:\n",
      "#\n",
      "# - flex-2.6.4\n",
      "# - bison-3.6.4\n",
      "#\n",
      "# These versions are related to what's on a recent Ubuntu. If you don't change\n",
      "# the grammar nor the tokenizer, the C sources are checked in so you won't need\n",
      "# those tools.\n",
      "\n"
     ]
    }
   ],
   "source": [
    "with open(\"datasets/setup.py\") as fd:\n",
    "    print(fd.read())"
   ]
  },
  {
   "cell_type": "markdown",
   "id": "fd4d422c",
   "metadata": {},
   "source": [
    "Let us now open and read the file"
   ]
  },
  {
   "cell_type": "code",
   "execution_count": null,
   "id": "604a39c4",
   "metadata": {},
   "outputs": [],
   "source": []
  },
  {
   "cell_type": "code",
   "execution_count": null,
   "id": "cc1f0a0c",
   "metadata": {},
   "outputs": [],
   "source": []
  },
  {
   "cell_type": "code",
   "execution_count": null,
   "id": "9f792da3",
   "metadata": {},
   "outputs": [],
   "source": []
  },
  {
   "cell_type": "markdown",
   "id": "03b5aa6f",
   "metadata": {},
   "source": [
    "# Check Your Concepts\n",
    "Try to answer the following questions\n",
    " - Name two types of data files available in python .\n",
    " - In text file each line is terminated by a special character called _______\n",
    " - In python, default EOL character is _______\n",
    " - In binary files, data stored in the same format as it is stored in computer memory. (T/F)\n",
    " - Processing of binary file is faster than text file (T/F)\n",
    " - What is difference between writing data and appending data into the files.\n",
    " - Writing data is same as appending data in file. (T/F)\n",
    " - Can we read file without opening?\n",
    " - What is the difference between sequential access and random access?\n",
    " - Write the code in python to open a file named `try.txt`.\n",
    " - Write one basic difference between Text file and Binary file in Python.\n",
    " >- A text file consists of human readable characters, which can be opened by any text editor. while, binary files consist of non-human readable characters and symbols, which require specific programs to access its contents.\n",
    "\n",
    " - What is the default mode of opening a file?\n",
    " - Write a statement in python to open a file named “data.txt” stored in folder “content” in D drive.\n",
    " - Name the three modes in which file can be opened in python.\n",
    " >- read, write, append\n",
    " \n",
    " - What do you mean by file object in python?\n",
    " - Write the symbols used in text file mode for the following operations.\n",
    "  >- 1. Read Only\n",
    "  >- 2. Write only\n",
    "  >- 3. Read and Write\n",
    "  >- 4. Write and Read\n",
    "\n",
    " - Write the symbols used in binary file mode for the following operations.\n",
    "\n",
    "  >- 1. Read Only\n",
    "  >- 2. Write only\n",
    "  >- 3. Read and Write\n",
    "  >- 4. Write and Read \n",
    "\n",
    " - What is the difference between r+ and w+ mode?\n",
    " - What is the difference between write and append mode?\n",
    " - Which method is used to close the file in python?\n",
    " - Write the statement to close the file “test.txt” which is associated with file object named “fo”.\n",
    " - Write one similarity and one difference between a+ and w+.\n",
    " - What is the difference between read() and read(n) functions?\n",
    " - What is the difference between readline() and readlines() ?\n",
    " - Write a program to read first 10 characters from a file named `f1.txt`\n",
    " - Write a program in python to display number of lines in a file(`f1.txt`). \n",
    " - Write a program in python to display first line and total number of characters in the first line from the file(`data.txt`) using `readlines()`.\n",
    " - Name two functions which are used to write data into file?\n",
    " - Accept five names from the user and write in a file `name.txt`\n",
    " - Accept five sports names from the user and write in a file `sport.txt` (each name should write in separate line).\n",
    "\n",
    "\n",
    "\n",
    "\n",
    "\n",
    "\n",
    "\n",
    "\n",
    "\n",
    "\n",
    "\n",
    "\n",
    "\n",
    "\n",
    "\n"
   ]
  },
  {
   "cell_type": "code",
   "execution_count": null,
   "id": "88a3ec50",
   "metadata": {},
   "outputs": [],
   "source": []
  },
  {
   "cell_type": "code",
   "execution_count": null,
   "id": "9850bffa",
   "metadata": {},
   "outputs": [],
   "source": []
  },
  {
   "cell_type": "markdown",
   "id": "dc123e19",
   "metadata": {},
   "source": [
    "## Practice Questions"
   ]
  },
  {
   "cell_type": "markdown",
   "id": "41ba5109",
   "metadata": {},
   "source": [
    "**Question 01: Accept five hobbies from the user and write in a file `hobby.txt` (each hobby should write in separate line) without using write() function. And also read all the hobbies from the file.**"
   ]
  },
  {
   "cell_type": "code",
   "execution_count": 47,
   "id": "ba64e423",
   "metadata": {},
   "outputs": [
    {
     "name": "stdin",
     "output_type": "stream",
     "text": [
      "Enter Your hobby :  Sport\n",
      "Enter Your hobby :  Cooking\n",
      "Enter Your hobby :  Reading\n",
      "Enter Your hobby :  coding\n",
      "Enter Your hobby :  Book Reading\n"
     ]
    }
   ],
   "source": [
    "with open('hobby.txt', 'w') as file:\n",
    "    h = []\n",
    "    for i in range(5):\n",
    "        hobby = input(\"Enter Your hobby : \")\n",
    "        h.append(hobby)\n",
    "        h.append('\\n')\n",
    "    file.writelines(h)"
   ]
  },
  {
   "cell_type": "code",
   "execution_count": 48,
   "id": "f923c25b-36cf-4677-ac9e-b706d9b781b0",
   "metadata": {},
   "outputs": [
    {
     "name": "stdout",
     "output_type": "stream",
     "text": [
      "Sport\n",
      "Cooking\n",
      "Reading\n",
      "coding\n",
      "Book Reading\n"
     ]
    }
   ],
   "source": [
    "!cat hobby.txt"
   ]
  },
  {
   "cell_type": "code",
   "execution_count": null,
   "id": "996325ce",
   "metadata": {},
   "outputs": [],
   "source": [
    "with open('hobby1.txt', 'w') as file:\n",
    "    for i in range(3):\n",
    "        hobby = input(\"Enter Your hobby : \")\n",
    "        h = hobby + \"\\n\"\n",
    "        file.writelines(h)"
   ]
  },
  {
   "cell_type": "code",
   "execution_count": null,
   "id": "ad30a86d",
   "metadata": {},
   "outputs": [],
   "source": []
  },
  {
   "cell_type": "markdown",
   "id": "cefcbc96",
   "metadata": {},
   "source": [
    "**Question 02: Write a Python Program to copy the contents of one file into another.     \n",
    "Sample:**\n",
    "- Input File : out.txt\n",
    "- Output File : outtest.txt"
   ]
  },
  {
   "cell_type": "code",
   "execution_count": 49,
   "id": "6d3eab3d",
   "metadata": {},
   "outputs": [],
   "source": [
    "str1 = \"\"\n",
    "with open(\"datasets/out.txt\") as fd:\n",
    "    str1 = fd.read()"
   ]
  },
  {
   "cell_type": "code",
   "execution_count": 50,
   "id": "7a0d3a74",
   "metadata": {},
   "outputs": [
    {
     "data": {
      "text/plain": [
       "'Learning Python is Fun!\\nApple\\nBanana\\nOranges'"
      ]
     },
     "execution_count": 50,
     "metadata": {},
     "output_type": "execute_result"
    }
   ],
   "source": [
    "str1"
   ]
  },
  {
   "cell_type": "code",
   "execution_count": 51,
   "id": "8d3dc187",
   "metadata": {},
   "outputs": [],
   "source": [
    "with open(\"datasets/test.txt\",'w') as fd:\n",
    "    for i in str1:\n",
    "        fd.writelines(i)"
   ]
  },
  {
   "cell_type": "code",
   "execution_count": null,
   "id": "779640d1",
   "metadata": {},
   "outputs": [],
   "source": [
    "!cat datasets/out.txt"
   ]
  },
  {
   "cell_type": "code",
   "execution_count": 52,
   "id": "bf456e82",
   "metadata": {},
   "outputs": [
    {
     "name": "stdout",
     "output_type": "stream",
     "text": [
      "Learning Python is Fun!\n",
      "Apple\n",
      "Banana\n",
      "Oranges"
     ]
    }
   ],
   "source": [
    "# Here write your answer\n",
    "!cat datasets/test.txt"
   ]
  },
  {
   "cell_type": "code",
   "execution_count": null,
   "id": "ed31dbd9",
   "metadata": {},
   "outputs": [],
   "source": []
  },
  {
   "cell_type": "markdown",
   "id": "1a9daed6",
   "metadata": {},
   "source": [
    "**Question 03: Write a python Program to find size of file `f1.txt` using `os` module or using file operations**"
   ]
  },
  {
   "cell_type": "code",
   "execution_count": null,
   "id": "8bb41ce8",
   "metadata": {},
   "outputs": [],
   "source": []
  },
  {
   "cell_type": "code",
   "execution_count": 53,
   "id": "19a60a6e",
   "metadata": {},
   "outputs": [
    {
     "data": {
      "text/plain": [
       "os.stat_result(st_mode=33261, st_ino=20514295, st_dev=16777234, st_nlink=1, st_uid=501, st_gid=20, st_size=175, st_atime=1723148580, st_mtime=1715104297, st_ctime=1723134833)"
      ]
     },
     "execution_count": 53,
     "metadata": {},
     "output_type": "execute_result"
    }
   ],
   "source": [
    "# Here write Your answer\n",
    "import os\n",
    "os.stat(\"datasets/f1.txt\")"
   ]
  },
  {
   "cell_type": "code",
   "execution_count": 54,
   "id": "a067b931",
   "metadata": {},
   "outputs": [
    {
     "data": {
      "text/plain": [
       "175"
      ]
     },
     "execution_count": 54,
     "metadata": {},
     "output_type": "execute_result"
    }
   ],
   "source": [
    "os.stat(\"datasets/f1.txt\").st_size"
   ]
  },
  {
   "cell_type": "code",
   "execution_count": 55,
   "id": "8d490f97",
   "metadata": {},
   "outputs": [
    {
     "name": "stdout",
     "output_type": "stream",
     "text": [
      "175\n"
     ]
    }
   ],
   "source": [
    "with open(\"datasets/f1.txt\") as fd:\n",
    "    data = fd.read()\n",
    "    print(len(data))"
   ]
  },
  {
   "cell_type": "code",
   "execution_count": null,
   "id": "89ded4fe",
   "metadata": {},
   "outputs": [],
   "source": []
  },
  {
   "cell_type": "markdown",
   "id": "f9191c7e",
   "metadata": {},
   "source": [
    "**Question 04: Write a python program to count number of uppercase, lowercase, digits ,space and special characters in a text file `f1.txt`.**"
   ]
  },
  {
   "cell_type": "code",
   "execution_count": 56,
   "id": "cb21aaa3",
   "metadata": {},
   "outputs": [],
   "source": [
    "# Here write your answer\n",
    "lowercase = \"abcdefghijklmnopqurstuvwxyz\"\n",
    "uppercase = lowercase.upper()\n",
    "digits = \"1234567890\"\n",
    "specialCharacters = \".[{(),\\^$|?*+\"\n",
    "space = \" \"\n"
   ]
  },
  {
   "cell_type": "code",
   "execution_count": 57,
   "id": "4ee03fc3",
   "metadata": {},
   "outputs": [],
   "source": [
    "lowercaseCount = 0\n",
    "uppercaseCount = 0\n",
    "digitsCount = 0\n",
    "sccount = 0\n",
    "spaceCount = 0"
   ]
  },
  {
   "cell_type": "code",
   "execution_count": 58,
   "id": "5160fdfe",
   "metadata": {},
   "outputs": [
    {
     "name": "stdout",
     "output_type": "stream",
     "text": [
      "NUmber of lowercase letters are :  126\n",
      "Number of uppercase letters are :  12\n",
      "Number of digits are :  0\n",
      "Number of special characters are :  3\n",
      "NUmber of spaces are :  34\n"
     ]
    }
   ],
   "source": [
    "with open(\"datasets/f1.txt\") as fd:\n",
    "    data = fd.read()\n",
    "    for letter in data:\n",
    "        if letter in lowercase:\n",
    "            lowercaseCount = lowercaseCount+1\n",
    "        elif letter in uppercase:\n",
    "            uppercaseCount = uppercaseCount+1\n",
    "        elif letter in digits:\n",
    "            digitsCount =  digitsCount+1\n",
    "        elif letter in specialCharacters:\n",
    "            sccount = sccount+1\n",
    "        else:\n",
    "            spaceCount = spaceCount+1\n",
    "            \n",
    "print(\"NUmber of lowercase letters are : \", lowercaseCount)\n",
    "print(\"Number of uppercase letters are : \", uppercaseCount)\n",
    "print(\"Number of digits are : \", digitsCount)\n",
    "print(\"Number of special characters are : \", sccount)\n",
    "print(\"NUmber of spaces are : \", spaceCount)"
   ]
  },
  {
   "cell_type": "code",
   "execution_count": null,
   "id": "3f23036d",
   "metadata": {},
   "outputs": [],
   "source": []
  },
  {
   "cell_type": "code",
   "execution_count": null,
   "id": "54c5b5c3",
   "metadata": {},
   "outputs": [],
   "source": []
  },
  {
   "cell_type": "markdown",
   "id": "3c1104c6",
   "metadata": {},
   "source": [
    "**Question 06: Write a python code to read lines from a text file of your own choice and display those lines of length more than `50`.**\n"
   ]
  },
  {
   "cell_type": "code",
   "execution_count": null,
   "id": "c1c7a481",
   "metadata": {},
   "outputs": [],
   "source": [
    "# Here write your answer\n",
    "!ls"
   ]
  },
  {
   "cell_type": "code",
   "execution_count": null,
   "id": "3f3521b8",
   "metadata": {},
   "outputs": [],
   "source": [
    "!cat f1.txt"
   ]
  },
  {
   "cell_type": "code",
   "execution_count": null,
   "id": "68dba855",
   "metadata": {},
   "outputs": [],
   "source": [
    "with open(\"f1.txt\") as fd:\n",
    "    for i in fd:\n",
    "        if i[0]=='a':\n",
    "            print(i)"
   ]
  },
  {
   "cell_type": "code",
   "execution_count": null,
   "id": "a8015bb3",
   "metadata": {},
   "outputs": [],
   "source": []
  },
  {
   "cell_type": "code",
   "execution_count": null,
   "id": "106b16b6",
   "metadata": {},
   "outputs": [],
   "source": []
  },
  {
   "cell_type": "markdown",
   "id": "070d9296",
   "metadata": {},
   "source": [
    "**Question 07: Write a python program to print the words starting with `m` or `M` from a file `README.md`.**"
   ]
  },
  {
   "cell_type": "code",
   "execution_count": 59,
   "id": "02ac572c",
   "metadata": {},
   "outputs": [
    {
     "name": "stdout",
     "output_type": "stream",
     "text": [
      "# Python-Backend\n",
      "\n",
      "This repository contains the source code and resources for learning and developing Python-based backend systems. The course covers fundamental Python programming, data manipulation, and API development using FastAPI. It includes practical exercises and projects designed to reinforce learning and provide hands-on experience.\n",
      "\n",
      "## Syllabus Overview\n",
      "\n",
      "### Month 1: Fundamentals and Basic API Development\n",
      "\n",
      "- **Week 1-2: Python Fundamentals**\n",
      "  - Python Basics: Data Types and Control Structures\n",
      "  - Built-in Data Structures\n",
      "  - Functions and Error Handling\n",
      "  - Modules and Packages\n",
      "  - Introduction to OOP\n",
      "  - Pillars of OOP\n",
      "  - Development Environment and Version Control with Git\n",
      "  - File Handling\n",
      "  - Regular Expressions\n",
      "  - Debugging and Testing\n",
      "\n",
      "- **Week 3: Data Manipulation with NumPy and Pandas**\n",
      "  - Introduction to NumPy\n",
      "  - Introduction to Pandas\n",
      "  - Advanced Pandas Operations\n",
      "  - Working with Different File Formats\n",
      "  - Combining and Merging Datasets\n",
      "\n",
      "- **Week 4: Introduction to FastAPI**\n",
      "  - Setting Up FastAPI\n",
      "  - Creating Basic Endpoints and Handling CRUD Operations\n",
      "  - Request Validation and Error Handling\n",
      "  - Dependency Injection\n",
      "  - Advanced Features: Background Tasks and WebSockets\n",
      "  - Security and Authentication\n",
      "  - Deployment and CI/CD\n",
      "\n",
      "### Month 2: Intermediate API Development and Database Management\n",
      "\n",
      "- **Week 1: Advanced FastAPI Features**\n",
      "  - Creating Background Tasks\n",
      "  - Implementing Pagination\n",
      "\n",
      "- **Week 2: Database Management with PostgreSQL**\n",
      "  - Introduction to PostgreSQL and Basic SQL Commands\n",
      "  - Integrating PostgreSQL with FastAPI\n",
      "  - Database Indexing and Query Optimization\n",
      "  - Advanced SQL Features\n",
      "  - Designing and Implementing a Relational Database Schema\n",
      "\n",
      "- **Week 3: Integrating AI APIs**\n",
      "  - Basics of RESTful APIs\n",
      "  - Introduction to OpenAI API\n",
      "  - Advanced OpenAI API Usage\n",
      "  - Integrating AI APIs with FastAPI\n",
      "\n",
      "- **Week 4: Advanced Topics in AI API Integration**\n",
      "  - Advanced AI APIs for NLP and Image Processing\n",
      "  - Speech Recognition and Machine Learning Model Deployment\n",
      "  - Monitoring and Maintaining Machine Learning Models\n",
      "\n",
      "## Getting Started\n",
      "\n",
      "1. Clone the repository:\n",
      "   ```bash\n",
      "   git clone https://github.com/ehtisham-sadiq/Python-Backend.git\n",
      "   cd Python-Backend\n",
      "   ```\n",
      "\n",
      "## Contributing\n",
      "\n",
      "Contributions are welcome! Please open an issue or submit a pull request for any improvements or new features.\n",
      "\n",
      "## License\n",
      "\n",
      "This project is licensed under the MIT License. See the [LICENSE](LICENSE) file for details.\n",
      "\n",
      "---\n"
     ]
    }
   ],
   "source": [
    "!cat README.md"
   ]
  },
  {
   "cell_type": "code",
   "execution_count": 60,
   "id": "c49c4b36",
   "metadata": {},
   "outputs": [
    {
     "name": "stdout",
     "output_type": "stream",
     "text": [
      "manipulation,\n",
      "Month\n",
      "Modules\n",
      "Manipulation\n",
      "Merging\n",
      "Month\n",
      "Management\n",
      "Management\n",
      "Machine\n",
      "Model\n",
      "Monitoring\n",
      "Maintaining\n",
      "Machine\n",
      "Models\n",
      "MIT\n"
     ]
    }
   ],
   "source": [
    "# Here write your answer\n",
    "with open(\"README.md\") as fd:\n",
    "    data = fd.read().split()\n",
    "    for i in data:\n",
    "        if i[0]=='m' or i[0]=='M':\n",
    "            print(i)"
   ]
  },
  {
   "cell_type": "code",
   "execution_count": null,
   "id": "0f92f71b",
   "metadata": {},
   "outputs": [],
   "source": []
  },
  {
   "cell_type": "code",
   "execution_count": null,
   "id": "484db0de",
   "metadata": {},
   "outputs": [],
   "source": []
  },
  {
   "cell_type": "markdown",
   "id": "14f86772",
   "metadata": {},
   "source": [
    "### Try to Practice these Questions:\n",
    "- Write a Python program to count all the line having `a` as first character.\n",
    "- Write a Python Program to Write 1 to 100 in a Text File `number.txt`\n",
    "- Write a Python Program to Find and Replace a Word in a Text File \n",
    "- Python Program to Find and Remove Duplicate Lines in a Large Text File.\n",
    "- Write a Python Program to Reverse Each Word in a Text File `f1.txt`.\n",
    "- Write a Python Program to Read a Text File `f1.txt` and Count the Number of Words whose Length is Greater than 5.\n",
    "- Write a Python Function to Display each Lines with line's number from the Text File `f1.txt` using `read()`.\n",
    "- Write a Python Program to Print Just the Last line of a Text File `f1.txt`."
   ]
  },
  {
   "cell_type": "code",
   "execution_count": null,
   "id": "8a63afda-955e-4e7d-8a03-d9c22860c9dc",
   "metadata": {},
   "outputs": [],
   "source": []
  },
  {
   "cell_type": "code",
   "execution_count": null,
   "id": "9fda55cf-7de5-4fd3-bf19-8d84e2f1b546",
   "metadata": {},
   "outputs": [],
   "source": []
  },
  {
   "cell_type": "code",
   "execution_count": null,
   "id": "9245fbd5-236c-4e02-bd30-a656ccc7cd9d",
   "metadata": {},
   "outputs": [],
   "source": []
  },
  {
   "cell_type": "code",
   "execution_count": null,
   "id": "c8d831a7-6a17-410d-b280-53324a57cda9",
   "metadata": {},
   "outputs": [],
   "source": []
  },
  {
   "cell_type": "code",
   "execution_count": 1,
   "id": "73962cd3",
   "metadata": {},
   "outputs": [
    {
     "data": {
      "text/html": [
       "\n",
       "    <style>\n",
       "        body {\n",
       "            background-color: #f2fff2;\n",
       "        }\n",
       "        h1 {\n",
       "            text-align: center;\n",
       "            font-weight: bold;\n",
       "            font-size: 36px;\n",
       "            color: #4295F4;\n",
       "            text-decoration: underline;\n",
       "            padding-top: 15px;\n",
       "        }\n",
       "        \n",
       "        h2 {\n",
       "            text-align: left;\n",
       "            font-weight: bold;\n",
       "            font-size: 30px;\n",
       "            color: #4A000A;\n",
       "            text-decoration: underline;\n",
       "            padding-top: 10px;\n",
       "        }\n",
       "        \n",
       "        h3 {\n",
       "            text-align: left;\n",
       "            font-weight: bold;\n",
       "            font-size: 30px;\n",
       "            color: #f0081e;\n",
       "            text-decoration: underline;\n",
       "            padding-top: 5px;\n",
       "        }\n",
       "\n",
       "        \n",
       "        p {\n",
       "            text-align: center;\n",
       "            font-size: 12 px;\n",
       "            color: #0B9923;\n",
       "        }\n",
       "    </style>\n",
       "\n",
       "<h1>Hello</h1>\n",
       "<p>Hello World</p>\n",
       "<h2> Hello</h2>\n",
       "<h3> World </h3>\n"
      ],
      "text/plain": [
       "<IPython.core.display.HTML object>"
      ]
     },
     "execution_count": 1,
     "metadata": {},
     "output_type": "execute_result"
    }
   ],
   "source": [
    "from IPython.core.display import HTML\n",
    "\n",
    "style = \"\"\"\n",
    "    <style>\n",
    "        body {\n",
    "            background-color: #f2fff2;\n",
    "        }\n",
    "        h1 {\n",
    "            text-align: center;\n",
    "            font-weight: bold;\n",
    "            font-size: 36px;\n",
    "            color: #4295F4;\n",
    "            text-decoration: underline;\n",
    "            padding-top: 15px;\n",
    "        }\n",
    "        \n",
    "        h2 {\n",
    "            text-align: left;\n",
    "            font-weight: bold;\n",
    "            font-size: 30px;\n",
    "            color: #4A000A;\n",
    "            text-decoration: underline;\n",
    "            padding-top: 10px;\n",
    "        }\n",
    "        \n",
    "        h3 {\n",
    "            text-align: left;\n",
    "            font-weight: bold;\n",
    "            font-size: 30px;\n",
    "            color: #f0081e;\n",
    "            text-decoration: underline;\n",
    "            padding-top: 5px;\n",
    "        }\n",
    "\n",
    "        \n",
    "        p {\n",
    "            text-align: center;\n",
    "            font-size: 12 px;\n",
    "            color: #0B9923;\n",
    "        }\n",
    "    </style>\n",
    "\"\"\"\n",
    "\n",
    "html_content = \"\"\"\n",
    "<h1>Hello</h1>\n",
    "<p>Hello World</p>\n",
    "<h2> Hello</h2>\n",
    "<h3> World </h3>\n",
    "\"\"\"\n",
    "\n",
    "HTML(style + html_content)"
   ]
  },
  {
   "cell_type": "code",
   "execution_count": null,
   "id": "1db2b706-2531-4bfc-980c-88fffbcdaeea",
   "metadata": {},
   "outputs": [],
   "source": []
  }
 ],
 "metadata": {
  "kernelspec": {
   "display_name": "Python 3 (ipykernel)",
   "language": "python",
   "name": "python3"
  },
  "language_info": {
   "codemirror_mode": {
    "name": "ipython",
    "version": 3
   },
   "file_extension": ".py",
   "mimetype": "text/x-python",
   "name": "python",
   "nbconvert_exporter": "python",
   "pygments_lexer": "ipython3",
   "version": "3.11.7"
  }
 },
 "nbformat": 4,
 "nbformat_minor": 5
}
