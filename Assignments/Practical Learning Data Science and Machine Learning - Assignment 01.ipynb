{
  "cells": [
    {
      "cell_type": "markdown",
      "id": "109ee454",
      "metadata": {
        "id": "109ee454"
      },
      "source": [
        "<h1  align=\"center\">Practical Learning Data Science and Machine Learning - Assignment 01 </h1>"
      ]
    },
    {
      "cell_type": "markdown",
      "id": "resistant-huntington",
      "metadata": {
        "id": "resistant-huntington"
      },
      "source": [
        "Write your answers based on your understanding. After completing this assignment, submit this notebook on Google Classroom. Include your username in the following format: **Assignment # 01 (Your Name)**."
      ]
    },
    {
      "cell_type": "markdown",
      "id": "reliable-innocent",
      "metadata": {
        "id": "reliable-innocent"
      },
      "source": [
        "1. What is the difference between a data analyst and a data scientist?\n",
        "<br>\n",
        "2. Write a Python program to display the version of Python you are using.\n",
        "<br>\n",
        "3. Write a program in which you create five variables on the same line.\n",
        "<br>\n",
        "4. Write a program in which you declare a variable, check its type, and display its ID.\n",
        "<br>\n",
        "5. Write a program in Python that uses variables to perform a sum equal to 44.\n",
        "<br>\n",
        "6. Write a Python program to calculate the radius of a circle.\n",
        "**Sample : radius = 5**  \n",
        "**Output : 78.5**     \n",
        "<br>\n",
        "\n",
        "7. Write a Python program that prints the user's first and last name and concatenates them.\n",
        "**Sample : first_name = \"Ehtisham\"**  \n",
        "**Sample : last_name = \"Sadiq\"**   \n",
        "**Output : output = \"Ehtisham Sadiq\"**\n",
        "\n",
        "<br>\n",
        "\n",
        "<br>\n",
        "\n",
        "8. Is the variable name `Sales` the same as `sales`? Why or why not?\n",
        "\n",
        "<br>\n",
        "\n",
        "9. Is the following assignment statement valid or invalid? If it is invalid, why? `72 = amount`\n",
        "<br>\n",
        "\n",
        "10. What will be displayed by the following program?   \n",
        "    my_value = 99   \n",
        "    my_value = 0   \n",
        "    print(my_value)   \n",
        "    \n",
        "<br>\n",
        "\n",
        "11. Write a Python statement that assigns the sum of 10 and 14 to the variable `total`.\n",
        "\n",
        "<br>\n",
        "\n",
        "12. Write a Python statement that subtracts the variable `down_payment` from the variable `total` and assigns the result to the variable `due`.\n",
        "\n",
        "<br>\n",
        "\n",
        "13. Write a Python statement that multiplies the variable `subtotal` by 0.15 and assigns the result to the variable `total`."
      ]
    },
    {
      "cell_type": "code",
      "execution_count": 1,
      "id": "5b1e28cc",
      "metadata": {
        "id": "5b1e28cc"
      },
      "outputs": [],
      "source": [
        "# 1. Difference between data analyst and data scientist\n",
        "# Data analyst:\n",
        "## He makes an analysis of the data (querying data, interpreting results,\n",
        "## identification of patterns, working with historical data stored in data\n",
        "## warehouses)\n",
        "# Data scientist:\n",
        "## He builds models and algorithms for prediction; works with structured and\n",
        "## unstructured data (text, images, etc.)\n",
        "## He uses advanced statistical mehtods, ML, programming\n",
        "# They have very different skill sets."
      ]
    },
    {
      "cell_type": "code",
      "execution_count": 1,
      "id": "8e9f5b23",
      "metadata": {
        "id": "8e9f5b23"
      },
      "outputs": [],
      "source": []
    },
    {
      "cell_type": "markdown",
      "id": "aggregate-special",
      "metadata": {
        "id": "aggregate-special"
      },
      "source": [
        "### Question no 02"
      ]
    },
    {
      "cell_type": "code",
      "execution_count": 2,
      "id": "another-attribute",
      "metadata": {
        "colab": {
          "base_uri": "https://localhost:8080/"
        },
        "id": "another-attribute",
        "outputId": "5ed9b4f5-dcb7-4dde-ce7e-701022855ff3"
      },
      "outputs": [
        {
          "output_type": "stream",
          "name": "stdout",
          "text": [
            "3.10.12 (main, Nov  6 2024, 20:22:13) [GCC 11.4.0]\n",
            "Python version: 3.10.12\n"
          ]
        }
      ],
      "source": [
        "# 2. Python Version\n",
        "import sys\n",
        "print(sys.version)\n",
        "import platform\n",
        "print(\"Python version:\", platform.python_version())"
      ]
    },
    {
      "cell_type": "markdown",
      "id": "violent-ordering",
      "metadata": {
        "id": "violent-ordering"
      },
      "source": [
        "### Question no 03"
      ]
    },
    {
      "cell_type": "code",
      "execution_count": 27,
      "id": "blond-medium",
      "metadata": {
        "id": "blond-medium"
      },
      "outputs": [],
      "source": [
        "# 3. Creating five variables on the same line\n",
        "x1, x2, x3, x4, x5 = 1, 2, 3, 4, 5"
      ]
    },
    {
      "cell_type": "markdown",
      "id": "regulated-istanbul",
      "metadata": {
        "id": "regulated-istanbul"
      },
      "source": [
        "### Question no 04"
      ]
    },
    {
      "cell_type": "code",
      "execution_count": 25,
      "id": "received-chain",
      "metadata": {
        "colab": {
          "base_uri": "https://localhost:8080/"
        },
        "id": "received-chain",
        "outputId": "5ad0272f-7bfa-436d-f366-77e876158385"
      },
      "outputs": [
        {
          "output_type": "stream",
          "name": "stdout",
          "text": [
            "Type of y:  <class 'int'>\n",
            "Id of y:  134353079124496\n"
          ]
        }
      ],
      "source": [
        "# 4. Declare, Type-Checking, ID-displaying\n",
        "y = 10\n",
        "print(\"Type of y: \", type(y))\n",
        "print(\"Id of y: \", id(y))"
      ]
    },
    {
      "cell_type": "markdown",
      "id": "fixed-bolivia",
      "metadata": {
        "id": "fixed-bolivia"
      },
      "source": [
        "### Question no 05"
      ]
    },
    {
      "cell_type": "code",
      "execution_count": 21,
      "id": "spectacular-giving",
      "metadata": {
        "colab": {
          "base_uri": "https://localhost:8080/"
        },
        "id": "spectacular-giving",
        "outputId": "d0b88c9d-ac41-48b7-e904-9aac885a8d89"
      },
      "outputs": [
        {
          "output_type": "stream",
          "name": "stdout",
          "text": [
            "What would be the initial value? 10\n",
            "x1 is:  10  and x2 is:  34\n"
          ]
        }
      ],
      "source": [
        "# 5. Using variables to perform a sum equal to 44\n",
        "x1 = int(input(\"What would be the initial value? \"))\n",
        "x2 = 44 - x1\n",
        "print(\"x1 is: \", x1, \" and x2 is: \", x2)"
      ]
    },
    {
      "cell_type": "markdown",
      "id": "floppy-pricing",
      "metadata": {
        "id": "floppy-pricing"
      },
      "source": [
        "### Question no 06"
      ]
    },
    {
      "cell_type": "code",
      "execution_count": 19,
      "id": "incomplete-virgin",
      "metadata": {
        "colab": {
          "base_uri": "https://localhost:8080/"
        },
        "id": "incomplete-virgin",
        "outputId": "e8318c55-f11b-4225-a0a4-1b74824dae10"
      },
      "outputs": [
        {
          "output_type": "stream",
          "name": "stdout",
          "text": [
            "What would be the area? 10\n",
            "What would be the circumference? 10\n",
            "What is the diameter? 10\n",
            "1.7841241161527712 1.5915494309189535 5.0\n"
          ]
        }
      ],
      "source": [
        "import math\n",
        "# 6. Calculate the radius of a circle\n",
        "## Using the area\n",
        "A = int(input(\"What would be the area? \"))\n",
        "r_A = math.sqrt(A/math.pi)\n",
        "## Using the circumference\n",
        "C = int(input(\"What would be the circumference? \"))\n",
        "r_Y = C / (2*math.pi)\n",
        "## Using the diameter\n",
        "d = int(input(\"What is the diameter? \"))\n",
        "r_d = d/2\n",
        "print(r_A, r_Y, r_d)"
      ]
    },
    {
      "cell_type": "markdown",
      "id": "recognized-dispute",
      "metadata": {
        "id": "recognized-dispute"
      },
      "source": [
        "### Question no 07"
      ]
    },
    {
      "cell_type": "code",
      "execution_count": 12,
      "id": "neither-johns",
      "metadata": {
        "colab": {
          "base_uri": "https://localhost:8080/"
        },
        "id": "neither-johns",
        "outputId": "47e9aca8-d359-4253-9171-4323135f7a68"
      },
      "outputs": [
        {
          "output_type": "stream",
          "name": "stdout",
          "text": [
            "Write your first name: Matt\n",
            "Write your last name: Cano\n",
            "Matt Cano\n"
          ]
        }
      ],
      "source": [
        "# 7. Printing user's first name and last name and concatenation\n",
        "first_name = input(\"Write your first name: \")\n",
        "last_name = input(\"Write your last name: \")\n",
        "concat = first_name + ' ' + last_name\n",
        "print(concat)"
      ]
    },
    {
      "cell_type": "markdown",
      "id": "relative-permission",
      "metadata": {
        "id": "relative-permission"
      },
      "source": [
        "### Question no 08"
      ]
    },
    {
      "cell_type": "code",
      "execution_count": 10,
      "id": "opposite-maine",
      "metadata": {
        "colab": {
          "base_uri": "https://localhost:8080/"
        },
        "id": "opposite-maine",
        "outputId": "4454e94b-c012-4d6e-8920-4023e2060190"
      },
      "outputs": [
        {
          "name": "stdout",
          "output_type": "stream",
          "text": [
            "These are the sales (input a different number than 100): 10\n"
          ]
        }
      ],
      "source": [
        "# 8. Are variables case-sensitive ? Yes.\n",
        "## Checking:\n",
        "sales = int(input(\"These are the sales (input a different number than 100): \"))\n",
        "Sales = 100"
      ]
    },
    {
      "cell_type": "markdown",
      "id": "acoustic-jacksonville",
      "metadata": {
        "id": "acoustic-jacksonville"
      },
      "source": [
        "### Question no 09"
      ]
    },
    {
      "cell_type": "code",
      "execution_count": 9,
      "id": "patient-research",
      "metadata": {
        "colab": {
          "base_uri": "https://localhost:8080/",
          "height": 110
        },
        "id": "patient-research",
        "outputId": "af5dc2e5-2f0b-45eb-cb5d-ad9fd87ea4d7"
      },
      "outputs": [
        {
          "output_type": "error",
          "ename": "SyntaxError",
          "evalue": "cannot assign to literal here. Maybe you meant '==' instead of '='? (<ipython-input-9-01442cdfe2cf>, line 4)",
          "traceback": [
            "\u001b[0;36m  File \u001b[0;32m\"<ipython-input-9-01442cdfe2cf>\"\u001b[0;36m, line \u001b[0;32m4\u001b[0m\n\u001b[0;31m    72 = var # will return an error\u001b[0m\n\u001b[0m    ^\u001b[0m\n\u001b[0;31mSyntaxError\u001b[0m\u001b[0;31m:\u001b[0m cannot assign to literal here. Maybe you meant '==' instead of '='?\n"
          ]
        }
      ],
      "source": [
        "# 9. equality sign for value assignment VS equality sign for value comparison\n",
        "var = 72\n",
        "72 == var # will return True\n",
        "72 = var # will return an error\n",
        "# though var = 72 would be correct"
      ]
    },
    {
      "cell_type": "markdown",
      "id": "living-prophet",
      "metadata": {
        "id": "living-prophet"
      },
      "source": [
        "### Question no 10"
      ]
    },
    {
      "cell_type": "code",
      "execution_count": 8,
      "id": "progressive-navigation",
      "metadata": {
        "colab": {
          "base_uri": "https://localhost:8080/"
        },
        "id": "progressive-navigation",
        "outputId": "70c42b92-9547-4d58-e8ea-77fdd61f9ade"
      },
      "outputs": [
        {
          "output_type": "stream",
          "name": "stdout",
          "text": [
            "0\n"
          ]
        }
      ],
      "source": [
        "# 10. What will be displayed is 0\n",
        "my_value = 99\n",
        "my_value = 0\n",
        "print(my_value)"
      ]
    },
    {
      "cell_type": "markdown",
      "id": "looking-massage",
      "metadata": {
        "id": "looking-massage"
      },
      "source": [
        "### Question no 11"
      ]
    },
    {
      "cell_type": "code",
      "execution_count": 5,
      "id": "champion-pontiac",
      "metadata": {
        "id": "champion-pontiac"
      },
      "outputs": [],
      "source": [
        "# 11. The thing to learn is: variables in python are not constants\n",
        "## Write a Python statement that assigns the sum of 10 and 14\n",
        "##to the variable total\n",
        "total = 10 + 14"
      ]
    },
    {
      "cell_type": "markdown",
      "id": "distant-suspect",
      "metadata": {
        "id": "distant-suspect"
      },
      "source": [
        "### Question no 12"
      ]
    },
    {
      "cell_type": "code",
      "execution_count": 6,
      "id": "golden-experience",
      "metadata": {
        "colab": {
          "base_uri": "https://localhost:8080/"
        },
        "id": "golden-experience",
        "outputId": "b4ab7414-d9ac-44ca-aa1c-fb4149cddf9c"
      },
      "outputs": [
        {
          "name": "stdout",
          "output_type": "stream",
          "text": [
            "Enter a value less than 24 as down payment: 10\n"
          ]
        }
      ],
      "source": [
        "# 12. Write a Python statement that subtracts the variable down_payment from\n",
        "# the variable total and assigns the result to the variable due.\n",
        "down_payment = int(input(\"Enter a value less than 24 as down payment: \"))\n",
        "due = total - down_payment"
      ]
    },
    {
      "cell_type": "markdown",
      "id": "specialized-annotation",
      "metadata": {
        "id": "specialized-annotation"
      },
      "source": [
        "### Question no 13"
      ]
    },
    {
      "cell_type": "code",
      "execution_count": 7,
      "id": "colonial-fleece",
      "metadata": {
        "id": "colonial-fleece"
      },
      "outputs": [],
      "source": [
        "# 13. Write a Python statement that multiplies the variable subtotal\n",
        "# by 0.15 and assigns the result to the variable total.\n",
        "subtotal = 100\n",
        "total = subtotal*0.15"
      ]
    }
  ],
  "metadata": {
    "kernelspec": {
      "display_name": "Python 3 (ipykernel)",
      "language": "python",
      "name": "python3"
    },
    "language_info": {
      "codemirror_mode": {
        "name": "ipython",
        "version": 3
      },
      "file_extension": ".py",
      "mimetype": "text/x-python",
      "name": "python",
      "nbconvert_exporter": "python",
      "pygments_lexer": "ipython3",
      "version": "3.8.10"
    },
    "colab": {
      "provenance": []
    }
  },
  "nbformat": 4,
  "nbformat_minor": 5
}