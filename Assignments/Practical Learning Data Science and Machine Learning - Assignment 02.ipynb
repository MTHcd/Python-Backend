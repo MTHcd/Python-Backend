{
  "cells": [
    {
      "cell_type": "markdown",
      "id": "404db0a3",
      "metadata": {
        "id": "404db0a3"
      },
      "source": [
        "<h1  align=\"center\">Practical Learning Data Science and Machine Learning - Assignment 02 </h1>"
      ]
    },
    {
      "cell_type": "markdown",
      "id": "strong-value",
      "metadata": {
        "id": "strong-value"
      },
      "source": [
        "Write your answers based on your understanding. After completing this assignment, submit this notebook on Google Classroom. Mention your username in the following format: **Assignment # 02 (Your Name)**."
      ]
    },
    {
      "cell_type": "markdown",
      "id": "protective-damage",
      "metadata": {
        "id": "protective-damage"
      },
      "source": [
        "## Question 01. Comments\n",
        "\n",
        "What does a professional programmer usually do first to gain an understanding of a problem?"
      ]
    },
    {
      "cell_type": "code",
      "execution_count": null,
      "id": "prompt-glenn",
      "metadata": {
        "id": "prompt-glenn"
      },
      "outputs": [],
      "source": [
        "# He decomposes the problem into smaller parts.\n",
        "# He checks for similar problems with literature review."
      ]
    },
    {
      "cell_type": "markdown",
      "id": "efficient-privilege",
      "metadata": {
        "id": "efficient-privilege"
      },
      "source": [
        "## Question 02\n",
        "\n",
        "If a math expression adds a float to an int, what will the data type of the result be?What is the difference between floating-point division and integer division?"
      ]
    },
    {
      "cell_type": "code",
      "execution_count": null,
      "id": "organizational-israeli",
      "metadata": {
        "id": "organizational-israeli"
      },
      "outputs": [],
      "source": [
        "# adding a float to an int => obtaining a float\n",
        "# difference between floating-point division and integer division\n",
        "# integer division => integer division is via // implies getting the quotient of the euclidean division\n",
        "# floating-point division => done via / with inputs x,y as both int or both float or one int the other float and vice versa"
      ]
    },
    {
      "cell_type": "markdown",
      "id": "split-lewis",
      "metadata": {
        "id": "split-lewis"
      },
      "source": [
        "### Question 03\n",
        "\n",
        "Write a program in which take two numbers from user by using built-in function and perform folllowing arithmetic operation\n",
        "\n",
        "- Addition    \n",
        "- Subtraction    \n",
        "- Multiplication    \n",
        "- Division   "
      ]
    },
    {
      "cell_type": "code",
      "execution_count": null,
      "id": "later-failing",
      "metadata": {
        "id": "later-failing"
      },
      "outputs": [],
      "source": [
        "x, y = int(input(\"Enter a first number: \")), int(input(\"Enter a second number: \"))\n",
        "print(\"Now choose among addition (Enter 1), substraction (Enter 2), multiplication (Enter 3), division (Enter 4)\")\n",
        "z = int(input())\n",
        "if (z == 1):\n",
        "  res = x+y\n",
        "else if (z == 2):\n",
        "  res = x - y\n",
        "else if (z == 3):\n",
        "  res = x*y\n",
        "else:\n",
        "  res = x / y\n",
        "print(res)"
      ]
    },
    {
      "cell_type": "markdown",
      "id": "personal-singer",
      "metadata": {
        "id": "personal-singer"
      },
      "source": [
        "## Question 04\n",
        "\n",
        "Write a program to calculate area of triangle by using following formula , in this program takes all input from user by using built-in function.    \n",
        "\n",
        "$$Area of a triangle = \\sqrt{s \\cdot (s-a) \\cdot (s-b) \\cdot (s-c)}$$\n"
      ]
    },
    {
      "cell_type": "code",
      "execution_count": null,
      "id": "married-direction",
      "metadata": {
        "id": "married-direction"
      },
      "outputs": [],
      "source": [
        "# Computing the area of a triangle\n",
        "print(\"Be careful to respect the constraints related to a triangle i.e. a+b > c, a+c > b, c+b > a\")\n",
        "a = int(input(\"Enter first value: \"))\n",
        "b = int(input(\"Enter second value: \"))\n",
        "c = int(input(\"Enter third value: \"))\n",
        "s = (a+b+c)/2"
      ]
    },
    {
      "cell_type": "markdown",
      "id": "gothic-shadow",
      "metadata": {
        "id": "gothic-shadow"
      },
      "source": [
        "## Question 05\n",
        "\n",
        "Write a program in which take two numbers from user and swap them."
      ]
    },
    {
      "cell_type": "code",
      "execution_count": null,
      "id": "developmental-savings",
      "metadata": {
        "id": "developmental-savings"
      },
      "outputs": [],
      "source": [
        "x, y = int(input(\"First number: \")), int(input(\"Second number: \"))\n",
        "temp = x\n",
        "x = y\n",
        "y = temp"
      ]
    },
    {
      "cell_type": "markdown",
      "id": "impressive-upset",
      "metadata": {
        "id": "impressive-upset"
      },
      "source": [
        "Question 06\n",
        "\n",
        "Write a program that prompts the user to input a Celsius temperature and outputs the equivalent temperature in Fahrenheit. The formula to convert the temperature is: $$\\mathbf{F = \\frac{9}{5}C + 32}$$ where F is the Fahrenheit temperature and C is the Celsius temperature."
      ]
    },
    {
      "cell_type": "code",
      "execution_count": null,
      "id": "endless-gilbert",
      "metadata": {
        "id": "endless-gilbert"
      },
      "outputs": [],
      "source": [
        "z = int(input(\"Enter a value for Celsius temperature\"))\n",
        "temp_conversion = lambda x : (9/5)*x + 32\n",
        "print(temp_conversion(z))"
      ]
    },
    {
      "cell_type": "markdown",
      "id": "sixth-diana",
      "metadata": {
        "id": "sixth-diana"
      },
      "source": [
        "## Question 07\n",
        "\n",
        "Write a program that accepts seconds from user as integer. Your program should converts seconds in hours, minutes and seconds."
      ]
    },
    {
      "cell_type": "code",
      "execution_count": null,
      "id": "cellular-stomach",
      "metadata": {
        "id": "cellular-stomach"
      },
      "outputs": [],
      "source": [
        "seconds = int(input(\"Enter seconds\"))\n",
        "# converting into hours, minutes and seconds\n",
        "# doing seconds // 3600 (getting number of hours)\n",
        "# doing ( seconds % 3600 ) // 60 (getting number of minutes)\n",
        "# getting the remainder: ( ( seconds % 3600 ) % 60 ) for the total seconds\n",
        "H = seconds // 3600\n",
        "M = (seconds % 3600) // 60\n",
        "S = (seconds % 3600) % 60\n",
        "if (H > 1):\n",
        "  print(H, \"hours\", M, \"min\", S, \"s\")\n",
        "else if (H == 1):\n",
        "  print(H, \"hour\", M, \"min\", S, \"s\")\n",
        "else:\n",
        "  print(M, \"min\", S, \"s\")\n"
      ]
    },
    {
      "cell_type": "markdown",
      "id": "official-diamond",
      "metadata": {
        "id": "official-diamond"
      },
      "source": [
        "## Question 08\n",
        "\n",
        "Write a program which accept principle, rate and time from user and print the simple interest. The formula to calculate simple interest is:\n",
        "\n",
        "$$\\mathbf{ \\text{Simple Interest} = \\frac{\\text{Principal} \\times \\text{Rate} \\times \\text{Time}}{100}}$$\n"
      ]
    },
    {
      "cell_type": "code",
      "execution_count": null,
      "id": "913cbd62",
      "metadata": {
        "id": "913cbd62"
      },
      "outputs": [],
      "source": [
        "# Principal (constraint is that it is positive)\n",
        "# Rate is in (0, 1)\n",
        "# Time is in years unit\n",
        "def compute_simple_interest(principal: int, rate: float, time: int) -> float:\n",
        "     return (principal*rate*time)/100"
      ]
    },
    {
      "cell_type": "markdown",
      "id": "driving-qualification",
      "metadata": {
        "id": "driving-qualification"
      },
      "source": [
        "## Question 09. Distance Traveled\n",
        "Write a program to calculate the distance traveled by a car , assuming there are no accidents or delays, the distance that a car travels down the inter-state can be calculated with the following formula:\n",
        "\n",
        "$$Distance = Speed * Time$$\n",
        "\n",
        "A car is traveling at 60 miles per hour. Write a program that displays the following:  \n",
        "• The distance the car will travel in 5 hours        \n",
        "• The distance the car will travel in 8 hours     \n",
        "• The distance the car will travel in 12 hours    "
      ]
    },
    {
      "cell_type": "code",
      "execution_count": null,
      "id": "4fd73948",
      "metadata": {
        "id": "4fd73948"
      },
      "outputs": [],
      "source": [
        "def distance_traveled(speed: int, time: int) -> int:\n",
        "    return speed*time\n",
        "\n",
        "sub = {5, 8, 12}\n",
        "for integer in sub:\n",
        "  print(distance_traveled(60, integer))"
      ]
    },
    {
      "cell_type": "markdown",
      "id": "sunrise-traffic",
      "metadata": {
        "id": "sunrise-traffic"
      },
      "source": [
        "## 10. Stock Transaction Program\n",
        "Last month Joe purchased some stock in Acme Software, Inc. Here are the details of the\n",
        "purchase:\n",
        "* The number of shares that Joe purchased was 1,000.    \n",
        "* When Joe purchased the stock, he paid $32.87 per share.   \n",
        "* Joe paid his stockbroker a commission that amounted to 2 percent of the amount he paid\n",
        "for the stock.   \n",
        "\n",
        "Two weeks later Joe sold the stock. Here are the details of the sale:\n",
        "* The number of shares that Joe sold was 1,000.\n",
        "* He sold the stock for $33.92 per share.\n",
        "* He paid his stockbroker another commission that amounted to 2 percent of the amount\n",
        "  he received for the stock.\n",
        "\n",
        "Write a program that displays the following information:\n",
        "* The amount of money Joe paid for the stock.\n",
        "* The amount of commission Joe paid his broker when he bought the stock.\n",
        "* The amount that Joe sold the stock for.\n",
        "* The amount of commission Joe paid his broker when he sold the stock.\n",
        "* Display the amount of money that Joe had left when he sold the stock and paid his\n",
        "  broker (both times). If this amount is positive, then Joe made a profit. If the amount is negative, then Joe lost money"
      ]
    },
    {
      "cell_type": "code",
      "execution_count": null,
      "id": "centered-crazy",
      "metadata": {
        "id": "centered-crazy"
      },
      "outputs": [],
      "source": [
        "## First Set of Information (BUY)\n",
        "# shares = 1000\n",
        "# paid = 32.87 per share => 1000*32.87\n",
        "# 2 percents so 0.02*1000*32.87\n",
        "## Second Set of Information (SELL)\n",
        "# N = 1000\n",
        "# P = 33.92\n",
        "# C = 0.02\n",
        "# Total_Sale = 1000*33.92\n",
        "# Total_Cost = 0.02*Total_Sale\n",
        "## Third Set of Information\n",
        "# Amount of money Joe paid (BUY)\n",
        "# Amount of commission paid (COMMISSION COST AT BUYING)\n",
        "# Amount of money Joe make paid (SELL)\n",
        "# Amount of commission paid (COMMISSION COST AT BUYING)\n",
        "\n",
        "def info_buy_time(N: int, P: int, R: int) -> int, :\n",
        "    # N as number of shares\n",
        "    # P as price per share\n",
        "    # C as cost per transaction\n",
        "    return N*P, N*P*R\n",
        "\n",
        "def info_sell_time(N: int, P: int, R: int) -> int, :\n",
        "    # N as number of shares\n",
        "    # P as price per share\n",
        "    # C as cost per transaction\n",
        "    return N*P, N*P*R\n",
        "\n",
        "N = 1000\n",
        "P1 = 32.87\n",
        "P2 = 33.92\n",
        "R1 = 0.02\n",
        "R2 = 0.02\n",
        "cost, cost_transac1 = info_buy_time(N, P1, R1)\n",
        "benefit, cost_transac2 = info_sell_time(N, P2, R2)\n",
        "# checking if he has done any profit...\n",
        "if (benefit - cost_transac2 - cost_transac1 - cost > 0):\n",
        "    print(\"He made a profit, great move!\")\n",
        "else (benefit - cost_transac2 - cost_transac1 - cost < 0):\n",
        "    print(\"He did not make any profit, bad move...\")"
      ]
    }
  ],
  "metadata": {
    "kernelspec": {
      "display_name": "Python 3 (ipykernel)",
      "language": "python",
      "name": "python3"
    },
    "language_info": {
      "codemirror_mode": {
        "name": "ipython",
        "version": 3
      },
      "file_extension": ".py",
      "mimetype": "text/x-python",
      "name": "python",
      "nbconvert_exporter": "python",
      "pygments_lexer": "ipython3",
      "version": "3.8.10"
    },
    "colab": {
      "provenance": []
    }
  },
  "nbformat": 4,
  "nbformat_minor": 5
}