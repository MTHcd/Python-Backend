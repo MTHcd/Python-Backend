{
 "cells": [
  {
   "cell_type": "markdown",
   "id": "c3aecee8-d2d1-4998-9647-b76b9e52080a",
   "metadata": {},
   "source": [
    "<h1 align=\"center\" >Python-Tuples </h1>\n",
    "\n",
    "\n",
    "#### [Click me to learn more about Python Tuples](https://docs.python.org/3/tutorial/datastructures.html#tuples-and-sequences)"
   ]
  },
  {
   "cell_type": "code",
   "execution_count": null,
   "id": "4e15b68d-7b73-4b8b-8abf-d47139bbcc89",
   "metadata": {},
   "outputs": [],
   "source": []
  }
 ],
 "metadata": {
  "kernelspec": {
   "display_name": "Python 3 (ipykernel)",
   "language": "python",
   "name": "python3"
  },
  "language_info": {
   "codemirror_mode": {
    "name": "ipython",
    "version": 3
   },
   "file_extension": ".py",
   "mimetype": "text/x-python",
   "name": "python",
   "nbconvert_exporter": "python",
   "pygments_lexer": "ipython3",
   "version": "3.11.7"
  }
 },
 "nbformat": 4,
 "nbformat_minor": 5
}
